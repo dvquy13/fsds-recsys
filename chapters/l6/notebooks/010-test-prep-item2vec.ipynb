{
 "cells": [
  {
   "cell_type": "markdown",
   "id": "9327920e-f1b7-4dc6-9378-9b009eccd9c2",
   "metadata": {},
   "source": [
    "# Build sequence data loaders for Skip Gram"
   ]
  },
  {
   "cell_type": "markdown",
   "id": "32a6ffed-14dc-4c14-9758-000201389036",
   "metadata": {},
   "source": [
    "# Set up"
   ]
  },
  {
   "cell_type": "code",
   "execution_count": 1,
   "id": "8e7b8b86-b92f-4c06-92eb-718be5a66d85",
   "metadata": {},
   "outputs": [],
   "source": [
    "%load_ext autoreload\n",
    "%autoreload 2"
   ]
  },
  {
   "cell_type": "code",
   "execution_count": 2,
   "id": "1e9436e1-1542-452e-9f0c-d621591ed7cc",
   "metadata": {},
   "outputs": [],
   "source": [
    "import json\n",
    "import string\n",
    "import sys\n",
    "\n",
    "import pandas as pd\n",
    "from loguru import logger\n",
    "from pydantic import BaseModel\n",
    "from torch.utils.data import DataLoader\n",
    "from tqdm.auto import tqdm\n",
    "\n",
    "sys.path.insert(0, \"..\")\n",
    "from src.id_mapper import IDMapper\n",
    "from src.skipgram.dataset import SkipGramDataset"
   ]
  },
  {
   "cell_type": "markdown",
   "id": "3719ad7c-84b1-4c85-bf35-4cb016a923e3",
   "metadata": {},
   "source": [
    "# Controller"
   ]
  },
  {
   "cell_type": "code",
   "execution_count": 3,
   "id": "14a7f8d7-cdbe-4e1e-809f-adfbcb3cd3f1",
   "metadata": {},
   "outputs": [
    {
     "name": "stdout",
     "output_type": "stream",
     "text": [
      "{\n",
      "  \"num_negative_samples\": 5,\n",
      "  \"window_size\": 1,\n",
      "  \"batch_size\": 16,\n",
      "  \"user_col\": \"user_id\",\n",
      "  \"item_col\": \"parent_asin\"\n",
      "}\n"
     ]
    }
   ],
   "source": [
    "class Args(BaseModel):\n",
    "    num_negative_samples: int = 5\n",
    "    window_size: int = 1\n",
    "    batch_size: int = 16\n",
    "\n",
    "    user_col: str = \"user_id\"\n",
    "    item_col: str = \"parent_asin\"\n",
    "\n",
    "\n",
    "args = Args()\n",
    "print(args.model_dump_json(indent=2))"
   ]
  },
  {
   "cell_type": "markdown",
   "id": "03ff335f-42ef-4364-987c-06536f275f1e",
   "metadata": {},
   "source": [
    "# Test implementation"
   ]
  },
  {
   "cell_type": "code",
   "execution_count": 4,
   "id": "58b1b7b3-89d8-41c1-a3f7-ad5bb386168a",
   "metadata": {},
   "outputs": [],
   "source": [
    "sequences = [\n",
    "    [\"b\", \"c\", \"d\", \"e\", \"a\"],\n",
    "    [\"f\", \"b\", \"b\", \"b\", \"k\"],\n",
    "    [\"g\", \"m\", \"k\", \"l\", \"h\"],\n",
    "    [\"b\", \"c\", \"k\"],\n",
    "    [\"j\", \"i\", \"c\"],\n",
    "]\n",
    "\n",
    "val_sequences = [[\"f\", \"l\", \"m\"], [\"i\", \"h\"], [\"j\", \"e\", \"a\"]]\n",
    "\n",
    "sequences_fp = \"sequences.jsonl\"\n",
    "val_sequences_fp = \"val_sequences.jsonl\"\n",
    "\n",
    "with open(sequences_fp, \"w\") as f:\n",
    "    for sequence in sequences:\n",
    "        f.write(json.dumps(sequence) + \"\\n\")\n",
    "with open(val_sequences_fp, \"w\") as f:\n",
    "    for sequence in val_sequences:\n",
    "        f.write(json.dumps(sequence) + \"\\n\")"
   ]
  },
  {
   "cell_type": "code",
   "execution_count": 5,
   "id": "b7b41cb9-bcdb-492b-a0b4-6ff53c9736f1",
   "metadata": {},
   "outputs": [
    {
     "name": "stderr",
     "output_type": "stream",
     "text": [
      "\u001b[32m2024-09-29 16:59:49.930\u001b[0m | \u001b[1mINFO    \u001b[0m | \u001b[36msrc.skipgram.dataset\u001b[0m:\u001b[36m__init__\u001b[0m:\u001b[36m57\u001b[0m - \u001b[1mProcessing sequences to build interaction data...\u001b[0m\n"
     ]
    },
    {
     "data": {
      "application/vnd.jupyter.widget-view+json": {
       "model_id": "e86c01293df74f79bf893f0490e887e2",
       "version_major": 2,
       "version_minor": 0
      },
      "text/plain": [
       "Building interactions: 0it [00:00, ?it/s]"
      ]
     },
     "metadata": {},
     "output_type": "display_data"
    },
    {
     "name": "stderr",
     "output_type": "stream",
     "text": [
      "\u001b[32m2024-09-29 16:59:49.951\u001b[0m | \u001b[1mINFO    \u001b[0m | \u001b[36msrc.skipgram.dataset\u001b[0m:\u001b[36m__init__\u001b[0m:\u001b[36m57\u001b[0m - \u001b[1mProcessing sequences to build interaction data...\u001b[0m\n"
     ]
    },
    {
     "data": {
      "application/vnd.jupyter.widget-view+json": {
       "model_id": "9e5ec6e32979477c88e77e1c8aa74435",
       "version_major": 2,
       "version_minor": 0
      },
      "text/plain": [
       "Building interactions: 0it [00:00, ?it/s]"
      ]
     },
     "metadata": {},
     "output_type": "display_data"
    },
    {
     "name": "stdout",
     "output_type": "stream",
     "text": [
      "tensor([0, 0, 0]) tensor([ 2,  7, 11]) tensor([1., 0., 0.])\n"
     ]
    }
   ],
   "source": [
    "# Simulate pre-configured id_to_idx mapper\n",
    "id_to_idx = {\n",
    "    id_: idx for id_, idx in zip(list(string.ascii_letters[:13]), list(range(13)))\n",
    "}\n",
    "id_to_idx[\"a\"] = 1\n",
    "id_to_idx[\"b\"] = 0\n",
    "\n",
    "# Create dataset with frequency-based negative sampling\n",
    "dataset = SkipGramDataset(\n",
    "    sequences_fp, window_size=1, negative_samples=2, id_to_idx=id_to_idx\n",
    ")\n",
    "val_dataset = SkipGramDataset(\n",
    "    val_sequences_fp,\n",
    "    interacted=dataset.interacted,\n",
    "    item_freq=dataset.item_freq,\n",
    "    window_size=1,\n",
    "    negative_samples=2,\n",
    "    id_to_idx=id_to_idx,\n",
    ")\n",
    "\n",
    "# Example of getting an item\n",
    "for inp in dataset:\n",
    "    target_items = inp[\"target_items\"]\n",
    "    context_items = inp[\"context_items\"]\n",
    "    labels = inp[\"labels\"]\n",
    "    print(target_items, context_items, labels)\n",
    "    break"
   ]
  },
  {
   "cell_type": "code",
   "execution_count": 6,
   "id": "5762d1bd-3fa6-4834-9c84-cd510b9b7966",
   "metadata": {},
   "outputs": [
    {
     "data": {
      "text/plain": [
       "{'a': 1,\n",
       " 'b': 0,\n",
       " 'c': 2,\n",
       " 'd': 3,\n",
       " 'e': 4,\n",
       " 'f': 5,\n",
       " 'g': 6,\n",
       " 'h': 7,\n",
       " 'i': 8,\n",
       " 'j': 9,\n",
       " 'k': 10,\n",
       " 'l': 11,\n",
       " 'm': 12}"
      ]
     },
     "execution_count": 6,
     "metadata": {},
     "output_type": "execute_result"
    }
   ],
   "source": [
    "dataset.id_to_idx"
   ]
  },
  {
   "cell_type": "code",
   "execution_count": 7,
   "id": "b0672310-b7f1-4585-b104-ba93c3cc6d44",
   "metadata": {
    "scrolled": true
   },
   "outputs": [
    {
     "data": {
      "text/plain": [
       "array([0.13537454, 0.05938764, 0.13537454, 0.05938764, 0.05938764,\n",
       "       0.05938764, 0.05938764, 0.05938764, 0.05938764, 0.05938764,\n",
       "       0.13537454, 0.05938764, 0.05938764])"
      ]
     },
     "execution_count": 7,
     "metadata": {},
     "output_type": "execute_result"
    }
   ],
   "source": [
    "dataset.sampling_probs"
   ]
  },
  {
   "cell_type": "code",
   "execution_count": 8,
   "id": "2bd363b7-c544-47b8-8c7b-2b17968567f9",
   "metadata": {},
   "outputs": [
    {
     "data": {
      "text/plain": [
       "defaultdict(set,\n",
       "            {0: {0, 1, 2, 3, 4, 5, 10},\n",
       "             1: {0, 1, 2, 3, 4},\n",
       "             2: {0, 1, 2, 3, 4, 8, 9, 10},\n",
       "             3: {0, 1, 2, 3, 4},\n",
       "             4: {0, 1, 2, 3, 4},\n",
       "             10: {0, 2, 5, 6, 7, 10, 11, 12},\n",
       "             5: {0, 5, 10},\n",
       "             6: {6, 7, 10, 11, 12},\n",
       "             7: {6, 7, 10, 11, 12},\n",
       "             11: {6, 7, 10, 11, 12},\n",
       "             12: {6, 7, 10, 11, 12},\n",
       "             8: {2, 8, 9},\n",
       "             9: {2, 8, 9}})"
      ]
     },
     "execution_count": 8,
     "metadata": {},
     "output_type": "execute_result"
    }
   ],
   "source": [
    "dataset.interacted"
   ]
  },
  {
   "cell_type": "code",
   "execution_count": 9,
   "id": "26b4120d-61e5-42df-917e-1cc4ef22e815",
   "metadata": {},
   "outputs": [
    {
     "name": "stdout",
     "output_type": "stream",
     "text": [
      "(tensor(0), tensor(2))\n",
      "(tensor(0), tensor(7))\n",
      "(tensor(0), tensor(11))\n"
     ]
    }
   ],
   "source": [
    "for i in zip(target_items, context_items):\n",
    "    print(i)"
   ]
  },
  {
   "cell_type": "code",
   "execution_count": 10,
   "id": "01a5c23c-bd60-4ed1-8f95-ff82ddf1875b",
   "metadata": {},
   "outputs": [
    {
     "data": {
      "text/plain": [
       "array([0.10225277, 0.07544086, 0.10225277, 0.0448574 , 0.07544086,\n",
       "       0.07544086, 0.0448574 , 0.07544086, 0.07544086, 0.07544086,\n",
       "       0.10225277, 0.07544086, 0.07544086])"
      ]
     },
     "execution_count": 10,
     "metadata": {},
     "output_type": "execute_result"
    }
   ],
   "source": [
    "val_dataset.sampling_probs"
   ]
  },
  {
   "cell_type": "code",
   "execution_count": 11,
   "id": "13c3144f-d88f-44bf-b3ab-64aedd5657bc",
   "metadata": {},
   "outputs": [
    {
     "data": {
      "text/plain": [
       "defaultdict(set,\n",
       "            {0: {0, 1, 2, 3, 4, 5, 10},\n",
       "             1: {0, 1, 2, 3, 4, 9},\n",
       "             2: {0, 1, 2, 3, 4, 8, 9, 10},\n",
       "             3: {0, 1, 2, 3, 4},\n",
       "             4: {0, 1, 2, 3, 4, 9},\n",
       "             10: {0, 2, 5, 6, 7, 10, 11, 12},\n",
       "             5: {0, 5, 10, 11, 12},\n",
       "             6: {6, 7, 10, 11, 12},\n",
       "             7: {6, 7, 8, 10, 11, 12},\n",
       "             11: {5, 6, 7, 10, 11, 12},\n",
       "             12: {5, 6, 7, 10, 11, 12},\n",
       "             8: {2, 7, 8, 9},\n",
       "             9: {1, 2, 4, 8, 9}})"
      ]
     },
     "execution_count": 11,
     "metadata": {},
     "output_type": "execute_result"
    }
   ],
   "source": [
    "val_dataset.interacted"
   ]
  },
  {
   "cell_type": "markdown",
   "id": "c1c908ef-d593-46e3-af40-836cb54bd2fe",
   "metadata": {},
   "source": [
    "## Test no conflicting labels"
   ]
  },
  {
   "cell_type": "code",
   "execution_count": 12,
   "id": "9b50a1df-1ee8-4534-bfd1-c7f17cfcc2ed",
   "metadata": {},
   "outputs": [],
   "source": [
    "dataloader = DataLoader(\n",
    "    dataset,\n",
    "    batch_size=args.batch_size,\n",
    "    drop_last=True,\n",
    "    collate_fn=dataset.collate_fn,\n",
    ")"
   ]
  },
  {
   "cell_type": "code",
   "execution_count": 13,
   "id": "de8a9e89-7bcb-4d8b-b7c4-63061e4a9877",
   "metadata": {
    "scrolled": true
   },
   "outputs": [
    {
     "data": {
      "application/vnd.jupyter.widget-view+json": {
       "model_id": "417135560b364b5abb8e51897666efb0",
       "version_major": 2,
       "version_minor": 0
      },
      "text/plain": [
       "  0%|          | 0/1 [00:00<?, ?it/s]"
      ]
     },
     "metadata": {},
     "output_type": "display_data"
    }
   ],
   "source": [
    "target_items = []\n",
    "context_items = []\n",
    "labels = []\n",
    "\n",
    "for i, batch_input in tqdm(enumerate(dataloader), total=len(dataloader)):\n",
    "    _target_items = batch_input[\"target_items\"].cpu().detach().numpy()\n",
    "    _context_items = batch_input[\"context_items\"].cpu().detach().numpy()\n",
    "    _labels = batch_input[\"labels\"].cpu().detach().numpy()\n",
    "\n",
    "    target_items.extend(_target_items)\n",
    "    context_items.extend(_context_items)\n",
    "    labels.extend(_labels)\n",
    "\n",
    "test_df = pd.DataFrame(\n",
    "    {\"target_items\": target_items, \"context_items\": context_items, \"labels\": labels}\n",
    ")\n",
    "assert (\n",
    "    test_df.groupby([\"target_items\", \"context_items\"])[\"labels\"]\n",
    "    .nunique()\n",
    "    .loc[lambda s: s > 1]\n",
    "    .shape[0]\n",
    "    == 0\n",
    "), \"Conflicting labels!\""
   ]
  },
  {
   "cell_type": "markdown",
   "id": "8795ca93-372d-43ca-9cea-bb76c67aabba",
   "metadata": {},
   "source": [
    "# Load data"
   ]
  },
  {
   "cell_type": "code",
   "execution_count": 14,
   "id": "494e14aa-03c1-47d8-8720-e82c12d3cc13",
   "metadata": {},
   "outputs": [],
   "source": [
    "train_df = pd.read_parquet(\"../data/train_features.parquet\")\n",
    "val_df = pd.read_parquet(\"../data/val_features.parquet\")\n",
    "idm = IDMapper().load(\"../data/idm.json\")"
   ]
  },
  {
   "cell_type": "code",
   "execution_count": 15,
   "id": "20a6ebd8-2da5-4647-8773-b1362ad29315",
   "metadata": {
    "scrolled": true
   },
   "outputs": [
    {
     "data": {
      "text/html": [
       "<div>\n",
       "<style scoped>\n",
       "    .dataframe tbody tr th:only-of-type {\n",
       "        vertical-align: middle;\n",
       "    }\n",
       "\n",
       "    .dataframe tbody tr th {\n",
       "        vertical-align: top;\n",
       "    }\n",
       "\n",
       "    .dataframe thead th {\n",
       "        text-align: right;\n",
       "    }\n",
       "</style>\n",
       "<table border=\"1\" class=\"dataframe\">\n",
       "  <thead>\n",
       "    <tr style=\"text-align: right;\">\n",
       "      <th></th>\n",
       "      <th>user_id</th>\n",
       "      <th>parent_asin</th>\n",
       "      <th>rating</th>\n",
       "      <th>timestamp</th>\n",
       "      <th>user_indice</th>\n",
       "      <th>item_indice</th>\n",
       "      <th>main_category</th>\n",
       "      <th>title</th>\n",
       "      <th>description</th>\n",
       "      <th>categories</th>\n",
       "      <th>price</th>\n",
       "      <th>item_sequence</th>\n",
       "    </tr>\n",
       "  </thead>\n",
       "  <tbody>\n",
       "    <tr>\n",
       "      <th>0</th>\n",
       "      <td>AEN7JFLQCURF54WR5OHY7HOWWMSQ</td>\n",
       "      <td>B08FC5TTBF</td>\n",
       "      <td>5.0</td>\n",
       "      <td>1628644724721</td>\n",
       "      <td>23927</td>\n",
       "      <td>8911</td>\n",
       "      <td>Video Games</td>\n",
       "      <td>Demon's Souls - PlayStation 5</td>\n",
       "      <td>[From Bluepoint Games comes a remake of the Pl...</td>\n",
       "      <td>[Video Games, PlayStation 5, Games]</td>\n",
       "      <td>29.99</td>\n",
       "      <td>[-1, -1, 8943, 10693, 7298, 9143, 2204, 3729, ...</td>\n",
       "    </tr>\n",
       "    <tr>\n",
       "      <th>1</th>\n",
       "      <td>AFRYPSUWNLA3JHPZ2JFJ2UPHICAA</td>\n",
       "      <td>B094KW45JB</td>\n",
       "      <td>3.0</td>\n",
       "      <td>1628645945696</td>\n",
       "      <td>61868</td>\n",
       "      <td>5984</td>\n",
       "      <td>Video Games</td>\n",
       "      <td>Resident Evil Village Standard - Xbox [Digital...</td>\n",
       "      <td>[Experience survival horror like never before ...</td>\n",
       "      <td>[Video Games, Legacy Systems, Xbox Systems, Xb...</td>\n",
       "      <td>None</td>\n",
       "      <td>[564, 7914, 5508, 7864, 5269, 9195, 9820, 1000...</td>\n",
       "    </tr>\n",
       "    <tr>\n",
       "      <th>2</th>\n",
       "      <td>AH6IDYC5I3UWRBLDFRFHYQUCDRWA</td>\n",
       "      <td>B08F52Y2PN</td>\n",
       "      <td>4.0</td>\n",
       "      <td>1628652575492</td>\n",
       "      <td>22181</td>\n",
       "      <td>724</td>\n",
       "      <td>All Electronics</td>\n",
       "      <td>ZIUMIER Camo Gaming Headset for PS4, PS5, Xbox...</td>\n",
       "      <td>[]</td>\n",
       "      <td>[Video Games, PlayStation 4, Accessories, Head...</td>\n",
       "      <td>33.99</td>\n",
       "      <td>[-1, -1, -1, -1, 6097, 9166, 3645, 8674, 2755,...</td>\n",
       "    </tr>\n",
       "    <tr>\n",
       "      <th>3</th>\n",
       "      <td>AELH2ZF5QSSIFBF6WXAZLCF7JIWA</td>\n",
       "      <td>B0C6DH316S</td>\n",
       "      <td>2.0</td>\n",
       "      <td>1628653733506</td>\n",
       "      <td>32966</td>\n",
       "      <td>6990</td>\n",
       "      <td>Computers</td>\n",
       "      <td>Logitech G PRO X Wireless Lightspeed Gaming He...</td>\n",
       "      <td>[]</td>\n",
       "      <td>[Video Games, PC, Accessories, Headsets]</td>\n",
       "      <td>253.82</td>\n",
       "      <td>[-1, -1, -1, 6699, 3162, 5730, 6422, 338, 8304...</td>\n",
       "    </tr>\n",
       "    <tr>\n",
       "      <th>4</th>\n",
       "      <td>AHU5XXAXE4IFARJKTC4E266FDVAQ</td>\n",
       "      <td>B07PMFPQBC</td>\n",
       "      <td>5.0</td>\n",
       "      <td>1628656981268</td>\n",
       "      <td>5485</td>\n",
       "      <td>1821</td>\n",
       "      <td>Computers</td>\n",
       "      <td>Suncala 256MB Memory Card for Playstation 2, H...</td>\n",
       "      <td>[]</td>\n",
       "      <td>[Video Games, Legacy Systems, PlayStation Syst...</td>\n",
       "      <td>9.98</td>\n",
       "      <td>[-1, -1, -1, -1, 4844, 2327, 4718, 1414, 1643,...</td>\n",
       "    </tr>\n",
       "    <tr>\n",
       "      <th>...</th>\n",
       "      <td>...</td>\n",
       "      <td>...</td>\n",
       "      <td>...</td>\n",
       "      <td>...</td>\n",
       "      <td>...</td>\n",
       "      <td>...</td>\n",
       "      <td>...</td>\n",
       "      <td>...</td>\n",
       "      <td>...</td>\n",
       "      <td>...</td>\n",
       "      <td>...</td>\n",
       "      <td>...</td>\n",
       "    </tr>\n",
       "    <tr>\n",
       "      <th>5243</th>\n",
       "      <td>AE5UUBPDQX4MRFFDW7D3IKHQYIEQ</td>\n",
       "      <td>B0B5SWS9ZW</td>\n",
       "      <td>5.0</td>\n",
       "      <td>1657945351808</td>\n",
       "      <td>67730</td>\n",
       "      <td>6287</td>\n",
       "      <td>Video Games</td>\n",
       "      <td>Gran Turismo Sport Hits - PlayStation 4</td>\n",
       "      <td>[The new standard in racing - introducing the ...</td>\n",
       "      <td>[Video Games, PlayStation 4, Games]</td>\n",
       "      <td>16.99</td>\n",
       "      <td>[6657, 7159, 1220, 2330, 3893, 10784, 3661, 10...</td>\n",
       "    </tr>\n",
       "    <tr>\n",
       "      <th>5244</th>\n",
       "      <td>AE5UUBPDQX4MRFFDW7D3IKHQYIEQ</td>\n",
       "      <td>B00ZJBSBD8</td>\n",
       "      <td>5.0</td>\n",
       "      <td>1657945454164</td>\n",
       "      <td>67730</td>\n",
       "      <td>5393</td>\n",
       "      <td>Video Games</td>\n",
       "      <td>Trackmania Turbo-Nla</td>\n",
       "      <td>[Step into the wild car fantasy world of Track...</td>\n",
       "      <td>[Video Games, PlayStation 4, Games]</td>\n",
       "      <td>13.68</td>\n",
       "      <td>[7159, 1220, 2330, 3893, 10784, 3661, 10945, 4...</td>\n",
       "    </tr>\n",
       "    <tr>\n",
       "      <th>5245</th>\n",
       "      <td>AF54JR3WONKVAUZUYDLOOPZN7NFQ</td>\n",
       "      <td>B0C37RBK2R</td>\n",
       "      <td>5.0</td>\n",
       "      <td>1657950291114</td>\n",
       "      <td>44112</td>\n",
       "      <td>2240</td>\n",
       "      <td>Video Games</td>\n",
       "      <td>Xbox Series S</td>\n",
       "      <td>[Introducing the Xbox Series S, the smallest, ...</td>\n",
       "      <td>[]</td>\n",
       "      <td>279.0</td>\n",
       "      <td>[-1, -1, 6960, 8595, 8166, 11167, 1617, 4347, ...</td>\n",
       "    </tr>\n",
       "    <tr>\n",
       "      <th>5246</th>\n",
       "      <td>AG3N3EMFIFGW66WOIC4MW55IUS6Q</td>\n",
       "      <td>B0BXQH38S6</td>\n",
       "      <td>4.0</td>\n",
       "      <td>1657965636367</td>\n",
       "      <td>53031</td>\n",
       "      <td>9169</td>\n",
       "      <td>Computers</td>\n",
       "      <td>Logitech G G703 6-Button Wireless Gaming Mouse...</td>\n",
       "      <td>[Logitech G703 Lightspeed Wireless Gaming Mous...</td>\n",
       "      <td>[Video Games, PC, Accessories, Gaming Keyboards]</td>\n",
       "      <td>144.79</td>\n",
       "      <td>[-1, -1, 2809, 6812, 2083, 5686, 363, 683, 873...</td>\n",
       "    </tr>\n",
       "    <tr>\n",
       "      <th>5247</th>\n",
       "      <td>AE2WIEN3VYPFDPZ3IATSPFQQV2FQ</td>\n",
       "      <td>B094YHB1QK</td>\n",
       "      <td>1.0</td>\n",
       "      <td>1657975833038</td>\n",
       "      <td>59135</td>\n",
       "      <td>10484</td>\n",
       "      <td>Video Games</td>\n",
       "      <td>PlayStation DualSense Wireless Controller – Ga...</td>\n",
       "      <td>[Plot a course for astronomical adventures on ...</td>\n",
       "      <td>[Video Games, PlayStation 5, Accessories, Cont...</td>\n",
       "      <td>74.99</td>\n",
       "      <td>[4331, 4157, 2125, 5522, 2317, 9058, 9160, 918...</td>\n",
       "    </tr>\n",
       "  </tbody>\n",
       "</table>\n",
       "<p>5248 rows × 12 columns</p>\n",
       "</div>"
      ],
      "text/plain": [
       "                           user_id parent_asin  rating      timestamp  \\\n",
       "0     AEN7JFLQCURF54WR5OHY7HOWWMSQ  B08FC5TTBF     5.0  1628644724721   \n",
       "1     AFRYPSUWNLA3JHPZ2JFJ2UPHICAA  B094KW45JB     3.0  1628645945696   \n",
       "2     AH6IDYC5I3UWRBLDFRFHYQUCDRWA  B08F52Y2PN     4.0  1628652575492   \n",
       "3     AELH2ZF5QSSIFBF6WXAZLCF7JIWA  B0C6DH316S     2.0  1628653733506   \n",
       "4     AHU5XXAXE4IFARJKTC4E266FDVAQ  B07PMFPQBC     5.0  1628656981268   \n",
       "...                            ...         ...     ...            ...   \n",
       "5243  AE5UUBPDQX4MRFFDW7D3IKHQYIEQ  B0B5SWS9ZW     5.0  1657945351808   \n",
       "5244  AE5UUBPDQX4MRFFDW7D3IKHQYIEQ  B00ZJBSBD8     5.0  1657945454164   \n",
       "5245  AF54JR3WONKVAUZUYDLOOPZN7NFQ  B0C37RBK2R     5.0  1657950291114   \n",
       "5246  AG3N3EMFIFGW66WOIC4MW55IUS6Q  B0BXQH38S6     4.0  1657965636367   \n",
       "5247  AE2WIEN3VYPFDPZ3IATSPFQQV2FQ  B094YHB1QK     1.0  1657975833038   \n",
       "\n",
       "      user_indice  item_indice    main_category  \\\n",
       "0           23927         8911      Video Games   \n",
       "1           61868         5984      Video Games   \n",
       "2           22181          724  All Electronics   \n",
       "3           32966         6990        Computers   \n",
       "4            5485         1821        Computers   \n",
       "...           ...          ...              ...   \n",
       "5243        67730         6287      Video Games   \n",
       "5244        67730         5393      Video Games   \n",
       "5245        44112         2240      Video Games   \n",
       "5246        53031         9169        Computers   \n",
       "5247        59135        10484      Video Games   \n",
       "\n",
       "                                                  title  \\\n",
       "0                         Demon's Souls - PlayStation 5   \n",
       "1     Resident Evil Village Standard - Xbox [Digital...   \n",
       "2     ZIUMIER Camo Gaming Headset for PS4, PS5, Xbox...   \n",
       "3     Logitech G PRO X Wireless Lightspeed Gaming He...   \n",
       "4     Suncala 256MB Memory Card for Playstation 2, H...   \n",
       "...                                                 ...   \n",
       "5243            Gran Turismo Sport Hits - PlayStation 4   \n",
       "5244                               Trackmania Turbo-Nla   \n",
       "5245                                      Xbox Series S   \n",
       "5246  Logitech G G703 6-Button Wireless Gaming Mouse...   \n",
       "5247  PlayStation DualSense Wireless Controller – Ga...   \n",
       "\n",
       "                                            description  \\\n",
       "0     [From Bluepoint Games comes a remake of the Pl...   \n",
       "1     [Experience survival horror like never before ...   \n",
       "2                                                    []   \n",
       "3                                                    []   \n",
       "4                                                    []   \n",
       "...                                                 ...   \n",
       "5243  [The new standard in racing - introducing the ...   \n",
       "5244  [Step into the wild car fantasy world of Track...   \n",
       "5245  [Introducing the Xbox Series S, the smallest, ...   \n",
       "5246  [Logitech G703 Lightspeed Wireless Gaming Mous...   \n",
       "5247  [Plot a course for astronomical adventures on ...   \n",
       "\n",
       "                                             categories   price  \\\n",
       "0                   [Video Games, PlayStation 5, Games]   29.99   \n",
       "1     [Video Games, Legacy Systems, Xbox Systems, Xb...    None   \n",
       "2     [Video Games, PlayStation 4, Accessories, Head...   33.99   \n",
       "3              [Video Games, PC, Accessories, Headsets]  253.82   \n",
       "4     [Video Games, Legacy Systems, PlayStation Syst...    9.98   \n",
       "...                                                 ...     ...   \n",
       "5243                [Video Games, PlayStation 4, Games]   16.99   \n",
       "5244                [Video Games, PlayStation 4, Games]   13.68   \n",
       "5245                                                 []   279.0   \n",
       "5246   [Video Games, PC, Accessories, Gaming Keyboards]  144.79   \n",
       "5247  [Video Games, PlayStation 5, Accessories, Cont...   74.99   \n",
       "\n",
       "                                          item_sequence  \n",
       "0     [-1, -1, 8943, 10693, 7298, 9143, 2204, 3729, ...  \n",
       "1     [564, 7914, 5508, 7864, 5269, 9195, 9820, 1000...  \n",
       "2     [-1, -1, -1, -1, 6097, 9166, 3645, 8674, 2755,...  \n",
       "3     [-1, -1, -1, 6699, 3162, 5730, 6422, 338, 8304...  \n",
       "4     [-1, -1, -1, -1, 4844, 2327, 4718, 1414, 1643,...  \n",
       "...                                                 ...  \n",
       "5243  [6657, 7159, 1220, 2330, 3893, 10784, 3661, 10...  \n",
       "5244  [7159, 1220, 2330, 3893, 10784, 3661, 10945, 4...  \n",
       "5245  [-1, -1, 6960, 8595, 8166, 11167, 1617, 4347, ...  \n",
       "5246  [-1, -1, 2809, 6812, 2083, 5686, 363, 683, 873...  \n",
       "5247  [4331, 4157, 2125, 5522, 2317, 9058, 9160, 918...  \n",
       "\n",
       "[5248 rows x 12 columns]"
      ]
     },
     "execution_count": 15,
     "metadata": {},
     "output_type": "execute_result"
    }
   ],
   "source": [
    "val_df"
   ]
  },
  {
   "cell_type": "code",
   "execution_count": 16,
   "id": "a7fe194e-94a7-4f2b-bef4-22db0a223149",
   "metadata": {},
   "outputs": [],
   "source": [
    "def get_sequence(df, user_col=args.user_col, item_col=args.item_col):\n",
    "    return (\n",
    "        df.groupby(user_col)[item_col]\n",
    "        .agg(list)\n",
    "        .loc[lambda s: s.apply(len) > 1]  # Remove sequence with only one item\n",
    "    ).values.tolist()"
   ]
  },
  {
   "cell_type": "code",
   "execution_count": 17,
   "id": "27ce7e75-4903-4d75-9c70-2da337864c26",
   "metadata": {
    "scrolled": true
   },
   "outputs": [
    {
     "data": {
      "text/plain": [
       "68572"
      ]
     },
     "execution_count": 17,
     "metadata": {},
     "output_type": "execute_result"
    }
   ],
   "source": [
    "item_sequence = train_df.pipe(get_sequence)\n",
    "len(item_sequence)"
   ]
  },
  {
   "cell_type": "code",
   "execution_count": 18,
   "id": "b23939a8-ee72-4b93-82d2-a83423a3ff01",
   "metadata": {
    "scrolled": true
   },
   "outputs": [
    {
     "data": {
      "text/plain": [
       "871"
      ]
     },
     "execution_count": 18,
     "metadata": {},
     "output_type": "execute_result"
    }
   ],
   "source": [
    "val_item_sequence = val_df.pipe(get_sequence)\n",
    "len(val_item_sequence)"
   ]
  },
  {
   "cell_type": "markdown",
   "id": "832beb3a-e6dd-46a0-9d88-579862bc2be5",
   "metadata": {},
   "source": [
    "## Persist"
   ]
  },
  {
   "cell_type": "code",
   "execution_count": 19,
   "id": "a30d14cf-c33b-40b3-a981-380a483dd837",
   "metadata": {
    "scrolled": true
   },
   "outputs": [
    {
     "name": "stderr",
     "output_type": "stream",
     "text": [
      "\u001b[32m2024-09-29 16:59:55.029\u001b[0m | \u001b[1mINFO    \u001b[0m | \u001b[36m__main__\u001b[0m:\u001b[36m<module>\u001b[0m:\u001b[36m11\u001b[0m - \u001b[1mlen(item_sequence)=68,572 len(val_item_sequence)=871\u001b[0m\n"
     ]
    }
   ],
   "source": [
    "sequences_fp = \"item_sequence.jsonl\"\n",
    "val_sequences_fp = \"val_item_sequence.jsonl\"\n",
    "\n",
    "with open(sequences_fp, \"w\") as f:\n",
    "    for sequence in item_sequence:\n",
    "        f.write(json.dumps(sequence) + \"\\n\")\n",
    "with open(val_sequences_fp, \"w\") as f:\n",
    "    for sequence in val_item_sequence:\n",
    "        f.write(json.dumps(sequence) + \"\\n\")\n",
    "\n",
    "logger.info(f\"{len(item_sequence)=:,.0f} {len(val_item_sequence)=:,.0f}\")"
   ]
  },
  {
   "cell_type": "markdown",
   "id": "4660d298-1bd0-4437-a55b-1130718795c1",
   "metadata": {},
   "source": [
    "## Persist a small data for overfitting"
   ]
  },
  {
   "cell_type": "code",
   "execution_count": 20,
   "id": "6bc58200-aa9e-4965-9944-22fdce6e130d",
   "metadata": {},
   "outputs": [],
   "source": [
    "num_sequences = 2\n",
    "batch_item_sequence = item_sequence[:num_sequences]\n",
    "batch_sequences_fp = \"batch_item_sequence.jsonl\"\n",
    "\n",
    "with open(batch_sequences_fp, \"w\") as f:\n",
    "    for sequence in batch_item_sequence:\n",
    "        f.write(json.dumps(sequence) + \"\\n\")"
   ]
  },
  {
   "cell_type": "markdown",
   "id": "3b0ec31a-4a48-49c8-af9d-9d23c98a7d90",
   "metadata": {},
   "source": [
    "# Run with all data"
   ]
  },
  {
   "cell_type": "code",
   "execution_count": 21,
   "id": "b5523eb7-e47e-4ca2-9cba-efe0e7ad7499",
   "metadata": {},
   "outputs": [
    {
     "name": "stderr",
     "output_type": "stream",
     "text": [
      "\u001b[32m2024-09-29 16:59:55.082\u001b[0m | \u001b[1mINFO    \u001b[0m | \u001b[36msrc.skipgram.dataset\u001b[0m:\u001b[36m__init__\u001b[0m:\u001b[36m57\u001b[0m - \u001b[1mProcessing sequences to build interaction data...\u001b[0m\n"
     ]
    },
    {
     "data": {
      "application/vnd.jupyter.widget-view+json": {
       "model_id": "d04dd51b32244a279d4e2626ddbf7ee8",
       "version_major": 2,
       "version_minor": 0
      },
      "text/plain": [
       "Building interactions: 0it [00:00, ?it/s]"
      ]
     },
     "metadata": {},
     "output_type": "display_data"
    },
    {
     "name": "stdout",
     "output_type": "stream",
     "text": [
      "tensor([432, 432, 432, 432, 432, 432]) tensor([11177,  8558,  1042,  6995,  3396,  5669]) tensor([1., 0., 0., 0., 0., 0.])\n"
     ]
    }
   ],
   "source": [
    "# Create dataset with frequency-based negative sampling\n",
    "dataset = SkipGramDataset(\n",
    "    sequences_fp,\n",
    "    window_size=args.window_size,\n",
    "    negative_samples=args.num_negative_samples,\n",
    "    id_to_idx=idm.item_to_index,\n",
    ")\n",
    "\n",
    "for inp in dataset:\n",
    "    target_items = inp[\"target_items\"]\n",
    "    context_items = inp[\"context_items\"]\n",
    "    labels = inp[\"labels\"]\n",
    "    print(target_items, context_items, labels)\n",
    "    break"
   ]
  },
  {
   "cell_type": "code",
   "execution_count": 22,
   "id": "159cc17e-7b60-491f-8f30-8e941f9c6929",
   "metadata": {},
   "outputs": [],
   "source": [
    "batch_size = len(item_sequence[0])  # for easier testing\n",
    "\n",
    "dataloader = DataLoader(\n",
    "    dataset,\n",
    "    batch_size=batch_size,\n",
    "    drop_last=True,\n",
    "    collate_fn=dataset.collate_fn,\n",
    ")"
   ]
  },
  {
   "cell_type": "code",
   "execution_count": 23,
   "id": "2be4725c-f513-4655-9803-932ccc200ebc",
   "metadata": {
    "scrolled": true
   },
   "outputs": [],
   "source": [
    "# Test index mapping matches input id_mapper\n",
    "target_items_idx_dataloader = set()\n",
    "for batch_input in dataloader:\n",
    "    target_items_idx_dataloader.update(batch_input[\"target_items\"].detach().numpy())\n",
    "    break\n",
    "\n",
    "targets_items_idx_item_sequence = set()\n",
    "for item_id in item_sequence[0]:\n",
    "    idx = idm.item_to_index[item_id]\n",
    "    targets_items_idx_item_sequence.add(idx)\n",
    "\n",
    "assert target_items_idx_dataloader == targets_items_idx_item_sequence"
   ]
  },
  {
   "cell_type": "code",
   "execution_count": 24,
   "id": "6333ab2c-14f9-4d44-bdaa-20f00c9d8c6c",
   "metadata": {},
   "outputs": [
    {
     "name": "stderr",
     "output_type": "stream",
     "text": [
      "\u001b[32m2024-09-29 17:00:00.442\u001b[0m | \u001b[1mINFO    \u001b[0m | \u001b[36msrc.skipgram.dataset\u001b[0m:\u001b[36m__init__\u001b[0m:\u001b[36m57\u001b[0m - \u001b[1mProcessing sequences to build interaction data...\u001b[0m\n"
     ]
    },
    {
     "data": {
      "application/vnd.jupyter.widget-view+json": {
       "model_id": "b3708c7acc254522b36068367e07af53",
       "version_major": 2,
       "version_minor": 0
      },
      "text/plain": [
       "Building interactions: 0it [00:00, ?it/s]"
      ]
     },
     "metadata": {},
     "output_type": "display_data"
    }
   ],
   "source": [
    "val_dataset = SkipGramDataset(\n",
    "    val_sequences_fp,\n",
    "    interacted=dataset.interacted,\n",
    "    item_freq=dataset.item_freq,\n",
    "    window_size=args.window_size,\n",
    "    negative_samples=args.num_negative_samples,\n",
    "    id_to_idx=idm.item_to_index,\n",
    ")\n",
    "val_dataloader = DataLoader(\n",
    "    val_dataset,\n",
    "    batch_size=args.batch_size,\n",
    "    shuffle=False,\n",
    "    drop_last=True,\n",
    "    collate_fn=val_dataset.collate_fn,\n",
    ")"
   ]
  },
  {
   "cell_type": "code",
   "execution_count": 25,
   "id": "b3f32e26-bb25-4f53-a932-c5aa169fa496",
   "metadata": {},
   "outputs": [
    {
     "name": "stdout",
     "output_type": "stream",
     "text": [
      "{'target_items': tensor([  49,   49,   49,   49,   49,   49, 6670, 6670, 6670, 6670, 6670, 6670,\n",
      "        6670, 6670, 6670, 6670, 6670, 6670, 5718, 5718, 5718, 5718, 5718, 5718,\n",
      "        5718, 5718, 5718, 5718, 5718, 5718,  970,  970,  970,  970,  970,  970,\n",
      "         970,  970,  970,  970,  970,  970, 9766, 9766, 9766, 9766, 9766, 9766,\n",
      "        9766, 9766, 9766, 9766, 9766, 9766, 1371, 1371, 1371, 1371, 1371, 1371,\n",
      "        1853, 1853, 1853, 1853, 1853, 1853,  844,  844,  844,  844,  844,  844,\n",
      "        5346, 5346, 5346, 5346, 5346, 5346, 8471, 8471, 8471, 8471, 8471, 8471,\n",
      "        1108, 1108, 1108, 1108, 1108, 1108, 7425, 7425, 7425, 7425, 7425, 7425,\n",
      "        1738, 1738, 1738, 1738, 1738, 1738, 6363, 6363, 6363, 6363, 6363, 6363,\n",
      "        6059, 6059, 6059, 6059, 6059, 6059, 3741, 3741, 3741, 3741, 3741, 3741]), 'context_items': tensor([ 6670, 10589,  8622,  3326,  8507,  7438,    49,  5718,  7513,  1055,\n",
      "         9189,  1659,  4112,  6316,  1035,  2911, 10587,  9093,  6670,   970,\n",
      "         5300,  1304,  4775,  6067,  1270, 10654,  2854,  6178,  2726, 10619,\n",
      "         5718,  9766,  6422,  6709,    71,  5266,  2725,  5474,  1067,  2584,\n",
      "         8507,  8654,   970,  1371,   160,  7549,  4157,  9000,  4827,  2104,\n",
      "         1858,  3722,  8914, 10540,  9766,  5983, 10145, 11045,  2580,  5982,\n",
      "          844,  8347,  5965,   208,  6753,  8240,  1853, 10961,  8536, 11231,\n",
      "         9186,  7102,  8471,  6348, 10875,  9219,  5063,   857,  5346,  2025,\n",
      "         5250,  1822,  2646,  9957,  7425,  1513,  3131,  9243,  4204,  1235,\n",
      "         1108,  8632,  6744, 10626,  9181,  7726,  6363,  4080,  4884,  9415,\n",
      "         1046,  8138,  1738,  7177,  6044,   228,  2476,  5395,  3741,  4744,\n",
      "         9352,  4838, 10528,  6554,  6059,    86,   464,    28,  4355,  4454]), 'labels': tensor([1., 0., 0., 0., 0., 0., 1., 1., 0., 0., 0., 0., 0., 0., 0., 0., 0., 0.,\n",
      "        1., 1., 0., 0., 0., 0., 0., 0., 0., 0., 0., 0., 1., 1., 0., 0., 0., 0.,\n",
      "        0., 0., 0., 0., 0., 0., 1., 1., 0., 0., 0., 0., 0., 0., 0., 0., 0., 0.,\n",
      "        1., 0., 0., 0., 0., 0., 1., 0., 0., 0., 0., 0., 1., 0., 0., 0., 0., 0.,\n",
      "        1., 0., 0., 0., 0., 0., 1., 0., 0., 0., 0., 0., 1., 0., 0., 0., 0., 0.,\n",
      "        1., 0., 0., 0., 0., 0., 1., 0., 0., 0., 0., 0., 1., 0., 0., 0., 0., 0.,\n",
      "        1., 0., 0., 0., 0., 0., 1., 0., 0., 0., 0., 0.])}\n"
     ]
    }
   ],
   "source": [
    "for batch_input in val_dataloader:\n",
    "    print(batch_input)\n",
    "    break"
   ]
  },
  {
   "cell_type": "code",
   "execution_count": null,
   "id": "86f8a882-dea1-4bef-b923-023661118d31",
   "metadata": {},
   "outputs": [],
   "source": []
  },
  {
   "cell_type": "code",
   "execution_count": null,
   "id": "eff8da2a-2ab3-476d-8774-786a1f4a41e9",
   "metadata": {},
   "outputs": [],
   "source": []
  }
 ],
 "metadata": {
  "kernelspec": {
   "display_name": "Python 3 (ipykernel)",
   "language": "python",
   "name": "python3"
  },
  "language_info": {
   "codemirror_mode": {
    "name": "ipython",
    "version": 3
   },
   "file_extension": ".py",
   "mimetype": "text/x-python",
   "name": "python",
   "nbconvert_exporter": "python",
   "pygments_lexer": "ipython3",
   "version": "3.11.9"
  }
 },
 "nbformat": 4,
 "nbformat_minor": 5
}
