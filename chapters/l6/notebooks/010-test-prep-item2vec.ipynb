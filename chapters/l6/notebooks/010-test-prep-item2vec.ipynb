{
 "cells": [
  {
   "cell_type": "markdown",
   "id": "9327920e-f1b7-4dc6-9378-9b009eccd9c2",
   "metadata": {},
   "source": [
    "# Build sequence data loaders for Skip Gram"
   ]
  },
  {
   "cell_type": "markdown",
   "id": "32a6ffed-14dc-4c14-9758-000201389036",
   "metadata": {},
   "source": [
    "# Set up"
   ]
  },
  {
   "cell_type": "code",
   "execution_count": 1,
   "id": "8e7b8b86-b92f-4c06-92eb-718be5a66d85",
   "metadata": {},
   "outputs": [],
   "source": [
    "%load_ext autoreload\n",
    "%autoreload 2"
   ]
  },
  {
   "cell_type": "code",
   "execution_count": 2,
   "id": "1e9436e1-1542-452e-9f0c-d621591ed7cc",
   "metadata": {},
   "outputs": [],
   "source": [
    "import json\n",
    "import string\n",
    "import sys\n",
    "\n",
    "import pandas as pd\n",
    "from loguru import logger\n",
    "from pydantic import BaseModel\n",
    "from torch.utils.data import DataLoader\n",
    "from tqdm.auto import tqdm\n",
    "\n",
    "sys.path.insert(0, \"..\")\n",
    "from src.id_mapper import IDMapper\n",
    "from src.skipgram.dataset import SkipGramDataset"
   ]
  },
  {
   "cell_type": "markdown",
   "id": "3719ad7c-84b1-4c85-bf35-4cb016a923e3",
   "metadata": {},
   "source": [
    "# Controller"
   ]
  },
  {
   "cell_type": "code",
   "execution_count": 3,
   "id": "14a7f8d7-cdbe-4e1e-809f-adfbcb3cd3f1",
   "metadata": {},
   "outputs": [
    {
     "name": "stdout",
     "output_type": "stream",
     "text": [
      "{\n",
      "  \"num_negative_samples\": 5,\n",
      "  \"window_size\": 1,\n",
      "  \"batch_size\": 16,\n",
      "  \"user_col\": \"user_id\",\n",
      "  \"item_col\": \"parent_asin\"\n",
      "}\n"
     ]
    }
   ],
   "source": [
    "class Args(BaseModel):\n",
    "    num_negative_samples: int = 5\n",
    "    window_size: int = 1\n",
    "    batch_size: int = 16\n",
    "\n",
    "    user_col: str = \"user_id\"\n",
    "    item_col: str = \"parent_asin\"\n",
    "\n",
    "\n",
    "args = Args()\n",
    "print(args.model_dump_json(indent=2))"
   ]
  },
  {
   "cell_type": "markdown",
   "id": "03ff335f-42ef-4364-987c-06536f275f1e",
   "metadata": {},
   "source": [
    "# Test implementation"
   ]
  },
  {
   "cell_type": "code",
   "execution_count": 4,
   "id": "58b1b7b3-89d8-41c1-a3f7-ad5bb386168a",
   "metadata": {},
   "outputs": [],
   "source": [
    "sequences = [\n",
    "    [\"b\", \"c\", \"d\", \"e\", \"a\"],\n",
    "    [\"f\", \"b\", \"b\", \"b\", \"k\"],\n",
    "    [\"g\", \"m\", \"k\", \"l\", \"h\"],\n",
    "    [\"b\", \"c\", \"k\"],\n",
    "    [\"j\", \"i\", \"c\"],\n",
    "]\n",
    "\n",
    "val_sequences = [[\"f\", \"l\", \"m\"], [\"i\", \"h\"], [\"j\", \"e\", \"a\"]]\n",
    "\n",
    "sequences_fp = \"../data/sequences.jsonl\"\n",
    "val_sequences_fp = \"../data/val_sequences.jsonl\"\n",
    "\n",
    "with open(sequences_fp, \"w\") as f:\n",
    "    for sequence in sequences:\n",
    "        f.write(json.dumps(sequence) + \"\\n\")\n",
    "with open(val_sequences_fp, \"w\") as f:\n",
    "    for sequence in val_sequences:\n",
    "        f.write(json.dumps(sequence) + \"\\n\")"
   ]
  },
  {
   "cell_type": "code",
   "execution_count": 5,
   "id": "b7b41cb9-bcdb-492b-a0b4-6ff53c9736f1",
   "metadata": {},
   "outputs": [
    {
     "name": "stderr",
     "output_type": "stream",
     "text": [
      "\u001b[32m2024-09-30 09:43:34.043\u001b[0m | \u001b[1mINFO    \u001b[0m | \u001b[36msrc.skipgram.dataset\u001b[0m:\u001b[36m__init__\u001b[0m:\u001b[36m58\u001b[0m - \u001b[1mProcessing sequences to build interaction data...\u001b[0m\n"
     ]
    },
    {
     "data": {
      "application/vnd.jupyter.widget-view+json": {
       "model_id": "4e85e7ade8ca4d79ba8be1855999bfe6",
       "version_major": 2,
       "version_minor": 0
      },
      "text/plain": [
       "Building interactions: 0it [00:00, ?it/s]"
      ]
     },
     "metadata": {},
     "output_type": "display_data"
    },
    {
     "name": "stderr",
     "output_type": "stream",
     "text": [
      "\u001b[32m2024-09-30 09:43:34.055\u001b[0m | \u001b[1mINFO    \u001b[0m | \u001b[36msrc.skipgram.dataset\u001b[0m:\u001b[36m__init__\u001b[0m:\u001b[36m58\u001b[0m - \u001b[1mProcessing sequences to build interaction data...\u001b[0m\n"
     ]
    },
    {
     "data": {
      "application/vnd.jupyter.widget-view+json": {
       "model_id": "23c84a8c0eff4209a1b1f21ceb36b7b5",
       "version_major": 2,
       "version_minor": 0
      },
      "text/plain": [
       "Building interactions: 0it [00:00, ?it/s]"
      ]
     },
     "metadata": {},
     "output_type": "display_data"
    },
    {
     "name": "stdout",
     "output_type": "stream",
     "text": [
      "tensor([0, 0, 0]) tensor([ 2, 11,  7]) tensor([1., 0., 0.])\n"
     ]
    }
   ],
   "source": [
    "# Simulate pre-configured id_to_idx mapper\n",
    "id_to_idx = {\n",
    "    id_: idx for id_, idx in zip(list(string.ascii_letters[:13]), list(range(13)))\n",
    "}\n",
    "id_to_idx[\"a\"] = 1\n",
    "id_to_idx[\"b\"] = 0\n",
    "\n",
    "# Create dataset with frequency-based negative sampling\n",
    "dataset = SkipGramDataset(\n",
    "    sequences_fp, window_size=1, negative_samples=2, id_to_idx=id_to_idx\n",
    ")\n",
    "val_dataset = SkipGramDataset(\n",
    "    val_sequences_fp,\n",
    "    interacted=dataset.interacted,\n",
    "    item_freq=dataset.item_freq,\n",
    "    window_size=1,\n",
    "    negative_samples=2,\n",
    "    id_to_idx=id_to_idx,\n",
    ")\n",
    "\n",
    "# Example of getting an item\n",
    "for inp in dataset:\n",
    "    target_items = inp[\"target_items\"]\n",
    "    context_items = inp[\"context_items\"]\n",
    "    labels = inp[\"labels\"]\n",
    "    print(target_items, context_items, labels)\n",
    "    break"
   ]
  },
  {
   "cell_type": "code",
   "execution_count": 6,
   "id": "5762d1bd-3fa6-4834-9c84-cd510b9b7966",
   "metadata": {},
   "outputs": [
    {
     "data": {
      "text/plain": [
       "{'a': 1,\n",
       " 'b': 0,\n",
       " 'c': 2,\n",
       " 'd': 3,\n",
       " 'e': 4,\n",
       " 'f': 5,\n",
       " 'g': 6,\n",
       " 'h': 7,\n",
       " 'i': 8,\n",
       " 'j': 9,\n",
       " 'k': 10,\n",
       " 'l': 11,\n",
       " 'm': 12}"
      ]
     },
     "execution_count": 6,
     "metadata": {},
     "output_type": "execute_result"
    }
   ],
   "source": [
    "dataset.id_to_idx"
   ]
  },
  {
   "cell_type": "code",
   "execution_count": 7,
   "id": "b0672310-b7f1-4585-b104-ba93c3cc6d44",
   "metadata": {
    "scrolled": true
   },
   "outputs": [
    {
     "data": {
      "text/plain": [
       "array([0.13537454, 0.05938764, 0.13537454, 0.05938764, 0.05938764,\n",
       "       0.05938764, 0.05938764, 0.05938764, 0.05938764, 0.05938764,\n",
       "       0.13537454, 0.05938764, 0.05938764])"
      ]
     },
     "execution_count": 7,
     "metadata": {},
     "output_type": "execute_result"
    }
   ],
   "source": [
    "dataset.sampling_probs"
   ]
  },
  {
   "cell_type": "code",
   "execution_count": 8,
   "id": "2bd363b7-c544-47b8-8c7b-2b17968567f9",
   "metadata": {},
   "outputs": [
    {
     "data": {
      "text/plain": [
       "defaultdict(set,\n",
       "            {0: {0, 1, 2, 3, 4, 5, 10},\n",
       "             1: {0, 1, 2, 3, 4},\n",
       "             2: {0, 1, 2, 3, 4, 8, 9, 10},\n",
       "             3: {0, 1, 2, 3, 4},\n",
       "             4: {0, 1, 2, 3, 4},\n",
       "             10: {0, 2, 5, 6, 7, 10, 11, 12},\n",
       "             5: {0, 5, 10},\n",
       "             6: {6, 7, 10, 11, 12},\n",
       "             7: {6, 7, 10, 11, 12},\n",
       "             11: {6, 7, 10, 11, 12},\n",
       "             12: {6, 7, 10, 11, 12},\n",
       "             8: {2, 8, 9},\n",
       "             9: {2, 8, 9}})"
      ]
     },
     "execution_count": 8,
     "metadata": {},
     "output_type": "execute_result"
    }
   ],
   "source": [
    "dataset.interacted"
   ]
  },
  {
   "cell_type": "code",
   "execution_count": 9,
   "id": "26b4120d-61e5-42df-917e-1cc4ef22e815",
   "metadata": {},
   "outputs": [
    {
     "name": "stdout",
     "output_type": "stream",
     "text": [
      "(tensor(0), tensor(2))\n",
      "(tensor(0), tensor(11))\n",
      "(tensor(0), tensor(7))\n"
     ]
    }
   ],
   "source": [
    "for i in zip(target_items, context_items):\n",
    "    print(i)"
   ]
  },
  {
   "cell_type": "code",
   "execution_count": 10,
   "id": "01a5c23c-bd60-4ed1-8f95-ff82ddf1875b",
   "metadata": {},
   "outputs": [
    {
     "data": {
      "text/plain": [
       "array([0.10225277, 0.07544086, 0.10225277, 0.0448574 , 0.07544086,\n",
       "       0.07544086, 0.0448574 , 0.07544086, 0.07544086, 0.07544086,\n",
       "       0.10225277, 0.07544086, 0.07544086])"
      ]
     },
     "execution_count": 10,
     "metadata": {},
     "output_type": "execute_result"
    }
   ],
   "source": [
    "val_dataset.sampling_probs"
   ]
  },
  {
   "cell_type": "code",
   "execution_count": 11,
   "id": "13c3144f-d88f-44bf-b3ab-64aedd5657bc",
   "metadata": {},
   "outputs": [
    {
     "data": {
      "text/plain": [
       "defaultdict(set,\n",
       "            {0: {0, 1, 2, 3, 4, 5, 10},\n",
       "             1: {0, 1, 2, 3, 4, 9},\n",
       "             2: {0, 1, 2, 3, 4, 8, 9, 10},\n",
       "             3: {0, 1, 2, 3, 4},\n",
       "             4: {0, 1, 2, 3, 4, 9},\n",
       "             10: {0, 2, 5, 6, 7, 10, 11, 12},\n",
       "             5: {0, 5, 10, 11, 12},\n",
       "             6: {6, 7, 10, 11, 12},\n",
       "             7: {6, 7, 8, 10, 11, 12},\n",
       "             11: {5, 6, 7, 10, 11, 12},\n",
       "             12: {5, 6, 7, 10, 11, 12},\n",
       "             8: {2, 7, 8, 9},\n",
       "             9: {1, 2, 4, 8, 9}})"
      ]
     },
     "execution_count": 11,
     "metadata": {},
     "output_type": "execute_result"
    }
   ],
   "source": [
    "val_dataset.interacted"
   ]
  },
  {
   "cell_type": "markdown",
   "id": "c1c908ef-d593-46e3-af40-836cb54bd2fe",
   "metadata": {},
   "source": [
    "## Test no conflicting labels"
   ]
  },
  {
   "cell_type": "code",
   "execution_count": 12,
   "id": "9b50a1df-1ee8-4534-bfd1-c7f17cfcc2ed",
   "metadata": {},
   "outputs": [],
   "source": [
    "dataloader = DataLoader(\n",
    "    dataset,\n",
    "    batch_size=args.batch_size,\n",
    "    drop_last=True,\n",
    "    collate_fn=dataset.collate_fn,\n",
    ")"
   ]
  },
  {
   "cell_type": "code",
   "execution_count": 13,
   "id": "de8a9e89-7bcb-4d8b-b7c4-63061e4a9877",
   "metadata": {
    "scrolled": true
   },
   "outputs": [
    {
     "data": {
      "application/vnd.jupyter.widget-view+json": {
       "model_id": "1213a29d232640f691f02daa1fcf3a6e",
       "version_major": 2,
       "version_minor": 0
      },
      "text/plain": [
       "0it [00:00, ?it/s]"
      ]
     },
     "metadata": {},
     "output_type": "display_data"
    }
   ],
   "source": [
    "target_items = []\n",
    "context_items = []\n",
    "labels = []\n",
    "\n",
    "for i, batch_input in tqdm(enumerate(dataloader)):\n",
    "    _target_items = batch_input[\"target_items\"].cpu().detach().numpy()\n",
    "    _context_items = batch_input[\"context_items\"].cpu().detach().numpy()\n",
    "    _labels = batch_input[\"labels\"].cpu().detach().numpy()\n",
    "\n",
    "    target_items.extend(_target_items)\n",
    "    context_items.extend(_context_items)\n",
    "    labels.extend(_labels)\n",
    "\n",
    "test_df = pd.DataFrame(\n",
    "    {\"target_items\": target_items, \"context_items\": context_items, \"labels\": labels}\n",
    ")\n",
    "assert (\n",
    "    test_df.groupby([\"target_items\", \"context_items\"])[\"labels\"]\n",
    "    .nunique()\n",
    "    .loc[lambda s: s > 1]\n",
    "    .shape[0]\n",
    "    == 0\n",
    "), \"Conflicting labels!\""
   ]
  },
  {
   "cell_type": "markdown",
   "id": "8795ca93-372d-43ca-9cea-bb76c67aabba",
   "metadata": {},
   "source": [
    "# Load data"
   ]
  },
  {
   "cell_type": "code",
   "execution_count": 14,
   "id": "494e14aa-03c1-47d8-8720-e82c12d3cc13",
   "metadata": {},
   "outputs": [],
   "source": [
    "train_df = pd.read_parquet(\"../data/train_features.parquet\")\n",
    "val_df = pd.read_parquet(\"../data/val_features.parquet\")\n",
    "idm = IDMapper().load(\"../data/idm.json\")"
   ]
  },
  {
   "cell_type": "code",
   "execution_count": 15,
   "id": "20a6ebd8-2da5-4647-8773-b1362ad29315",
   "metadata": {
    "scrolled": true
   },
   "outputs": [
    {
     "data": {
      "text/html": [
       "<div>\n",
       "<style scoped>\n",
       "    .dataframe tbody tr th:only-of-type {\n",
       "        vertical-align: middle;\n",
       "    }\n",
       "\n",
       "    .dataframe tbody tr th {\n",
       "        vertical-align: top;\n",
       "    }\n",
       "\n",
       "    .dataframe thead th {\n",
       "        text-align: right;\n",
       "    }\n",
       "</style>\n",
       "<table border=\"1\" class=\"dataframe\">\n",
       "  <thead>\n",
       "    <tr style=\"text-align: right;\">\n",
       "      <th></th>\n",
       "      <th>user_id</th>\n",
       "      <th>parent_asin</th>\n",
       "      <th>rating</th>\n",
       "      <th>timestamp</th>\n",
       "      <th>user_indice</th>\n",
       "      <th>item_indice</th>\n",
       "      <th>main_category</th>\n",
       "      <th>title</th>\n",
       "      <th>description</th>\n",
       "      <th>categories</th>\n",
       "      <th>price</th>\n",
       "      <th>item_sequence</th>\n",
       "    </tr>\n",
       "  </thead>\n",
       "  <tbody>\n",
       "    <tr>\n",
       "      <th>0</th>\n",
       "      <td>AEN7JFLQCURF54WR5OHY7HOWWMSQ</td>\n",
       "      <td>B08FC5TTBF</td>\n",
       "      <td>5.0</td>\n",
       "      <td>1628644724721</td>\n",
       "      <td>9638</td>\n",
       "      <td>3354</td>\n",
       "      <td>Video Games</td>\n",
       "      <td>Demon's Souls - PlayStation 5</td>\n",
       "      <td>[From Bluepoint Games comes a remake of the Pl...</td>\n",
       "      <td>[Video Games, PlayStation 5, Games]</td>\n",
       "      <td>29.99</td>\n",
       "      <td>[-1, -1, -1, -1, 562, 4378, 4194, 1334, 3169, ...</td>\n",
       "    </tr>\n",
       "    <tr>\n",
       "      <th>1</th>\n",
       "      <td>AELH2ZF5QSSIFBF6WXAZLCF7JIWA</td>\n",
       "      <td>B0C6DH316S</td>\n",
       "      <td>2.0</td>\n",
       "      <td>1628653733506</td>\n",
       "      <td>20213</td>\n",
       "      <td>2064</td>\n",
       "      <td>Computers</td>\n",
       "      <td>Logitech G PRO X Wireless Lightspeed Gaming He...</td>\n",
       "      <td>[]</td>\n",
       "      <td>[Video Games, PC, Accessories, Headsets]</td>\n",
       "      <td>253.82</td>\n",
       "      <td>[-1, -1, -1, -1, 1172, 2202, 2609, 3980, 3547,...</td>\n",
       "    </tr>\n",
       "    <tr>\n",
       "      <th>2</th>\n",
       "      <td>AGD4QHNPSC45XTUPSUE6TYQOF3WQ</td>\n",
       "      <td>B0BN5DC36N</td>\n",
       "      <td>5.0</td>\n",
       "      <td>1628679010802</td>\n",
       "      <td>9107</td>\n",
       "      <td>2562</td>\n",
       "      <td>Computers</td>\n",
       "      <td>Seagate Horizon Forbidden West Limited Edition...</td>\n",
       "      <td>[Discover new worlds with the officially-licen...</td>\n",
       "      <td>[Video Games, Legacy Systems, PlayStation Syst...</td>\n",
       "      <td>89.99</td>\n",
       "      <td>[2812, 2387, 4376, 1890, 403, 737, 2959, 790, ...</td>\n",
       "    </tr>\n",
       "    <tr>\n",
       "      <th>3</th>\n",
       "      <td>AFMOSTKHH2HFLI35E3YMI7GLYDCQ</td>\n",
       "      <td>B07KRWJCQW</td>\n",
       "      <td>5.0</td>\n",
       "      <td>1628687441776</td>\n",
       "      <td>6689</td>\n",
       "      <td>1845</td>\n",
       "      <td>Video Games</td>\n",
       "      <td>$40 Xbox Gift Card [Digital Code]</td>\n",
       "      <td>[Buy an Xbox Gift Card for yourself or a frien...</td>\n",
       "      <td>[Video Games, Online Game Services, Xbox Live,...</td>\n",
       "      <td>40.0</td>\n",
       "      <td>[-1, -1, 2002, 1749, 3878, 4132, 4528, 86, 418...</td>\n",
       "    </tr>\n",
       "    <tr>\n",
       "      <th>4</th>\n",
       "      <td>AGK34QNFABMBLRESDKG2VRC3VIIQ</td>\n",
       "      <td>B0BL65X86R</td>\n",
       "      <td>5.0</td>\n",
       "      <td>1628702768435</td>\n",
       "      <td>9987</td>\n",
       "      <td>781</td>\n",
       "      <td>Video Games</td>\n",
       "      <td>$25 PlayStation Store Gift Card [Digital Code]</td>\n",
       "      <td>[Redeem against anything on PlayStation Store....</td>\n",
       "      <td>[Video Games, Online Game Services, PlayStatio...</td>\n",
       "      <td>25.0</td>\n",
       "      <td>[1454, 3730, 3509, 3333, 3118, 3298, 2008, 689...</td>\n",
       "    </tr>\n",
       "    <tr>\n",
       "      <th>...</th>\n",
       "      <td>...</td>\n",
       "      <td>...</td>\n",
       "      <td>...</td>\n",
       "      <td>...</td>\n",
       "      <td>...</td>\n",
       "      <td>...</td>\n",
       "      <td>...</td>\n",
       "      <td>...</td>\n",
       "      <td>...</td>\n",
       "      <td>...</td>\n",
       "      <td>...</td>\n",
       "      <td>...</td>\n",
       "    </tr>\n",
       "    <tr>\n",
       "      <th>944</th>\n",
       "      <td>AEKYV77UMZZGHT4PZIETDQ6ELJBQ</td>\n",
       "      <td>B08F4C6HCD</td>\n",
       "      <td>5.0</td>\n",
       "      <td>1657816667680</td>\n",
       "      <td>5258</td>\n",
       "      <td>337</td>\n",
       "      <td>Video Games</td>\n",
       "      <td>Legend of Zelda Link's Awakening - Nintendo Sw...</td>\n",
       "      <td>[“Castaway, you should know the truth!” As Lin...</td>\n",
       "      <td>[Video Games, Nintendo Switch, Games]</td>\n",
       "      <td>59.88</td>\n",
       "      <td>[1164, 246, 2145, 4214, 3056, 2672, 1158, 3609...</td>\n",
       "    </tr>\n",
       "    <tr>\n",
       "      <th>945</th>\n",
       "      <td>AGUFCRCH7HOUQ5FQYSJETEEFAYOA</td>\n",
       "      <td>B00DBDPOZ4</td>\n",
       "      <td>5.0</td>\n",
       "      <td>1657855227062</td>\n",
       "      <td>17774</td>\n",
       "      <td>3394</td>\n",
       "      <td>Video Games</td>\n",
       "      <td>Xbox One Play and Charge Kit</td>\n",
       "      <td>[Keep the action going with the Xbox One Play ...</td>\n",
       "      <td>[Video Games, Xbox One, Accessories]</td>\n",
       "      <td>34.99</td>\n",
       "      <td>[-1, -1, -1, -1, -1, 2273, 4184, 3370, 3585, 3...</td>\n",
       "    </tr>\n",
       "    <tr>\n",
       "      <th>946</th>\n",
       "      <td>AHJUZFMUESAEQBPC2QQMBDVUBYFQ</td>\n",
       "      <td>B0B1PB5L93</td>\n",
       "      <td>4.0</td>\n",
       "      <td>1657883331431</td>\n",
       "      <td>4200</td>\n",
       "      <td>3136</td>\n",
       "      <td>Computers</td>\n",
       "      <td>Razer Viper Ultimate Lightweight Wireless Gami...</td>\n",
       "      <td>[Forget about average and claim the unfair adv...</td>\n",
       "      <td>[Video Games, PC, Accessories, Gaming Mice]</td>\n",
       "      <td>89.99</td>\n",
       "      <td>[-1, -1, -1, 3163, 3226, 1292, 833, 4476, 432,...</td>\n",
       "    </tr>\n",
       "    <tr>\n",
       "      <th>947</th>\n",
       "      <td>AE5UUBPDQX4MRFFDW7D3IKHQYIEQ</td>\n",
       "      <td>B00ZJBSBD8</td>\n",
       "      <td>5.0</td>\n",
       "      <td>1657945454164</td>\n",
       "      <td>2512</td>\n",
       "      <td>2946</td>\n",
       "      <td>Video Games</td>\n",
       "      <td>Trackmania Turbo-Nla</td>\n",
       "      <td>[Step into the wild car fantasy world of Track...</td>\n",
       "      <td>[Video Games, PlayStation 4, Games]</td>\n",
       "      <td>13.68</td>\n",
       "      <td>[136, 991, 1692, 3380, 762, 3777, 3897, 3240, ...</td>\n",
       "    </tr>\n",
       "    <tr>\n",
       "      <th>948</th>\n",
       "      <td>AF54JR3WONKVAUZUYDLOOPZN7NFQ</td>\n",
       "      <td>B0C37RBK2R</td>\n",
       "      <td>5.0</td>\n",
       "      <td>1657950291114</td>\n",
       "      <td>17957</td>\n",
       "      <td>4048</td>\n",
       "      <td>Video Games</td>\n",
       "      <td>Xbox Series S</td>\n",
       "      <td>[Introducing the Xbox Series S, the smallest, ...</td>\n",
       "      <td>[]</td>\n",
       "      <td>279.0</td>\n",
       "      <td>[-1, -1, -1, 3987, 224, 2642, 1193, 3532, 1078...</td>\n",
       "    </tr>\n",
       "  </tbody>\n",
       "</table>\n",
       "<p>949 rows × 12 columns</p>\n",
       "</div>"
      ],
      "text/plain": [
       "                          user_id parent_asin  rating      timestamp  \\\n",
       "0    AEN7JFLQCURF54WR5OHY7HOWWMSQ  B08FC5TTBF     5.0  1628644724721   \n",
       "1    AELH2ZF5QSSIFBF6WXAZLCF7JIWA  B0C6DH316S     2.0  1628653733506   \n",
       "2    AGD4QHNPSC45XTUPSUE6TYQOF3WQ  B0BN5DC36N     5.0  1628679010802   \n",
       "3    AFMOSTKHH2HFLI35E3YMI7GLYDCQ  B07KRWJCQW     5.0  1628687441776   \n",
       "4    AGK34QNFABMBLRESDKG2VRC3VIIQ  B0BL65X86R     5.0  1628702768435   \n",
       "..                            ...         ...     ...            ...   \n",
       "944  AEKYV77UMZZGHT4PZIETDQ6ELJBQ  B08F4C6HCD     5.0  1657816667680   \n",
       "945  AGUFCRCH7HOUQ5FQYSJETEEFAYOA  B00DBDPOZ4     5.0  1657855227062   \n",
       "946  AHJUZFMUESAEQBPC2QQMBDVUBYFQ  B0B1PB5L93     4.0  1657883331431   \n",
       "947  AE5UUBPDQX4MRFFDW7D3IKHQYIEQ  B00ZJBSBD8     5.0  1657945454164   \n",
       "948  AF54JR3WONKVAUZUYDLOOPZN7NFQ  B0C37RBK2R     5.0  1657950291114   \n",
       "\n",
       "     user_indice  item_indice main_category  \\\n",
       "0           9638         3354   Video Games   \n",
       "1          20213         2064     Computers   \n",
       "2           9107         2562     Computers   \n",
       "3           6689         1845   Video Games   \n",
       "4           9987          781   Video Games   \n",
       "..           ...          ...           ...   \n",
       "944         5258          337   Video Games   \n",
       "945        17774         3394   Video Games   \n",
       "946         4200         3136     Computers   \n",
       "947         2512         2946   Video Games   \n",
       "948        17957         4048   Video Games   \n",
       "\n",
       "                                                 title  \\\n",
       "0                        Demon's Souls - PlayStation 5   \n",
       "1    Logitech G PRO X Wireless Lightspeed Gaming He...   \n",
       "2    Seagate Horizon Forbidden West Limited Edition...   \n",
       "3                    $40 Xbox Gift Card [Digital Code]   \n",
       "4       $25 PlayStation Store Gift Card [Digital Code]   \n",
       "..                                                 ...   \n",
       "944  Legend of Zelda Link's Awakening - Nintendo Sw...   \n",
       "945                       Xbox One Play and Charge Kit   \n",
       "946  Razer Viper Ultimate Lightweight Wireless Gami...   \n",
       "947                               Trackmania Turbo-Nla   \n",
       "948                                      Xbox Series S   \n",
       "\n",
       "                                           description  \\\n",
       "0    [From Bluepoint Games comes a remake of the Pl...   \n",
       "1                                                   []   \n",
       "2    [Discover new worlds with the officially-licen...   \n",
       "3    [Buy an Xbox Gift Card for yourself or a frien...   \n",
       "4    [Redeem against anything on PlayStation Store....   \n",
       "..                                                 ...   \n",
       "944  [“Castaway, you should know the truth!” As Lin...   \n",
       "945  [Keep the action going with the Xbox One Play ...   \n",
       "946  [Forget about average and claim the unfair adv...   \n",
       "947  [Step into the wild car fantasy world of Track...   \n",
       "948  [Introducing the Xbox Series S, the smallest, ...   \n",
       "\n",
       "                                            categories   price  \\\n",
       "0                  [Video Games, PlayStation 5, Games]   29.99   \n",
       "1             [Video Games, PC, Accessories, Headsets]  253.82   \n",
       "2    [Video Games, Legacy Systems, PlayStation Syst...   89.99   \n",
       "3    [Video Games, Online Game Services, Xbox Live,...    40.0   \n",
       "4    [Video Games, Online Game Services, PlayStatio...    25.0   \n",
       "..                                                 ...     ...   \n",
       "944              [Video Games, Nintendo Switch, Games]   59.88   \n",
       "945               [Video Games, Xbox One, Accessories]   34.99   \n",
       "946        [Video Games, PC, Accessories, Gaming Mice]   89.99   \n",
       "947                [Video Games, PlayStation 4, Games]   13.68   \n",
       "948                                                 []   279.0   \n",
       "\n",
       "                                         item_sequence  \n",
       "0    [-1, -1, -1, -1, 562, 4378, 4194, 1334, 3169, ...  \n",
       "1    [-1, -1, -1, -1, 1172, 2202, 2609, 3980, 3547,...  \n",
       "2    [2812, 2387, 4376, 1890, 403, 737, 2959, 790, ...  \n",
       "3    [-1, -1, 2002, 1749, 3878, 4132, 4528, 86, 418...  \n",
       "4    [1454, 3730, 3509, 3333, 3118, 3298, 2008, 689...  \n",
       "..                                                 ...  \n",
       "944  [1164, 246, 2145, 4214, 3056, 2672, 1158, 3609...  \n",
       "945  [-1, -1, -1, -1, -1, 2273, 4184, 3370, 3585, 3...  \n",
       "946  [-1, -1, -1, 3163, 3226, 1292, 833, 4476, 432,...  \n",
       "947  [136, 991, 1692, 3380, 762, 3777, 3897, 3240, ...  \n",
       "948  [-1, -1, -1, 3987, 224, 2642, 1193, 3532, 1078...  \n",
       "\n",
       "[949 rows x 12 columns]"
      ]
     },
     "execution_count": 15,
     "metadata": {},
     "output_type": "execute_result"
    }
   ],
   "source": [
    "val_df"
   ]
  },
  {
   "cell_type": "code",
   "execution_count": 16,
   "id": "a7fe194e-94a7-4f2b-bef4-22db0a223149",
   "metadata": {},
   "outputs": [],
   "source": [
    "def get_sequence(df, user_col=args.user_col, item_col=args.item_col):\n",
    "    return (\n",
    "        df.groupby(user_col)[item_col]\n",
    "        .agg(list)\n",
    "        .loc[lambda s: s.apply(len) > 1]  # Remove sequence with only one item\n",
    "    ).values.tolist()"
   ]
  },
  {
   "cell_type": "code",
   "execution_count": 17,
   "id": "27ce7e75-4903-4d75-9c70-2da337864c26",
   "metadata": {
    "scrolled": true
   },
   "outputs": [
    {
     "data": {
      "text/plain": [
       "20366"
      ]
     },
     "execution_count": 17,
     "metadata": {},
     "output_type": "execute_result"
    }
   ],
   "source": [
    "item_sequence = train_df.pipe(get_sequence)\n",
    "len(item_sequence)"
   ]
  },
  {
   "cell_type": "code",
   "execution_count": 18,
   "id": "b23939a8-ee72-4b93-82d2-a83423a3ff01",
   "metadata": {
    "scrolled": true
   },
   "outputs": [
    {
     "data": {
      "text/plain": [
       "147"
      ]
     },
     "execution_count": 18,
     "metadata": {},
     "output_type": "execute_result"
    }
   ],
   "source": [
    "val_item_sequence = val_df.pipe(get_sequence)\n",
    "len(val_item_sequence)"
   ]
  },
  {
   "cell_type": "markdown",
   "id": "832beb3a-e6dd-46a0-9d88-579862bc2be5",
   "metadata": {},
   "source": [
    "## Persist"
   ]
  },
  {
   "cell_type": "code",
   "execution_count": 19,
   "id": "a30d14cf-c33b-40b3-a981-380a483dd837",
   "metadata": {
    "scrolled": true
   },
   "outputs": [
    {
     "name": "stderr",
     "output_type": "stream",
     "text": [
      "\u001b[32m2024-09-30 09:43:34.958\u001b[0m | \u001b[1mINFO    \u001b[0m | \u001b[36m__main__\u001b[0m:\u001b[36m<module>\u001b[0m:\u001b[36m11\u001b[0m - \u001b[1mlen(item_sequence)=20,366 len(val_item_sequence)=147\u001b[0m\n"
     ]
    }
   ],
   "source": [
    "sequences_fp = \"../data/item_sequence.jsonl\"\n",
    "val_sequences_fp = \"../data/val_item_sequence.jsonl\"\n",
    "\n",
    "with open(sequences_fp, \"w\") as f:\n",
    "    for sequence in item_sequence:\n",
    "        f.write(json.dumps(sequence) + \"\\n\")\n",
    "with open(val_sequences_fp, \"w\") as f:\n",
    "    for sequence in val_item_sequence:\n",
    "        f.write(json.dumps(sequence) + \"\\n\")\n",
    "\n",
    "logger.info(f\"{len(item_sequence)=:,.0f} {len(val_item_sequence)=:,.0f}\")"
   ]
  },
  {
   "cell_type": "markdown",
   "id": "4660d298-1bd0-4437-a55b-1130718795c1",
   "metadata": {},
   "source": [
    "## Persist a small data for overfitting"
   ]
  },
  {
   "cell_type": "code",
   "execution_count": 20,
   "id": "6bc58200-aa9e-4965-9944-22fdce6e130d",
   "metadata": {},
   "outputs": [],
   "source": [
    "num_sequences = 2\n",
    "batch_item_sequence = item_sequence[:num_sequences]\n",
    "batch_sequences_fp = \"../data/batch_item_sequence.jsonl\"\n",
    "\n",
    "with open(batch_sequences_fp, \"w\") as f:\n",
    "    for sequence in batch_item_sequence:\n",
    "        f.write(json.dumps(sequence) + \"\\n\")"
   ]
  },
  {
   "cell_type": "markdown",
   "id": "3b0ec31a-4a48-49c8-af9d-9d23c98a7d90",
   "metadata": {},
   "source": [
    "# Run with all data"
   ]
  },
  {
   "cell_type": "code",
   "execution_count": 21,
   "id": "b5523eb7-e47e-4ca2-9cba-efe0e7ad7499",
   "metadata": {},
   "outputs": [
    {
     "name": "stderr",
     "output_type": "stream",
     "text": [
      "\u001b[32m2024-09-30 09:43:34.978\u001b[0m | \u001b[1mINFO    \u001b[0m | \u001b[36msrc.skipgram.dataset\u001b[0m:\u001b[36m__init__\u001b[0m:\u001b[36m58\u001b[0m - \u001b[1mProcessing sequences to build interaction data...\u001b[0m\n"
     ]
    },
    {
     "data": {
      "application/vnd.jupyter.widget-view+json": {
       "model_id": "b012613ab12a49fc8d300d851bffe372",
       "version_major": 2,
       "version_minor": 0
      },
      "text/plain": [
       "Building interactions: 0it [00:00, ?it/s]"
      ]
     },
     "metadata": {},
     "output_type": "display_data"
    },
    {
     "name": "stdout",
     "output_type": "stream",
     "text": [
      "tensor([4622, 4622, 4622, 4622, 4622, 4622]) tensor([3033, 4279, 4270, 2567, 2112,  346]) tensor([1., 0., 0., 0., 0., 0.])\n"
     ]
    }
   ],
   "source": [
    "# Create dataset with frequency-based negative sampling\n",
    "dataset = SkipGramDataset(\n",
    "    sequences_fp,\n",
    "    window_size=args.window_size,\n",
    "    negative_samples=args.num_negative_samples,\n",
    "    id_to_idx=idm.item_to_index,\n",
    ")\n",
    "\n",
    "for inp in dataset:\n",
    "    target_items = inp[\"target_items\"]\n",
    "    context_items = inp[\"context_items\"]\n",
    "    labels = inp[\"labels\"]\n",
    "    print(target_items, context_items, labels)\n",
    "    break"
   ]
  },
  {
   "cell_type": "code",
   "execution_count": 22,
   "id": "159cc17e-7b60-491f-8f30-8e941f9c6929",
   "metadata": {},
   "outputs": [],
   "source": [
    "batch_size = len(item_sequence[0])  # for easier testing\n",
    "\n",
    "dataloader = DataLoader(\n",
    "    dataset,\n",
    "    batch_size=batch_size,\n",
    "    drop_last=True,\n",
    "    collate_fn=dataset.collate_fn,\n",
    ")"
   ]
  },
  {
   "cell_type": "code",
   "execution_count": 23,
   "id": "2be4725c-f513-4655-9803-932ccc200ebc",
   "metadata": {
    "scrolled": true
   },
   "outputs": [],
   "source": [
    "# Test index mapping matches input id_mapper\n",
    "target_items_idx_dataloader = set()\n",
    "for batch_input in dataloader:\n",
    "    target_items_idx_dataloader.update(batch_input[\"target_items\"].detach().numpy())\n",
    "    break\n",
    "\n",
    "targets_items_idx_item_sequence = set()\n",
    "for item_id in item_sequence[0]:\n",
    "    idx = idm.item_to_index[item_id]\n",
    "    targets_items_idx_item_sequence.add(idx)\n",
    "\n",
    "assert target_items_idx_dataloader == targets_items_idx_item_sequence"
   ]
  },
  {
   "cell_type": "code",
   "execution_count": 24,
   "id": "6333ab2c-14f9-4d44-bdaa-20f00c9d8c6c",
   "metadata": {},
   "outputs": [
    {
     "name": "stderr",
     "output_type": "stream",
     "text": [
      "\u001b[32m2024-09-30 09:43:35.551\u001b[0m | \u001b[1mINFO    \u001b[0m | \u001b[36msrc.skipgram.dataset\u001b[0m:\u001b[36m__init__\u001b[0m:\u001b[36m58\u001b[0m - \u001b[1mProcessing sequences to build interaction data...\u001b[0m\n"
     ]
    },
    {
     "data": {
      "application/vnd.jupyter.widget-view+json": {
       "model_id": "e5c601d113f24a73858866ae10c57b00",
       "version_major": 2,
       "version_minor": 0
      },
      "text/plain": [
       "Building interactions: 0it [00:00, ?it/s]"
      ]
     },
     "metadata": {},
     "output_type": "display_data"
    }
   ],
   "source": [
    "val_dataset = SkipGramDataset(\n",
    "    val_sequences_fp,\n",
    "    interacted=dataset.interacted,\n",
    "    item_freq=dataset.item_freq,\n",
    "    window_size=args.window_size,\n",
    "    negative_samples=args.num_negative_samples,\n",
    "    id_to_idx=idm.item_to_index,\n",
    ")\n",
    "val_dataloader = DataLoader(\n",
    "    val_dataset,\n",
    "    batch_size=args.batch_size,\n",
    "    shuffle=False,\n",
    "    drop_last=True,\n",
    "    collate_fn=val_dataset.collate_fn,\n",
    ")"
   ]
  },
  {
   "cell_type": "code",
   "execution_count": 25,
   "id": "b3f32e26-bb25-4f53-a932-c5aa169fa496",
   "metadata": {},
   "outputs": [
    {
     "name": "stdout",
     "output_type": "stream",
     "text": [
      "{'target_items': tensor([ 918,  918,  918,  918,  918,  918, 1188, 1188, 1188, 1188, 1188, 1188,\n",
      "         875,  875,  875,  875,  875,  875,  287,  287,  287,  287,  287,  287,\n",
      "         287,  287,  287,  287,  287,  287, 1266, 1266, 1266, 1266, 1266, 1266,\n",
      "        1266, 1266, 1266, 1266, 1266, 1266,  916,  916,  916,  916,  916,  916,\n",
      "         916,  916,  916,  916,  916,  916, 3985, 3985, 3985, 3985, 3985, 3985,\n",
      "        3985, 3985, 3985, 3985, 3985, 3985, 1845, 1845, 1845, 1845, 1845, 1845,\n",
      "        1845, 1845, 1845, 1845, 1845, 1845,  156,  156,  156,  156,  156,  156,\n",
      "        4048, 4048, 4048, 4048, 4048, 4048, 4607, 4607, 4607, 4607, 4607, 4607,\n",
      "        2302, 2302, 2302, 2302, 2302, 2302, 2895, 2895, 2895, 2895, 2895, 2895,\n",
      "        2895, 2895, 2895, 2895, 2895, 2895, 4035, 4035, 4035, 4035, 4035, 4035,\n",
      "        4035, 4035, 4035, 4035, 4035, 4035, 2805, 2805, 2805, 2805, 2805, 2805,\n",
      "        2805, 2805, 2805, 2805, 2805, 2805, 4374, 4374, 4374, 4374, 4374, 4374,\n",
      "        4374, 4374, 4374, 4374, 4374, 4374]), 'context_items': tensor([1188, 2770, 4409,  484,  820, 3037,  918, 1389, 4570, 4607, 1150, 4528,\n",
      "         287, 4575, 4451,  504, 1250, 3192,  875, 1266, 4370, 1998, 2541, 2434,\n",
      "        3879, 1065,  697, 2133, 3671, 1285,  287,  916,    9, 2688, 4249, 4256,\n",
      "         475, 2759, 4182, 3680, 1303, 3055, 1266, 3985, 1003, 1484, 1848,  327,\n",
      "        1667,  539,  741, 2782, 3839, 2501,  916, 1845, 3727,  380, 1652,  789,\n",
      "        2052, 1868, 2269,  530, 1666,  714, 3985,  156,  614, 4247, 4217, 3226,\n",
      "        2492, 2512, 3479, 2378, 1163, 4687, 1845, 2969, 2385, 4370, 2075,  597,\n",
      "        4607, 2315, 3131, 2287, 3170, 4640, 4048, 3340, 1137,   51, 1036, 2623,\n",
      "        2895,  452, 3707, 2237,  280,  686, 2302, 4035, 3523, 1894, 3792, 3802,\n",
      "        1529, 2657,  297, 3015, 4676, 1724, 2895, 2805, 1352,  947, 3703,   40,\n",
      "         635,  550, 3895,  251, 2690, 1600, 4035, 4374, 2985, 3340, 4197, 2769,\n",
      "        3164, 1308, 4134, 2028, 1969, 3842, 2805, 1749, 4405, 3521, 4449, 4641,\n",
      "        1755, 3941, 2799, 1655, 1684, 4569]), 'labels': tensor([1., 0., 0., 0., 0., 0., 1., 0., 0., 0., 0., 0., 1., 0., 0., 0., 0., 0.,\n",
      "        1., 1., 0., 0., 0., 0., 0., 0., 0., 0., 0., 0., 1., 1., 0., 0., 0., 0.,\n",
      "        0., 0., 0., 0., 0., 0., 1., 1., 0., 0., 0., 0., 0., 0., 0., 0., 0., 0.,\n",
      "        1., 1., 0., 0., 0., 0., 0., 0., 0., 0., 0., 0., 1., 1., 0., 0., 0., 0.,\n",
      "        0., 0., 0., 0., 0., 0., 1., 0., 0., 0., 0., 0., 1., 0., 0., 0., 0., 0.,\n",
      "        1., 0., 0., 0., 0., 0., 1., 0., 0., 0., 0., 0., 1., 1., 0., 0., 0., 0.,\n",
      "        0., 0., 0., 0., 0., 0., 1., 1., 0., 0., 0., 0., 0., 0., 0., 0., 0., 0.,\n",
      "        1., 1., 0., 0., 0., 0., 0., 0., 0., 0., 0., 0., 1., 1., 0., 0., 0., 0.,\n",
      "        0., 0., 0., 0., 0., 0.])}\n"
     ]
    }
   ],
   "source": [
    "for batch_input in val_dataloader:\n",
    "    print(batch_input)\n",
    "    break"
   ]
  },
  {
   "cell_type": "code",
   "execution_count": null,
   "id": "86f8a882-dea1-4bef-b923-023661118d31",
   "metadata": {},
   "outputs": [],
   "source": []
  },
  {
   "cell_type": "code",
   "execution_count": null,
   "id": "eff8da2a-2ab3-476d-8774-786a1f4a41e9",
   "metadata": {},
   "outputs": [],
   "source": []
  }
 ],
 "metadata": {
  "kernelspec": {
   "display_name": "Python 3 (ipykernel)",
   "language": "python",
   "name": "python3"
  },
  "language_info": {
   "codemirror_mode": {
    "name": "ipython",
    "version": 3
   },
   "file_extension": ".py",
   "mimetype": "text/x-python",
   "name": "python",
   "nbconvert_exporter": "python",
   "pygments_lexer": "ipython3",
   "version": "3.11.9"
  }
 },
 "nbformat": 4,
 "nbformat_minor": 5
}
