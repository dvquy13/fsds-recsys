{
 "cells": [
  {
   "cell_type": "code",
   "execution_count": 4,
   "id": "c46fe585-6ca2-4d0e-bc96-f3c5ca71fac4",
   "metadata": {},
   "outputs": [],
   "source": [
    "import json\n",
    "import sys\n",
    "\n",
    "from torch.utils.data import IterableDataset\n",
    "from tqdm.auto import tqdm\n",
    "\n",
    "sys.path.insert(0, \"..\")"
   ]
  },
  {
   "cell_type": "code",
   "execution_count": 5,
   "id": "bb4f0713-b762-4102-83ef-fcea6af1a920",
   "metadata": {},
   "outputs": [],
   "source": [
    "sequences = [\n",
    "    [\"b\", \"c\", \"d\", \"e\", \"a\"],\n",
    "    [\"f\", \"b\", \"b\", \"b\", \"k\"],\n",
    "    [\"g\", \"m\", \"k\", \"l\", \"h\"],\n",
    "    [\"b\", \"c\", \"k\"],\n",
    "    [\"j\", \"i\", \"c\"],\n",
    "]\n",
    "\n",
    "with open(\"sequences.jsonl\", \"w\") as f:\n",
    "    for sequence in sequences:\n",
    "        f.write(json.dumps(sequence) + \"\\n\")"
   ]
  },
  {
   "cell_type": "code",
   "execution_count": 6,
   "id": "dd1098d6-17b4-4ac3-bfa0-e1423c1d509b",
   "metadata": {},
   "outputs": [],
   "source": [
    "class LargeSequenceDataset(IterableDataset):\n",
    "    def __init__(self, file_path):\n",
    "        super(LargeSequenceDataset, self).__init__()\n",
    "        self.file_path = file_path\n",
    "\n",
    "    def __iter__(self):\n",
    "        # Open the file and read line by line\n",
    "        with open(self.file_path, \"r\") as f:\n",
    "            # Wrap the file with tqdm to show progress\n",
    "            for line in tqdm(f, desc=\"Processing lines\"):\n",
    "                # Parse each line into a Python object\n",
    "                sequence = json.loads(line)\n",
    "                yield sequence\n",
    "\n",
    "\n",
    "# Usage\n",
    "train_dataset = LargeSequenceDataset(\"sequences.jsonl\")\n",
    "\n",
    "# Example of loading data with a progress bar\n",
    "# for data in train_dataset:\n",
    "#     print(data)"
   ]
  },
  {
   "cell_type": "code",
   "execution_count": 11,
   "id": "302f10ac-7ca9-4619-9b79-af15b75ebb67",
   "metadata": {},
   "outputs": [
    {
     "data": {
      "application/vnd.jupyter.widget-view+json": {
       "model_id": "71d7b1a24656499aa9452e618145ed71",
       "version_major": 2,
       "version_minor": 0
      },
      "text/plain": [
       "Processing lines: 0it [00:00, ?it/s]"
      ]
     },
     "metadata": {},
     "output_type": "display_data"
    },
    {
     "data": {
      "text/plain": [
       "['b', 'c', 'd', 'e', 'a']"
      ]
     },
     "execution_count": 11,
     "metadata": {},
     "output_type": "execute_result"
    }
   ],
   "source": [
    "train_dataset_iter = iter(train_dataset)\n",
    "next(train_dataset_iter)"
   ]
  },
  {
   "cell_type": "code",
   "execution_count": 12,
   "id": "dad7d6db-3559-4a4d-bb84-e26b7818ede4",
   "metadata": {},
   "outputs": [
    {
     "data": {
      "text/plain": [
       "['f', 'b', 'b', 'b', 'k']"
      ]
     },
     "execution_count": 12,
     "metadata": {},
     "output_type": "execute_result"
    }
   ],
   "source": [
    "next(train_dataset_iter)"
   ]
  },
  {
   "cell_type": "code",
   "execution_count": 13,
   "id": "6e11fe14-f31a-4197-a00d-89c47c56e074",
   "metadata": {},
   "outputs": [
    {
     "data": {
      "text/plain": [
       "['g', 'm', 'k', 'l', 'h']"
      ]
     },
     "execution_count": 13,
     "metadata": {},
     "output_type": "execute_result"
    }
   ],
   "source": [
    "next(train_dataset_iter)"
   ]
  },
  {
   "cell_type": "code",
   "execution_count": null,
   "id": "ea7bec8e-967d-4612-aff3-c047086a7960",
   "metadata": {},
   "outputs": [],
   "source": []
  }
 ],
 "metadata": {
  "kernelspec": {
   "display_name": "Python 3 (ipykernel)",
   "language": "python",
   "name": "python3"
  },
  "language_info": {
   "codemirror_mode": {
    "name": "ipython",
    "version": 3
   },
   "file_extension": ".py",
   "mimetype": "text/x-python",
   "name": "python",
   "nbconvert_exporter": "python",
   "pygments_lexer": "ipython3",
   "version": "3.11.9"
  }
 },
 "nbformat": 4,
 "nbformat_minor": 5
}
