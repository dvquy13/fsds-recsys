{
 "cells": [
  {
   "cell_type": "markdown",
   "id": "da7ca2bc-c381-4671-aa5c-bc332bbe62d7",
   "metadata": {},
   "source": [
    "# Batch pre-computed recommendations"
   ]
  },
  {
   "cell_type": "markdown",
   "id": "fa66026d-a00d-43df-9821-e51b3f41b55f",
   "metadata": {},
   "source": [
    "# Set up"
   ]
  },
  {
   "cell_type": "code",
   "execution_count": 1,
   "id": "1932c46c-e67a-4728-bd5e-79fb04fe8599",
   "metadata": {},
   "outputs": [],
   "source": [
    "%load_ext autoreload\n",
    "%autoreload 2"
   ]
  },
  {
   "cell_type": "code",
   "execution_count": 2,
   "id": "1abe7fbb-499f-4d33-a23e-b953a2ddae86",
   "metadata": {},
   "outputs": [],
   "source": [
    "import json\n",
    "import os\n",
    "import sys\n",
    "\n",
    "import redis\n",
    "from dotenv import load_dotenv\n",
    "from loguru import logger\n",
    "from pydantic import BaseModel\n",
    "from tqdm.auto import tqdm\n",
    "\n",
    "load_dotenv()\n",
    "\n",
    "sys.path.insert(0, \"..\")"
   ]
  },
  {
   "cell_type": "markdown",
   "id": "72b69c6e-0e2a-46ca-8d07-8f9ca76fed5d",
   "metadata": {},
   "source": [
    "# Controller"
   ]
  },
  {
   "cell_type": "code",
   "execution_count": 3,
   "id": "00b37596-b73d-41b2-8e54-0aa2eab87659",
   "metadata": {
    "scrolled": true
   },
   "outputs": [
    {
     "name": "stdout",
     "output_type": "stream",
     "text": [
      "{\n",
      "  \"testing\": false,\n",
      "  \"run_name\": \"003-alias-champion\",\n",
      "  \"notebook_persist_dp\": \"/Users/dvq/frostmourne/fsds/fsds-recsys/chapters/l7/notebooks/data/003-alias-champion\",\n",
      "  \"random_seed\": 41,\n",
      "  \"redis_host\": \"localhost\",\n",
      "  \"redis_port\": 6379,\n",
      "  \"redis_key_prefix\": \"output:i2i:\",\n",
      "  \"batch_recs_fp\": \"/Users/dvq/frostmourne/fsds/fsds-recsys/chapters/l7/notebooks/data/003-alias-champion/batch_recs.jsonl\"\n",
      "}\n"
     ]
    }
   ],
   "source": [
    "class Args(BaseModel):\n",
    "    testing: bool = False\n",
    "    run_name: str = \"003-alias-champion\"\n",
    "    notebook_persist_dp: str = None\n",
    "    random_seed: int = 41\n",
    "\n",
    "    redis_host: str = \"localhost\"\n",
    "    redis_port: int = 6379\n",
    "    redis_key_prefix: str = \"output:i2i:\"\n",
    "\n",
    "    batch_recs_fp: str = \"data/003-alias-champion/batch_recs.jsonl\"\n",
    "\n",
    "    def init(self):\n",
    "        self.notebook_persist_dp = os.path.abspath(f\"data/{self.run_name}\")\n",
    "        os.makedirs(self.notebook_persist_dp, exist_ok=True)\n",
    "        self.batch_recs_fp = f\"{self.notebook_persist_dp}/batch_recs.jsonl\"\n",
    "\n",
    "        return self\n",
    "\n",
    "\n",
    "args = Args().init()\n",
    "\n",
    "print(args.model_dump_json(indent=2))"
   ]
  },
  {
   "cell_type": "markdown",
   "id": "34c2463c-660d-4562-ba3f-88e3ffba521d",
   "metadata": {},
   "source": [
    "# Load batch recs into Redis"
   ]
  },
  {
   "cell_type": "code",
   "execution_count": 4,
   "id": "ee8ea6d2-385c-42c5-a027-cfc09af51ea4",
   "metadata": {},
   "outputs": [],
   "source": [
    "r = redis.Redis(host=args.redis_host, port=args.redis_port, db=0, decode_responses=True)\n",
    "assert (\n",
    "    r.ping()\n",
    "), f\"Redis at {args.redis_host}:{args.port} is not running, please make sure you have started the Redis docker service\""
   ]
  },
  {
   "cell_type": "code",
   "execution_count": 5,
   "id": "a241ad4b-fefa-4bb0-8a17-25dfbae420e0",
   "metadata": {},
   "outputs": [],
   "source": [
    "def store_recommendations(file_path: str):\n",
    "    with open(file_path, \"r\") as file:\n",
    "        for line in tqdm(file):\n",
    "            rec_data = json.loads(line)\n",
    "            target_item = rec_data[\"target_item\"]\n",
    "            key = args.redis_key_prefix + target_item\n",
    "            r.set(\n",
    "                key,\n",
    "                json.dumps(\n",
    "                    {\n",
    "                        \"rec_item_ids\": rec_data[\"rec_item_ids\"],\n",
    "                        \"rec_scores\": rec_data[\"rec_scores\"],\n",
    "                    }\n",
    "                ),\n",
    "            )\n",
    "\n",
    "\n",
    "def get_recommendations(target_item):\n",
    "    key = args.redis_key_prefix + target_item\n",
    "    rec_data = r.get(target_item)\n",
    "    if rec_data:\n",
    "        return json.loads(rec_data)\n",
    "    return None\n",
    "\n",
    "\n",
    "def get_example_keys(count=5):\n",
    "    keys = r.scan_iter(match=args.redis_key_prefix + \"*\", count=count)\n",
    "    output = []\n",
    "    for i, key in enumerate(keys, 1):\n",
    "        output.append(key)\n",
    "        if i >= count:\n",
    "            return output"
   ]
  },
  {
   "cell_type": "code",
   "execution_count": 6,
   "id": "1ac9ee9e-9037-4a79-bc40-11d19c299068",
   "metadata": {},
   "outputs": [
    {
     "name": "stderr",
     "output_type": "stream",
     "text": [
      "\u001b[32m2024-10-04 16:38:17.765\u001b[0m | \u001b[1mINFO    \u001b[0m | \u001b[36m__main__\u001b[0m:\u001b[36m<module>\u001b[0m:\u001b[36m1\u001b[0m - \u001b[1mLoading batch recs output from /Users/dvq/frostmourne/fsds/fsds-recsys/chapters/l7/notebooks/data/003-alias-champion/batch_recs.jsonl...\u001b[0m\n"
     ]
    },
    {
     "data": {
      "application/vnd.jupyter.widget-view+json": {
       "model_id": "3046d66a1e504a748ac529a9f464284a",
       "version_major": 2,
       "version_minor": 0
      },
      "text/plain": [
       "0it [00:00, ?it/s]"
      ]
     },
     "metadata": {},
     "output_type": "display_data"
    }
   ],
   "source": [
    "logger.info(f\"Loading batch recs output from {args.batch_recs_fp}...\")\n",
    "store_recommendations(args.batch_recs_fp)"
   ]
  },
  {
   "cell_type": "code",
   "execution_count": 7,
   "id": "44402a48-6224-4a6c-9a60-0dd7af7a163e",
   "metadata": {
    "scrolled": true
   },
   "outputs": [
    {
     "data": {
      "text/plain": [
       "{'rec_item_ids': ['B001QRJ7VY',\n",
       "  'B0039LME9W',\n",
       "  'B00DOD51UY',\n",
       "  'B000SFK0SO',\n",
       "  'B001E90A60',\n",
       "  'B002I0J8RQ',\n",
       "  'B002D2Y3IS',\n",
       "  'B004WLRR4K',\n",
       "  'B0013B30SY',\n",
       "  'B00KX766ZS',\n",
       "  'B0055VAB30',\n",
       "  'B001EYUQY6',\n",
       "  'B0058T3492',\n",
       "  'B01FSKACPY',\n",
       "  'B002VAWXO8',\n",
       "  'B002SUTB28',\n",
       "  'B004IYY8PW',\n",
       "  'B000R4NFC4',\n",
       "  'B001EYUOHK',\n",
       "  'B006BZ1PCA',\n",
       "  'B00006FWUU',\n",
       "  'B0009SQFHK',\n",
       "  'B00002ST6O',\n",
       "  'B003RS1AIS',\n",
       "  'B014XCWZA8',\n",
       "  'B003LPUBHS',\n",
       "  'B002JTX87C',\n",
       "  'B008U2XJNA',\n",
       "  'B00KUYTOLM',\n",
       "  'B002BS47L2',\n",
       "  'B07X54548H',\n",
       "  'B00439DIZ8',\n",
       "  'B001EYUX4O',\n",
       "  'B001EYUXZI',\n",
       "  'B0055CPCJ2',\n",
       "  'B004TMGZ72',\n",
       "  'B00NBHUWN4',\n",
       "  'B007VYW3US',\n",
       "  'B01GOK2GQU',\n",
       "  'B001KX504C',\n",
       "  'B003QCJLQI',\n",
       "  'B002G9U72Y',\n",
       "  'B003ANMB6A',\n",
       "  'B001EYUT6G',\n",
       "  'B005UUO9CK',\n",
       "  'B00D6LPE2E',\n",
       "  'B07WYX8SKK',\n",
       "  'B07YNKBR7L',\n",
       "  'B00AYABWYE',\n",
       "  'B004HILZX2',\n",
       "  'B0050SYXSW',\n",
       "  'B077SN7QN3',\n",
       "  'B00009KO3S',\n",
       "  'B009AR2CAU',\n",
       "  'B083GM38LQ',\n",
       "  'B01I14IASK',\n",
       "  'B01KBL4ISW',\n",
       "  'B07NKFR9M4',\n",
       "  'B001ELJEAQ',\n",
       "  'B002JTX9XK',\n",
       "  'B09M6YFK7Y',\n",
       "  'B000A5K5MI',\n",
       "  'B00004U8K2',\n",
       "  'B000GA73O0',\n",
       "  'B001EYUTMA',\n",
       "  'B0793DBSBL',\n",
       "  'B08XD54VJY',\n",
       "  'B001E8WRJ4',\n",
       "  'B0000AHOOX',\n",
       "  'B000EPP6UA',\n",
       "  'B08Y5DN2FX',\n",
       "  'B001262U54',\n",
       "  'B00269DXXO',\n",
       "  'B0012IWRC8',\n",
       "  'B0098F1Y3K',\n",
       "  'B003QCIVUU',\n",
       "  'B071YZVS75',\n",
       "  'B001EYUSC6',\n",
       "  'B0792QJ28Y',\n",
       "  'B000GPVUOY',\n",
       "  'B002G9DE24',\n",
       "  'B003UI518U',\n",
       "  'B0056C2LIG',\n",
       "  'B016HQZDCA',\n",
       "  'B0009EHQVI',\n",
       "  'B001EYUUHY',\n",
       "  'B007WRGNQE',\n",
       "  'B009AFLXZM',\n",
       "  'B00FEO58G8',\n",
       "  'B00BQMGW4Y',\n",
       "  'B0065BB7M8',\n",
       "  'B0040UAYI4',\n",
       "  'B0009351PM',\n",
       "  'B000035Y2Q',\n",
       "  'B00LSBNSCC',\n",
       "  'B07X2LWBXB',\n",
       "  'B0002I0UIC',\n",
       "  'B00P1OYN0S',\n",
       "  'B07NR4FXFR',\n",
       "  'B002WSR8BC'],\n",
       " 'rec_scores': [0.9253332018852234,\n",
       "  0.9057856798171997,\n",
       "  0.90118807554245,\n",
       "  0.8981470465660095,\n",
       "  0.8965887427330017,\n",
       "  0.8808544874191284,\n",
       "  0.8800939917564392,\n",
       "  0.8759837746620178,\n",
       "  0.8707101345062256,\n",
       "  0.8703663349151611,\n",
       "  0.8692010641098022,\n",
       "  0.868453860282898,\n",
       "  0.8675525188446045,\n",
       "  0.864555299282074,\n",
       "  0.8603054881095886,\n",
       "  0.859817385673523,\n",
       "  0.8587082028388977,\n",
       "  0.8565429449081421,\n",
       "  0.8553462028503418,\n",
       "  0.8548428416252136,\n",
       "  0.8534958362579346,\n",
       "  0.8510618209838867,\n",
       "  0.8439547419548035,\n",
       "  0.8438548445701599,\n",
       "  0.8421210050582886,\n",
       "  0.8419498205184937,\n",
       "  0.8418865203857422,\n",
       "  0.8408329486846924,\n",
       "  0.8405932784080505,\n",
       "  0.8386120796203613,\n",
       "  0.8372538685798645,\n",
       "  0.8346537947654724,\n",
       "  0.8322460055351257,\n",
       "  0.8301779627799988,\n",
       "  0.8298307657241821,\n",
       "  0.8283106088638306,\n",
       "  0.8268292546272278,\n",
       "  0.8246206045150757,\n",
       "  0.8233726620674133,\n",
       "  0.8217124938964844,\n",
       "  0.8202601671218872,\n",
       "  0.8175162672996521,\n",
       "  0.8155204653739929,\n",
       "  0.8108662366867065,\n",
       "  0.8105863332748413,\n",
       "  0.8053098320960999,\n",
       "  0.8036134839057922,\n",
       "  0.802431046962738,\n",
       "  0.8012959361076355,\n",
       "  0.7981283068656921,\n",
       "  0.7979868054389954,\n",
       "  0.7952200770378113,\n",
       "  0.7927959561347961,\n",
       "  0.7922016978263855,\n",
       "  0.791438639163971,\n",
       "  0.790711522102356,\n",
       "  0.7882156372070312,\n",
       "  0.7873988747596741,\n",
       "  0.7860725522041321,\n",
       "  0.7832720875740051,\n",
       "  0.782462477684021,\n",
       "  0.779542863368988,\n",
       "  0.7788017988204956,\n",
       "  0.777607262134552,\n",
       "  0.7762936949729919,\n",
       "  0.7736318707466125,\n",
       "  0.773573637008667,\n",
       "  0.7706586122512817,\n",
       "  0.7697616815567017,\n",
       "  0.7667365670204163,\n",
       "  0.7664953470230103,\n",
       "  0.7647454738616943,\n",
       "  0.7642630934715271,\n",
       "  0.7634721994400024,\n",
       "  0.7557099461555481,\n",
       "  0.7550146579742432,\n",
       "  0.7522231340408325,\n",
       "  0.7502239346504211,\n",
       "  0.7486012578010559,\n",
       "  0.7421668767929077,\n",
       "  0.7391029000282288,\n",
       "  0.7331240773200989,\n",
       "  0.7261675596237183,\n",
       "  0.725421667098999,\n",
       "  0.7249154448509216,\n",
       "  0.7243309020996094,\n",
       "  0.7227806448936462,\n",
       "  0.7198140621185303,\n",
       "  0.714580237865448,\n",
       "  0.7120240926742554,\n",
       "  0.7091796398162842,\n",
       "  0.7045050263404846,\n",
       "  0.7019670605659485,\n",
       "  0.6868022084236145,\n",
       "  0.6836713552474976,\n",
       "  0.6789066195487976,\n",
       "  0.6730120182037354,\n",
       "  0.6717003583908081,\n",
       "  0.6580458283424377,\n",
       "  0.6399377584457397]}"
      ]
     },
     "execution_count": 7,
     "metadata": {},
     "output_type": "execute_result"
    }
   ],
   "source": [
    "get_recommendations(get_example_keys()[0])"
   ]
  },
  {
   "cell_type": "code",
   "execution_count": null,
   "id": "bf6236cd-b97d-4acb-8714-c918e73766cd",
   "metadata": {},
   "outputs": [],
   "source": []
  }
 ],
 "metadata": {
  "kernelspec": {
   "display_name": "Python 3 (ipykernel)",
   "language": "python",
   "name": "python3"
  },
  "language_info": {
   "codemirror_mode": {
    "name": "ipython",
    "version": 3
   },
   "file_extension": ".py",
   "mimetype": "text/x-python",
   "name": "python",
   "nbconvert_exporter": "python",
   "pygments_lexer": "ipython3",
   "version": "3.11.9"
  }
 },
 "nbformat": 4,
 "nbformat_minor": 5
}
