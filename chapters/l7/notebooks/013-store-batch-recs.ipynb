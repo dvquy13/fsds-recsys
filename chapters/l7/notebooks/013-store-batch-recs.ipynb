{
 "cells": [
  {
   "cell_type": "markdown",
   "id": "da7ca2bc-c381-4671-aa5c-bc332bbe62d7",
   "metadata": {},
   "source": [
    "# Batch pre-computed recommendations"
   ]
  },
  {
   "cell_type": "markdown",
   "id": "fa66026d-a00d-43df-9821-e51b3f41b55f",
   "metadata": {},
   "source": [
    "# Set up"
   ]
  },
  {
   "cell_type": "code",
   "execution_count": 1,
   "id": "1932c46c-e67a-4728-bd5e-79fb04fe8599",
   "metadata": {},
   "outputs": [],
   "source": [
    "%load_ext autoreload\n",
    "%autoreload 2"
   ]
  },
  {
   "cell_type": "code",
   "execution_count": 2,
   "id": "1abe7fbb-499f-4d33-a23e-b953a2ddae86",
   "metadata": {},
   "outputs": [],
   "source": [
    "import json\n",
    "import os\n",
    "import sys\n",
    "\n",
    "import redis\n",
    "from dotenv import load_dotenv\n",
    "from loguru import logger\n",
    "from pydantic import BaseModel\n",
    "from tqdm.auto import tqdm\n",
    "\n",
    "load_dotenv()\n",
    "\n",
    "sys.path.insert(0, \"..\")"
   ]
  },
  {
   "cell_type": "markdown",
   "id": "72b69c6e-0e2a-46ca-8d07-8f9ca76fed5d",
   "metadata": {},
   "source": [
    "# Controller"
   ]
  },
  {
   "cell_type": "code",
   "execution_count": 3,
   "id": "00b37596-b73d-41b2-8e54-0aa2eab87659",
   "metadata": {
    "scrolled": true
   },
   "outputs": [
    {
     "name": "stdout",
     "output_type": "stream",
     "text": [
      "{\n",
      "  \"testing\": false,\n",
      "  \"run_name\": \"003-alias-champion\",\n",
      "  \"notebook_persist_dp\": \"/Users/dvq/frostmourne/fsds/fsds-recsys/chapters/l7/notebooks/data/003-alias-champion\",\n",
      "  \"random_seed\": 41,\n",
      "  \"redis_host\": \"localhost\",\n",
      "  \"redis_port\": 6379,\n",
      "  \"redis_key_prefix\": \"output:i2i:\",\n",
      "  \"batch_recs_fp\": \"/Users/dvq/frostmourne/fsds/fsds-recsys/chapters/l7/notebooks/data/003-alias-champion/batch_recs.jsonl\"\n",
      "}\n"
     ]
    }
   ],
   "source": [
    "class Args(BaseModel):\n",
    "    testing: bool = False\n",
    "    run_name: str = \"003-alias-champion\"\n",
    "    notebook_persist_dp: str = None\n",
    "    random_seed: int = 41\n",
    "\n",
    "    redis_host: str = \"localhost\"\n",
    "    redis_port: int = 6379\n",
    "    redis_key_prefix: str = \"output:i2i:\"\n",
    "\n",
    "    batch_recs_fp: str = \"data/003-alias-champion/batch_recs.jsonl\"\n",
    "\n",
    "    def init(self):\n",
    "        self.notebook_persist_dp = os.path.abspath(f\"data/{self.run_name}\")\n",
    "        os.makedirs(self.notebook_persist_dp, exist_ok=True)\n",
    "        self.batch_recs_fp = f\"{self.notebook_persist_dp}/batch_recs.jsonl\"\n",
    "\n",
    "        return self\n",
    "\n",
    "\n",
    "args = Args().init()\n",
    "\n",
    "print(args.model_dump_json(indent=2))"
   ]
  },
  {
   "cell_type": "markdown",
   "id": "34c2463c-660d-4562-ba3f-88e3ffba521d",
   "metadata": {},
   "source": [
    "# Load batch recs into Redis"
   ]
  },
  {
   "cell_type": "code",
   "execution_count": 4,
   "id": "ee8ea6d2-385c-42c5-a027-cfc09af51ea4",
   "metadata": {},
   "outputs": [],
   "source": [
    "r = redis.Redis(host=args.redis_host, port=args.redis_port, db=0, decode_responses=True)\n",
    "assert (\n",
    "    r.ping()\n",
    "), f\"Redis at {args.redis_host}:{args.port} is not running, please make sure you have started the Redis docker service\""
   ]
  },
  {
   "cell_type": "code",
   "execution_count": 5,
   "id": "a241ad4b-fefa-4bb0-8a17-25dfbae420e0",
   "metadata": {},
   "outputs": [],
   "source": [
    "def store_recommendations(file_path: str):\n",
    "    with open(file_path, \"r\") as file:\n",
    "        for line in tqdm(file):\n",
    "            rec_data = json.loads(line)\n",
    "            target_item = rec_data[\"target_item\"]\n",
    "            key = args.redis_key_prefix + target_item\n",
    "            r.set(\n",
    "                target_item,\n",
    "                json.dumps(\n",
    "                    {\n",
    "                        \"rec_item_ids\": rec_data[\"rec_item_ids\"],\n",
    "                        \"rec_scores\": rec_data[\"rec_scores\"],\n",
    "                    }\n",
    "                ),\n",
    "            )\n",
    "\n",
    "\n",
    "def get_recommendations(target_item):\n",
    "    key = args.redis_key_prefix + target_item\n",
    "    rec_data = r.get(target_item)\n",
    "    if rec_data:\n",
    "        return json.loads(rec_data)\n",
    "    return None\n",
    "\n",
    "\n",
    "def get_example_keys(count=5):\n",
    "    keys = r.scan_iter(match=\"*\", count=count)\n",
    "    output = []\n",
    "    for i, key in enumerate(keys, 1):\n",
    "        output.append(key)\n",
    "        if i >= count:\n",
    "            return output"
   ]
  },
  {
   "cell_type": "code",
   "execution_count": 6,
   "id": "1ac9ee9e-9037-4a79-bc40-11d19c299068",
   "metadata": {},
   "outputs": [
    {
     "name": "stderr",
     "output_type": "stream",
     "text": [
      "\u001b[32m2024-10-04 15:44:26.810\u001b[0m | \u001b[1mINFO    \u001b[0m | \u001b[36m__main__\u001b[0m:\u001b[36m<module>\u001b[0m:\u001b[36m1\u001b[0m - \u001b[1mLoading batch recs output from /Users/dvq/frostmourne/fsds/fsds-recsys/chapters/l7/notebooks/data/003-alias-champion/batch_recs.jsonl...\u001b[0m\n"
     ]
    },
    {
     "data": {
      "application/vnd.jupyter.widget-view+json": {
       "model_id": "bc74a1202645416f8f5bff87dc155fe5",
       "version_major": 2,
       "version_minor": 0
      },
      "text/plain": [
       "0it [00:00, ?it/s]"
      ]
     },
     "metadata": {},
     "output_type": "display_data"
    }
   ],
   "source": [
    "logger.info(f\"Loading batch recs output from {args.batch_recs_fp}...\")\n",
    "store_recommendations(args.batch_recs_fp)"
   ]
  },
  {
   "cell_type": "code",
   "execution_count": 7,
   "id": "44402a48-6224-4a6c-9a60-0dd7af7a163e",
   "metadata": {
    "scrolled": true
   },
   "outputs": [
    {
     "data": {
      "text/plain": [
       "{'rec_item_ids': ['B003YI458I',\n",
       "  'B01953YZ0S',\n",
       "  'B00A1AQJAO',\n",
       "  'B00B5QGJ5S',\n",
       "  'B0BMGHMP23',\n",
       "  'B01GU89H6I',\n",
       "  'B001ELJPPA',\n",
       "  'B002GCFI2K',\n",
       "  'B0041RRSP8',\n",
       "  'B00CF7KVMI',\n",
       "  'B002I0J8RQ',\n",
       "  'B074JFY4JF',\n",
       "  'B073ZNZ2JD',\n",
       "  'B00ZJRHSRW',\n",
       "  'B00K00NCXW',\n",
       "  'B0095P5K8I',\n",
       "  'B004I8EEMU',\n",
       "  'B003O0KICS',\n",
       "  'B00QLWZWMW',\n",
       "  'B01MZ9QJ0Y',\n",
       "  'B08Y5DN2FX',\n",
       "  'B0B8RG61GK',\n",
       "  'B000CQNWH0',\n",
       "  'B07JVQLSLY',\n",
       "  'B08MBPJNRF',\n",
       "  'B01NCX8UUG',\n",
       "  'B000B6MLTG',\n",
       "  'B002FQJUQM',\n",
       "  'B0038MVFYC',\n",
       "  'B004HD55VA',\n",
       "  'B01GOK2GQU',\n",
       "  'B07DK49CCN',\n",
       "  'B004OCK9KG',\n",
       "  'B01MA5XZSG',\n",
       "  'B08TKH1F8B',\n",
       "  'B08XD54VJY',\n",
       "  'B001EYUNV2',\n",
       "  'B009AOFNU4',\n",
       "  'B07DGSD6FZ',\n",
       "  'B0050SYXSW',\n",
       "  'B011I4APRE',\n",
       "  'B000OCXK6A',\n",
       "  'B007VYW3US',\n",
       "  'B06XX6Y26M',\n",
       "  'B002BSC5CU',\n",
       "  'B00FATRKWM',\n",
       "  'B0052WG9II',\n",
       "  'B002BG1PXM',\n",
       "  'B002JTX68I',\n",
       "  'B01AC3ZAGI',\n",
       "  'B0098F1Y3K',\n",
       "  'B073S8K9GC',\n",
       "  'B000J18SR2',\n",
       "  'B086N3DT9H',\n",
       "  'B06XC1WNPT',\n",
       "  'B008M4BNQG',\n",
       "  'B06Y3RB65T',\n",
       "  'B000E36ONK',\n",
       "  'B01GW8ZC2O',\n",
       "  'B00005M8TL',\n",
       "  'B07MFMQZ7M',\n",
       "  'B00TIY4IHK',\n",
       "  'B00DULUI0S',\n",
       "  'B07L4S24SB',\n",
       "  'B09KL8P6DP',\n",
       "  'B07SJVCKQW',\n",
       "  'B001EYUT20',\n",
       "  'B011ERY5IA',\n",
       "  'B005KAK2FI',\n",
       "  'B096ZJPTGW',\n",
       "  'B00MIP0I34',\n",
       "  'B07P27XFP7',\n",
       "  'B07YN82X3B',\n",
       "  'B00B1MXGDO',\n",
       "  'B07LC6LJQJ',\n",
       "  'B0052J8GF0',\n",
       "  'B001E8WRJ4',\n",
       "  'B07H9NSBH3',\n",
       "  'B08LZ5STF6',\n",
       "  'B07HTXK28M',\n",
       "  'B01EAG0VCG',\n",
       "  'B002VFQ2IQ',\n",
       "  'B07BKXDW67',\n",
       "  'B002BSC57U',\n",
       "  'B00475AYUA',\n",
       "  'B00004TBGT',\n",
       "  'B07KXX6VM1',\n",
       "  'B07HYCZ68N',\n",
       "  'B00GZ1H07Y',\n",
       "  'B002WSR8BC',\n",
       "  'B00FEO58G8',\n",
       "  'B0002I0UIC',\n",
       "  'B07TT8G59J',\n",
       "  'B001UAAX60',\n",
       "  'B01N357OCG',\n",
       "  'B00002NDRY',\n",
       "  'B07JJLLFXJ',\n",
       "  'B00AK4QB22',\n",
       "  'B001ELJPJ6',\n",
       "  'B00QV3ZC44'],\n",
       " 'rec_scores': [0.8106441497802734,\n",
       "  0.7996318936347961,\n",
       "  0.7740722894668579,\n",
       "  0.7668156623840332,\n",
       "  0.7627041935920715,\n",
       "  0.7621253132820129,\n",
       "  0.757605791091919,\n",
       "  0.7528223991394043,\n",
       "  0.7521260976791382,\n",
       "  0.7401166558265686,\n",
       "  0.7392318844795227,\n",
       "  0.7389557361602783,\n",
       "  0.7314622402191162,\n",
       "  0.7253210544586182,\n",
       "  0.7243236899375916,\n",
       "  0.7226239442825317,\n",
       "  0.7217686772346497,\n",
       "  0.7211965322494507,\n",
       "  0.7210046648979187,\n",
       "  0.7150241732597351,\n",
       "  0.7142466306686401,\n",
       "  0.7117379903793335,\n",
       "  0.7084020376205444,\n",
       "  0.7068058252334595,\n",
       "  0.705986499786377,\n",
       "  0.7047789692878723,\n",
       "  0.6998292207717896,\n",
       "  0.6965476274490356,\n",
       "  0.6915828585624695,\n",
       "  0.6896002888679504,\n",
       "  0.6837931871414185,\n",
       "  0.6831784248352051,\n",
       "  0.6825485825538635,\n",
       "  0.6809993982315063,\n",
       "  0.6802991032600403,\n",
       "  0.6776829361915588,\n",
       "  0.6716035604476929,\n",
       "  0.671477735042572,\n",
       "  0.6712036728858948,\n",
       "  0.6710960268974304,\n",
       "  0.6704429388046265,\n",
       "  0.6693835854530334,\n",
       "  0.6689194440841675,\n",
       "  0.665671169757843,\n",
       "  0.6654874682426453,\n",
       "  0.6632898449897766,\n",
       "  0.6621466875076294,\n",
       "  0.659900426864624,\n",
       "  0.6584310531616211,\n",
       "  0.6555455923080444,\n",
       "  0.649714469909668,\n",
       "  0.6471901535987854,\n",
       "  0.6453728675842285,\n",
       "  0.6451992988586426,\n",
       "  0.6450881958007812,\n",
       "  0.6356426477432251,\n",
       "  0.6346918344497681,\n",
       "  0.6341548562049866,\n",
       "  0.6338499188423157,\n",
       "  0.6322078108787537,\n",
       "  0.6303609013557434,\n",
       "  0.6254298686981201,\n",
       "  0.620221734046936,\n",
       "  0.6189300417900085,\n",
       "  0.6168732643127441,\n",
       "  0.6165614128112793,\n",
       "  0.6159236431121826,\n",
       "  0.6113815307617188,\n",
       "  0.6102175712585449,\n",
       "  0.6102026700973511,\n",
       "  0.6080901622772217,\n",
       "  0.600993275642395,\n",
       "  0.5994949340820312,\n",
       "  0.5994016528129578,\n",
       "  0.599387526512146,\n",
       "  0.5993722677230835,\n",
       "  0.598555862903595,\n",
       "  0.5977123379707336,\n",
       "  0.5957050919532776,\n",
       "  0.5952504277229309,\n",
       "  0.594910740852356,\n",
       "  0.5948630571365356,\n",
       "  0.5919389128684998,\n",
       "  0.5902361273765564,\n",
       "  0.5858598351478577,\n",
       "  0.5832148790359497,\n",
       "  0.5820531845092773,\n",
       "  0.5819623470306396,\n",
       "  0.563101053237915,\n",
       "  0.5612252354621887,\n",
       "  0.5592648983001709,\n",
       "  0.5580548644065857,\n",
       "  0.5546320080757141,\n",
       "  0.5509310960769653,\n",
       "  0.549667477607727,\n",
       "  0.5484644770622253,\n",
       "  0.5435411334037781,\n",
       "  0.5405538082122803,\n",
       "  0.5363529324531555,\n",
       "  0.5353600382804871]}"
      ]
     },
     "execution_count": 7,
     "metadata": {},
     "output_type": "execute_result"
    }
   ],
   "source": [
    "get_recommendations(get_example_keys()[0])"
   ]
  },
  {
   "cell_type": "code",
   "execution_count": null,
   "id": "3f92d195-355f-41db-9638-4cd38a739065",
   "metadata": {},
   "outputs": [],
   "source": []
  }
 ],
 "metadata": {
  "kernelspec": {
   "display_name": "Python 3 (ipykernel)",
   "language": "python",
   "name": "python3"
  },
  "language_info": {
   "codemirror_mode": {
    "name": "ipython",
    "version": 3
   },
   "file_extension": ".py",
   "mimetype": "text/x-python",
   "name": "python",
   "nbconvert_exporter": "python",
   "pygments_lexer": "ipython3",
   "version": "3.11.9"
  }
 },
 "nbformat": 4,
 "nbformat_minor": 5
}
