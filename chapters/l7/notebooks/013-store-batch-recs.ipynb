{
 "cells": [
  {
   "cell_type": "markdown",
   "id": "da7ca2bc-c381-4671-aa5c-bc332bbe62d7",
   "metadata": {},
   "source": [
    "# Batch pre-computed recommendations"
   ]
  },
  {
   "cell_type": "markdown",
   "id": "fa66026d-a00d-43df-9821-e51b3f41b55f",
   "metadata": {},
   "source": [
    "# Set up"
   ]
  },
  {
   "cell_type": "code",
   "execution_count": 1,
   "id": "1932c46c-e67a-4728-bd5e-79fb04fe8599",
   "metadata": {},
   "outputs": [],
   "source": [
    "%load_ext autoreload\n",
    "%autoreload 2"
   ]
  },
  {
   "cell_type": "code",
   "execution_count": 2,
   "id": "1abe7fbb-499f-4d33-a23e-b953a2ddae86",
   "metadata": {},
   "outputs": [],
   "source": [
    "import json\n",
    "import os\n",
    "import sys\n",
    "\n",
    "import redis\n",
    "from dotenv import load_dotenv\n",
    "from loguru import logger\n",
    "from pydantic import BaseModel\n",
    "from tqdm.auto import tqdm\n",
    "\n",
    "load_dotenv()\n",
    "\n",
    "sys.path.insert(0, \"..\")"
   ]
  },
  {
   "cell_type": "markdown",
   "id": "72b69c6e-0e2a-46ca-8d07-8f9ca76fed5d",
   "metadata": {},
   "source": [
    "# Controller"
   ]
  },
  {
   "cell_type": "code",
   "execution_count": 3,
   "id": "00b37596-b73d-41b2-8e54-0aa2eab87659",
   "metadata": {
    "scrolled": true
   },
   "outputs": [
    {
     "name": "stdout",
     "output_type": "stream",
     "text": [
      "{\n",
      "  \"testing\": false,\n",
      "  \"run_name\": \"005-refactor\",\n",
      "  \"notebook_persist_dp\": \"/Users/dvq/frostmourne/fsds/fsds-recsys/chapters/l7/notebooks/data/005-refactor\",\n",
      "  \"random_seed\": 41,\n",
      "  \"redis_host\": \"localhost\",\n",
      "  \"redis_port\": 6379,\n",
      "  \"redis_key_prefix\": \"output:i2i:\",\n",
      "  \"batch_recs_fp\": \"/Users/dvq/frostmourne/fsds/fsds-recsys/chapters/l7/notebooks/data/005-refactor/batch_recs.jsonl\"\n",
      "}\n"
     ]
    }
   ],
   "source": [
    "class Args(BaseModel):\n",
    "    testing: bool = False\n",
    "    run_name: str = \"005-refactor\"\n",
    "    notebook_persist_dp: str = None\n",
    "    random_seed: int = 41\n",
    "\n",
    "    redis_host: str = \"localhost\"\n",
    "    redis_port: int = 6379\n",
    "    redis_key_prefix: str = \"output:i2i:\"\n",
    "\n",
    "    batch_recs_fp: str = \"data/003-alias-champion/batch_recs.jsonl\"\n",
    "\n",
    "    def init(self):\n",
    "        self.notebook_persist_dp = os.path.abspath(f\"data/{self.run_name}\")\n",
    "        os.makedirs(self.notebook_persist_dp, exist_ok=True)\n",
    "        self.batch_recs_fp = f\"{self.notebook_persist_dp}/batch_recs.jsonl\"\n",
    "\n",
    "        return self\n",
    "\n",
    "\n",
    "args = Args().init()\n",
    "\n",
    "print(args.model_dump_json(indent=2))"
   ]
  },
  {
   "cell_type": "markdown",
   "id": "34c2463c-660d-4562-ba3f-88e3ffba521d",
   "metadata": {},
   "source": [
    "# Load batch recs into Redis"
   ]
  },
  {
   "cell_type": "code",
   "execution_count": 4,
   "id": "ee8ea6d2-385c-42c5-a027-cfc09af51ea4",
   "metadata": {},
   "outputs": [],
   "source": [
    "r = redis.Redis(host=args.redis_host, port=args.redis_port, db=0, decode_responses=True)\n",
    "assert (\n",
    "    r.ping()\n",
    "), f\"Redis at {args.redis_host}:{args.port} is not running, please make sure you have started the Redis docker service\""
   ]
  },
  {
   "cell_type": "code",
   "execution_count": 5,
   "id": "a241ad4b-fefa-4bb0-8a17-25dfbae420e0",
   "metadata": {},
   "outputs": [],
   "source": [
    "def store_recommendations(file_path: str):\n",
    "    with open(file_path, \"r\") as file:\n",
    "        for line in tqdm(file):\n",
    "            rec_data = json.loads(line)\n",
    "            target_item = rec_data[\"target_item\"]\n",
    "            key = args.redis_key_prefix + target_item\n",
    "            r.set(\n",
    "                key,\n",
    "                json.dumps(\n",
    "                    {\n",
    "                        \"rec_item_ids\": rec_data[\"rec_item_ids\"],\n",
    "                        \"rec_scores\": rec_data[\"rec_scores\"],\n",
    "                    }\n",
    "                ),\n",
    "            )\n",
    "\n",
    "\n",
    "def get_recommendations(target_item):\n",
    "    key = args.redis_key_prefix + target_item\n",
    "    rec_data = r.get(target_item)\n",
    "    if rec_data:\n",
    "        return json.loads(rec_data)\n",
    "    return None\n",
    "\n",
    "\n",
    "def get_example_keys(count=5):\n",
    "    keys = r.scan_iter(match=args.redis_key_prefix + \"*\", count=count)\n",
    "    output = []\n",
    "    for i, key in enumerate(keys, 1):\n",
    "        output.append(key)\n",
    "        if i >= count:\n",
    "            return output"
   ]
  },
  {
   "cell_type": "code",
   "execution_count": 6,
   "id": "1ac9ee9e-9037-4a79-bc40-11d19c299068",
   "metadata": {},
   "outputs": [
    {
     "name": "stderr",
     "output_type": "stream",
     "text": [
      "\u001b[32m2024-10-07 21:20:45.063\u001b[0m | \u001b[1mINFO    \u001b[0m | \u001b[36m__main__\u001b[0m:\u001b[36m<module>\u001b[0m:\u001b[36m1\u001b[0m - \u001b[1mLoading batch recs output from /Users/dvq/frostmourne/fsds/fsds-recsys/chapters/l7/notebooks/data/005-refactor/batch_recs.jsonl...\u001b[0m\n"
     ]
    },
    {
     "data": {
      "application/vnd.jupyter.widget-view+json": {
       "model_id": "cc6682a08eb640c286a45aa682dbd22e",
       "version_major": 2,
       "version_minor": 0
      },
      "text/plain": [
       "0it [00:00, ?it/s]"
      ]
     },
     "metadata": {},
     "output_type": "display_data"
    }
   ],
   "source": [
    "logger.info(f\"Loading batch recs output from {args.batch_recs_fp}...\")\n",
    "store_recommendations(args.batch_recs_fp)"
   ]
  },
  {
   "cell_type": "code",
   "execution_count": 7,
   "id": "44402a48-6224-4a6c-9a60-0dd7af7a163e",
   "metadata": {
    "scrolled": true
   },
   "outputs": [
    {
     "data": {
      "text/plain": [
       "{'rec_item_ids': ['B00DUARDFC',\n",
       "  'B00PZ81VVE',\n",
       "  'B00LSFRY3C',\n",
       "  'B0147ET0ZA',\n",
       "  'B00A7VK16A',\n",
       "  'B00NFXOQW2',\n",
       "  'B001PIY49O',\n",
       "  'B01MT1DCIV',\n",
       "  'B00A8306C6',\n",
       "  'B00HS5FETM',\n",
       "  'B015PXH9S2',\n",
       "  'B00HRKE1SI',\n",
       "  'B011L4D3BG',\n",
       "  'B00IPTUJ8G',\n",
       "  'B00OBZNI0O',\n",
       "  'B0C37RBK2R',\n",
       "  'B01LW6SS1X',\n",
       "  'B001I75UIQ',\n",
       "  'B01C48EA1A',\n",
       "  'B00J5C3SXK',\n",
       "  'B00QKLN4OW',\n",
       "  'B00H89IBFM',\n",
       "  'B079ZPD1BV',\n",
       "  'B00COAGPG2',\n",
       "  'B00TL7LUHA',\n",
       "  'B002W8SBIG',\n",
       "  'B00B1N07QM',\n",
       "  'B07YNHSV65',\n",
       "  'B00VMB5VCS',\n",
       "  'B00T8F5VKW',\n",
       "  'B073SRS2RW',\n",
       "  'B077W2Z2SF',\n",
       "  'B073ZR63P8',\n",
       "  'B00FATRKWM',\n",
       "  'B089GHV1C7',\n",
       "  'B00UBL0ZQC',\n",
       "  'B071FSRJXV',\n",
       "  'B005EOOTHW',\n",
       "  'B00AIALGZK',\n",
       "  'B01D30Q868',\n",
       "  'B0BQGYB74T',\n",
       "  'B00NET618O',\n",
       "  'B09K3ZY6BR',\n",
       "  'B07PDSWRTD',\n",
       "  'B00PGLG79G',\n",
       "  'B002I0JNFI',\n",
       "  'B0001Q5SG4',\n",
       "  'B01GW8ZC2O',\n",
       "  'B0794W1LWG',\n",
       "  'B0163H5F30',\n",
       "  'B0BJ6VST99',\n",
       "  'B07B416X7V',\n",
       "  'B0BF1BQ3D2',\n",
       "  'B01KX8ETK0',\n",
       "  'B07DGSD6FZ',\n",
       "  'B000HAWCFE',\n",
       "  'B006VR65D2',\n",
       "  'B000X37732',\n",
       "  'B00ZKZY04M',\n",
       "  'B07JW5HRN7',\n",
       "  'B071YZVS75',\n",
       "  'B001EYUU6A',\n",
       "  'B01GHFI95O',\n",
       "  'B000FNA2QY',\n",
       "  'B002FQJUQ2',\n",
       "  'B00GY4OB8S',\n",
       "  'B00FYIXMHQ',\n",
       "  'B00OC1J73Y',\n",
       "  'B0711ZH7GX',\n",
       "  'B00F6YISHM',\n",
       "  'B00QI2WPJ8',\n",
       "  'B00B08REVE',\n",
       "  'B005L38QHA',\n",
       "  'B01JYYWL7C',\n",
       "  'B002ISCORE',\n",
       "  'B07D8FFMKK',\n",
       "  'B008J360HC',\n",
       "  'B003751T6O',\n",
       "  'B00X8X55I8',\n",
       "  'B00005RL4E',\n",
       "  'B01EL7UUV6',\n",
       "  'B006ULENFG',\n",
       "  'B00IQCRKQ6',\n",
       "  'B00BCEK2LU',\n",
       "  'B07NVWD9HR',\n",
       "  'B000P297JS',\n",
       "  'B000CPKIT6',\n",
       "  'B07TV96Q4Z',\n",
       "  'B06XY715R3',\n",
       "  'B07NR4FXFR',\n",
       "  'B07T64WW7P',\n",
       "  'B00269DXXO',\n",
       "  'B00AK4QB22',\n",
       "  'B06Y3RB65T',\n",
       "  'B0130LNMKU',\n",
       "  'B01GVE4ZXQ',\n",
       "  'B0049H2W74',\n",
       "  'B082R1GMV2',\n",
       "  'B0065BB7M8',\n",
       "  'B01KUP6K3U'],\n",
       " 'rec_scores': [0.7748979926109314,\n",
       "  0.7631697058677673,\n",
       "  0.7621596455574036,\n",
       "  0.7535479068756104,\n",
       "  0.7494490146636963,\n",
       "  0.7345344424247742,\n",
       "  0.7293796539306641,\n",
       "  0.7219007015228271,\n",
       "  0.7200723886489868,\n",
       "  0.7167138457298279,\n",
       "  0.7083002328872681,\n",
       "  0.7048987746238708,\n",
       "  0.7048288583755493,\n",
       "  0.7024444341659546,\n",
       "  0.7013562321662903,\n",
       "  0.6937249898910522,\n",
       "  0.6866716146469116,\n",
       "  0.6798126697540283,\n",
       "  0.6777371764183044,\n",
       "  0.6773034930229187,\n",
       "  0.674630343914032,\n",
       "  0.6702183485031128,\n",
       "  0.667752742767334,\n",
       "  0.6619113683700562,\n",
       "  0.656395435333252,\n",
       "  0.6522161364555359,\n",
       "  0.6495729088783264,\n",
       "  0.6490381360054016,\n",
       "  0.6486221551895142,\n",
       "  0.6433067917823792,\n",
       "  0.6429737210273743,\n",
       "  0.6416861414909363,\n",
       "  0.6411895155906677,\n",
       "  0.6395647525787354,\n",
       "  0.6363545060157776,\n",
       "  0.6354607343673706,\n",
       "  0.6334953308105469,\n",
       "  0.6321882009506226,\n",
       "  0.6318075060844421,\n",
       "  0.6316341161727905,\n",
       "  0.6311658620834351,\n",
       "  0.6292001008987427,\n",
       "  0.6277874708175659,\n",
       "  0.6275219917297363,\n",
       "  0.6260434985160828,\n",
       "  0.6256392002105713,\n",
       "  0.6233548521995544,\n",
       "  0.6227716207504272,\n",
       "  0.6174088716506958,\n",
       "  0.6156734228134155,\n",
       "  0.6135461926460266,\n",
       "  0.6135171055793762,\n",
       "  0.6090785264968872,\n",
       "  0.6060828566551208,\n",
       "  0.6059499979019165,\n",
       "  0.6048154234886169,\n",
       "  0.6034212708473206,\n",
       "  0.5925140976905823,\n",
       "  0.5798639059066772,\n",
       "  0.5791216492652893,\n",
       "  0.5757410526275635,\n",
       "  0.575738251209259,\n",
       "  0.5735570788383484,\n",
       "  0.5734878778457642,\n",
       "  0.569696307182312,\n",
       "  0.5691245794296265,\n",
       "  0.5670809745788574,\n",
       "  0.56400465965271,\n",
       "  0.5551633238792419,\n",
       "  0.5546727180480957,\n",
       "  0.5530378222465515,\n",
       "  0.5524526238441467,\n",
       "  0.5517250299453735,\n",
       "  0.5466066598892212,\n",
       "  0.5453230142593384,\n",
       "  0.5445243120193481,\n",
       "  0.5378961563110352,\n",
       "  0.5367118716239929,\n",
       "  0.5346415042877197,\n",
       "  0.5342001914978027,\n",
       "  0.5313766598701477,\n",
       "  0.5296783447265625,\n",
       "  0.5295394062995911,\n",
       "  0.5273913145065308,\n",
       "  0.5242300033569336,\n",
       "  0.5205581188201904,\n",
       "  0.5185999274253845,\n",
       "  0.5143795609474182,\n",
       "  0.5063555240631104,\n",
       "  0.5059554576873779,\n",
       "  0.5027220845222473,\n",
       "  0.5004274249076843,\n",
       "  0.4990141689777374,\n",
       "  0.49277666211128235,\n",
       "  0.48955070972442627,\n",
       "  0.4873915910720825,\n",
       "  0.4872537851333618,\n",
       "  0.47836124897003174,\n",
       "  0.4655265510082245,\n",
       "  0.4483918845653534]}"
      ]
     },
     "execution_count": 7,
     "metadata": {},
     "output_type": "execute_result"
    }
   ],
   "source": [
    "get_recommendations(get_example_keys()[0])"
   ]
  },
  {
   "cell_type": "code",
   "execution_count": null,
   "id": "bf6236cd-b97d-4acb-8714-c918e73766cd",
   "metadata": {},
   "outputs": [],
   "source": []
  }
 ],
 "metadata": {
  "kernelspec": {
   "display_name": "Python 3 (ipykernel)",
   "language": "python",
   "name": "python3"
  },
  "language_info": {
   "codemirror_mode": {
    "name": "ipython",
    "version": 3
   },
   "file_extension": ".py",
   "mimetype": "text/x-python",
   "name": "python",
   "nbconvert_exporter": "python",
   "pygments_lexer": "ipython3",
   "version": "3.11.9"
  }
 },
 "nbformat": 4,
 "nbformat_minor": 5
}
