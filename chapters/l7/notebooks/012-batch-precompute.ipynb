{
 "cells": [
  {
   "cell_type": "markdown",
   "id": "bfd48465-69da-444e-88e5-1a6e5b2ab7ba",
   "metadata": {},
   "source": [
    "# Batch pre-computed recommendations"
   ]
  },
  {
   "cell_type": "markdown",
   "id": "c33ddf23-fa66-4dec-ba18-5fed4da95ac3",
   "metadata": {},
   "source": [
    "# Set up"
   ]
  },
  {
   "cell_type": "code",
   "execution_count": 1,
   "id": "1b5115a4-412c-4b98-90ed-7897bb7faea2",
   "metadata": {},
   "outputs": [],
   "source": [
    "%load_ext autoreload\n",
    "%autoreload 2"
   ]
  },
  {
   "cell_type": "code",
   "execution_count": 2,
   "id": "a2514682-a204-4c73-9080-9c754000c58e",
   "metadata": {},
   "outputs": [],
   "source": [
    "import json\n",
    "import os\n",
    "import sys\n",
    "\n",
    "import mlflow\n",
    "import torch\n",
    "from dotenv import load_dotenv\n",
    "from loguru import logger\n",
    "from pydantic import BaseModel\n",
    "from tqdm.auto import tqdm\n",
    "\n",
    "load_dotenv()\n",
    "\n",
    "sys.path.insert(0, \"..\")\n",
    "\n",
    "from src.vector_search import FaissNN"
   ]
  },
  {
   "cell_type": "markdown",
   "id": "b8c55119-43d0-43b1-9959-83d6cb1f7c83",
   "metadata": {},
   "source": [
    "# Controller"
   ]
  },
  {
   "cell_type": "code",
   "execution_count": 94,
   "id": "88d96f2c-b77a-4187-9702-abfc5414dc21",
   "metadata": {
    "scrolled": true
   },
   "outputs": [
    {
     "name": "stdout",
     "output_type": "stream",
     "text": [
      "{\n",
      "  \"testing\": false,\n",
      "  \"log_to_mlflow\": true,\n",
      "  \"run_name\": \"003-alias-champion\",\n",
      "  \"notebook_persist_dp\": \"/Users/dvq/frostmourne/fsds/fsds-recsys/chapters/l7/notebooks/data/003-alias-champion\",\n",
      "  \"random_seed\": 41,\n",
      "  \"device\": null,\n",
      "  \"top_K\": 100,\n",
      "  \"top_k\": 10,\n",
      "  \"max_epochs\": 1,\n",
      "  \"batch_size\": 128,\n",
      "  \"num_negative_samples\": 2,\n",
      "  \"window_size\": 1,\n",
      "  \"embedding_dim\": 128,\n",
      "  \"early_stopping_patience\": 5,\n",
      "  \"learning_rate\": 0.01,\n",
      "  \"l2_reg\": 0.00001,\n",
      "  \"mlf_model_name\": \"item2vec\",\n",
      "  \"min_roc_auc\": 0.7,\n",
      "  \"batch_recs_fp\": \"/Users/dvq/frostmourne/fsds/fsds-recsys/chapters/l7/notebooks/data/003-alias-champion/batch_recs.jsonl\"\n",
      "}\n"
     ]
    }
   ],
   "source": [
    "class Args(BaseModel):\n",
    "    testing: bool = False\n",
    "    run_name: str = \"003-alias-champion\"\n",
    "    notebook_persist_dp: str = None\n",
    "    random_seed: int = 41\n",
    "    device: str = None\n",
    "\n",
    "    top_K: int = 100\n",
    "    top_k: int = 10\n",
    "\n",
    "    embedding_dim: int = 128\n",
    "\n",
    "    mlf_model_name: str = \"item2vec\"\n",
    "\n",
    "    batch_recs_fp: str = None\n",
    "\n",
    "    def init(self):\n",
    "        self.notebook_persist_dp = os.path.abspath(f\"data/{self.run_name}\")\n",
    "        os.makedirs(self.notebook_persist_dp, exist_ok=True)\n",
    "        self.batch_recs_fp = f\"{self.notebook_persist_dp}/batch_recs.jsonl\"\n",
    "\n",
    "        return self\n",
    "\n",
    "\n",
    "args = Args().init()\n",
    "\n",
    "print(args.model_dump_json(indent=2))"
   ]
  },
  {
   "cell_type": "markdown",
   "id": "dcaf8759-f561-44e4-bfbf-5d4851755076",
   "metadata": {},
   "source": [
    "# Load model"
   ]
  },
  {
   "cell_type": "code",
   "execution_count": 4,
   "id": "c8baa457-d600-4e44-99b4-a37baf06357d",
   "metadata": {},
   "outputs": [],
   "source": [
    "mlf_client = mlflow.MlflowClient()"
   ]
  },
  {
   "cell_type": "code",
   "execution_count": 5,
   "id": "5f912672-f730-4555-b9ad-cb1da6cb3558",
   "metadata": {
    "scrolled": true
   },
   "outputs": [],
   "source": [
    "model = mlflow.pyfunc.load_model(model_uri=f\"models:/{args.mlf_model_name}@champion\")"
   ]
  },
  {
   "cell_type": "code",
   "execution_count": 6,
   "id": "ed8b1e20-4475-44ea-8c39-7ef21b2f7832",
   "metadata": {
    "scrolled": true
   },
   "outputs": [],
   "source": [
    "run_id = model.metadata.run_id\n",
    "run_info = mlf_client.get_run(run_id).info\n",
    "artifact_uri = run_info.artifact_uri"
   ]
  },
  {
   "cell_type": "code",
   "execution_count": 7,
   "id": "5d1efb31-5261-4cd8-b128-3ede0ab4329b",
   "metadata": {
    "scrolled": true
   },
   "outputs": [
    {
     "data": {
      "text/plain": [
       "{'item_1_ids': ['B00DNWHEVU'], 'item_2_ids': ['B00IUGYTRQ']}"
      ]
     },
     "execution_count": 7,
     "metadata": {},
     "output_type": "execute_result"
    }
   ],
   "source": [
    "sample_input = model.metadata.load_input_example(f\"{artifact_uri}/inferrer\")\n",
    "sample_input"
   ]
  },
  {
   "cell_type": "code",
   "execution_count": 8,
   "id": "b25b2cf9-1f32-4cc5-b18a-f88800e0ef5b",
   "metadata": {},
   "outputs": [
    {
     "data": {
      "text/plain": [
       "array([0.57443655], dtype=float32)"
      ]
     },
     "execution_count": 8,
     "metadata": {},
     "output_type": "execute_result"
    }
   ],
   "source": [
    "prediction = model.predict(sample_input)\n",
    "prediction"
   ]
  },
  {
   "cell_type": "markdown",
   "id": "c9598fde-95fe-4456-b96c-c36d80414ace",
   "metadata": {},
   "source": [
    "# Batch computing"
   ]
  },
  {
   "cell_type": "markdown",
   "id": "b520e4e5-d4ff-4546-a8eb-a5fffdbde264",
   "metadata": {},
   "source": [
    "## ANN Search"
   ]
  },
  {
   "cell_type": "code",
   "execution_count": 39,
   "id": "927f5967-afef-4cb6-b09c-4525fd968b77",
   "metadata": {},
   "outputs": [
    {
     "data": {
      "text/plain": [
       "tensor([ 0.1063,  0.0637, -0.2781, -0.2211,  0.3249, -0.0590,  0.2670,  0.0403,\n",
       "        -0.0407,  0.0406, -0.2914, -0.0803,  0.0965, -0.2045, -0.0182,  0.1387,\n",
       "        -0.0026, -0.1545,  0.1664, -0.2552,  0.1066,  0.2608,  0.0934, -0.1265,\n",
       "         0.0078, -0.0083,  0.2949,  0.2016,  0.3150,  0.2007,  0.0396, -0.6107,\n",
       "         0.1848, -0.1913, -0.0131,  0.2446,  0.1231,  0.2834, -0.4713,  0.1334,\n",
       "         0.0109, -0.1116,  0.3186, -0.0880,  0.3027,  0.0369,  0.0780,  0.2961,\n",
       "         0.2274, -0.2656, -0.0009,  0.0592,  0.0843, -0.3508,  0.1197, -0.2257,\n",
       "         0.0079,  0.0541,  0.2524,  0.0653,  0.0649,  0.2002, -0.1778, -0.1682,\n",
       "        -0.2628,  0.1615,  0.0328,  0.1523,  0.4343, -0.2719, -0.1512, -0.1011,\n",
       "        -0.1519,  0.3563, -0.1717, -0.2401,  0.0619,  0.1834, -0.1960,  0.1252,\n",
       "        -0.1073, -0.1228,  0.4250,  0.1358,  0.2330, -0.2585, -0.0255,  0.0568,\n",
       "         0.1532, -0.3840,  0.0411, -0.2388, -0.1980,  0.1239,  0.0210, -0.0583,\n",
       "        -0.1420, -0.3904,  0.1271, -0.0051,  0.3795,  0.2515, -0.0027, -0.1347,\n",
       "         0.2237,  0.2780,  0.0704, -0.1697, -0.0053,  0.1256, -0.0737, -0.0599,\n",
       "         0.1851,  0.2378, -0.0934,  0.0184,  0.0994,  0.2722,  0.3588, -0.3166,\n",
       "         0.0372,  0.1618,  0.0495,  0.2018, -0.0667,  0.4887,  0.1432,  0.1482],\n",
       "       grad_fn=<EmbeddingBackward0>)"
      ]
     },
     "execution_count": 39,
     "metadata": {},
     "output_type": "execute_result"
    }
   ],
   "source": [
    "skipgram_model = model.unwrap_python_model().model\n",
    "embedding_0 = skipgram_model.embeddings(torch.tensor(0))\n",
    "embedding_dim = embedding_0.size()[0]\n",
    "embedding_0"
   ]
  },
  {
   "cell_type": "code",
   "execution_count": 51,
   "id": "c20eeb2b-69d9-4397-9af1-a4ad270af731",
   "metadata": {
    "scrolled": true
   },
   "outputs": [
    {
     "data": {
      "text/plain": [
       "[0, 1, 2, 3, 4]"
      ]
     },
     "execution_count": 51,
     "metadata": {},
     "output_type": "execute_result"
    }
   ],
   "source": [
    "id_mapping = model.unwrap_python_model().id_mapping\n",
    "all_items = list(id_mapping[\"id_to_idx\"].values())\n",
    "all_items[:5]"
   ]
  },
  {
   "cell_type": "code",
   "execution_count": 44,
   "id": "abcc2d78-0da2-4ece-acc8-7bc860aa27da",
   "metadata": {},
   "outputs": [
    {
     "data": {
      "text/plain": [
       "array([[ 0.10632942,  0.06370179, -0.27810845, ...,  0.48868826,\n",
       "         0.14318596,  0.14822829],\n",
       "       [-0.1683319 ,  0.21401414,  0.22829568, ...,  0.06086319,\n",
       "         0.13857512,  0.10889213],\n",
       "       [ 0.48648486, -0.10663053, -0.20740558, ...,  0.03420575,\n",
       "        -0.16901188,  0.05877741],\n",
       "       ...,\n",
       "       [ 0.01539592, -0.13812037, -0.11617418, ..., -0.26600996,\n",
       "        -0.10895204,  0.05188315],\n",
       "       [-0.09828333,  0.21711013, -0.09971067, ...,  0.1983842 ,\n",
       "        -0.08722479,  0.0689928 ],\n",
       "       [ 0.03498199,  0.285267  ,  0.16006969, ...,  0.0856421 ,\n",
       "        -0.00720352,  0.22712462]], dtype=float32)"
      ]
     },
     "execution_count": 44,
     "metadata": {},
     "output_type": "execute_result"
    }
   ],
   "source": [
    "embeddings = skipgram_model.embeddings(torch.tensor(all_items)).detach().numpy()\n",
    "embeddings"
   ]
  },
  {
   "cell_type": "code",
   "execution_count": null,
   "id": "cff4e7cb-1854-466e-8c16-6f418a338b5d",
   "metadata": {},
   "outputs": [],
   "source": [
    "nn_search = FaissNN(\n",
    "    embedding_dim=embedding_dim,\n",
    "    use_gpu=False,  # TODO: Install faiss-gpu on Mac to make use of GPU\n",
    "    metric=\"L2\",\n",
    ")\n",
    "\n",
    "nn_search.add_embeddings(embeddings)"
   ]
  },
  {
   "cell_type": "code",
   "execution_count": null,
   "id": "3e3f0e73-4caa-4d5a-ade3-6781461f3046",
   "metadata": {},
   "outputs": [
    {
     "name": "stdout",
     "output_type": "stream",
     "text": [
      "Nearest neighbors (indices): [[   0  204 3933 2045 3692 3540  847  733 3220 3342]]\n",
      "Distances: [[0.        4.6188965 4.627966  4.911262  4.9127235 4.9812317 5.091267\n",
      "  5.0969453 5.1657567 5.252323 ]]\n"
     ]
    }
   ],
   "source": [
    "item_indice = 0\n",
    "\n",
    "query_embedding = embeddings[item_indice]\n",
    "distances, indices = nn_search.search(query_embedding, k=args.top_k)\n",
    "\n",
    "print(\"Nearest neighbors (indices):\", indices)\n",
    "print(\"Distances:\", distances)\n",
    "\n",
    "skipgram_model(torch.tensor([item_indice] * args.top_k), torch.tensor(indices[0]))"
   ]
  },
  {
   "cell_type": "markdown",
   "id": "eb07aada-ae45-4f06-a82f-fd07b3279d52",
   "metadata": {},
   "source": [
    "## Predict for all items"
   ]
  },
  {
   "cell_type": "code",
   "execution_count": 90,
   "id": "f2357958-afb5-4de7-85f0-cbca9567c15f",
   "metadata": {
    "scrolled": true
   },
   "outputs": [
    {
     "data": {
      "application/vnd.jupyter.widget-view+json": {
       "model_id": "d5cd828a045c4f7c8ce47f318534a8c9",
       "version_major": 2,
       "version_minor": 0
      },
      "text/plain": [
       "  0%|          | 0/4630 [00:00<?, ?it/s]"
      ]
     },
     "metadata": {},
     "output_type": "display_data"
    }
   ],
   "source": [
    "recs = []\n",
    "for indice in tqdm(all_items):\n",
    "    query_embedding = embeddings[indice]\n",
    "    _, neighbors = nn_search.search(query_embedding, k=args.top_K + 1)\n",
    "    neighbors = neighbors[0]\n",
    "    # Remove self-recommendation\n",
    "    neighbors = [neighbor for neighbor in neighbors if neighbor != indice]\n",
    "    scores = (\n",
    "        skipgram_model(torch.tensor([indice] * len(neighbors)), torch.tensor(neighbors))\n",
    "        .detach()\n",
    "        .numpy()\n",
    "        .astype(float)\n",
    "    )\n",
    "    neighbors, scores = zip(\n",
    "        *sorted(zip(neighbors, scores), key=lambda x: x[1], reverse=True)\n",
    "    )\n",
    "    neighbor_ids = [id_mapping[\"idx_to_id\"][str(idx)] for idx in neighbors]\n",
    "    id_ = id_mapping[\"idx_to_id\"][str(indice)]\n",
    "    recs.append(\n",
    "        {\"target_item\": id_, \"rec_item_ids\": neighbor_ids, \"rec_scores\": list(scores)}\n",
    "    )"
   ]
  },
  {
   "cell_type": "code",
   "execution_count": 91,
   "id": "d4560dd9-2858-4a67-a1d3-1d7ff6e3268a",
   "metadata": {
    "scrolled": true
   },
   "outputs": [
    {
     "data": {
      "text/plain": [
       "{'target_item': 'B00DNWHEVU',\n",
       " 'rec_item_ids': ['B0087LXZRE',\n",
       "  'B00420K18K',\n",
       "  'B00ANZR6M2',\n",
       "  'B0031SWWPO',\n",
       "  'B006G81HV6',\n",
       "  'B003URSUSE',\n",
       "  'B001QCWSG0',\n",
       "  'B0050SZ7D2',\n",
       "  'B002HP18IO',\n",
       "  'B00JBNHLFO',\n",
       "  'B0050SZ49Y',\n",
       "  'B000M5ZIVY',\n",
       "  'B005EHQHSS',\n",
       "  'B0030GBSUC',\n",
       "  'B00007KE6C',\n",
       "  'B07N1XKY1L',\n",
       "  'B009S4JTTC',\n",
       "  'B003LPTAL6',\n",
       "  'B003S9VNWE',\n",
       "  'B0050SVDQ2',\n",
       "  'B004CDGFRI',\n",
       "  'B001E8WRE4',\n",
       "  'B001EYUY8Y',\n",
       "  'B07XJYZTPQ',\n",
       "  'B007VYW5Y2',\n",
       "  'B009GWKP76',\n",
       "  'B002824SNS',\n",
       "  'B006WJ70P6',\n",
       "  'B004D1Z3UO',\n",
       "  'B010R2RHGU',\n",
       "  'B0045EPEBW',\n",
       "  'B001EYUPCE',\n",
       "  'B00FA5PKDM',\n",
       "  'B004SL3LLW',\n",
       "  'B002JTX7OG',\n",
       "  'B003UF24SI',\n",
       "  'B003QX4F7C',\n",
       "  'B0045EPECQ',\n",
       "  'B001EYUQ7I',\n",
       "  'B00DY5JNXI',\n",
       "  'B001EYURCC',\n",
       "  'B00MOQWBQ4',\n",
       "  'B001E58B1K',\n",
       "  'B00AIALGZK',\n",
       "  'B00005RCQJ',\n",
       "  'B000R3BN4M',\n",
       "  'B009AR2CAU',\n",
       "  'B008BG3B2Y',\n",
       "  'B0023CC0M4',\n",
       "  'B002I08RR8',\n",
       "  'B002I0JNFI',\n",
       "  'B00MVY10CU',\n",
       "  'B07H3F94ZN',\n",
       "  'B001EYUX1W',\n",
       "  'B000035Y63',\n",
       "  'B005HRZ29K',\n",
       "  'B008J1372A',\n",
       "  'B003Q9RG9K',\n",
       "  'B00DQNF1SO',\n",
       "  'B006BZ1PCA',\n",
       "  'B00024W1TC',\n",
       "  'B0050SVGJG',\n",
       "  'B001EHD97O',\n",
       "  'B002EWD09A',\n",
       "  'B001EYUS4Y',\n",
       "  'B002BWOW4U',\n",
       "  'B0050SZ87W',\n",
       "  'B004QIY0Y4',\n",
       "  'B003EZ1KGQ',\n",
       "  'B00D6LPE2E',\n",
       "  'B00004WLQ6',\n",
       "  'B07P2HCW2K',\n",
       "  'B0090E5S0O',\n",
       "  'B008DBJPLS',\n",
       "  'B002CVUWEO',\n",
       "  'B00004SVXQ',\n",
       "  'B00H4F9N3Y',\n",
       "  'B006HZA55W',\n",
       "  'B001EYUON4',\n",
       "  'B0009EHQVI',\n",
       "  'B0002I0UIC',\n",
       "  'B002I7KJ5O',\n",
       "  'B00TL7LUHA',\n",
       "  'B0012GUAII',\n",
       "  'B001EYUQI2',\n",
       "  'B006U1J5ZY',\n",
       "  'B002BSC5CU',\n",
       "  'B017VLXJ7G',\n",
       "  'B00GZG8CV2',\n",
       "  'B000641ZC2',\n",
       "  'B00F6FJCMQ',\n",
       "  'B000HKMG14',\n",
       "  'B00005KBRD',\n",
       "  'B004HILZVO',\n",
       "  'B00FEO58G8',\n",
       "  'B0056C2LIG',\n",
       "  'B00B1MXGDO',\n",
       "  'B00004WKHO',\n",
       "  'B00BSWYJNI',\n",
       "  'B000034DMT'],\n",
       " 'rec_scores': [0.9506405591964722,\n",
       "  0.9168297648429871,\n",
       "  0.911203145980835,\n",
       "  0.898520290851593,\n",
       "  0.894719123840332,\n",
       "  0.8844924569129944,\n",
       "  0.8808353543281555,\n",
       "  0.8737549781799316,\n",
       "  0.8680020570755005,\n",
       "  0.8660807013511658,\n",
       "  0.8652415871620178,\n",
       "  0.8643262982368469,\n",
       "  0.8639315962791443,\n",
       "  0.8611966371536255,\n",
       "  0.8581946492195129,\n",
       "  0.8561675548553467,\n",
       "  0.8514501452445984,\n",
       "  0.8471768498420715,\n",
       "  0.8396657109260559,\n",
       "  0.8363486528396606,\n",
       "  0.8333209753036499,\n",
       "  0.8300052881240845,\n",
       "  0.8170564770698547,\n",
       "  0.8158591389656067,\n",
       "  0.8063356280326843,\n",
       "  0.8038479685783386,\n",
       "  0.8002012968063354,\n",
       "  0.8000405430793762,\n",
       "  0.7998032569885254,\n",
       "  0.7996540665626526,\n",
       "  0.7973719239234924,\n",
       "  0.7959668636322021,\n",
       "  0.7958001494407654,\n",
       "  0.792365550994873,\n",
       "  0.7907924056053162,\n",
       "  0.787064790725708,\n",
       "  0.7849894762039185,\n",
       "  0.7839123606681824,\n",
       "  0.7806155681610107,\n",
       "  0.7767027020454407,\n",
       "  0.7761356830596924,\n",
       "  0.7753365635871887,\n",
       "  0.7700265049934387,\n",
       "  0.769540011882782,\n",
       "  0.7692903876304626,\n",
       "  0.7689436078071594,\n",
       "  0.7658523321151733,\n",
       "  0.7647970914840698,\n",
       "  0.7567530274391174,\n",
       "  0.7540802359580994,\n",
       "  0.7538028955459595,\n",
       "  0.7479110956192017,\n",
       "  0.7455289363861084,\n",
       "  0.7375292778015137,\n",
       "  0.7371715307235718,\n",
       "  0.7351842522621155,\n",
       "  0.7327113151550293,\n",
       "  0.729249119758606,\n",
       "  0.7266135215759277,\n",
       "  0.7235031723976135,\n",
       "  0.7234531044960022,\n",
       "  0.7182326912879944,\n",
       "  0.7154093384742737,\n",
       "  0.7093497514724731,\n",
       "  0.7077057957649231,\n",
       "  0.7075115442276001,\n",
       "  0.7061843276023865,\n",
       "  0.7061488032341003,\n",
       "  0.704436182975769,\n",
       "  0.7018021941184998,\n",
       "  0.6990091800689697,\n",
       "  0.6948460340499878,\n",
       "  0.6944313049316406,\n",
       "  0.6942004561424255,\n",
       "  0.6935914158821106,\n",
       "  0.6917454600334167,\n",
       "  0.6884600520133972,\n",
       "  0.686697781085968,\n",
       "  0.684796154499054,\n",
       "  0.6820927858352661,\n",
       "  0.6792058944702148,\n",
       "  0.678874135017395,\n",
       "  0.6787264347076416,\n",
       "  0.677331268787384,\n",
       "  0.6746801137924194,\n",
       "  0.6727728843688965,\n",
       "  0.6715468168258667,\n",
       "  0.6625126600265503,\n",
       "  0.6623349189758301,\n",
       "  0.6589740514755249,\n",
       "  0.6580321192741394,\n",
       "  0.6476858854293823,\n",
       "  0.6443960070610046,\n",
       "  0.637295663356781,\n",
       "  0.6327966451644897,\n",
       "  0.6320480108261108,\n",
       "  0.6300211548805237,\n",
       "  0.6170945167541504,\n",
       "  0.5925741791725159,\n",
       "  0.5337383151054382]}"
      ]
     },
     "execution_count": 91,
     "metadata": {},
     "output_type": "execute_result"
    }
   ],
   "source": [
    "recs[0]"
   ]
  },
  {
   "cell_type": "markdown",
   "id": "71a9a2fb-a4a9-4cc2-9ba4-d6776c533e71",
   "metadata": {},
   "source": [
    "# Persist"
   ]
  },
  {
   "cell_type": "code",
   "execution_count": 95,
   "id": "80a0def9-2790-4518-b622-8df3c4d5cbe6",
   "metadata": {},
   "outputs": [
    {
     "name": "stderr",
     "output_type": "stream",
     "text": [
      "\u001b[32m2024-10-04 14:23:42.750\u001b[0m | \u001b[1mINFO    \u001b[0m | \u001b[36m__main__\u001b[0m:\u001b[36m<module>\u001b[0m:\u001b[36m1\u001b[0m - \u001b[1mSaving batch recs output to /Users/dvq/frostmourne/fsds/fsds-recsys/chapters/l7/notebooks/data/003-alias-champion/batch_recs.jsonl...\u001b[0m\n"
     ]
    }
   ],
   "source": [
    "logger.info(f\"Saving batch recs output to {args.batch_recs_fp}...\")\n",
    "with open(args.batch_recs_fp, \"w\") as f:\n",
    "    for rec in recs:\n",
    "        f.write(json.dumps(rec) + \"\\n\")"
   ]
  },
  {
   "cell_type": "code",
   "execution_count": null,
   "id": "868695d4-0cd5-4af8-bad2-21b341c9f929",
   "metadata": {},
   "outputs": [],
   "source": []
  }
 ],
 "metadata": {
  "kernelspec": {
   "display_name": "Python 3 (ipykernel)",
   "language": "python",
   "name": "python3"
  },
  "language_info": {
   "codemirror_mode": {
    "name": "ipython",
    "version": 3
   },
   "file_extension": ".py",
   "mimetype": "text/x-python",
   "name": "python",
   "nbconvert_exporter": "python",
   "pygments_lexer": "ipython3",
   "version": "3.11.9"
  }
 },
 "nbformat": 4,
 "nbformat_minor": 5
}
