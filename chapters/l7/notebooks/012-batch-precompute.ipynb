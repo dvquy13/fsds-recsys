{
 "cells": [
  {
   "cell_type": "markdown",
   "id": "bfd48465-69da-444e-88e5-1a6e5b2ab7ba",
   "metadata": {},
   "source": [
    "# Batch pre-computed recommendations"
   ]
  },
  {
   "cell_type": "markdown",
   "id": "c33ddf23-fa66-4dec-ba18-5fed4da95ac3",
   "metadata": {},
   "source": [
    "# Set up"
   ]
  },
  {
   "cell_type": "code",
   "execution_count": 1,
   "id": "1b5115a4-412c-4b98-90ed-7897bb7faea2",
   "metadata": {},
   "outputs": [],
   "source": [
    "%load_ext autoreload\n",
    "%autoreload 2"
   ]
  },
  {
   "cell_type": "code",
   "execution_count": 2,
   "id": "a2514682-a204-4c73-9080-9c754000c58e",
   "metadata": {},
   "outputs": [],
   "source": [
    "import json\n",
    "import os\n",
    "import sys\n",
    "\n",
    "import mlflow\n",
    "import torch\n",
    "from dotenv import load_dotenv\n",
    "from loguru import logger\n",
    "from pydantic import BaseModel\n",
    "from tqdm.auto import tqdm\n",
    "\n",
    "load_dotenv()\n",
    "\n",
    "sys.path.insert(0, \"..\")\n",
    "\n",
    "from src.vector_search import FaissNN"
   ]
  },
  {
   "cell_type": "markdown",
   "id": "b8c55119-43d0-43b1-9959-83d6cb1f7c83",
   "metadata": {},
   "source": [
    "# Controller"
   ]
  },
  {
   "cell_type": "code",
   "execution_count": 3,
   "id": "88d96f2c-b77a-4187-9702-abfc5414dc21",
   "metadata": {
    "scrolled": true
   },
   "outputs": [
    {
     "name": "stdout",
     "output_type": "stream",
     "text": [
      "{\n",
      "  \"testing\": false,\n",
      "  \"run_name\": \"005-refactor\",\n",
      "  \"notebook_persist_dp\": \"/Users/dvq/frostmourne/fsds/fsds-recsys/chapters/l7/notebooks/data/005-refactor\",\n",
      "  \"random_seed\": 41,\n",
      "  \"device\": null,\n",
      "  \"top_K\": 100,\n",
      "  \"top_k\": 10,\n",
      "  \"embedding_dim\": 128,\n",
      "  \"mlf_model_name\": \"item2vec\",\n",
      "  \"batch_recs_fp\": \"/Users/dvq/frostmourne/fsds/fsds-recsys/chapters/l7/notebooks/data/005-refactor/batch_recs.jsonl\"\n",
      "}\n"
     ]
    }
   ],
   "source": [
    "class Args(BaseModel):\n",
    "    testing: bool = False\n",
    "    run_name: str = \"005-refactor\"\n",
    "    notebook_persist_dp: str = None\n",
    "    random_seed: int = 41\n",
    "    device: str = None\n",
    "\n",
    "    top_K: int = 100\n",
    "    top_k: int = 10\n",
    "\n",
    "    embedding_dim: int = 128\n",
    "\n",
    "    mlf_model_name: str = \"item2vec\"\n",
    "\n",
    "    batch_recs_fp: str = None\n",
    "\n",
    "    def init(self):\n",
    "        self.notebook_persist_dp = os.path.abspath(f\"data/{self.run_name}\")\n",
    "        os.makedirs(self.notebook_persist_dp, exist_ok=True)\n",
    "        self.batch_recs_fp = f\"{self.notebook_persist_dp}/batch_recs.jsonl\"\n",
    "\n",
    "        return self\n",
    "\n",
    "\n",
    "args = Args().init()\n",
    "\n",
    "print(args.model_dump_json(indent=2))"
   ]
  },
  {
   "cell_type": "markdown",
   "id": "dcaf8759-f561-44e4-bfbf-5d4851755076",
   "metadata": {},
   "source": [
    "# Load model"
   ]
  },
  {
   "cell_type": "code",
   "execution_count": 4,
   "id": "c8baa457-d600-4e44-99b4-a37baf06357d",
   "metadata": {},
   "outputs": [],
   "source": [
    "mlf_client = mlflow.MlflowClient()"
   ]
  },
  {
   "cell_type": "code",
   "execution_count": 5,
   "id": "5f912672-f730-4555-b9ad-cb1da6cb3558",
   "metadata": {
    "scrolled": true
   },
   "outputs": [
    {
     "data": {
      "application/vnd.jupyter.widget-view+json": {
       "model_id": "17abf0ea76334bf98f01753634fcc325",
       "version_major": 2,
       "version_minor": 0
      },
      "text/plain": [
       "Downloading artifacts:   0%|          | 0/8 [00:00<?, ?it/s]"
      ]
     },
     "metadata": {},
     "output_type": "display_data"
    }
   ],
   "source": [
    "model = mlflow.pyfunc.load_model(model_uri=f\"models:/{args.mlf_model_name}@champion\")"
   ]
  },
  {
   "cell_type": "code",
   "execution_count": 6,
   "id": "ed8b1e20-4475-44ea-8c39-7ef21b2f7832",
   "metadata": {
    "scrolled": true
   },
   "outputs": [],
   "source": [
    "run_id = model.metadata.run_id\n",
    "run_info = mlf_client.get_run(run_id).info\n",
    "artifact_uri = run_info.artifact_uri"
   ]
  },
  {
   "cell_type": "code",
   "execution_count": 7,
   "id": "5d1efb31-5261-4cd8-b128-3ede0ab4329b",
   "metadata": {
    "scrolled": true
   },
   "outputs": [
    {
     "data": {
      "application/vnd.jupyter.widget-view+json": {
       "model_id": "09ce7010ef81422a9ad351cf2f5ea7a3",
       "version_major": 2,
       "version_minor": 0
      },
      "text/plain": [
       "Downloading artifacts:   0%|          | 0/1 [00:00<?, ?it/s]"
      ]
     },
     "metadata": {},
     "output_type": "display_data"
    },
    {
     "data": {
      "text/plain": [
       "{'item_1_ids': ['B00DNWHEVU'], 'item_2_ids': ['B00IUGYTRQ']}"
      ]
     },
     "execution_count": 7,
     "metadata": {},
     "output_type": "execute_result"
    }
   ],
   "source": [
    "sample_input = mlflow.artifacts.load_dict(f\"{artifact_uri}/inferrer/input_example.json\")\n",
    "sample_input"
   ]
  },
  {
   "cell_type": "code",
   "execution_count": 8,
   "id": "b25b2cf9-1f32-4cc5-b18a-f88800e0ef5b",
   "metadata": {},
   "outputs": [
    {
     "data": {
      "text/plain": [
       "{'item_1_ids': ['B00DNWHEVU'],\n",
       " 'item_2_ids': ['B00IUGYTRQ'],\n",
       " 'scores': [0.244841530919075]}"
      ]
     },
     "execution_count": 8,
     "metadata": {},
     "output_type": "execute_result"
    }
   ],
   "source": [
    "prediction = model.predict(sample_input)\n",
    "prediction"
   ]
  },
  {
   "cell_type": "markdown",
   "id": "c9598fde-95fe-4456-b96c-c36d80414ace",
   "metadata": {},
   "source": [
    "# Batch computing"
   ]
  },
  {
   "cell_type": "markdown",
   "id": "b520e4e5-d4ff-4546-a8eb-a5fffdbde264",
   "metadata": {},
   "source": [
    "## ANN Search"
   ]
  },
  {
   "cell_type": "code",
   "execution_count": 9,
   "id": "927f5967-afef-4cb6-b09c-4525fd968b77",
   "metadata": {},
   "outputs": [
    {
     "data": {
      "text/plain": [
       "tensor([-0.0270,  0.3653,  0.0864, -0.1741, -0.1233, -0.1826,  0.2630,  0.0644,\n",
       "        -0.0557,  0.0157, -0.2415, -0.3705, -0.4329, -0.0532, -0.2477, -0.1174,\n",
       "        -0.4903, -0.1717, -0.2361, -0.0730, -0.0500, -0.2081, -0.1080, -0.1420,\n",
       "        -0.3621,  0.0939, -0.2968,  0.5956, -0.3357,  0.0252,  0.1848, -0.2468,\n",
       "         0.2319,  0.2708,  0.4960,  0.1100, -0.2494,  0.2932, -0.3072, -0.0803,\n",
       "         0.0185, -0.1368,  0.1899,  0.1284,  0.1652, -0.2464, -0.0149,  0.0208,\n",
       "        -0.0650,  0.3353, -0.0311,  0.1289,  0.1494, -0.2388, -0.2141,  0.0291,\n",
       "         0.3164,  0.4499,  0.1775, -0.0693, -0.1029, -0.1723, -0.1086,  0.2336,\n",
       "        -0.0344,  0.1623, -0.1224,  0.3976,  0.2152, -0.1003,  0.0021, -0.0272,\n",
       "        -0.1455,  0.4159, -0.1531, -0.0593, -0.0185, -0.1940, -0.1258,  0.1931,\n",
       "        -0.0683,  0.1867, -0.1152,  0.0925, -0.0906, -0.1974, -0.1905,  0.0008,\n",
       "        -0.0126, -0.2987,  0.1758, -0.1993, -0.0110, -0.3191, -0.2075,  0.4081,\n",
       "         0.1795,  0.2005,  0.0391,  0.0434, -0.1135, -0.1434,  0.2756, -0.3708,\n",
       "         0.2642, -0.1910,  0.0176, -0.1375, -0.2191,  0.0200,  0.1372,  0.2064,\n",
       "        -0.2585,  0.1791, -0.0768, -0.3008,  0.0157, -0.1123,  0.0042, -0.3709,\n",
       "        -0.0484, -0.2093,  0.2747,  0.1519,  0.3145,  0.2701,  0.2889, -0.0384],\n",
       "       grad_fn=<EmbeddingBackward0>)"
      ]
     },
     "execution_count": 9,
     "metadata": {},
     "output_type": "execute_result"
    }
   ],
   "source": [
    "skipgram_model = model.unwrap_python_model().model\n",
    "embedding_0 = skipgram_model.embeddings(torch.tensor(0))\n",
    "embedding_dim = embedding_0.size()[0]\n",
    "embedding_0"
   ]
  },
  {
   "cell_type": "code",
   "execution_count": 10,
   "id": "c20eeb2b-69d9-4397-9af1-a4ad270af731",
   "metadata": {
    "scrolled": true
   },
   "outputs": [
    {
     "data": {
      "text/plain": [
       "[0, 1, 2, 3, 4]"
      ]
     },
     "execution_count": 10,
     "metadata": {},
     "output_type": "execute_result"
    }
   ],
   "source": [
    "id_mapping = model.unwrap_python_model().id_mapping\n",
    "all_items = list(id_mapping[\"id_to_idx\"].values())\n",
    "all_items[:5]"
   ]
  },
  {
   "cell_type": "code",
   "execution_count": 11,
   "id": "abcc2d78-0da2-4ece-acc8-7bc860aa27da",
   "metadata": {},
   "outputs": [
    {
     "data": {
      "text/plain": [
       "array([[-0.0270111 ,  0.36530462,  0.0864055 , ...,  0.2701319 ,\n",
       "         0.28888178, -0.03838563],\n",
       "       [-0.16257812,  0.17983401,  0.05818671, ..., -0.5151613 ,\n",
       "         0.06293295, -0.22570048],\n",
       "       [-0.14043814, -0.13348329,  0.08681496, ...,  0.07020528,\n",
       "         0.11107803, -0.13295458],\n",
       "       ...,\n",
       "       [-0.01977942,  0.17683266,  0.08735713, ...,  0.19707859,\n",
       "         0.14933012, -0.07864665],\n",
       "       [ 0.05965793,  0.04048064, -0.03999281, ..., -0.17725047,\n",
       "        -0.02599205,  0.24590547],\n",
       "       [-0.11013471,  0.036272  , -0.12161028, ...,  0.04601436,\n",
       "         0.01188595, -0.03651233]], dtype=float32)"
      ]
     },
     "execution_count": 11,
     "metadata": {},
     "output_type": "execute_result"
    }
   ],
   "source": [
    "embeddings = skipgram_model.embeddings(torch.tensor(all_items)).detach().numpy()\n",
    "embeddings"
   ]
  },
  {
   "cell_type": "code",
   "execution_count": 12,
   "id": "cff4e7cb-1854-466e-8c16-6f418a338b5d",
   "metadata": {},
   "outputs": [],
   "source": [
    "nn_search = FaissNN(\n",
    "    embedding_dim=embedding_dim,\n",
    "    use_gpu=False,  # TODO: Install faiss-gpu on Mac to make use of GPU\n",
    "    metric=\"L2\",\n",
    ")\n",
    "\n",
    "nn_search.add_embeddings(embeddings)"
   ]
  },
  {
   "cell_type": "code",
   "execution_count": 15,
   "id": "3e3f0e73-4caa-4d5a-ade3-6781461f3046",
   "metadata": {},
   "outputs": [
    {
     "name": "stdout",
     "output_type": "stream",
     "text": [
      "Nearest neighbors (indices): [[   0 3750 2866 3432 4157 2526 1825 4212 1198  100]]\n",
      "Distances: [[0.        5.2470655 5.648892  5.6605287 5.7360883 5.8752265 5.8926578\n",
      "  5.8928266 5.8931956 5.8958883]]\n"
     ]
    },
    {
     "data": {
      "text/plain": [
       "tensor([0.9974, 0.9628, 0.8395, 0.8315, 0.8350, 0.8225, 0.9015, 0.7591, 0.7914,\n",
       "        0.8147], grad_fn=<SigmoidBackward0>)"
      ]
     },
     "execution_count": 15,
     "metadata": {},
     "output_type": "execute_result"
    }
   ],
   "source": [
    "item_indice = 0\n",
    "\n",
    "query_embedding = embeddings[item_indice]\n",
    "distances, indices = nn_search.search(query_embedding, k=args.top_k)\n",
    "\n",
    "print(\"Nearest neighbors (indices):\", indices)\n",
    "print(\"Distances:\", distances)\n",
    "\n",
    "skipgram_model(torch.tensor([item_indice] * args.top_k), torch.tensor(indices[0]))"
   ]
  },
  {
   "cell_type": "markdown",
   "id": "eb07aada-ae45-4f06-a82f-fd07b3279d52",
   "metadata": {},
   "source": [
    "## Predict for all items"
   ]
  },
  {
   "cell_type": "code",
   "execution_count": 16,
   "id": "f2357958-afb5-4de7-85f0-cbca9567c15f",
   "metadata": {
    "scrolled": true
   },
   "outputs": [
    {
     "data": {
      "application/vnd.jupyter.widget-view+json": {
       "model_id": "e1c09556f00747409b1564a9243a969b",
       "version_major": 2,
       "version_minor": 0
      },
      "text/plain": [
       "  0%|          | 0/4630 [00:00<?, ?it/s]"
      ]
     },
     "metadata": {},
     "output_type": "display_data"
    }
   ],
   "source": [
    "recs = []\n",
    "for indice in tqdm(all_items):\n",
    "    query_embedding = embeddings[indice]\n",
    "    _, neighbors = nn_search.search(query_embedding, k=args.top_K + 1)\n",
    "    neighbors = neighbors[0]\n",
    "    # Remove self-recommendation\n",
    "    neighbors = [neighbor for neighbor in neighbors if neighbor != indice]\n",
    "    scores = (\n",
    "        skipgram_model(torch.tensor([indice] * len(neighbors)), torch.tensor(neighbors))\n",
    "        .detach()\n",
    "        .numpy()\n",
    "        .astype(float)\n",
    "    )\n",
    "    neighbors, scores = zip(\n",
    "        *sorted(zip(neighbors, scores), key=lambda x: x[1], reverse=True)\n",
    "    )\n",
    "    neighbor_ids = [id_mapping[\"idx_to_id\"][str(idx)] for idx in neighbors]\n",
    "    id_ = id_mapping[\"idx_to_id\"][str(indice)]\n",
    "    recs.append(\n",
    "        {\"target_item\": id_, \"rec_item_ids\": neighbor_ids, \"rec_scores\": list(scores)}\n",
    "    )"
   ]
  },
  {
   "cell_type": "code",
   "execution_count": 17,
   "id": "d4560dd9-2858-4a67-a1d3-1d7ff6e3268a",
   "metadata": {
    "scrolled": true
   },
   "outputs": [
    {
     "data": {
      "text/plain": [
       "{'target_item': 'B00DNWHEVU',\n",
       " 'rec_item_ids': ['B0055202HE',\n",
       "  'B0087LXZRE',\n",
       "  'B07P574T71',\n",
       "  'B006MAT1NO',\n",
       "  'B00DBRNBO6',\n",
       "  'B008982OUO',\n",
       "  'B00741A2J2',\n",
       "  'B00DBKSN8M',\n",
       "  'B002HP18IO',\n",
       "  'B002CVUWEY',\n",
       "  'B001EYUSA8',\n",
       "  'B002I0J5FG',\n",
       "  'B004J17XZ6',\n",
       "  'B004CDGG4U',\n",
       "  'B001EYUY8Y',\n",
       "  'B00006IJIS',\n",
       "  'B0045EPEBW',\n",
       "  'B001ELJEGA',\n",
       "  'B004R9OVEG',\n",
       "  'B000HE7KZC',\n",
       "  'B00007KE6C',\n",
       "  'B000035Y63',\n",
       "  'B003EGULF6',\n",
       "  'B000R3BN4M',\n",
       "  'B001EYUU1U',\n",
       "  'B00GBCLG0E',\n",
       "  'B002I0H738',\n",
       "  'B001QCWSHO',\n",
       "  'B004GGUAJU',\n",
       "  'B003L20IQU',\n",
       "  'B004519O9S',\n",
       "  'B003S9VNWE',\n",
       "  'B009AR2CAU',\n",
       "  'B001KYV9AK',\n",
       "  'B000NNFJQY',\n",
       "  'B0053B7ICO',\n",
       "  'B00CIO5ILW',\n",
       "  'B008LQPI0M',\n",
       "  'B0040Y3K9U',\n",
       "  'B002JTX7SM',\n",
       "  'B006G81HV6',\n",
       "  'B004NBXRDY',\n",
       "  'B00000I1BS',\n",
       "  'B003VUO6LU',\n",
       "  'B00HVWU0Q4',\n",
       "  'B003ANMB6A',\n",
       "  'B003FMVLSK',\n",
       "  'B001ELJFN2',\n",
       "  'B00CHYOP94',\n",
       "  'B009DYE3JI',\n",
       "  'B003QCJLQI',\n",
       "  'B000ZKA0KA',\n",
       "  'B001EYUUF6',\n",
       "  'B000XGJH1O',\n",
       "  'B00005ATSM',\n",
       "  'B0045EPECG',\n",
       "  'B003UKPZ4S',\n",
       "  'B00IA4455Y',\n",
       "  'B000X37732',\n",
       "  'B002VFQ2IQ',\n",
       "  'B00W50PXKA',\n",
       "  'B07WYX8SKK',\n",
       "  'B001EYUXUI',\n",
       "  'B004VLYIE8',\n",
       "  'B003S2SQFS',\n",
       "  'B00CH9253W',\n",
       "  'B000G7PMX2',\n",
       "  'B00FQSS61Q',\n",
       "  'B06XH15HD9',\n",
       "  'B001N2EVPE',\n",
       "  'B00H4F9N3Y',\n",
       "  'B007VYW5Y2',\n",
       "  'B0050SZ87W',\n",
       "  'B00QV3ZC44',\n",
       "  'B00M7ZIZGC',\n",
       "  'B001FWK340',\n",
       "  'B001EYUON4',\n",
       "  'B0BVKYMWLQ',\n",
       "  'B000IONGVI',\n",
       "  'B003A0VUHY',\n",
       "  'B06Y3RB65T',\n",
       "  'B002QTF5GW',\n",
       "  'B003XIHXVA',\n",
       "  'B0056C2LIG',\n",
       "  'B001E8WRJ4',\n",
       "  'B000034DMT',\n",
       "  'B001EYUPF6',\n",
       "  'B0002XJBGE',\n",
       "  'B001DPZE84',\n",
       "  'B00EZIXEIS',\n",
       "  'B00004YC3N',\n",
       "  'B00B1MXGDO',\n",
       "  'B00005RL4E',\n",
       "  'B008J360HC',\n",
       "  'B00GY4OB8S',\n",
       "  'B005NJVQ60',\n",
       "  'B000CPKIT6',\n",
       "  'B00004WLQ6',\n",
       "  'B00ZKZY04M',\n",
       "  'B07867YHBS'],\n",
       " 'rec_scores': [0.9628039002418518,\n",
       "  0.916733980178833,\n",
       "  0.9065333604812622,\n",
       "  0.9014793634414673,\n",
       "  0.8908787369728088,\n",
       "  0.8844248652458191,\n",
       "  0.8831459879875183,\n",
       "  0.8820490837097168,\n",
       "  0.8788190484046936,\n",
       "  0.8720595240592957,\n",
       "  0.8679580688476562,\n",
       "  0.8653320074081421,\n",
       "  0.8635025024414062,\n",
       "  0.8622813820838928,\n",
       "  0.860143780708313,\n",
       "  0.8586035966873169,\n",
       "  0.8585985898971558,\n",
       "  0.857445240020752,\n",
       "  0.8505021929740906,\n",
       "  0.8463948965072632,\n",
       "  0.8416584730148315,\n",
       "  0.8394536972045898,\n",
       "  0.838891863822937,\n",
       "  0.8350284099578857,\n",
       "  0.8319696187973022,\n",
       "  0.8315356969833374,\n",
       "  0.8275160789489746,\n",
       "  0.8237714767456055,\n",
       "  0.8224829435348511,\n",
       "  0.8152565360069275,\n",
       "  0.8146891593933105,\n",
       "  0.8100721836090088,\n",
       "  0.8093915581703186,\n",
       "  0.7995951771736145,\n",
       "  0.7995069026947021,\n",
       "  0.7944355010986328,\n",
       "  0.7914145588874817,\n",
       "  0.7906600832939148,\n",
       "  0.7894291877746582,\n",
       "  0.7853044271469116,\n",
       "  0.7814053297042847,\n",
       "  0.778325617313385,\n",
       "  0.7770724296569824,\n",
       "  0.7730088233947754,\n",
       "  0.7703193426132202,\n",
       "  0.7693153619766235,\n",
       "  0.7627161145210266,\n",
       "  0.761155903339386,\n",
       "  0.759113073348999,\n",
       "  0.7582107782363892,\n",
       "  0.7576534152030945,\n",
       "  0.7576424479484558,\n",
       "  0.7570579051971436,\n",
       "  0.7559064626693726,\n",
       "  0.7483840584754944,\n",
       "  0.7417767643928528,\n",
       "  0.7404851317405701,\n",
       "  0.7397623658180237,\n",
       "  0.7396483421325684,\n",
       "  0.7373729944229126,\n",
       "  0.7354387044906616,\n",
       "  0.7323790192604065,\n",
       "  0.7315981388092041,\n",
       "  0.7310895919799805,\n",
       "  0.7305366396903992,\n",
       "  0.7264933586120605,\n",
       "  0.7213521003723145,\n",
       "  0.7176509499549866,\n",
       "  0.7161439657211304,\n",
       "  0.7114400863647461,\n",
       "  0.6992151141166687,\n",
       "  0.6985118985176086,\n",
       "  0.6973371505737305,\n",
       "  0.6972895860671997,\n",
       "  0.6954038143157959,\n",
       "  0.6911125183105469,\n",
       "  0.687575101852417,\n",
       "  0.6805147528648376,\n",
       "  0.6753162741661072,\n",
       "  0.6751573085784912,\n",
       "  0.673966646194458,\n",
       "  0.6734850406646729,\n",
       "  0.6713355183601379,\n",
       "  0.6696226000785828,\n",
       "  0.6688122749328613,\n",
       "  0.6607197523117065,\n",
       "  0.660010576248169,\n",
       "  0.6549414396286011,\n",
       "  0.6441646218299866,\n",
       "  0.6419394612312317,\n",
       "  0.6411025524139404,\n",
       "  0.6376525163650513,\n",
       "  0.6254267692565918,\n",
       "  0.6213672161102295,\n",
       "  0.6211836338043213,\n",
       "  0.6024850010871887,\n",
       "  0.6013957858085632,\n",
       "  0.5912842154502869,\n",
       "  0.5820835828781128,\n",
       "  0.5259653925895691]}"
      ]
     },
     "execution_count": 17,
     "metadata": {},
     "output_type": "execute_result"
    }
   ],
   "source": [
    "recs[0]"
   ]
  },
  {
   "cell_type": "markdown",
   "id": "71a9a2fb-a4a9-4cc2-9ba4-d6776c533e71",
   "metadata": {},
   "source": [
    "# Persist"
   ]
  },
  {
   "cell_type": "code",
   "execution_count": 18,
   "id": "80a0def9-2790-4518-b622-8df3c4d5cbe6",
   "metadata": {},
   "outputs": [
    {
     "name": "stderr",
     "output_type": "stream",
     "text": [
      "\u001b[32m2024-10-07 21:20:20.164\u001b[0m | \u001b[1mINFO    \u001b[0m | \u001b[36m__main__\u001b[0m:\u001b[36m<module>\u001b[0m:\u001b[36m1\u001b[0m - \u001b[1mSaving batch recs output to /Users/dvq/frostmourne/fsds/fsds-recsys/chapters/l7/notebooks/data/005-refactor/batch_recs.jsonl...\u001b[0m\n"
     ]
    }
   ],
   "source": [
    "logger.info(f\"Saving batch recs output to {args.batch_recs_fp}...\")\n",
    "with open(args.batch_recs_fp, \"w\") as f:\n",
    "    for rec in recs:\n",
    "        f.write(json.dumps(rec) + \"\\n\")"
   ]
  },
  {
   "cell_type": "code",
   "execution_count": null,
   "id": "868695d4-0cd5-4af8-bad2-21b341c9f929",
   "metadata": {},
   "outputs": [],
   "source": []
  }
 ],
 "metadata": {
  "kernelspec": {
   "display_name": "Python 3 (ipykernel)",
   "language": "python",
   "name": "python3"
  },
  "language_info": {
   "codemirror_mode": {
    "name": "ipython",
    "version": 3
   },
   "file_extension": ".py",
   "mimetype": "text/x-python",
   "name": "python",
   "nbconvert_exporter": "python",
   "pygments_lexer": "ipython3",
   "version": "3.11.9"
  }
 },
 "nbformat": 4,
 "nbformat_minor": 5
}
