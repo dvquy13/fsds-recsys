{
 "cells": [
  {
   "cell_type": "markdown",
   "id": "b2d0cab1-af5f-42cd-8136-2527d797dda5",
   "metadata": {},
   "source": [
    "# MVP Reranking\n",
    "\n",
    "This notebook explores the second component: Ranking"
   ]
  },
  {
   "cell_type": "markdown",
   "id": "4fde1fc9-158d-4539-9f87-a77717b85064",
   "metadata": {},
   "source": [
    "# Set up"
   ]
  },
  {
   "cell_type": "code",
   "execution_count": 1,
   "id": "3b26c8c2-b7c9-482a-805b-2343e627c2b9",
   "metadata": {},
   "outputs": [],
   "source": [
    "%load_ext autoreload\n",
    "%autoreload 2"
   ]
  },
  {
   "cell_type": "code",
   "execution_count": 2,
   "id": "d57048d9-6f1a-4c01-ac00-74fc6e1bf08f",
   "metadata": {},
   "outputs": [],
   "source": [
    "import os\n",
    "import sys\n",
    "import mlflow\n",
    "from datetime import datetime\n",
    "from datetime import timedelta\n",
    "from dotenv import load_dotenv\n",
    "from loguru import logger\n",
    "from typing import List\n",
    "from tqdm.notebook import tqdm\n",
    "\n",
    "from pydantic import BaseModel\n",
    "import datasets\n",
    "from datasets import load_dataset\n",
    "\n",
    "import pandas as pd\n",
    "\n",
    "datasets.logging.set_verbosity_error()\n",
    "\n",
    "load_dotenv()\n",
    "sys.path.insert(0, '..')\n",
    "\n",
    "# Set up plot styling\n",
    "from src.utils.time import log_time\n",
    "from src.visualization.setup import color_scheme, fsds_colors"
   ]
  },
  {
   "cell_type": "markdown",
   "id": "dff79017-f21e-437b-b210-3fe138134cc9",
   "metadata": {},
   "source": [
    "# Controller"
   ]
  },
  {
   "cell_type": "code",
   "execution_count": 3,
   "id": "76b5ba2f-0414-4342-928a-69c7bbdfbe80",
   "metadata": {},
   "outputs": [
    {
     "name": "stderr",
     "output_type": "stream",
     "text": [
      "\u001b[32m2024-09-01 09:28:43.058\u001b[0m | \u001b[1mINFO    \u001b[0m | \u001b[36m__main__\u001b[0m:\u001b[36minit\u001b[0m:\u001b[36m35\u001b[0m - \u001b[1mSetting up MLflow experiment FSDS RecSys - L3 - MVP - run 002-ranking-first-attempt...\u001b[0m\n"
     ]
    },
    {
     "name": "stdout",
     "output_type": "stream",
     "text": [
      "{\n",
      "  \"testing\": false,\n",
      "  \"log_to_mlflow\": true,\n",
      "  \"experiment_name\": \"FSDS RecSys - L3 - MVP\",\n",
      "  \"run_name\": \"002-ranking-first-attempt\",\n",
      "  \"hf_dataset_path\": \"McAuley-Lab/Amazon-Reviews-2023\",\n",
      "  \"notebook_persist_dp\": \"/home/dvquys/frostmourne/fsds/recsys/notebooks/data/002-ranking-first-attempt\",\n",
      "  \"random_seed\": 41,\n",
      "  \"train_num_days\": 90,\n",
      "  \"val_num_days\": 7,\n",
      "  \"test_num_days\": 7,\n",
      "  \"fit_num_days\": 104,\n",
      "  \"batch_size\": 1024\n",
      "}\n"
     ]
    }
   ],
   "source": [
    "class Args(BaseModel):\n",
    "    testing: bool = False\n",
    "    log_to_mlflow: bool = True\n",
    "    experiment_name: str = \"FSDS RecSys - L3 - MVP\"\n",
    "    run_name: str = '002-ranking-first-attempt'\n",
    "    hf_dataset_path: str = \"McAuley-Lab/Amazon-Reviews-2023\"\n",
    "    notebook_persist_dp: str = None\n",
    "    random_seed: int = 41\n",
    "\n",
    "    train_num_days: int = 90\n",
    "    val_num_days: int = 7\n",
    "    test_num_days: int = 7\n",
    "    fit_num_days: int = None\n",
    "\n",
    "    batch_size: int = 1024\n",
    "\n",
    "    def init(self):\n",
    "        self.notebook_persist_dp = os.path.abspath(f\"data/{self.run_name}\")\n",
    "\n",
    "        if self.testing:\n",
    "            logger.info(\"testing=True so downsampling the data...\")\n",
    "            self.train_num_days = 7\n",
    "            self.val_num_days = 1\n",
    "            self.test_num_days = 1\n",
    "\n",
    "        self.fit_num_days = self.train_num_days + self.val_num_days + self.test_num_days\n",
    "        \n",
    "        if not os.environ.get(\"MLFLOW_TRACKING_URI\"):\n",
    "            logger.warning(\n",
    "                f\"Environment variable MLFLOW_TRACKING_URI is not set. Setting self.log_to_mlflow to false.\"\n",
    "            )\n",
    "            self.log_to_mlflow = False\n",
    "\n",
    "        if self.log_to_mlflow:\n",
    "            logger.info(\n",
    "                f\"Setting up MLflow experiment {self.experiment_name} - run {self.run_name}...\"\n",
    "            )\n",
    "            import mlflow\n",
    "\n",
    "            mlflow.set_experiment(self.experiment_name)\n",
    "            mlflow.start_run(run_name=self.run_name)\n",
    "\n",
    "        return self\n",
    "    \n",
    "args = Args().init()\n",
    "\n",
    "print(args.model_dump_json(indent=2))"
   ]
  },
  {
   "cell_type": "markdown",
   "id": "fc8a54d8-3b75-4462-9111-136407ae1c2c",
   "metadata": {},
   "source": [
    "# Load data"
   ]
  },
  {
   "cell_type": "code",
   "execution_count": 4,
   "id": "bbee0aa1-5ffe-4c85-9776-21d13d8d0fff",
   "metadata": {},
   "outputs": [],
   "source": [
    "metadata = load_dataset(args.hf_dataset_path, name=\"raw_meta_Video_Games\", split=\"full\", trust_remote_code=True)"
   ]
  },
  {
   "cell_type": "code",
   "execution_count": 5,
   "id": "391a54ee-58f5-4f46-8886-73f7f68d4e8b",
   "metadata": {},
   "outputs": [
    {
     "data": {
      "text/plain": [
       "{'main_category': 'Video Games',\n",
       " 'title': 'Dash 8-300 Professional Add-On',\n",
       " 'average_rating': 5.0,\n",
       " 'rating_number': 1,\n",
       " 'features': [\"Features Dash 8-300 and 8-Q300 ('Q' rollout livery)\",\n",
       "  'Airlines - US Airways, South African Express, Bahamasair, Augsburg Airways, Lufthansa Cityline, British Airways (Union Jack), British European, FlyBe, Intersky, Wideroe, Iberia, Tyrolean, QantasLink, BWIA',\n",
       "  'Airports include - London City, Frankfurt, Milan and Amsterdam Schipol',\n",
       "  'Includes PSS PanelConfig and LoadEdit tools'],\n",
       " 'description': ['The Dash 8-300 Professional Add-On lets you pilot a real commuter special. Fly two versions of the popular Dash 8-300 in a total of 17 different liveries. The Dash 8-300 is one of the most popular short-haul aircraft available and this superbly modelled version from acclaimed aircraft developers PSS is modelled in two versions with a total of 17 different liveries. The package also includes scenery for three European airports, tutorials, tutorial flights and utilities together in one fantastic package.'],\n",
       " 'price': 'None',\n",
       " 'images': {'hi_res': [None],\n",
       "  'large': ['https://m.media-amazon.com/images/I/21DVWE41A0L.jpg'],\n",
       "  'thumb': ['https://m.media-amazon.com/images/I/21DVWE41A0L._SX38_SY50_CR,0,0,38,50_.jpg'],\n",
       "  'variant': ['MAIN']},\n",
       " 'videos': {'title': [], 'url': [], 'user_id': []},\n",
       " 'store': 'Aerosoft',\n",
       " 'categories': ['Video Games', 'PC', 'Games'],\n",
       " 'details': '{\"Pricing\": \"The strikethrough price is the List Price. Savings represents a discount off the List Price.\", \"Package Dimensions\": \"7.5 x 5.5 x 0.6 inches; 4.8 Ounces\", \"Type of item\": \"CD-ROM\", \"Rated\": \"Everyone\", \"Item Weight\": \"4.8 ounces\", \"Manufacturer\": \"Aerosoft N.A. LTD\", \"Date First Available\": \"October 2, 2001\"}',\n",
       " 'parent_asin': 'B000FH0MHO',\n",
       " 'bought_together': None,\n",
       " 'subtitle': None,\n",
       " 'author': None}"
      ]
     },
     "execution_count": 5,
     "metadata": {},
     "output_type": "execute_result"
    }
   ],
   "source": [
    "metadata[0]"
   ]
  },
  {
   "cell_type": "code",
   "execution_count": 6,
   "id": "27c06e69-1b4f-4f47-ac1f-761240187dde",
   "metadata": {},
   "outputs": [],
   "source": [
    "dataset = load_dataset(args.hf_dataset_path, name=\"0core_rating_only_Video_Games\", trust_remote_code=True)\n",
    "# To load all user review data such as review_text, helpful score, use: name=\"raw_review_All_Beauty\""
   ]
  },
  {
   "cell_type": "code",
   "execution_count": 7,
   "id": "5d80667d-ddbc-4f55-a6ce-b45b43cd8375",
   "metadata": {},
   "outputs": [
    {
     "data": {
      "text/plain": [
       "DatasetDict({\n",
       "    full: Dataset({\n",
       "        features: ['user_id', 'parent_asin', 'rating', 'timestamp'],\n",
       "        num_rows: 4555500\n",
       "    })\n",
       "})"
      ]
     },
     "execution_count": 7,
     "metadata": {},
     "output_type": "execute_result"
    }
   ],
   "source": [
    "dataset"
   ]
  },
  {
   "cell_type": "code",
   "execution_count": 8,
   "id": "9b5af949-ede1-498a-a162-daad0557ee9a",
   "metadata": {},
   "outputs": [
    {
     "data": {
      "text/plain": [
       "{'user_id': 'AGCI7FAH4GL5FI65HYLKWTMFZ2CQ',\n",
       " 'parent_asin': 'B07SRWRH5D',\n",
       " 'rating': '5.0',\n",
       " 'timestamp': '1587051114941'}"
      ]
     },
     "execution_count": 8,
     "metadata": {},
     "output_type": "execute_result"
    }
   ],
   "source": [
    "dataset['full'][0]"
   ]
  },
  {
   "cell_type": "code",
   "execution_count": 9,
   "id": "8c33c54f-055b-4f20-bbb5-d7ac566c436f",
   "metadata": {},
   "outputs": [
    {
     "data": {
      "text/plain": [
       "{'main_category': 'Video Games',\n",
       " 'title': 'Dash 8-300 Professional Add-On',\n",
       " 'average_rating': 5.0,\n",
       " 'rating_number': 1,\n",
       " 'features': [\"Features Dash 8-300 and 8-Q300 ('Q' rollout livery)\",\n",
       "  'Airlines - US Airways, South African Express, Bahamasair, Augsburg Airways, Lufthansa Cityline, British Airways (Union Jack), British European, FlyBe, Intersky, Wideroe, Iberia, Tyrolean, QantasLink, BWIA',\n",
       "  'Airports include - London City, Frankfurt, Milan and Amsterdam Schipol',\n",
       "  'Includes PSS PanelConfig and LoadEdit tools'],\n",
       " 'description': ['The Dash 8-300 Professional Add-On lets you pilot a real commuter special. Fly two versions of the popular Dash 8-300 in a total of 17 different liveries. The Dash 8-300 is one of the most popular short-haul aircraft available and this superbly modelled version from acclaimed aircraft developers PSS is modelled in two versions with a total of 17 different liveries. The package also includes scenery for three European airports, tutorials, tutorial flights and utilities together in one fantastic package.'],\n",
       " 'price': 'None',\n",
       " 'images': {'hi_res': [None],\n",
       "  'large': ['https://m.media-amazon.com/images/I/21DVWE41A0L.jpg'],\n",
       "  'thumb': ['https://m.media-amazon.com/images/I/21DVWE41A0L._SX38_SY50_CR,0,0,38,50_.jpg'],\n",
       "  'variant': ['MAIN']},\n",
       " 'videos': {'title': [], 'url': [], 'user_id': []},\n",
       " 'store': 'Aerosoft',\n",
       " 'categories': ['Video Games', 'PC', 'Games'],\n",
       " 'details': '{\"Pricing\": \"The strikethrough price is the List Price. Savings represents a discount off the List Price.\", \"Package Dimensions\": \"7.5 x 5.5 x 0.6 inches; 4.8 Ounces\", \"Type of item\": \"CD-ROM\", \"Rated\": \"Everyone\", \"Item Weight\": \"4.8 ounces\", \"Manufacturer\": \"Aerosoft N.A. LTD\", \"Date First Available\": \"October 2, 2001\"}',\n",
       " 'parent_asin': 'B000FH0MHO',\n",
       " 'bought_together': None,\n",
       " 'subtitle': None,\n",
       " 'author': None}"
      ]
     },
     "execution_count": 9,
     "metadata": {},
     "output_type": "execute_result"
    }
   ],
   "source": [
    "metadata[0]"
   ]
  },
  {
   "cell_type": "markdown",
   "id": "579d74c8-4672-4647-9cfd-02734f1e4a38",
   "metadata": {},
   "source": [
    "# Split train-val-test\n",
    "We would split the dataset by absolute timestamp, leaving 7 days of data in our validation and 7 days of data in our test set. This splitting strategy mimics the production environment where our models are trained to predict on future data. Even though in practice we may retrain model everyday, we hold out 7 days of data to account for the fact that choosing one day data as validation have a high risk of not representing the true populations since there might be special events on that day."
   ]
  },
  {
   "cell_type": "code",
   "execution_count": 10,
   "id": "54908dd2-0307-46e6-8b9e-51587bbe2df1",
   "metadata": {},
   "outputs": [],
   "source": [
    "raw_df = dataset['full'].to_pandas()"
   ]
  },
  {
   "cell_type": "code",
   "execution_count": 11,
   "id": "3961beec-a7a8-4ea1-a739-d800de0f1cd5",
   "metadata": {},
   "outputs": [
    {
     "data": {
      "text/html": [
       "<div>\n",
       "<style scoped>\n",
       "    .dataframe tbody tr th:only-of-type {\n",
       "        vertical-align: middle;\n",
       "    }\n",
       "\n",
       "    .dataframe tbody tr th {\n",
       "        vertical-align: top;\n",
       "    }\n",
       "\n",
       "    .dataframe thead th {\n",
       "        text-align: right;\n",
       "    }\n",
       "</style>\n",
       "<table border=\"1\" class=\"dataframe\">\n",
       "  <thead>\n",
       "    <tr style=\"text-align: right;\">\n",
       "      <th></th>\n",
       "      <th>user_id</th>\n",
       "      <th>parent_asin</th>\n",
       "      <th>rating</th>\n",
       "      <th>timestamp</th>\n",
       "    </tr>\n",
       "  </thead>\n",
       "  <tbody>\n",
       "    <tr>\n",
       "      <th>0</th>\n",
       "      <td>AGCI7FAH4GL5FI65HYLKWTMFZ2CQ</td>\n",
       "      <td>B07SRWRH5D</td>\n",
       "      <td>5.0</td>\n",
       "      <td>1587051114941</td>\n",
       "    </tr>\n",
       "    <tr>\n",
       "      <th>1</th>\n",
       "      <td>AGCI7FAH4GL5FI65HYLKWTMFZ2CQ</td>\n",
       "      <td>B07DK1H3H5</td>\n",
       "      <td>4.0</td>\n",
       "      <td>1608186804795</td>\n",
       "    </tr>\n",
       "    <tr>\n",
       "      <th>2</th>\n",
       "      <td>AGXVBIUFLFGMVLATYXHJYL4A5Q7Q</td>\n",
       "      <td>B07MFMFW34</td>\n",
       "      <td>5.0</td>\n",
       "      <td>1490877431000</td>\n",
       "    </tr>\n",
       "    <tr>\n",
       "      <th>3</th>\n",
       "      <td>AFTC6ZR5IKNRDG5JCPVNVMU3XV2Q</td>\n",
       "      <td>B00HUWA45W</td>\n",
       "      <td>5.0</td>\n",
       "      <td>1427591932000</td>\n",
       "    </tr>\n",
       "    <tr>\n",
       "      <th>4</th>\n",
       "      <td>AFTC6ZR5IKNRDG5JCPVNVMU3XV2Q</td>\n",
       "      <td>B0BCHWZX95</td>\n",
       "      <td>5.0</td>\n",
       "      <td>1577637634017</td>\n",
       "    </tr>\n",
       "    <tr>\n",
       "      <th>...</th>\n",
       "      <td>...</td>\n",
       "      <td>...</td>\n",
       "      <td>...</td>\n",
       "      <td>...</td>\n",
       "    </tr>\n",
       "    <tr>\n",
       "      <th>4555495</th>\n",
       "      <td>AEGJO3XG3JGBVIJW64SDJ6BIYWHQ</td>\n",
       "      <td>B0C89J78ZW</td>\n",
       "      <td>5.0</td>\n",
       "      <td>1694315538121</td>\n",
       "    </tr>\n",
       "    <tr>\n",
       "      <th>4555496</th>\n",
       "      <td>AHTYCU6NSHJ4BY7R2YNDIDGUXS6Q</td>\n",
       "      <td>B089F1BD4W</td>\n",
       "      <td>5.0</td>\n",
       "      <td>1600863891023</td>\n",
       "    </tr>\n",
       "    <tr>\n",
       "      <th>4555497</th>\n",
       "      <td>AF4KDWDGCJSUEB7JESQZ6ZWD2LNA</td>\n",
       "      <td>B0BN942894</td>\n",
       "      <td>5.0</td>\n",
       "      <td>1584887999168</td>\n",
       "    </tr>\n",
       "    <tr>\n",
       "      <th>4555498</th>\n",
       "      <td>AG3BHCQJCY3MPNP3UKVAENSGQM2A</td>\n",
       "      <td>B09SM83KRP</td>\n",
       "      <td>1.0</td>\n",
       "      <td>1666690302530</td>\n",
       "    </tr>\n",
       "    <tr>\n",
       "      <th>4555499</th>\n",
       "      <td>AGDC4SOFDQ3UXPXMEYJ57SMM3F4A</td>\n",
       "      <td>B01GOYVNJM</td>\n",
       "      <td>5.0</td>\n",
       "      <td>1513198389319</td>\n",
       "    </tr>\n",
       "  </tbody>\n",
       "</table>\n",
       "<p>4555500 rows × 4 columns</p>\n",
       "</div>"
      ],
      "text/plain": [
       "                              user_id parent_asin rating      timestamp\n",
       "0        AGCI7FAH4GL5FI65HYLKWTMFZ2CQ  B07SRWRH5D    5.0  1587051114941\n",
       "1        AGCI7FAH4GL5FI65HYLKWTMFZ2CQ  B07DK1H3H5    4.0  1608186804795\n",
       "2        AGXVBIUFLFGMVLATYXHJYL4A5Q7Q  B07MFMFW34    5.0  1490877431000\n",
       "3        AFTC6ZR5IKNRDG5JCPVNVMU3XV2Q  B00HUWA45W    5.0  1427591932000\n",
       "4        AFTC6ZR5IKNRDG5JCPVNVMU3XV2Q  B0BCHWZX95    5.0  1577637634017\n",
       "...                               ...         ...    ...            ...\n",
       "4555495  AEGJO3XG3JGBVIJW64SDJ6BIYWHQ  B0C89J78ZW    5.0  1694315538121\n",
       "4555496  AHTYCU6NSHJ4BY7R2YNDIDGUXS6Q  B089F1BD4W    5.0  1600863891023\n",
       "4555497  AF4KDWDGCJSUEB7JESQZ6ZWD2LNA  B0BN942894    5.0  1584887999168\n",
       "4555498  AG3BHCQJCY3MPNP3UKVAENSGQM2A  B09SM83KRP    1.0  1666690302530\n",
       "4555499  AGDC4SOFDQ3UXPXMEYJ57SMM3F4A  B01GOYVNJM    5.0  1513198389319\n",
       "\n",
       "[4555500 rows x 4 columns]"
      ]
     },
     "execution_count": 11,
     "metadata": {},
     "output_type": "execute_result"
    }
   ],
   "source": [
    "raw_df"
   ]
  },
  {
   "cell_type": "code",
   "execution_count": 12,
   "id": "36158740-709f-47db-be95-86d20b226bbe",
   "metadata": {},
   "outputs": [],
   "source": [
    "metadata_raw_df = metadata.to_pandas()"
   ]
  },
  {
   "cell_type": "code",
   "execution_count": 13,
   "id": "c2cb4705-e909-450d-9cc6-4cb1fedc8e89",
   "metadata": {
    "scrolled": true
   },
   "outputs": [
    {
     "data": {
      "text/html": [
       "<div>\n",
       "<style scoped>\n",
       "    .dataframe tbody tr th:only-of-type {\n",
       "        vertical-align: middle;\n",
       "    }\n",
       "\n",
       "    .dataframe tbody tr th {\n",
       "        vertical-align: top;\n",
       "    }\n",
       "\n",
       "    .dataframe thead th {\n",
       "        text-align: right;\n",
       "    }\n",
       "</style>\n",
       "<table border=\"1\" class=\"dataframe\">\n",
       "  <thead>\n",
       "    <tr style=\"text-align: right;\">\n",
       "      <th></th>\n",
       "      <th>main_category</th>\n",
       "      <th>title</th>\n",
       "      <th>average_rating</th>\n",
       "      <th>rating_number</th>\n",
       "      <th>features</th>\n",
       "      <th>description</th>\n",
       "      <th>price</th>\n",
       "      <th>images</th>\n",
       "      <th>videos</th>\n",
       "      <th>store</th>\n",
       "      <th>categories</th>\n",
       "      <th>details</th>\n",
       "      <th>parent_asin</th>\n",
       "      <th>bought_together</th>\n",
       "      <th>subtitle</th>\n",
       "      <th>author</th>\n",
       "    </tr>\n",
       "  </thead>\n",
       "  <tbody>\n",
       "    <tr>\n",
       "      <th>0</th>\n",
       "      <td>Video Games</td>\n",
       "      <td>Dash 8-300 Professional Add-On</td>\n",
       "      <td>5.0</td>\n",
       "      <td>1</td>\n",
       "      <td>[Features Dash 8-300 and 8-Q300 ('Q' rollout l...</td>\n",
       "      <td>[The Dash 8-300 Professional Add-On lets you p...</td>\n",
       "      <td>None</td>\n",
       "      <td>{'hi_res': [None], 'large': ['https://m.media-...</td>\n",
       "      <td>{'title': [], 'url': [], 'user_id': []}</td>\n",
       "      <td>Aerosoft</td>\n",
       "      <td>[Video Games, PC, Games]</td>\n",
       "      <td>{\"Pricing\": \"The strikethrough price is the Li...</td>\n",
       "      <td>B000FH0MHO</td>\n",
       "      <td>None</td>\n",
       "      <td>None</td>\n",
       "      <td>None</td>\n",
       "    </tr>\n",
       "    <tr>\n",
       "      <th>1</th>\n",
       "      <td>Video Games</td>\n",
       "      <td>Phantasmagoria: A Puzzle of Flesh</td>\n",
       "      <td>4.1</td>\n",
       "      <td>18</td>\n",
       "      <td>[Windows 95]</td>\n",
       "      <td>[]</td>\n",
       "      <td>None</td>\n",
       "      <td>{'hi_res': ['https://m.media-amazon.com/images...</td>\n",
       "      <td>{'title': [], 'url': [], 'user_id': []}</td>\n",
       "      <td>Sierra</td>\n",
       "      <td>[Video Games, PC, Games]</td>\n",
       "      <td>{\"Best Sellers Rank\": {\"Video Games\": 137612, ...</td>\n",
       "      <td>B00069EVOG</td>\n",
       "      <td>None</td>\n",
       "      <td>None</td>\n",
       "      <td>None</td>\n",
       "    </tr>\n",
       "    <tr>\n",
       "      <th>2</th>\n",
       "      <td>Video Games</td>\n",
       "      <td>NBA 2K17 - Early Tip Off Edition - PlayStation 4</td>\n",
       "      <td>4.3</td>\n",
       "      <td>223</td>\n",
       "      <td>[The #1 rated NBA video game simulation series...</td>\n",
       "      <td>[Following the record-breaking launch of NBA 2...</td>\n",
       "      <td>58.0</td>\n",
       "      <td>{'hi_res': ['https://m.media-amazon.com/images...</td>\n",
       "      <td>{'title': ['NBA 2K17 - Kobe: Haters vs Players...</td>\n",
       "      <td>2K</td>\n",
       "      <td>[Video Games, PlayStation 4, Games]</td>\n",
       "      <td>{\"Release date\": \"September 16, 2016\", \"Best S...</td>\n",
       "      <td>B00Z9TLVK0</td>\n",
       "      <td>None</td>\n",
       "      <td>None</td>\n",
       "      <td>None</td>\n",
       "    </tr>\n",
       "    <tr>\n",
       "      <th>3</th>\n",
       "      <td>Video Games</td>\n",
       "      <td>Nintendo Selects: The Legend of Zelda Ocarina ...</td>\n",
       "      <td>4.9</td>\n",
       "      <td>22</td>\n",
       "      <td>[Authentic Nintendo Selects: The Legend of Zel...</td>\n",
       "      <td>[]</td>\n",
       "      <td>37.42</td>\n",
       "      <td>{'hi_res': ['https://m.media-amazon.com/images...</td>\n",
       "      <td>{'title': [], 'url': [], 'user_id': []}</td>\n",
       "      <td>Amazon Renewed</td>\n",
       "      <td>[Video Games, Legacy Systems, Nintendo Systems...</td>\n",
       "      <td>{\"Best Sellers Rank\": {\"Video Games\": 51019, \"...</td>\n",
       "      <td>B07SZJZV88</td>\n",
       "      <td>None</td>\n",
       "      <td>None</td>\n",
       "      <td>None</td>\n",
       "    </tr>\n",
       "    <tr>\n",
       "      <th>4</th>\n",
       "      <td>Video Games</td>\n",
       "      <td>Thrustmaster Elite Fitness Pack for Nintendo Wii</td>\n",
       "      <td>3.0</td>\n",
       "      <td>3</td>\n",
       "      <td>[Includes (9) Total Accessories, Pedometer, Wi...</td>\n",
       "      <td>[The Thrustmaster Motion Plus Elite Fitness Pa...</td>\n",
       "      <td>None</td>\n",
       "      <td>{'hi_res': [None, None, None, None, None, None...</td>\n",
       "      <td>{'title': [], 'url': [], 'user_id': []}</td>\n",
       "      <td>THRUSTMASTER</td>\n",
       "      <td>[Video Games, Legacy Systems, Nintendo Systems...</td>\n",
       "      <td>{\"Release date\": \"November 1, 2009\", \"Pricing\"...</td>\n",
       "      <td>B002WH4ZJG</td>\n",
       "      <td>None</td>\n",
       "      <td>None</td>\n",
       "      <td>None</td>\n",
       "    </tr>\n",
       "    <tr>\n",
       "      <th>...</th>\n",
       "      <td>...</td>\n",
       "      <td>...</td>\n",
       "      <td>...</td>\n",
       "      <td>...</td>\n",
       "      <td>...</td>\n",
       "      <td>...</td>\n",
       "      <td>...</td>\n",
       "      <td>...</td>\n",
       "      <td>...</td>\n",
       "      <td>...</td>\n",
       "      <td>...</td>\n",
       "      <td>...</td>\n",
       "      <td>...</td>\n",
       "      <td>...</td>\n",
       "      <td>...</td>\n",
       "      <td>...</td>\n",
       "    </tr>\n",
       "    <tr>\n",
       "      <th>137264</th>\n",
       "      <td>None</td>\n",
       "      <td>Story of Seasons: Pioneers Of Olive Town (Nint...</td>\n",
       "      <td>4.5</td>\n",
       "      <td>397</td>\n",
       "      <td>[A wild world of discovery - tame the wilderne...</td>\n",
       "      <td>[Product Description, Inspired by Tales of you...</td>\n",
       "      <td>31.04</td>\n",
       "      <td>{'hi_res': ['https://m.media-amazon.com/images...</td>\n",
       "      <td>{'title': [], 'url': [], 'user_id': []}</td>\n",
       "      <td>Marvelous Europe</td>\n",
       "      <td>[Video Games, Nintendo Switch, Games]</td>\n",
       "      <td>{\"Release date\": \"March 26, 2021\", \"Best Selle...</td>\n",
       "      <td>B09XQJS4CZ</td>\n",
       "      <td>None</td>\n",
       "      <td>None</td>\n",
       "      <td>None</td>\n",
       "    </tr>\n",
       "    <tr>\n",
       "      <th>137265</th>\n",
       "      <td>Video Games</td>\n",
       "      <td>MotoGP 18 (PC DVD) UK IMPORT REGION FREE</td>\n",
       "      <td>4.0</td>\n",
       "      <td>1</td>\n",
       "      <td>[Brand new game engine - MotoGP18 has been reb...</td>\n",
       "      <td>[Become the champion of the 2018 MotoGP Season...</td>\n",
       "      <td>None</td>\n",
       "      <td>{'hi_res': ['https://m.media-amazon.com/images...</td>\n",
       "      <td>{'title': [], 'url': [], 'user_id': []}</td>\n",
       "      <td>Milestone</td>\n",
       "      <td>[Video Games, Game Genre of the Month]</td>\n",
       "      <td>{\"Pricing\": \"The strikethrough price is the Li...</td>\n",
       "      <td>B07DGPTGNV</td>\n",
       "      <td>None</td>\n",
       "      <td>None</td>\n",
       "      <td>None</td>\n",
       "    </tr>\n",
       "    <tr>\n",
       "      <th>137266</th>\n",
       "      <td>Cell Phones &amp; Accessories</td>\n",
       "      <td>Century Accessory Soft Silicone Protective Ski...</td>\n",
       "      <td>2.9</td>\n",
       "      <td>19</td>\n",
       "      <td>[Easy access to all buttons, controls and port...</td>\n",
       "      <td>[This soft case cover will add a splash of col...</td>\n",
       "      <td>None</td>\n",
       "      <td>{'hi_res': ['https://m.media-amazon.com/images...</td>\n",
       "      <td>{'title': [], 'url': [], 'user_id': []}</td>\n",
       "      <td>Century Accessory</td>\n",
       "      <td>[Video Games, Legacy Systems, Xbox Systems, Xb...</td>\n",
       "      <td>{\"Package Dimensions\": \"2.76 x 2.76 x 0.2 inch...</td>\n",
       "      <td>B00HUWCQBW</td>\n",
       "      <td>None</td>\n",
       "      <td>None</td>\n",
       "      <td>None</td>\n",
       "    </tr>\n",
       "    <tr>\n",
       "      <th>137267</th>\n",
       "      <td>None</td>\n",
       "      <td>Hasbro Interactive Mr. Potato Head Activity Pa...</td>\n",
       "      <td>3.9</td>\n",
       "      <td>5</td>\n",
       "      <td>[]</td>\n",
       "      <td>[Amazon.com, Everyone's favorite master-of-dis...</td>\n",
       "      <td>None</td>\n",
       "      <td>{'hi_res': [None, 'https://m.media-amazon.com/...</td>\n",
       "      <td>{'title': [], 'url': [], 'user_id': []}</td>\n",
       "      <td>Hasbro</td>\n",
       "      <td>[Video Games, PC, Games]</td>\n",
       "      <td>{\"Release date\": \"July 24, 1999\", \"Best Seller...</td>\n",
       "      <td>B00002S9MH</td>\n",
       "      <td>None</td>\n",
       "      <td>None</td>\n",
       "      <td>None</td>\n",
       "    </tr>\n",
       "    <tr>\n",
       "      <th>137268</th>\n",
       "      <td>None</td>\n",
       "      <td>Worms: Armageddon</td>\n",
       "      <td>4.3</td>\n",
       "      <td>13</td>\n",
       "      <td>[]</td>\n",
       "      <td>[Product Description, Do you ever wonder what ...</td>\n",
       "      <td>None</td>\n",
       "      <td>{'hi_res': ['https://m.media-amazon.com/images...</td>\n",
       "      <td>{'title': [], 'url': [], 'user_id': []}</td>\n",
       "      <td>Hasbro</td>\n",
       "      <td>[Video Games, Legacy Systems, Sega Systems, Se...</td>\n",
       "      <td>{\"Release date\": \"December 3, 1999\", \"Best Sel...</td>\n",
       "      <td>B00001OX4N</td>\n",
       "      <td>None</td>\n",
       "      <td>None</td>\n",
       "      <td>None</td>\n",
       "    </tr>\n",
       "  </tbody>\n",
       "</table>\n",
       "<p>137269 rows × 16 columns</p>\n",
       "</div>"
      ],
      "text/plain": [
       "                    main_category  \\\n",
       "0                     Video Games   \n",
       "1                     Video Games   \n",
       "2                     Video Games   \n",
       "3                     Video Games   \n",
       "4                     Video Games   \n",
       "...                           ...   \n",
       "137264                       None   \n",
       "137265                Video Games   \n",
       "137266  Cell Phones & Accessories   \n",
       "137267                       None   \n",
       "137268                       None   \n",
       "\n",
       "                                                    title  average_rating  \\\n",
       "0                          Dash 8-300 Professional Add-On             5.0   \n",
       "1                       Phantasmagoria: A Puzzle of Flesh             4.1   \n",
       "2        NBA 2K17 - Early Tip Off Edition - PlayStation 4             4.3   \n",
       "3       Nintendo Selects: The Legend of Zelda Ocarina ...             4.9   \n",
       "4        Thrustmaster Elite Fitness Pack for Nintendo Wii             3.0   \n",
       "...                                                   ...             ...   \n",
       "137264  Story of Seasons: Pioneers Of Olive Town (Nint...             4.5   \n",
       "137265           MotoGP 18 (PC DVD) UK IMPORT REGION FREE             4.0   \n",
       "137266  Century Accessory Soft Silicone Protective Ski...             2.9   \n",
       "137267  Hasbro Interactive Mr. Potato Head Activity Pa...             3.9   \n",
       "137268                                  Worms: Armageddon             4.3   \n",
       "\n",
       "        rating_number                                           features  \\\n",
       "0                   1  [Features Dash 8-300 and 8-Q300 ('Q' rollout l...   \n",
       "1                  18                                       [Windows 95]   \n",
       "2                 223  [The #1 rated NBA video game simulation series...   \n",
       "3                  22  [Authentic Nintendo Selects: The Legend of Zel...   \n",
       "4                   3  [Includes (9) Total Accessories, Pedometer, Wi...   \n",
       "...               ...                                                ...   \n",
       "137264            397  [A wild world of discovery - tame the wilderne...   \n",
       "137265              1  [Brand new game engine - MotoGP18 has been reb...   \n",
       "137266             19  [Easy access to all buttons, controls and port...   \n",
       "137267              5                                                 []   \n",
       "137268             13                                                 []   \n",
       "\n",
       "                                              description  price  \\\n",
       "0       [The Dash 8-300 Professional Add-On lets you p...   None   \n",
       "1                                                      []   None   \n",
       "2       [Following the record-breaking launch of NBA 2...   58.0   \n",
       "3                                                      []  37.42   \n",
       "4       [The Thrustmaster Motion Plus Elite Fitness Pa...   None   \n",
       "...                                                   ...    ...   \n",
       "137264  [Product Description, Inspired by Tales of you...  31.04   \n",
       "137265  [Become the champion of the 2018 MotoGP Season...   None   \n",
       "137266  [This soft case cover will add a splash of col...   None   \n",
       "137267  [Amazon.com, Everyone's favorite master-of-dis...   None   \n",
       "137268  [Product Description, Do you ever wonder what ...   None   \n",
       "\n",
       "                                                   images  \\\n",
       "0       {'hi_res': [None], 'large': ['https://m.media-...   \n",
       "1       {'hi_res': ['https://m.media-amazon.com/images...   \n",
       "2       {'hi_res': ['https://m.media-amazon.com/images...   \n",
       "3       {'hi_res': ['https://m.media-amazon.com/images...   \n",
       "4       {'hi_res': [None, None, None, None, None, None...   \n",
       "...                                                   ...   \n",
       "137264  {'hi_res': ['https://m.media-amazon.com/images...   \n",
       "137265  {'hi_res': ['https://m.media-amazon.com/images...   \n",
       "137266  {'hi_res': ['https://m.media-amazon.com/images...   \n",
       "137267  {'hi_res': [None, 'https://m.media-amazon.com/...   \n",
       "137268  {'hi_res': ['https://m.media-amazon.com/images...   \n",
       "\n",
       "                                                   videos              store  \\\n",
       "0                 {'title': [], 'url': [], 'user_id': []}           Aerosoft   \n",
       "1                 {'title': [], 'url': [], 'user_id': []}             Sierra   \n",
       "2       {'title': ['NBA 2K17 - Kobe: Haters vs Players...                 2K   \n",
       "3                 {'title': [], 'url': [], 'user_id': []}     Amazon Renewed   \n",
       "4                 {'title': [], 'url': [], 'user_id': []}       THRUSTMASTER   \n",
       "...                                                   ...                ...   \n",
       "137264            {'title': [], 'url': [], 'user_id': []}   Marvelous Europe   \n",
       "137265            {'title': [], 'url': [], 'user_id': []}          Milestone   \n",
       "137266            {'title': [], 'url': [], 'user_id': []}  Century Accessory   \n",
       "137267            {'title': [], 'url': [], 'user_id': []}             Hasbro   \n",
       "137268            {'title': [], 'url': [], 'user_id': []}             Hasbro   \n",
       "\n",
       "                                               categories  \\\n",
       "0                                [Video Games, PC, Games]   \n",
       "1                                [Video Games, PC, Games]   \n",
       "2                     [Video Games, PlayStation 4, Games]   \n",
       "3       [Video Games, Legacy Systems, Nintendo Systems...   \n",
       "4       [Video Games, Legacy Systems, Nintendo Systems...   \n",
       "...                                                   ...   \n",
       "137264              [Video Games, Nintendo Switch, Games]   \n",
       "137265             [Video Games, Game Genre of the Month]   \n",
       "137266  [Video Games, Legacy Systems, Xbox Systems, Xb...   \n",
       "137267                           [Video Games, PC, Games]   \n",
       "137268  [Video Games, Legacy Systems, Sega Systems, Se...   \n",
       "\n",
       "                                                  details parent_asin  \\\n",
       "0       {\"Pricing\": \"The strikethrough price is the Li...  B000FH0MHO   \n",
       "1       {\"Best Sellers Rank\": {\"Video Games\": 137612, ...  B00069EVOG   \n",
       "2       {\"Release date\": \"September 16, 2016\", \"Best S...  B00Z9TLVK0   \n",
       "3       {\"Best Sellers Rank\": {\"Video Games\": 51019, \"...  B07SZJZV88   \n",
       "4       {\"Release date\": \"November 1, 2009\", \"Pricing\"...  B002WH4ZJG   \n",
       "...                                                   ...         ...   \n",
       "137264  {\"Release date\": \"March 26, 2021\", \"Best Selle...  B09XQJS4CZ   \n",
       "137265  {\"Pricing\": \"The strikethrough price is the Li...  B07DGPTGNV   \n",
       "137266  {\"Package Dimensions\": \"2.76 x 2.76 x 0.2 inch...  B00HUWCQBW   \n",
       "137267  {\"Release date\": \"July 24, 1999\", \"Best Seller...  B00002S9MH   \n",
       "137268  {\"Release date\": \"December 3, 1999\", \"Best Sel...  B00001OX4N   \n",
       "\n",
       "       bought_together subtitle author  \n",
       "0                 None     None   None  \n",
       "1                 None     None   None  \n",
       "2                 None     None   None  \n",
       "3                 None     None   None  \n",
       "4                 None     None   None  \n",
       "...                ...      ...    ...  \n",
       "137264            None     None   None  \n",
       "137265            None     None   None  \n",
       "137266            None     None   None  \n",
       "137267            None     None   None  \n",
       "137268            None     None   None  \n",
       "\n",
       "[137269 rows x 16 columns]"
      ]
     },
     "execution_count": 13,
     "metadata": {},
     "output_type": "execute_result"
    }
   ],
   "source": [
    "metadata_raw_df"
   ]
  },
  {
   "cell_type": "markdown",
   "id": "4cee5c73-a1d4-4579-9eff-e5b43e231fd5",
   "metadata": {},
   "source": [
    "## Select the period for modeling"
   ]
  },
  {
   "cell_type": "code",
   "execution_count": 14,
   "id": "8176b04d-ce44-40be-88df-ed59336a3b19",
   "metadata": {},
   "outputs": [],
   "source": [
    "import plotly.express as px\n",
    "\n",
    "from src.utils.data_prep import parse_dt, handle_dtypes"
   ]
  },
  {
   "cell_type": "code",
   "execution_count": 15,
   "id": "306cd3f3-4e65-4ac3-b637-b1d5aa3baca6",
   "metadata": {},
   "outputs": [],
   "source": [
    "raw_df = (\n",
    "    raw_df\n",
    "    .pipe(parse_dt)\n",
    "    .pipe(handle_dtypes)\n",
    ")"
   ]
  },
  {
   "cell_type": "code",
   "execution_count": 16,
   "id": "13009770-8754-4557-b120-daee8d842329",
   "metadata": {},
   "outputs": [],
   "source": [
    "max_date = datetime.strptime(\"2023-01-07\", \"%Y-%m-%d\")\n",
    "fit_min_date = max_date - timedelta(days=args.fit_num_days)"
   ]
  },
  {
   "cell_type": "code",
   "execution_count": 17,
   "id": "42f0b474-72ab-4139-a647-7856f2d53e83",
   "metadata": {},
   "outputs": [],
   "source": [
    "fit_df = raw_df.loc[lambda df: df['timestamp'].between(fit_min_date, max_date)]"
   ]
  },
  {
   "cell_type": "code",
   "execution_count": 18,
   "id": "99842e07-4d21-4b03-a652-1f169b31d157",
   "metadata": {},
   "outputs": [
    {
     "data": {
      "text/html": [
       "<div>\n",
       "<style scoped>\n",
       "    .dataframe tbody tr th:only-of-type {\n",
       "        vertical-align: middle;\n",
       "    }\n",
       "\n",
       "    .dataframe tbody tr th {\n",
       "        vertical-align: top;\n",
       "    }\n",
       "\n",
       "    .dataframe thead th {\n",
       "        text-align: right;\n",
       "    }\n",
       "</style>\n",
       "<table border=\"1\" class=\"dataframe\">\n",
       "  <thead>\n",
       "    <tr style=\"text-align: right;\">\n",
       "      <th></th>\n",
       "      <th>count</th>\n",
       "      <th>unique</th>\n",
       "      <th>top</th>\n",
       "      <th>freq</th>\n",
       "      <th>mean</th>\n",
       "      <th>min</th>\n",
       "      <th>25%</th>\n",
       "      <th>50%</th>\n",
       "      <th>75%</th>\n",
       "      <th>max</th>\n",
       "      <th>std</th>\n",
       "    </tr>\n",
       "  </thead>\n",
       "  <tbody>\n",
       "    <tr>\n",
       "      <th>user_id</th>\n",
       "      <td>121672</td>\n",
       "      <td>95541</td>\n",
       "      <td>AF3T3YI4DGABBU3CNRW2UASWCOMA</td>\n",
       "      <td>70</td>\n",
       "      <td>NaN</td>\n",
       "      <td>NaN</td>\n",
       "      <td>NaN</td>\n",
       "      <td>NaN</td>\n",
       "      <td>NaN</td>\n",
       "      <td>NaN</td>\n",
       "      <td>NaN</td>\n",
       "    </tr>\n",
       "    <tr>\n",
       "      <th>parent_asin</th>\n",
       "      <td>121672</td>\n",
       "      <td>20949</td>\n",
       "      <td>B07V8YSBFG</td>\n",
       "      <td>1166</td>\n",
       "      <td>NaN</td>\n",
       "      <td>NaN</td>\n",
       "      <td>NaN</td>\n",
       "      <td>NaN</td>\n",
       "      <td>NaN</td>\n",
       "      <td>NaN</td>\n",
       "      <td>NaN</td>\n",
       "    </tr>\n",
       "    <tr>\n",
       "      <th>rating</th>\n",
       "      <td>121672.0</td>\n",
       "      <td>NaN</td>\n",
       "      <td>NaN</td>\n",
       "      <td>NaN</td>\n",
       "      <td>3.932803</td>\n",
       "      <td>1.0</td>\n",
       "      <td>3.0</td>\n",
       "      <td>5.0</td>\n",
       "      <td>5.0</td>\n",
       "      <td>5.0</td>\n",
       "      <td>1.512106</td>\n",
       "    </tr>\n",
       "    <tr>\n",
       "      <th>timestamp</th>\n",
       "      <td>121672</td>\n",
       "      <td>NaN</td>\n",
       "      <td>NaN</td>\n",
       "      <td>NaN</td>\n",
       "      <td>2022-11-20 12:38:56.630720768</td>\n",
       "      <td>2022-09-25 00:00:33.663000</td>\n",
       "      <td>2022-10-25 02:26:30.932000</td>\n",
       "      <td>2022-11-22 01:36:38.600999936</td>\n",
       "      <td>2022-12-18 01:48:24.887749888</td>\n",
       "      <td>2023-01-06 23:59:42.997000</td>\n",
       "      <td>NaN</td>\n",
       "    </tr>\n",
       "  </tbody>\n",
       "</table>\n",
       "</div>"
      ],
      "text/plain": [
       "                count unique                           top  freq  \\\n",
       "user_id        121672  95541  AF3T3YI4DGABBU3CNRW2UASWCOMA    70   \n",
       "parent_asin    121672  20949                    B07V8YSBFG  1166   \n",
       "rating       121672.0    NaN                           NaN   NaN   \n",
       "timestamp      121672    NaN                           NaN   NaN   \n",
       "\n",
       "                                      mean                         min  \\\n",
       "user_id                                NaN                         NaN   \n",
       "parent_asin                            NaN                         NaN   \n",
       "rating                            3.932803                         1.0   \n",
       "timestamp    2022-11-20 12:38:56.630720768  2022-09-25 00:00:33.663000   \n",
       "\n",
       "                                    25%                            50%  \\\n",
       "user_id                             NaN                            NaN   \n",
       "parent_asin                         NaN                            NaN   \n",
       "rating                              3.0                            5.0   \n",
       "timestamp    2022-10-25 02:26:30.932000  2022-11-22 01:36:38.600999936   \n",
       "\n",
       "                                       75%                         max  \\\n",
       "user_id                                NaN                         NaN   \n",
       "parent_asin                            NaN                         NaN   \n",
       "rating                                 5.0                         5.0   \n",
       "timestamp    2022-12-18 01:48:24.887749888  2023-01-06 23:59:42.997000   \n",
       "\n",
       "                  std  \n",
       "user_id           NaN  \n",
       "parent_asin       NaN  \n",
       "rating       1.512106  \n",
       "timestamp         NaN  "
      ]
     },
     "execution_count": 18,
     "metadata": {},
     "output_type": "execute_result"
    }
   ],
   "source": [
    "fit_df.describe(include='all').T"
   ]
  },
  {
   "cell_type": "markdown",
   "id": "51338f69-8c86-4111-bf26-eba4ba6ea580",
   "metadata": {},
   "source": [
    "## Split"
   ]
  },
  {
   "cell_type": "code",
   "execution_count": 19,
   "id": "21d59e8c-dd0b-41d5-8e41-9f6ea18ccd79",
   "metadata": {},
   "outputs": [],
   "source": [
    "from src.features.split import train_test_split_timebased"
   ]
  },
  {
   "cell_type": "code",
   "execution_count": 20,
   "id": "9f9e5fdc-f9f8-4a14-b79c-5944852ee1f1",
   "metadata": {},
   "outputs": [
    {
     "name": "stderr",
     "output_type": "stream",
     "text": [
      "\u001b[32m2024-09-01 09:28:57.674\u001b[0m | \u001b[1mINFO    \u001b[0m | \u001b[36msrc.features.split.timebased\u001b[0m:\u001b[36mtrain_test_split_timebased\u001b[0m:\u001b[36m28\u001b[0m - \u001b[1mRemoving the new users in val and test sets...\u001b[0m\n",
      "\u001b[32m2024-09-01 09:28:57.713\u001b[0m | \u001b[1mINFO    \u001b[0m | \u001b[36msrc.features.split.timebased\u001b[0m:\u001b[36mtrain_test_split_timebased\u001b[0m:\u001b[36m34\u001b[0m - \u001b[1mRemoved 8950 users from val set\u001b[0m\n",
      "\u001b[32m2024-09-01 09:28:57.714\u001b[0m | \u001b[1mINFO    \u001b[0m | \u001b[36msrc.features.split.timebased\u001b[0m:\u001b[36mtrain_test_split_timebased\u001b[0m:\u001b[36m37\u001b[0m - \u001b[1mRemoved 10969 users from test set\u001b[0m\n"
     ]
    }
   ],
   "source": [
    "train_df, val_df, test_df = train_test_split_timebased(fit_df, args)"
   ]
  },
  {
   "cell_type": "markdown",
   "id": "b4d0505c-b077-46fd-8ba8-b5563eeca009",
   "metadata": {},
   "source": [
    "# Load into PyTorch dataset\n",
    "\n",
    "We will build a model to predict the rating for a pair of user-item by utilizing only the user_id and item_id"
   ]
  },
  {
   "cell_type": "code",
   "execution_count": 21,
   "id": "ec36a5fc-5aea-4584-aea6-c70500d825b0",
   "metadata": {
    "scrolled": true
   },
   "outputs": [
    {
     "name": "stdout",
     "output_type": "stream",
     "text": [
      "{'user_ids': ['AH3ACQ7TBS7IT4SRSWEYLLJ3ND3Q', 'AH67BI7JTOFR35HMZYFVOEHM4CPQ', 'AH67BI7JTOFR35HMZYFVOEHM4CPQ', 'AHBI5SLZDP3Q3LZPETJLCHQFGLUA', 'AHBI5SLZDP3Q3LZPETJLCHQFGLUA', 'AHBI5SLZDP3Q3LZPETJLCHQFGLUA', 'AG7JSIKUQPSL5AAPRDRKDNWM4U2A', 'AHUPTBY3F3UN2S5H7K5JLP6MAV5Q', 'AHUPTBY3F3UN2S5H7K5JLP6MAV5Q', 'AHUPTBY3F3UN2S5H7K5JLP6MAV5Q', 'AHUPTBY3F3UN2S5H7K5JLP6MAV5Q', 'AHHFW36BP4VMQWC6V2NTKIXFAA2A', 'AEIPJBAN7A55Q5DFFPZSR2UV3OKA', 'AHZOJQDTMJ6WIHY2RV7PB6K5TG7Q', 'AHZOJQDTMJ6WIHY2RV7PB6K5TG7Q', 'AHZOJQDTMJ6WIHY2RV7PB6K5TG7Q', 'AGEFLX2M37K7NSODGTH4XTOFNCVA', 'AET5VFNIYKIHIPO3ZALZSLXX3KOQ', 'AF76P2AWQWB7ZDCNGZO2GV7JIK4Q', 'AFOEUN2ZGL4ZAY43DYHRF6SENVWA', 'AEUAL3EJKUSTNB4YY6STLYGTJALA', 'AEUAL3EJKUSTNB4YY6STLYGTJALA', 'AEUAL3EJKUSTNB4YY6STLYGTJALA', 'AEUAL3EJKUSTNB4YY6STLYGTJALA', 'AF4WLLHTQLRPEZ33OJDYG23MFLKQ', 'AED5VKZVSF7PC3TOET3PKBA5J2JA', 'AHBSL5FBY72KB63INTSP3SNGMFBQ', 'AHBSL5FBY72KB63INTSP3SNGMFBQ', 'AEBEJ6DXXVSLCXD6NJ4XPVWRYDNA', 'AHXOCRWNKC552ESFF3L32W4FJTLA', 'AGXFNB4LAEFSU3XCAJPZWQDUTB4Q', 'AFG7N7YAFN5JNRB5PTBKSENW6QAA', 'AFUSWNVA72MMWHGYWJ652SYX2JJQ', 'AHR4BEXIRURKL3POXW5RJFJLJDQQ', 'AET7USDGJ7EL5YUJU55S32IFRZDQ', 'AHIA5XPWTOJZDI54HLWISR5W43HQ', 'AHIUDIC4IOC3TUWC25ISKZZ4W6JA', 'AF7O4YWFUBPXDDO4DXDHF23N4GDQ', 'AF5JSPANM6KY5VZIYWQFNDSQB7XA', 'AFK4TT2JRBD6VFCVJMHXQDKT6HVQ', 'AFK4TT2JRBD6VFCVJMHXQDKT6HVQ', 'AGAKZVLD4DKHOTRVCVR3YCS7OQXQ', 'AFIYSCWRQIKHWMAXCZMLATD4RAIA', 'AEEDFUQ7SXVEZ4VBHTED5D6MZ7QA', 'AFHPJTBQYQHQXIFBAODXDAIGCGMQ', 'AHR6RGZTLOMBD7EBF3OK43JWMGNQ', 'AFKMX6JZ655VPVYHBTATZQS4IBOQ', 'AFKMX6JZ655VPVYHBTATZQS4IBOQ', 'AFKMX6JZ655VPVYHBTATZQS4IBOQ', 'AFKMX6JZ655VPVYHBTATZQS4IBOQ', 'AE7YYSYFEWAYIUCAK4W33CHPP4JQ', 'AFJ74T4L5ZMC7PCNN4C567JNFWWA', 'AGVXN42IKSKKBNVFGKCMKIZEBNSQ', 'AEI2VFUN253QWNF5IK666EDDAIVA', 'AGZZXSMMS4WRHHJRBUJZI4FZDHKQ', 'AGZZXSMMS4WRHHJRBUJZI4FZDHKQ', 'AGZZXSMMS4WRHHJRBUJZI4FZDHKQ', 'AFXAMSEN6MT4WQHSXCV4JRGXWODA', 'AFXAMSEN6MT4WQHSXCV4JRGXWODA', 'AFXAMSEN6MT4WQHSXCV4JRGXWODA', 'AGD25H7BIT2JUXSIOPYCYB23J3ZQ', 'AEXGISIVX7WBUNI7UHHERVB3DF7Q', 'AEXGISIVX7WBUNI7UHHERVB3DF7Q', 'AFTQN4MTJHHVFM4FEXY5KT76OY4A', 'AFTQN4MTJHHVFM4FEXY5KT76OY4A', 'AG2GIQSWIDV5EJPJVBGNAFDFTO7A', 'AGEXGKLTS4OMDBDEYUBXYFVO43NQ', 'AEIYGW3C6TG7RLSEN43XVWYMQKJA', 'AFWV6K2OLH7XHFVYHHYRO7QTIACQ', 'AFRYUVHP2U7DQCD7SJLDNX32LQ2Q', 'AFRYUVHP2U7DQCD7SJLDNX32LQ2Q', 'AFRYUVHP2U7DQCD7SJLDNX32LQ2Q', 'AFRYUVHP2U7DQCD7SJLDNX32LQ2Q', 'AEGYU6OM2X66SMZN6AF3TSQ3N5PQ', 'AEA3QROYFMKRIOJ3O6QZAFM6DGUQ', 'AEQKKHGPQHHB4X2WM2HKPPWBPR5Q', 'AEQKKHGPQHHB4X2WM2HKPPWBPR5Q', 'AEQKKHGPQHHB4X2WM2HKPPWBPR5Q', 'AEQKKHGPQHHB4X2WM2HKPPWBPR5Q', 'AHDSEQNTSVKKO6RDLRWCNRDNCC5Q', 'AHDSEQNTSVKKO6RDLRWCNRDNCC5Q', 'AFXWG5BL7EL3R5KKXREHG6IKAA5A', 'AGJRTAYHWPVZP2EWFME3ZW5HSP4Q', 'AFQYPO5W3NGJQUFFXJKTOLQSWQMQ', 'AFQYPO5W3NGJQUFFXJKTOLQSWQMQ', 'AFQYPO5W3NGJQUFFXJKTOLQSWQMQ', 'AFZ37EYQG7FPF4XCFMN65CRWEHSA', 'AFZ37EYQG7FPF4XCFMN65CRWEHSA', 'AFZ37EYQG7FPF4XCFMN65CRWEHSA', 'AFZ37EYQG7FPF4XCFMN65CRWEHSA', 'AFTZWAK3ZHAPCNSOT5GCKQDECBTQ', 'AFTZWAK3ZHAPCNSOT5GCKQDECBTQ', 'AFTZWAK3ZHAPCNSOT5GCKQDECBTQ', 'AFTZWAK3ZHAPCNSOT5GCKQDECBTQ', 'AFTZWAK3ZHAPCNSOT5GCKQDECBTQ', 'AFTZWAK3ZHAPCNSOT5GCKQDECBTQ', 'AFTZWAK3ZHAPCNSOT5GCKQDECBTQ', 'AFTZWAK3ZHAPCNSOT5GCKQDECBTQ', 'AFTZWAK3ZHAPCNSOT5GCKQDECBTQ', 'AFTZWAK3ZHAPCNSOT5GCKQDECBTQ', 'AFTZWAK3ZHAPCNSOT5GCKQDECBTQ', 'AFTZWAK3ZHAPCNSOT5GCKQDECBTQ', 'AFTZWAK3ZHAPCNSOT5GCKQDECBTQ', 'AFTZWAK3ZHAPCNSOT5GCKQDECBTQ', 'AFTZWAK3ZHAPCNSOT5GCKQDECBTQ', 'AFTZWAK3ZHAPCNSOT5GCKQDECBTQ', 'AFTZWAK3ZHAPCNSOT5GCKQDECBTQ', 'AHJYOD56GVUHGUW6NV4US7JR6NDA', 'AHJYOD56GVUHGUW6NV4US7JR6NDA', 'AFKMFPXGX3P77IXKB56RQBIMNGZQ', 'AFKMFPXGX3P77IXKB56RQBIMNGZQ', 'AGW2YFQE4AOEHCE747ESDJYULJMA', 'AFPE2WVSKVLKF5SJ3CC5HGEGUW3Q', 'AEJ4FAZBYK7Z4W3W477GHPLZJM5Q', 'AHTO6WQRMTTZBNYLNCMTCOCBGHWA', 'AHTO6WQRMTTZBNYLNCMTCOCBGHWA', 'AEFN444E6MMESIIDJAX2EQVIZBLQ', 'AHS2GIDWDIDNVX5ZZW2YFJALRKWQ', 'AGII4Z44PVMXN66MQ6LWCMR5EQJA', 'AE26N5BRXPJ6PH2RXRAZFSMUJ2HQ', 'AE26N5BRXPJ6PH2RXRAZFSMUJ2HQ', 'AFQTRWQCJBYHBUIH5IYQC53LXQ5Q', 'AGYJSTBTVNP4NGF3VFDCPU425IYQ', 'AEXFRBK44A6TGMENEP52A6FCLAGQ', 'AH4GETIUB2DLCAWSNNTFSZYCDK6A', 'AH4GETIUB2DLCAWSNNTFSZYCDK6A', 'AH4GETIUB2DLCAWSNNTFSZYCDK6A', 'AF55FUKR6YCMSMSJKWGD32C6EIBQ', 'AEIP3BUYOUS3GIVDVC24RMTQRHJQ', 'AFEOYJ3ZMSCSGSWX6N4F3VW5WUHA', 'AHIMQFAX6YPUFUAWQG47Q3LFAK6Q', 'AE2EKVOUKXCINN6HACQVHAY5HEPQ', 'AETHMBAOX4VA5GTRMRRTS6JDC6XA', 'AHDHESLDAFUXPOEIJTNZIRWPNWTQ', 'AF67GLUYMESIASFCLVK4BNUUON3A', 'AHJRVOTAS3GNTXZLMFC7NLOYFOPQ', 'AH3YY2ZCU2EVNWMZGDDPURKZ36OA', 'AFAPQNZVNH5UMLMHS3AQP7RAVUXQ', 'AFVHQMKNDQHSLVQ37XCTDU4BXNKQ', 'AFVHQMKNDQHSLVQ37XCTDU4BXNKQ', 'AF2TOOUR2HKXG2DAA5KNOZS5MPQQ', 'AH5Z77BWRBBY24Y5XXJOMYE2NAZQ', 'AHMUH223L44HNQXOFTI2MJYXNIAA', 'AEJFNXUU3FLJFIB6FXKXH5X3NOOQ', 'AHZRRVMZDX4BT57ERFUHWGEQ7N5Q', 'AG4ANUOFQQTR2OIO4N57QD2R3XCA', 'AEO77PF7QZ6WQOZVVUZMLVGVIW6Q', 'AHD7IMCL7JGT2VPAJDMINO5YJI3A', 'AHD7IMCL7JGT2VPAJDMINO5YJI3A', 'AFWZQUDUSQVOTJYV4Q5JAQMC32RQ', 'AHJLL6TKCUOOI2EZJ2TXQS6RX73A', 'AFVV7CLXY43P3Z3F7SROBZATZVSQ', 'AFVV7CLXY43P3Z3F7SROBZATZVSQ', 'AEXYLV5YOYWSLGG47VVECVURA7XQ', 'AFZDKJMOCGD5KJ2TXWOZB5OAJO5A', 'AHT6AM6BNIZUHFJB5V2M6XM72G7Q', 'AG644AQBRT56BVFDCJMISCNTSRMA', 'AH2LTMRG3MQNGRZYPPCOJF4KPS3A', 'AF6SM2ESLD534XWS7P6PFSL257CA', 'AF6SM2ESLD534XWS7P6PFSL257CA', 'AF3HJN4RAVROL3VX2JSRMIKG6KEA', 'AG3UYYQB5C4RUENJ3GGCVZYKDG7Q', 'AH6TYYXG6TSGI2MYOLCO34ICHCRA', 'AFFG5FOLZO25O35TD4G3EUWBQAVQ', 'AFIVBH42S454M4QT26E4M5TDNFAQ', 'AF3ODW6NCKEVVTGZNFS6FUQYSGTQ', 'AGHZXVOSR6BUBEGP6K3BDYLSOJ3Q', 'AGHZXVOSR6BUBEGP6K3BDYLSOJ3Q', 'AGHZXVOSR6BUBEGP6K3BDYLSOJ3Q', 'AGHZXVOSR6BUBEGP6K3BDYLSOJ3Q', 'AGHZXVOSR6BUBEGP6K3BDYLSOJ3Q', 'AGHZXVOSR6BUBEGP6K3BDYLSOJ3Q', 'AGHZXVOSR6BUBEGP6K3BDYLSOJ3Q', 'AHZOUC6O5BCEFKVIIMVOAV4XXU5Q', 'AFQFRYX2LYJWWJENGIOTHS44DLVA', 'AHGGQYODPTSRNBKPMRDNTWYS3ZMQ', 'AHGGQYODPTSRNBKPMRDNTWYS3ZMQ', 'AHGGQYODPTSRNBKPMRDNTWYS3ZMQ', 'AHGGQYODPTSRNBKPMRDNTWYS3ZMQ', 'AHGGQYODPTSRNBKPMRDNTWYS3ZMQ', 'AHC6IUZKKP2MF6HVOKDWGUV3RYJQ', 'AH2LPKKI6ORC2GNKBTTEQNXODIUA', 'AH2LPKKI6ORC2GNKBTTEQNXODIUA', 'AEYLD5YXCAFZU3CP7KHIVVPCU7LA', 'AEGYJ3HXGB5ZCQNOMOEPNTEQVMFA', 'AG2URODTJYWCDB2AJUTU3HOOFJTA', 'AG2URODTJYWCDB2AJUTU3HOOFJTA', 'AGADVBZ7F4UI3PJTWVD7QZEWF6FA', 'AG7WCEXJVFHYS3RSGJ6BLOVRQVMQ', 'AGLSIZFWIZRXMZB734W25GDBUZ2Q', 'AGLSIZFWIZRXMZB734W25GDBUZ2Q', 'AHEJFNYBMZNWTMQ2XRANRNOVAR2Q', 'AGLAXAXPGATV32W6M7LQ7BF5B4FA', 'AH6YCOA3EJK2565L32L3SNUGWRAQ', 'AFGJ3KPBR5YLQNFBVTNEPJTU5PTQ', 'AH6N4IDDAFEI5WTS4IYEHETPRM4A', 'AH6N4IDDAFEI5WTS4IYEHETPRM4A', 'AH6N4IDDAFEI5WTS4IYEHETPRM4A', 'AG3YTFU4HQS4SY6QGEXG32C3Q67A', 'AHYB2QYZGVJFNZUFNVVUROCFM6NQ', 'AESYTBMOXTIZRPYZFIQIXCAQ2WOA', 'AHXN7UJCPXCDGBFAEIRYQFVRQJKA', 'AHS3BYEXVP4RMJMIDJUDKGFROX7Q', 'AHRQCRMOEGU33UKDC4DATE5O5BEQ', 'AE2BN4VMYJBKYSGO3WQTFOLX377Q', 'AGHGJHYKKU4WHEBPXZES2HF6V7ZA', 'AGUKZTAIUGO55ZH6OA4DTJEZOXUQ', 'AGZKBDLUUJJWIJQOUOBG6DKELW5Q', 'AF2YONMKLRKCX3HLAZ5IXB7Y5BIQ', 'AF3FLBYMIWAQRT5SBRAPWX4RWVJA', 'AF6JV7D2OVLPEDNFQUQCXK7SA3PA', 'AFZY2BG7TPTF4JGMFSHOF4VSIQNQ', 'AHKZ7ZXXLLT2MFSSPQBT2AFZHHLA', 'AHGIPQMMWMU4MZDDJCGVIQSCK3OQ', 'AF74YOLNFZVVTXCVMMDYV5VM7IGQ', 'AFKPGHAZSS4ECALWIHMMIYOC66HA', 'AFFQVCO2GF6YXUOHEPBCQ637MIQQ', 'AHNX2J5DDSI6CH655QJFQC4LZ5KA', 'AG3ETVDIV5OSEJWFQT4I2K2ZZYCQ', 'AHYM6WCVEALOKNFZPACGW74XEFIQ', 'AHYM6WCVEALOKNFZPACGW74XEFIQ', 'AE7SUYDF3UWDRLVER2RI67A2LYFA', 'AE7SUYDF3UWDRLVER2RI67A2LYFA', 'AFKS6EEYDLNTTMWMQWR25AHJ2NWA', 'AFKS6EEYDLNTTMWMQWR25AHJ2NWA', 'AFDR3G6FQBQG666TTAG3H7ZUTDPA', 'AF7N5E2M3S5QGYEHN7SIAIZSKGOA', 'AGLYTGMYL2FNH4A6I4LVTTPL7HRA', 'AFGAA4ZBENVMEYKSHWZY42XZSIIA', 'AFGAA4ZBENVMEYKSHWZY42XZSIIA', 'AFGAA4ZBENVMEYKSHWZY42XZSIIA', 'AFGAA4ZBENVMEYKSHWZY42XZSIIA', 'AFGAA4ZBENVMEYKSHWZY42XZSIIA', 'AFGAA4ZBENVMEYKSHWZY42XZSIIA', 'AFGAA4ZBENVMEYKSHWZY42XZSIIA', 'AERHCWS5C6JQFWQVNDVIVD3Y5LCQ', 'AERHCWS5C6JQFWQVNDVIVD3Y5LCQ', 'AGRUOAEDZ3DOB6MP5RK7R3MCZMGQ', 'AESWVDUXI2BEI6UV5BMLLV2JEDYQ', 'AESWVDUXI2BEI6UV5BMLLV2JEDYQ', 'AFPU7BHCDA4HSG5EE3B5WF2LMBUQ', 'AFPU7BHCDA4HSG5EE3B5WF2LMBUQ', 'AGLFVPOJOSOUTRFBVIHMXEQW47QA', 'AGFH6DKZX7FGSGPZZS3XZAACMB4Q', 'AGFH6DKZX7FGSGPZZS3XZAACMB4Q', 'AGFH6DKZX7FGSGPZZS3XZAACMB4Q', 'AHXYXYHXGDZ5FB7JR2HZVT63NBSQ', 'AHXYXYHXGDZ5FB7JR2HZVT63NBSQ', 'AHXYXYHXGDZ5FB7JR2HZVT63NBSQ', 'AHXYXYHXGDZ5FB7JR2HZVT63NBSQ', 'AHXYXYHXGDZ5FB7JR2HZVT63NBSQ', 'AHXYXYHXGDZ5FB7JR2HZVT63NBSQ', 'AHT5CUJ2KRJ442O7HTMURJJRFK5Q', 'AGAV7IY4HWGYRUIAGUZRXYUJ22DA', 'AGAV7IY4HWGYRUIAGUZRXYUJ22DA', 'AGAV7IY4HWGYRUIAGUZRXYUJ22DA', 'AFCF2CCALW3XYCF2ZI6I5QRG65WA', 'AGSSXFAJJN2TWXWEN3PP3MPDYLFA', 'AEBMYYL5EOLCOZ4DYGP6SA7KNNMQ', 'AEBMYYL5EOLCOZ4DYGP6SA7KNNMQ', 'AEMIZMO6SSJQPMTGYTVVRUIH2AGQ', 'AFMZFXBQDMMRKFBST53EEYK6DYZA', 'AFMZFXBQDMMRKFBST53EEYK6DYZA', 'AEE5XRNNTZ2CGK27EV3HFFCNOFNA', 'AEE5XRNNTZ2CGK27EV3HFFCNOFNA', 'AEE5XRNNTZ2CGK27EV3HFFCNOFNA', 'AEE5XRNNTZ2CGK27EV3HFFCNOFNA', 'AGF7LDUQN4OVGSFWLBND4GDKGCGA', 'AF6V7J4IW5EQ4J5J7JGDM2LWVPSQ', 'AFSZPYNWDTDCQWVC2ZDOXI3OSYMQ', 'AFSZPYNWDTDCQWVC2ZDOXI3OSYMQ', 'AEDWEQVU3E7DBJTF66FNABS326LA', 'AEDWEQVU3E7DBJTF66FNABS326LA', 'AEDWEQVU3E7DBJTF66FNABS326LA', 'AG3HYY4LX2EFGXPYZEGCRYM566TA', 'AGO532E476RVW5EV56MPUCRTGFUA', 'AHPJ2UZMUDOGK7YZU6B5NPEHUB2A', 'AGEWBBUZEXZJVYISJRSDQZIA7PIQ', 'AHNOIPKMCEWQ672M6LUN5KDCPKQA', 'AHNOIPKMCEWQ672M6LUN5KDCPKQA', 'AHNOIPKMCEWQ672M6LUN5KDCPKQA', 'AEZ5SGRUEXZDK63BSZ4P3JLBLT6Q', 'AHQE4EXAB5DILUPHEVU3LPPPO6DQ', 'AEQGALKNRYPKY2WBY5WYQ6NOTA6A', 'AE6EDAIVF7BWXDILFGTIPCEBNXNA', 'AGZNFH7L5APXROKCMMC3GDYK5UOA', 'AHNTB45U2UUY4XCKC5IQJKUVPX5Q', 'AFKVE5HRFK3X27DPXME72PUR5NXQ', 'AGUSQVWLDQWPOPGYSSZJQ3UO5L4Q', 'AH4XCB2Y625HV2YDSO4IH2SMOXSQ', 'AHLR2RX6YAA4VPN7RRTVJEPOWKAA', 'AHEZLWQWB6LAQ332J552XN7KRATQ', 'AG56JM4FBF5LWPWCBY6HVTJ7EEPA', 'AG56JM4FBF5LWPWCBY6HVTJ7EEPA', 'AG56JM4FBF5LWPWCBY6HVTJ7EEPA', 'AG56JM4FBF5LWPWCBY6HVTJ7EEPA', 'AG56JM4FBF5LWPWCBY6HVTJ7EEPA', 'AG56JM4FBF5LWPWCBY6HVTJ7EEPA', 'AG56JM4FBF5LWPWCBY6HVTJ7EEPA', 'AG56JM4FBF5LWPWCBY6HVTJ7EEPA', 'AE5RER2LMMTNPXXANLQ6KUZGKJEA', 'AG5D67VWPXXND4Y2DFKBLSDOLCSA', 'AG5D67VWPXXND4Y2DFKBLSDOLCSA', 'AG5D67VWPXXND4Y2DFKBLSDOLCSA', 'AG5D67VWPXXND4Y2DFKBLSDOLCSA', 'AF3YJNJBEY4RQQNABS2JEKVNAH2Q', 'AF3YJNJBEY4RQQNABS2JEKVNAH2Q', 'AEPEZ7GNCKZ7KJVQ2MK56RTMS5SA', 'AFASVIXUIAKBWKUH2THLAFTYVVKA', 'AFASVIXUIAKBWKUH2THLAFTYVVKA', 'AFQ5YZI27LW7662ES5VII5INVUBQ', 'AFQ5YZI27LW7662ES5VII5INVUBQ', 'AFQ5YZI27LW7662ES5VII5INVUBQ', 'AFQ5YZI27LW7662ES5VII5INVUBQ', 'AGMD6UDSBJU6LBWTNVJMSUSYUYQA', 'AGMD6UDSBJU6LBWTNVJMSUSYUYQA', 'AFJFWK6AU7FG5P2PGM6XNV2UAS2Q', 'AGCCYHMFZ3EM4UYIHK75QGWBZH2A', 'AGCCYHMFZ3EM4UYIHK75QGWBZH2A', 'AENB356QSSQLE2NAMKE2CF7LGZ4A', 'AENB356QSSQLE2NAMKE2CF7LGZ4A', 'AENB356QSSQLE2NAMKE2CF7LGZ4A', 'AFVMN5E6HVFPGU2CIAJ6ZX4RU3HA', 'AHHSFFOAX2NG3F4MZA3YMHEC3OXQ', 'AE4LYIDR3TONGSG27RNJSYP7ZRWQ', 'AGF3UHZVXDV2LALCIKWO6XBKMQQQ', 'AETJZQW2FF6RLI2H2O4ATJGGPTWQ', 'AETJZQW2FF6RLI2H2O4ATJGGPTWQ', 'AH4Z47YBJ7FV42RHZBLKLGHH35CA', 'AF6YKHK6URJZMOANWEWZQ6SM5CCQ', 'AF5DMYBV5KVFZYBKTFIYSACPATOA', 'AGMNFNKO2LF6JE7TJ7WX7VLR4FHA', 'AFJICH2NIYU6S3UPVSXWILYRVHNA', 'AFJICH2NIYU6S3UPVSXWILYRVHNA', 'AGCWSDXWRNWVOCMYPXWIYONSSA3A', 'AHRM5LDYSR7GMMO2FEIOWSLRW5JQ', 'AHRM5LDYSR7GMMO2FEIOWSLRW5JQ', 'AHRM5LDYSR7GMMO2FEIOWSLRW5JQ', 'AHRM5LDYSR7GMMO2FEIOWSLRW5JQ', 'AHRM5LDYSR7GMMO2FEIOWSLRW5JQ', 'AHRM5LDYSR7GMMO2FEIOWSLRW5JQ', 'AF7CEG6N2WTQAR3ZH2XCSCKOPS3Q', 'AGIDHZDLUN4ZUIR2X2Y6PSLYCABQ', 'AGIDHZDLUN4ZUIR2X2Y6PSLYCABQ', 'AGIDHZDLUN4ZUIR2X2Y6PSLYCABQ', 'AHWKOBWFK6WETRYXJTMY2RLECFRA', 'AHWKOBWFK6WETRYXJTMY2RLECFRA', 'AGJO2ZC6BZ4GMUYCXB6DPIH4644A', 'AHT3TOONEFINA2O5ORNBHALFDREA', 'AELFUCRHJQWXJ6C4FREFKKD2RSLA', 'AGVKSKXWQPU3YAWQQQW4MLDY5U6A', 'AFU3CPT6PUKZMEXNHQ73PX3RHLRQ', 'AHG4NPSCOBWMGKNZSWFQ2QQEXTHQ', 'AGZFQSJKE7LR2JHL4DWHNC3VKQTQ', 'AGJHXACJPEJUDTONGTC7RGTMBMJQ', 'AGJHXACJPEJUDTONGTC7RGTMBMJQ', 'AERFURIEODJGEQLBNUZMRHEAT3RA', 'AHISU6WTZZJNNVYK5A5UITDIWCNQ', 'AHISU6WTZZJNNVYK5A5UITDIWCNQ', 'AGDD5TMYTSDG5GMRDEBAECVDK5FA', 'AE4SX2IMZGVQSS5SFWP6NEE2HQ4Q', 'AE4SX2IMZGVQSS5SFWP6NEE2HQ4Q', 'AE4SX2IMZGVQSS5SFWP6NEE2HQ4Q', 'AE4SX2IMZGVQSS5SFWP6NEE2HQ4Q', 'AE4SX2IMZGVQSS5SFWP6NEE2HQ4Q', 'AE4SX2IMZGVQSS5SFWP6NEE2HQ4Q', 'AG3F5JCVO7VZH6IMQXJT3SNNR5IQ', 'AESYRPYUF3PZWZ4JB4YGNJZSGCGA', 'AGFW46RRKAK63GZ73CPNHBIOFVZA', 'AGFW46RRKAK63GZ73CPNHBIOFVZA', 'AGFW46RRKAK63GZ73CPNHBIOFVZA', 'AGFW46RRKAK63GZ73CPNHBIOFVZA', 'AGFW46RRKAK63GZ73CPNHBIOFVZA', 'AGFW46RRKAK63GZ73CPNHBIOFVZA', 'AGFW46RRKAK63GZ73CPNHBIOFVZA', 'AGFW46RRKAK63GZ73CPNHBIOFVZA', 'AGFW46RRKAK63GZ73CPNHBIOFVZA', 'AGSM75HHGVYI263VKMFQMK6GJQ7A', 'AGSM75HHGVYI263VKMFQMK6GJQ7A', 'AGSM75HHGVYI263VKMFQMK6GJQ7A', 'AGSM75HHGVYI263VKMFQMK6GJQ7A', 'AGSM75HHGVYI263VKMFQMK6GJQ7A', 'AGNXQ6O3UYR4DCO27DTY7XEAL4UQ', 'AHGKXFRX7ETGS5QBUN5DJBXFZUCA', 'AFSH5XZAFEAEAZTMIM26HXFPRRZA', 'AET62B5DHQYGORAAJYHTT7X7EFZQ', 'AF42ETPRZPAD2IYJZJEJA7WEYU3Q', 'AHV26NCTJSIHIBX4GTTPKT5KLCPA', 'AGIMYEE5YCV5CD5MGS5PM3FF6B2A', 'AH7VYRPFYKQNDNW6R7DOBHXETMWQ', 'AG7HLBKBMFSV6WSTDKM3IVTYXLXQ', 'AFBXZ2BKHZWKQSYWWK5VPVHGRLUQ', 'AGKSGVNHQ2VBI6VX3LEMYVHUYE7Q', 'AE7FNYI3CVRSKX6WNCMTM3LBRSVA', 'AE7FNYI3CVRSKX6WNCMTM3LBRSVA', 'AH6EMIWVNXH3655QVKY6VFBHCABA', 'AEWZNEF4HZKLXXBFBFYJ6VBNE2IA', 'AEPOCRMJKNR54OTVTAFMS6TIILGQ', 'AE6543BDEBMDZILJ4VLHBZNNL2NA', 'AE6NPHCN745U3SHK3LQDBJZHOO6A', 'AE7LJUM6QZVBL4JFK3YQTDCSHCGQ', 'AGCJRJNBQTHOSAWCI7SW5ZV3AZPQ', 'AGCJRJNBQTHOSAWCI7SW5ZV3AZPQ', 'AGGJLUQ2RAKLR2AXL4S2JZDCJQUQ', 'AGYBYIJIA4W25JKCTJMA26JOY6OA', 'AEBXD3VTUZA3TNUEOAZPNGWQFFGQ', 'AEBXD3VTUZA3TNUEOAZPNGWQFFGQ', 'AE24VPMWEEQD62YPOG53BW7JCGFA', 'AHNRFH7WY6X7Z3B6Q47JSCYKXYNA', 'AGBI2FN2JEXC6KIEGMAPS542VH3A', 'AHUZ6KKUMKIPIGFY6YONEHALSFPA', 'AGBA7SDTBS2I45EIUEICEONWSZKQ', 'AFR4Z6LEDLO5M54RKWNWGLXWU7PQ', 'AHYKJD4XEIN6YO6FGSWGZX7FXSTQ', 'AGKUJVR36275G4FTY5Q6553OWK3Q', 'AHPAXGZTH4KAGQHOWQ4SGU4BN23Q', 'AHPAXGZTH4KAGQHOWQ4SGU4BN23Q', 'AEHHPXZBT73DWDID72NX3QK77QHQ', 'AGDXZVX7ZUSQUQSK6PZURYLEFRXA', 'AEVFWS7JFEKHYDZKH4SI5YDSNGJQ', 'AGWXUEZXZVEH7HTAZLBOCMO62COA', 'AGWXUEZXZVEH7HTAZLBOCMO62COA', 'AGVAOVAHFM3BNNX3FCNXDB6EONNA', 'AGUZ7BODRKXNCJ2TGUV4BGHCD6TA', 'AHCB4OOA4YQR24XGK5YYPOD43TAA', 'AEI6N63YVUXCUAELLNTKUVBJOAVA', 'AGLR5CPOXGDI76BWH6WVLF6DOFNA', 'AGP4PFSKNEI7G2W3JDQM5DYJKHFQ', 'AEX5LXVH2SQKDUYWKBBAVGVHTDIQ', 'AHTO3NX7RWVOGYONZLAWVA636ZBQ', 'AER562IARPS3M5GWOEGMQCR4L23Q', 'AER562IARPS3M5GWOEGMQCR4L23Q', 'AER562IARPS3M5GWOEGMQCR4L23Q', 'AFG6UJ2SWJJPMQXSW77MFJKHCEJQ', 'AFZPD5GP2ANGXSIXFRSI2W4M734Q', 'AFNXCGFGZMLR5XQ3J5PCN6VIELZQ', 'AGOHQHQBNOCXTJYBUVDPAYR4FAYA', 'AGOHQHQBNOCXTJYBUVDPAYR4FAYA', 'AE24AP4G6YYZYCHGRN4DBSG3M3NQ', 'AE24AP4G6YYZYCHGRN4DBSG3M3NQ', 'AE24AP4G6YYZYCHGRN4DBSG3M3NQ', 'AE24AP4G6YYZYCHGRN4DBSG3M3NQ', 'AFYZIHGCEVALWKTN6WWDUAH36PBQ', 'AFEMX2URF62MB36X5GQBK6FZMKQQ', 'AEBY55LVHLHS6VVKH35BPRYPK3TQ', 'AH3BD7YZXZTJ57OXSKKHVXVOJ7RQ', 'AH3BD7YZXZTJ57OXSKKHVXVOJ7RQ', 'AETS23UFISGEDYZACALE37342ZPA', 'AFYWI7TTNXJ6SEAJCTGEHWOIB26Q', 'AH4TDL4MMB3I55ZX5CPQNUDBKXZQ', 'AH4TDL4MMB3I55ZX5CPQNUDBKXZQ', 'AEEMKS7VYCNDPBMYFDMTQPARIIRQ', 'AGSI66MQXWVBO4PSGS4ELHAFXE3A', 'AGBBND4M7EBIDVNJILPEBSIDCIYA', 'AGBBND4M7EBIDVNJILPEBSIDCIYA', 'AERLXHHY3NQO2QU2V5CVD25LHNJA', 'AG7REHZEXAXTTYKS2WHSDQC2YSDQ', 'AFAZORWYKCPA4QERXBTACSQS64OA', 'AFAZORWYKCPA4QERXBTACSQS64OA', 'AETGEPRIZXEQ3MEJI37FW2A5H6YQ', 'AE6NGQXAOIZHRIM63TDDUVIBNEZA', 'AFWIWPE67QV6CN77CXHRUW6PKVHQ', 'AFWIWPE67QV6CN77CXHRUW6PKVHQ', 'AHCWU4GBGNPP5YGLF5Z2AY3XLXMA', 'AHS5AMPZAO65DUBKYHSAB5JQKOTA', 'AHHW3B4TEIZ6AZZ2AGEJL3XM3GCA', 'AHHW3B4TEIZ6AZZ2AGEJL3XM3GCA', 'AHYTTS4EM6YPQ43AO6OE6Y6PZF3Q', 'AF3CWYA3KZRNXXTVODC2KSKQNGFA', 'AGFBOGXXNXNW3BK5EVZKWF7746NA', 'AHNG2OCLL3FXKU3VZPGWTL6UUOLQ', 'AHVRTSS2TCCI24HDXDRQEQ77THZA', 'AH6JZW3IPENNFRP4Y6VKQICULDOA', 'AE6A3WRNPPX26QCX2MZJW2FX26OA', 'AE6A3WRNPPX26QCX2MZJW2FX26OA', 'AE6A3WRNPPX26QCX2MZJW2FX26OA', 'AFV5I4XACU2IRMKKYBBC54N5B6JA', 'AHQRXYVEC4N2A6RB4HIPVSFOXXPQ', 'AFMZSO762CGXRJTPGGUPFPA24L5A', 'AHMETMNQ4LGWMNJKC4WEK3TYKTHA', 'AG44VIKLNPBIQ54BTO6JORBO7HFQ', 'AHINWBOILNCF4YLVNU6FPXAH3D5A', 'AG7RE7TOATZWQQNE7XGUYVYVFG6A', 'AH2Z5UYKEP3FU67QLFZNLMRMEAXQ', 'AH2Z5UYKEP3FU67QLFZNLMRMEAXQ', 'AHBL7WJO4IYFJEFIUR33DYY6DG3Q', 'AGWYMHQPH26D56XUZ54FGTKH5IZQ', 'AHAVCFOTFNN35BQT3SJ3F5BRPCGQ', 'AEXMRX7KWIP2BUICDS37JNGGYXUA', 'AEH3JDV7GPE3DEYUCQRWGWBNUZUQ', 'AGZMI42HM5KQMEPAEZ66WZWWXEFA', 'AFH5WCOIYZRYJKGJFFNWLUPB3OQA', 'AHZDE22SHYI6X2PATMGKNH2OE6GA', 'AG7UIV6JMNB4KWYFIWZ7J3MSYL4Q', 'AHT6N5YQU4MBKP4TDRUD4B2JXC2A', 'AHT6N5YQU4MBKP4TDRUD4B2JXC2A', 'AFASS4IVTEBHA3RKCMKAO6FMM47A', 'AGO7L54VPVELBIRD3ZGFHMBJGDEQ', 'AH5UCNVRO2WQGUDHO27YM67VRUOA', 'AHX73DBAX5LFYIMIXVWEKLFSEJ5A', 'AEFDOYSB3RSWO3MEOTELJVWZ7SUQ', 'AEFDOYSB3RSWO3MEOTELJVWZ7SUQ', 'AEFDOYSB3RSWO3MEOTELJVWZ7SUQ', 'AEFDOYSB3RSWO3MEOTELJVWZ7SUQ', 'AGDPHDIKTSUGLGDBAQKPTAA66R6A', 'AGDPHDIKTSUGLGDBAQKPTAA66R6A', 'AGW7Y5YKIUWSJF2JBLE35MQBHSNA', 'AH5RGIMKYX247W33NJD5TTKU7ZFQ', 'AEDUGCHXYICIO4NJYM6VHXPAIC4A', 'AGZ6S7BRMN4BDJ3VH6QOEUP7O5WQ', 'AGZ6S7BRMN4BDJ3VH6QOEUP7O5WQ', 'AESPPAPRDAORVWSWDNFWJXZJSFTQ', 'AF6GU3VRV2OS5GP4IDHSONU3ND3Q', 'AE6JMAGKKXB3XWFTMMIPPHHJJCOA', 'AGGLVMNQZHZDCHQVRV3WOZMRICIA', 'AGWCCQYU2NFKSDD3J4EBRRAIFCGA', 'AH256D5PKQOL2T766Q7XP53IKFZQ', 'AE5QXWXG4ITUAUVEMB55SLEXXFZA', 'AE2VLSDJLY3SBCWJ4PIQ7ETQOEJQ', 'AGQ2AVHMU76YZ67BPJZLPEZIFLHA', 'AFUKU2BVQIHJ2BLKRWVK4ED4QIOA', 'AFQJN6UHAU6ZLL6WV3OQC5BUYPFQ', 'AEW7JSWY3MIKXXWEICYHYJE4ORJQ', 'AG34R52S5IO637LGNFA3NVST3HGQ', 'AEOANREZ6LVNGCWIK7CXLR4H3EPQ', 'AEOANREZ6LVNGCWIK7CXLR4H3EPQ', 'AEOANREZ6LVNGCWIK7CXLR4H3EPQ', 'AEOANREZ6LVNGCWIK7CXLR4H3EPQ', 'AEOANREZ6LVNGCWIK7CXLR4H3EPQ', 'AEOANREZ6LVNGCWIK7CXLR4H3EPQ', 'AEOANREZ6LVNGCWIK7CXLR4H3EPQ', 'AEOANREZ6LVNGCWIK7CXLR4H3EPQ', 'AFDS7T627BPW5QXL3ATE73VQ3IVQ', 'AFDS7T627BPW5QXL3ATE73VQ3IVQ', 'AFDS7T627BPW5QXL3ATE73VQ3IVQ', 'AH55XA2AN7ORFYRLDQPQEAN25XYQ', 'AHJCWHDV2M4AOHR63GWMOQNSQ4TA', 'AHJCWHDV2M4AOHR63GWMOQNSQ4TA', 'AHJCWHDV2M4AOHR63GWMOQNSQ4TA', 'AHJCWHDV2M4AOHR63GWMOQNSQ4TA', 'AEKYQMGRVC2EHLYZ37QPAVZF42DQ', 'AEKYQMGRVC2EHLYZ37QPAVZF42DQ', 'AG5VZU7PK4P2AQSQZO2HAC5IRE2Q', 'AG2EA4X5AEBT2AYGFOXNP3PJAVEA', 'AE6AHZAD2SCFH25EZ4QVOK23UCIQ', 'AHLFPP4DASPI7LD524SWAZ6HXT5A', 'AFWMRG67ILYWOH3D2DBOPPGJ5VEQ', 'AETQYEVOPFDKD7ZN4UKME5IDTGXQ', 'AESDDFV6EIXNJCKO25QTXOZBAFMQ', 'AGUZJN4KYB7GMN7GCINFZ3IHTXYA', 'AG3HKK7MIKRQ7DOTNDOE63X2WJGQ', 'AFR3PL6NRXAWBRGCOF774RY3RXKA', 'AGAWBIBUZZ4AJKHCR22RJJIE3XBQ', 'AGTEAL4LYPVS53FHRSLEF2FEVBKA', 'AFFRZQARNXHN64IXKB7AAEUKTTPA', 'AGRFI5C436IEODHLYJW4R5QLF7FA', 'AGRFI5C436IEODHLYJW4R5QLF7FA', 'AEQMNRUYPPZOS5R5TR7GBL6RQHSQ', 'AGDUJC67KSCCRPQOGSOLFWYTL7SA', 'AHQCEA2ZVQK64PADPVWPCRV2SUZQ', 'AEC4CZQ3YYGZNKHUY2QDMOVL4YFA', 'AEQ5DADXJK3G4BXWU2XKYHTD6P3Q', 'AGHIPSFQWUWZOC6OD6W7WB6IQW2A', 'AHQBMX3Z5D6VYEBZHUO2J7OAATXQ', 'AHQBMX3Z5D6VYEBZHUO2J7OAATXQ', 'AF7OGVVMKENSFPTCXY74VBRDAZIA', 'AFFR4HBHHVNRPQBKEX4YBIUKJ3FQ', 'AGICPOU5A4K6XYPTXYEWZXGYUAQA', 'AHRNIW7DNLQKPTAX6MDLN5IXGF6Q', 'AFTRCTCX3WLLALPQOPDCVM75HLAA', 'AFTRCTCX3WLLALPQOPDCVM75HLAA', 'AGODCZXEWENVNZQ2NP6JI4WBPG6A', 'AGK25NMSKYIVRHKLU5UFELH3UQWQ', 'AHYJHOPIHCMECZHEORKPWQ2L4MBQ', 'AHYJHOPIHCMECZHEORKPWQ2L4MBQ', 'AH54RKVFOJMRKOIOCPJCECNMYDIA', 'AH54RKVFOJMRKOIOCPJCECNMYDIA', 'AFWYSPAGLQEQ4XTWGPK3PVXUMQZA', 'AFWYSPAGLQEQ4XTWGPK3PVXUMQZA', 'AFWYSPAGLQEQ4XTWGPK3PVXUMQZA', 'AGVSGBCDHPTYJFWBZFIFYHSFXEWQ', 'AECPQ7MRFUFPC5X7HIHF353W44VA', 'AECPQ7MRFUFPC5X7HIHF353W44VA', 'AEQWEVW4QMJ7XWXIYUKJZRPE4VEQ', 'AGOBKOYUMRMGAKXH7JQ4D4X3SJUA', 'AGOBKOYUMRMGAKXH7JQ4D4X3SJUA', 'AGTF5RZCGIBYRSL72MKWVTP5M5MQ', 'AGTF5RZCGIBYRSL72MKWVTP5M5MQ', 'AGTF5RZCGIBYRSL72MKWVTP5M5MQ', 'AGTF5RZCGIBYRSL72MKWVTP5M5MQ', 'AGTF5RZCGIBYRSL72MKWVTP5M5MQ', 'AGTF5RZCGIBYRSL72MKWVTP5M5MQ', 'AGTF5RZCGIBYRSL72MKWVTP5M5MQ', 'AFZTKGS7NKBERG4XBALAV6ABY43A', 'AF5WBHQ4W4NW3FV3X5IWTLNPGBVA', 'AENR22I7TCGPJCI3DVLVGZBBDY3Q', 'AFO74VTRJERNXYOYS5SACXKPRMUQ', 'AEOBT4PH6XVJ2TNZKL6WB62AAU5Q', 'AEOBT4PH6XVJ2TNZKL6WB62AAU5Q', 'AFE3P6QBYDMQHFVW5J3SU5WBXNKQ', 'AH3G3QKYMDO3CZGDQIQOKOLT4XMA', 'AH3G3QKYMDO3CZGDQIQOKOLT4XMA', 'AH3G3QKYMDO3CZGDQIQOKOLT4XMA', 'AH3G3QKYMDO3CZGDQIQOKOLT4XMA', 'AE6EMB3K36VCZ6SQALRVIXMXIDRA', 'AGMKDGITLBOAJHJNRN4IAMOA54KA', 'AF7CXQUPQZZTC42Z3JHJREAWB3XA', 'AF7CXQUPQZZTC42Z3JHJREAWB3XA', 'AF7CXQUPQZZTC42Z3JHJREAWB3XA', 'AGWDHLSQ4HNRFKFRKEKRIEMHELIQ', 'AGWDHLSQ4HNRFKFRKEKRIEMHELIQ', 'AGWDHLSQ4HNRFKFRKEKRIEMHELIQ', 'AFCCNHHIP7ROD5ER4ADM5RPSDP3Q', 'AFS2REUFNMWSIN5X6AIIQNQDHOFA', 'AFPUUKKUXQXEEHUBRKI3XEV4GUGQ', 'AHVNV4WBIG4D6HHZFBNJNRLV522A', 'AFQGCP5PJ4RPQEBQFWBXYGNZNSNA', 'AHZP7JPPG3Z2RUMTIO354LQNAMNQ', 'AEOZVZBLN7IRRTUEHC7UDWQFIIGA', 'AE7QEJMBDAZBG4F5TAJLNGSY674A', 'AGXRNOFOXHPHU6GI2FPWRP6TCNOA', 'AH6I4Q5U6RHVMU5FUYLBSXQZOIAQ', 'AHEZN3DEPI2SYPUUME2MIQSV4WSA', 'AHKIFJQ5ZOBT6YFGIR7KXBYZ7BCQ', 'AEIG2JGKT2BPBC24P2B22ABS33YQ', 'AGM45CV2K2QNZZCWZELNIGQVAJCA', 'AHMOKWZPNQ2WR4MNT3YEWNLU7MOQ', 'AH6BXEDXT2FGO7EYMDPTQG7HO7VA', 'AHDM6WBSD4XJR7UVMOKG2LW4332Q', 'AHDM6WBSD4XJR7UVMOKG2LW4332Q', 'AHWTQRHNYRN5MCDPCSXMR5VCSQRA', 'AG67JDKQRNVLT4D6BGMHAB6AU6JA', 'AHHO73ZECCEN7VDURFRRP2F6NSPQ', 'AEWUS6H5Y5SPJENSN2KWEABUIFIA', 'AEKWP6TELSK2PFRTOURARY4UYADA', 'AFH2SOSBIPXOFGE7RGU4ELQJNDUA', 'AHKCWSGSDSYXCH4C3VTVMXN4HT3A', 'AHSRLS4TYALPWYNKMX32TCDUWYPQ', 'AHMFGR6DPWJ43KRVPUDERUVZ5SGA', 'AEJ5NO3GUUPWPL64UDUU2QQUX7VQ', 'AHQNKS767UDUDH6QYJNUD47C7WVQ', 'AED3EBRLIEOB4GHSU42EBAW7P7GQ', 'AHDPDA236QHIR6CJWJCFCDWQ64DQ', 'AHVFNUBMT6NBSHYW4PUKYAMAJYKQ', 'AERUBJFZXFZX2ZW5HVKX4E4G3FTQ', 'AERUBJFZXFZX2ZW5HVKX4E4G3FTQ', 'AHJN3LORJZKUM7QD5BDX7G7RCGBQ', 'AEPYHFKPM4MTHIH75X5RSWUQ7DMQ', 'AEPYHFKPM4MTHIH75X5RSWUQ7DMQ', 'AEIAGDLVJODDI2Z4HXHVDIH4WZDQ', 'AG5MULDTBNKE5W2UFGILDL7CVX2A', 'AG7P37OYETQ43CMXLZKCMYQXHZOA', 'AG7P37OYETQ43CMXLZKCMYQXHZOA', 'AF57QTS7X4HICCFMORR3OATU3FHQ', 'AF57QTS7X4HICCFMORR3OATU3FHQ', 'AECU4ZE6IY7ZDZPILWR2Q2HBQ6UA', 'AEIGGZVPCURGWZWVSV7TQWBFO7LA', 'AGVI6UKZS7WPVOZ62E3Q5CGJSCBQ', 'AEYT65UTCMLEKTWQABOIQUJIXEKA', 'AEYT65UTCMLEKTWQABOIQUJIXEKA', 'AEYT65UTCMLEKTWQABOIQUJIXEKA', 'AF2VX7KFESYCVHSVHSH4VFLRUI4A', 'AGU6XKYM5W7YLVAL7A6YIQWJXYHQ', 'AEFISAH4I426KOR72TU3MYAU662A', 'AEA4NYV3NJHXLSVMNOBYDO63LDYQ', 'AGL4SZNVKDOV46ITQ2SWPW23GJCQ', 'AE3VHDQ562ET6ZIBIPUUU6KLQQ2A', 'AHAGOXFIF356XBWHXUSBXSZ7WGRA', 'AEXQT4JLQSRD336DQXUAESV4YOJQ', 'AEBBOEG6VTBO7FMAAJHCHHZJAY7Q', 'AFREO2E5GNIV7L65ZMDY4YNWEOIQ', 'AHR677MCEJLGNPYO6XXSWRLXZCYA', 'AHR677MCEJLGNPYO6XXSWRLXZCYA', 'AHR677MCEJLGNPYO6XXSWRLXZCYA', 'AFWORKWXLSKAFTXHHD4W4OXTU65Q', 'AGMBHJO7O4MC3OZNIGCMEGOJ2A7A', 'AGMBHJO7O4MC3OZNIGCMEGOJ2A7A', 'AGMBHJO7O4MC3OZNIGCMEGOJ2A7A', 'AGMBHJO7O4MC3OZNIGCMEGOJ2A7A', 'AGMBHJO7O4MC3OZNIGCMEGOJ2A7A', 'AGTULVYA3FVZVH2QM44JCHYGXISA', 'AGTULVYA3FVZVH2QM44JCHYGXISA', 'AE6MPSLDUKOKIL44CMQ5G3DYLJ4Q', 'AFOZHJBAB72SXUF4LOIU7D7XXLEA', 'AGF7TG2EIMWONOO3WRWONQJVKDNA', 'AE55WHHE3EGBY7DMBBSMLRJ4DS3A', 'AHNXUAHKFVRQ4RVJFSNSVQVPQ6DA', 'AH7R77ZWNDFKIDJYUA6KQPCFT55Q', 'AG44DX54JBZKIV3IV6WFBBHMC3XQ', 'AE3JGBZOYHAXMKWIOJHYWJWPWFSA', 'AF25OZPMLNAL4UXTN6BOECCTS7QA', 'AEGVMMGILJJV7WP2Q3Z6QJASPNLQ', 'AEGVMMGILJJV7WP2Q3Z6QJASPNLQ', 'AEGVMMGILJJV7WP2Q3Z6QJASPNLQ', 'AET7JALPFVT57Z5EC3DTYUGNPTKQ', 'AEQXSAVCC2GF6AS7OZ7GBYUTOLEA', 'AEJMJ3OL36NRQAKZL3VU6S6L4ACA', 'AEJMJ3OL36NRQAKZL3VU6S6L4ACA', 'AEJMJ3OL36NRQAKZL3VU6S6L4ACA', 'AEAREMEINYSCJB7QGBPUKUEZ7UEA', 'AHQ7F6VIO6LC6F4ZTIY3D53X7HWA', 'AGRMDPTGUYZIYIWH2XCHUCNWXRKA', 'AEIKTZCZROCZBF2YOL3YJMSULX5A', 'AGDNFKAZEFSBKSNRWJZUNJABNBXA', 'AEKYEEP3NKCSHJ4P2D3LA3UN6YIA', 'AHSN7TP4YMY6KVHL7HTHJ7UJTF7A', 'AG6FZVHCWSUGIADZABWOX5O4323A', 'AFCIJRUAC25LUJFXDKCMB7HWSJWQ', 'AFKLXXSGWUH3V7XPU3ZRTUPEQGWQ', 'AFKLXXSGWUH3V7XPU3ZRTUPEQGWQ', 'AGLWUNCYUNSPQL4K7VEU7FDIJV5Q', 'AE5TMQ3CD4Z5H2J5OGHAZDZ3YJGA', 'AGOJYZGHZF4RMETDUUSGCR4BIWJQ', 'AGOJYZGHZF4RMETDUUSGCR4BIWJQ', 'AFJZHY7OP7FIQPHYH7J42Y2EYKEA', 'AFJZHY7OP7FIQPHYH7J42Y2EYKEA', 'AEVMYUEKIT2GST2447ULGTBR27DA', 'AHVI4N5FBEEXZ5BPOOTHOU3Y24HA', 'AHVI4N5FBEEXZ5BPOOTHOU3Y24HA', 'AEVCOMRUM6KQPVQKXYBFSGINW4SQ', 'AEVCOMRUM6KQPVQKXYBFSGINW4SQ', 'AFWNT7M7XOUQXTH7SWVMLMRZE4CA', 'AESCAZ4JXVBOH5POK75STSYV6NWQ', 'AGGJ4DMXARFWIQU7LNEVGS6NJQOQ', 'AFXR7W6KTYBKQO4KH2NYV3UOEH5A', 'AFXR7W6KTYBKQO4KH2NYV3UOEH5A', 'AHZVNDBSVL6BWGT2446JDYEDQUJQ', 'AEZVXT2IO5CC56IU233EREE645GQ', 'AEPWMYG36HBRA2WHNB3CLG76OTOA', 'AH7DNDYOOBG4NVSP6Y3GCWWRYZXA', 'AH7DNDYOOBG4NVSP6Y3GCWWRYZXA', 'AFJDM7FBPBBZK3HJX26R2YDIQKLQ', 'AEELZCV6CWKUTNSF3Q43LLBKFRXA', 'AFYZM7N3Y7T2C5DC77676SSJRQGQ', 'AGIWBTWEKU33MREHHCFHRZSUCFAQ', 'AGIWBTWEKU33MREHHCFHRZSUCFAQ', 'AHTTCZINGHKTHTGQKH5XC2AMEWTA', 'AHGE6LTKUTB45BGLR6AB3I5K5FHA', 'AEUQN2PQWEVMMUKXUFNY4IK4I4RQ', 'AFKIKHW5XKNZZPTXPPP4OVNGJVYA', 'AF2CJ3PACOY7QBYH4DXLB7LYRYCA', 'AGBHM47ALHLCLILFM6ZVQGVSIC5Q', 'AGBHM47ALHLCLILFM6ZVQGVSIC5Q', 'AGBHM47ALHLCLILFM6ZVQGVSIC5Q', 'AGBHM47ALHLCLILFM6ZVQGVSIC5Q', 'AGBHM47ALHLCLILFM6ZVQGVSIC5Q', 'AHM23IQDPQIAKOI5NPJAUSPJHJWA', 'AH5U5LBETUTE7PRLJZ6WNL36WPAQ', 'AFOGDLMY5SC2HKM2HHOWA3AH3EHQ', 'AGWVXUFTMGNF6MLAOIU7ZJ4KFRYA', 'AGWVXUFTMGNF6MLAOIU7ZJ4KFRYA', 'AEY2WUUXARLMOUEV24QQQH5UIRKQ', 'AFPOLXBYVXXL5ZSEBRI3ETBB323A', 'AHORWDUASCJWOSOEZPQHAF7I6OFQ', 'AHORWDUASCJWOSOEZPQHAF7I6OFQ', 'AHORWDUASCJWOSOEZPQHAF7I6OFQ', 'AHORWDUASCJWOSOEZPQHAF7I6OFQ', 'AHORWDUASCJWOSOEZPQHAF7I6OFQ', 'AHORWDUASCJWOSOEZPQHAF7I6OFQ', 'AF7K7OVNAYOVOFLMRZLOPGCZPWTA', 'AEHIBZN7MUFIBTJMJNZUVSAXXQJA', 'AGGJNI5R4H2AJ67IRSRGOMMESWNA', 'AHPRW3AXRWZNZIWLQVF33VQS7PLA', 'AGPC2H6HUVLXVENRTPO5ZLDLHV7Q', 'AF4ZK6XXUAVJW6AIRWGDTSZGKSWA', 'AH2YO37S7UTLPKBT4YPW2ZFDPEKQ', 'AHONDQF4LBCQCYNFN35ZQ5KAUDKQ', 'AF4RJG6I7JJQP7QHI6EYOX4TYV5Q', 'AF4RJG6I7JJQP7QHI6EYOX4TYV5Q', 'AF4RJG6I7JJQP7QHI6EYOX4TYV5Q', 'AF4RJG6I7JJQP7QHI6EYOX4TYV5Q', 'AGYM5GYWSKTB4OPNTESV26RM6MVA', 'AFPDSHNWPF745QG5LDFYFMFSDJ5Q', 'AES47PJMNSZKJQCD4GBBD4DBXHVQ', 'AFG2KIDFBVIKRMI4T3334Y5UKKJQ', 'AEFI5YMSXF23YUWZ6INDRMIKFQAQ', 'AEFI5YMSXF23YUWZ6INDRMIKFQAQ', 'AE2NAMRY5WGQSIWF6372NFWEUWMA', 'AFKAP7DRMMIT2A55ZTQNDETGTMYQ', 'AFKAP7DRMMIT2A55ZTQNDETGTMYQ', 'AHAW5V27NYW7M2WSGU2MTORM2Z3A', 'AHMIFFUJ3ZBTTYSZSUJT2RTSBWJA', 'AEDGT7TXU5Q6365TMMDFVUS7BYBQ', 'AHCOJDN4U5VS7IEO4HEC7PATUY3A', 'AF6AQREIUB54AGO7CHU223SWTZRQ', 'AEX2EMU2BQDQYY5A3UWMW7FZUIIA', 'AH7P4YIR4NYWS4FMYEBUVDG6L3WQ', 'AFCSPOOGXVD2F6JUFAWVFIAXKWZQ', 'AES47S3VT57FZ2657VTZUGV2FJCA', 'AE73FEVXJP2DHBLOGSPXTZBUPGVQ', 'AF2SESFIBP7SW7JFYXMZ3R2R2O2Q', 'AGR2I6ROLTIGJDFVSF46UVDCRFHA', 'AHOYN6LMKZKDBZPMCMNUM22N7MUQ', 'AHOYN6LMKZKDBZPMCMNUM22N7MUQ', 'AFTTSTZDOY7LO7Z3R2RYLO3U374A', 'AGOCY6OJNEYXCRBXA5PJIHKEXXTA', 'AEHUGBJA43H2AZLRTIGFXD7JPHFA', 'AEHUGBJA43H2AZLRTIGFXD7JPHFA', 'AEHUGBJA43H2AZLRTIGFXD7JPHFA', 'AGIW4O6XI27FZEKIQOZ34II3VV6Q', 'AFRWGECYP5PNYLNV4O5JR4S5BV2Q', 'AGLPCDNBJKYZTNX7U7G5EX75ASDA', 'AFGDOWXYBXW46W56NEVSOPWFKLWA', 'AFGDOWXYBXW46W56NEVSOPWFKLWA', 'AFGDOWXYBXW46W56NEVSOPWFKLWA', 'AHQZHABMPNABQ3RG2Y6ZU6SVKX4Q', 'AGDKSJ6LIVGLSVUZ3CFCDIKTEUXA', 'AGRZH22OXKI4YYJSKXKXY7XJD5QQ', 'AHMHAZKPL7E2IFIOAZBPW2VVZ2BQ', 'AHMHAZKPL7E2IFIOAZBPW2VVZ2BQ', 'AG5JOONJY6RMIUISMLNNFDD5UHNQ', 'AFEETTPEGKQMYBIKL2ZZRP6T4XYA', 'AEBW4OGNBFKRKQ2VTOBFEEMXGWRQ', 'AEZAXIXM3G5FI7BDVN3DIERDLJGA', 'AGDQW2EJTBULBUCRZ636BU5LOHQQ', 'AGDQW2EJTBULBUCRZ636BU5LOHQQ', 'AETPGIQAN2STPUNM2VUKGAOHI6BA', 'AFOVQC7ASLHMWJA3H6AQRXOCXNPQ', 'AH54LMOTTPHYG2WLIXHKREE2XTZQ', 'AFNGMWBXAFOD7KCBNN3KTJKQY46A', 'AHTJQ6VTDUZEXHG25ABHTTVDMNGQ', 'AH7RP7JYMWMUG52R4BMT2ZHQM52A', 'AESFUKKVYXVIAEDFVCWVWCZHIUSQ', 'AHHAPTU5RTXZR55PEVMGZYL45ZHQ', 'AHHAPTU5RTXZR55PEVMGZYL45ZHQ', 'AH7HYCATMDYURRJX4H4QJT42Z4EQ', 'AH3SQAFGFO7R2KFRJNNUCGXL2E4Q', 'AEBTVHZWVTDCE2ZZQWNQFL7AU36Q', 'AHMCUGIJ4K53V2YXIHFGMNJFGSWA', 'AE4E7R6PADXD4AR5LF7PT53OZKKQ', 'AHS4FBR43J2Y66SQIURKKMTVQSRQ', 'AFLIOFF2OJ7YJCYL6NA5ROROI2YQ', 'AHN2PIFKS7CKF2HVEPPH6PJRI4LA', 'AHA57LT5OCGTPIABMZ2IVKBQCQYQ', 'AHBVPECVVDKTIQM77W42MESIZPKA', 'AHXJKALSQTNTY5FPUFFLHF7FOBDQ', 'AHXJKALSQTNTY5FPUFFLHF7FOBDQ', 'AELDTGEH66HPY2FDTVUSQ4GOAOKQ', 'AHHKLQA4BSNMZLG2O6XDINTAK7JQ', 'AHGBITB5DNYPZNALMVHW2TTKT7XA', 'AHGBITB5DNYPZNALMVHW2TTKT7XA', 'AGFHOF4JNBHZEEVFMQDER2LWI2GA', 'AFSSGENF6R3GABHF3GBX3SCMT5ZQ', 'AHGLMG5RNP5NPJMURNTNORHVPUTQ', 'AE5XEFK4SDWA4IBNTLOFAGCBHXQA', 'AH4SPQAIIQXFGXXFXPJ4AJB7ESXQ', 'AGUTZC4GHLTGYHA3KBEDRF6MHB6A', 'AGUTZC4GHLTGYHA3KBEDRF6MHB6A', 'AGUTZC4GHLTGYHA3KBEDRF6MHB6A', 'AGUTZC4GHLTGYHA3KBEDRF6MHB6A', 'AGUTZC4GHLTGYHA3KBEDRF6MHB6A', 'AGUTZC4GHLTGYHA3KBEDRF6MHB6A', 'AGUTZC4GHLTGYHA3KBEDRF6MHB6A', 'AGUTZC4GHLTGYHA3KBEDRF6MHB6A', 'AGUTZC4GHLTGYHA3KBEDRF6MHB6A', 'AGUTZC4GHLTGYHA3KBEDRF6MHB6A', 'AGUTZC4GHLTGYHA3KBEDRF6MHB6A', 'AGUTZC4GHLTGYHA3KBEDRF6MHB6A', 'AGUTZC4GHLTGYHA3KBEDRF6MHB6A', 'AGUTZC4GHLTGYHA3KBEDRF6MHB6A', 'AGUTZC4GHLTGYHA3KBEDRF6MHB6A', 'AGELVSC7FROZX63343JHL7MHJ6PA', 'AFU2ZR44K5HVRB24VX4KMH3DWYWA', 'AFWGHIIJUQ5232KK7OQVFMRAUXFQ', 'AEOWJK6YEQWIVYX2RPO454Q3MZFA', 'AHVUFVUIDYMYCAHV4S7WWQPR2HHA', 'AE26DBIMJTWQUYKEB75B5E3LTE6A', 'AFKNUYTLO2GLTXWMIHG35KYBL2TA', 'AFKNUYTLO2GLTXWMIHG35KYBL2TA', 'AH6YW5MWTOM2Z75K27OIJAQHBU2A', 'AHSAV5M2TMWCEPTQPR5CKNHZCTEA', 'AHEMOOZAS3CGPLR4GHY3QYQZ3UEA', 'AHJUAIMOQO4VITZCR6NKFAQBX7UQ', 'AEPKN4WOOYG6PFI7QMK7RBOXRPRA', 'AEPKN4WOOYG6PFI7QMK7RBOXRPRA', 'AFKMFCEWTM7OGOJCRZV6X4YOJ3JA', 'AFKMFCEWTM7OGOJCRZV6X4YOJ3JA', 'AFKMFCEWTM7OGOJCRZV6X4YOJ3JA', 'AFKMFCEWTM7OGOJCRZV6X4YOJ3JA', 'AFKMFCEWTM7OGOJCRZV6X4YOJ3JA', 'AFKMFCEWTM7OGOJCRZV6X4YOJ3JA', 'AFKMFCEWTM7OGOJCRZV6X4YOJ3JA', 'AF46HDNCQ7TT6OAOXNJU6IKVW2IA', 'AEBRHRPGW3XTHRIST5JBCSBRV2YQ', 'AEBRHRPGW3XTHRIST5JBCSBRV2YQ', 'AEBRHRPGW3XTHRIST5JBCSBRV2YQ', 'AGO2UXQT4MOWEM5KK7SBURFXGTTQ', 'AEN5VWZITLNAHL4VQXNOXL4D2XNA', 'AFDNHUUDCHUQC7YWFWDYDZZBCMNA', 'AH2JJJUTOMVRPKXOE57M52FZXD2A', 'AGC4ELQM657NZTBE77PY4ZVENLZQ', 'AEHAIKCV4DSZNAXJOILYRAIXIGFQ', 'AHIWKDKXZWDCB5SRICAFYYOEL27A', 'AG6ENUTOT2VMGGVY6CQ552S6HBEQ', 'AEE4RZ3N6QX7E5T6JL7Y4E5TIIWA', 'AFQKQ5GGZRHSG6IQTYU7FBMWVE3Q', 'AGABL7RWZN3WDNEVED75QVGXOYRA', 'AH3XXNKOHVIVZ2WXJCYGVDM7DGQQ', 'AFCACJ2F6NLMBXDIOQWPX2LI2G4A', 'AFCACJ2F6NLMBXDIOQWPX2LI2G4A', 'AFCACJ2F6NLMBXDIOQWPX2LI2G4A', 'AFCACJ2F6NLMBXDIOQWPX2LI2G4A', 'AER43742ZXOSQKQVOGQOD57TXUSA', 'AEOOXF62OUVMNQOUID3XFDHMKXRQ', 'AFVQ6VQPSNGYJP7FOFUEJVXC22RQ', 'AG2XMBAJPOJNDPK2URCWR4RWJTQQ', 'AGYE4NOEW7UPYQPKOVU5SSQF5TVQ', 'AFILHXLYCLOH7WISWERXS3V4PRDA', 'AEHXYPTMXD6WETGEKIRE5PBMZVHQ', 'AF2PHOWSGX53WCJ76NZH6TZH3CDQ', 'AFEYHZ6ZZCDYHVCZKIEDM2HZTVSA', 'AGTYUOEZFHAR3HEYZBOEYIADZAZA', 'AFSKEOEQF5NDSAXUMHYDNI2WDEQA', 'AGSLLXC4TXZLP7IZWCM56R7RTS7A', 'AFM3REQEMIEOLVIH6F7FPZOIJYKA', 'AFM3REQEMIEOLVIH6F7FPZOIJYKA', 'AGMBVAXDOAKNRVZENP7DBSAMPI6A', 'AGMBVAXDOAKNRVZENP7DBSAMPI6A', 'AHMAB4IFKSDN7JIIMATU2NDLIDKA', 'AH7YHARZJF67HADTW6WDQXR4G6SQ', 'AEQAZRVEL5EDSLSLU2TUE3AM3I7Q', 'AHK5UDSBWJYSJL7P3ZLE4HNX2BXQ', 'AHSFOPISYITU75SCKIQHPD6LPVKA', 'AFUZ57BRWIHOCTPMYMJHK25F3QSQ', 'AFDZME2PAUO2OZELET576CETDB6A', 'AFDZME2PAUO2OZELET576CETDB6A', 'AFDZME2PAUO2OZELET576CETDB6A', 'AGY4POBOJF7TPU5BYGNDORJIST4A', 'AHBKZXROYC65LIUZURZP6XXTF2GA', 'AFVKITS47LUHDHG3TSKVJO7XKX7A', 'AHOJMXCVYYZ3OOZ6GCOZQOL3KUUA', 'AE4Y7FC6VZ44FRK2CRX4IRX7YI5A', 'AFXG4ZJ5OQRDUL5ZYFILDLJI5OAA', 'AFXG4ZJ5OQRDUL5ZYFILDLJI5OAA', 'AHPFOXTN4PDNAR7NO5S4L6KRBV4Q', 'AGUMISLRHISGC2GJBPBZKR53NDTQ', 'AFMBLIRX263YGH6SBJIWKQK4FGWQ', 'AFXSY3NGPHVE4SKZSJWR7PFQBRKA', 'AFXSY3NGPHVE4SKZSJWR7PFQBRKA', 'AEUKJGQY4RL5ZCLHFJOPYCLO6F5A', 'AEUKJGQY4RL5ZCLHFJOPYCLO6F5A', 'AEUKJGQY4RL5ZCLHFJOPYCLO6F5A', 'AEUKJGQY4RL5ZCLHFJOPYCLO6F5A', 'AHL4GVCZIHAVA24JAIVRSBL2F3SA', 'AHL4GVCZIHAVA24JAIVRSBL2F3SA', 'AEEI3DBBCL2JC7EN6V5JILTRHOIQ', 'AEXDMGC4OPFON2KAANNPJG62T34A', 'AGKGKCAVLE65AGWFQQJLFWEUJ4XQ', 'AGKGKCAVLE65AGWFQQJLFWEUJ4XQ', 'AF7PMK3GAK72G5K5UIPKLA6BPFCQ', 'AGQU7RGBHQQBBRONKJSCGY5VB2ZQ', 'AH3C3GTM2XTHWFLGYJ55YXVEBS3Q', 'AFN4BXEDD3X5EZF6YFT4FROWBBNA', 'AFN4BXEDD3X5EZF6YFT4FROWBBNA', 'AFN4BXEDD3X5EZF6YFT4FROWBBNA', 'AFN4BXEDD3X5EZF6YFT4FROWBBNA', 'AFN4BXEDD3X5EZF6YFT4FROWBBNA', 'AGLFQ7SF2PCFS6JHZ5E3UVZ5SILA', 'AGLFQ7SF2PCFS6JHZ5E3UVZ5SILA', 'AGLFQ7SF2PCFS6JHZ5E3UVZ5SILA', 'AGLFQ7SF2PCFS6JHZ5E3UVZ5SILA', 'AEMDPDVYTW2LQEVS7BG5GTZFLNAA', 'AEMDPDVYTW2LQEVS7BG5GTZFLNAA', 'AFBTM4YYMVNVATFZQONC3HJ3CINA', 'AFBTM4YYMVNVATFZQONC3HJ3CINA', 'AEFIGS3C6ORFVAOGAMIUAIFXWYXQ', 'AG6RBIZFPZ3MTOOZB5VNZ4XZHIMQ', 'AH3GZNY4CFNABVLVPLFWIAWYA2YA', 'AEEDTQG4CXGLIA47G6QJI4HUUMWA', 'AGPFRJ53C7QLBJ2DRX2NXLBXWNIA', 'AG2S7RW4QC623T4A36QV63KJCGWQ', 'AGMFCJELXWFKT4UKEDHU53Z3KQJQ', 'AHGTXKZU536YCZC6PPGCRZWGKS2Q', 'AFSCBZFNNI6XWFDVLHVSYD6GRD6A', 'AG7HEHOLH6WX5W7WL3NKUMZ46MFA', 'AF7JKYZCPBYLBZS3UKB2OGIVEGTQ', 'AF7JKYZCPBYLBZS3UKB2OGIVEGTQ', 'AFS7WUHDPORKS37JGPRSSHGDECNA', 'AHMP2WPJOCQTRPCBQPLFHYIC5BCA', 'AGQSDUVF7EKEJUXGOZ7VZ3ESJS2Q', 'AFERZ63ABF3S5TRMGZDQE5T5Y6NQ', 'AFERZ63ABF3S5TRMGZDQE5T5Y6NQ', 'AFERZ63ABF3S5TRMGZDQE5T5Y6NQ', 'AFERZ63ABF3S5TRMGZDQE5T5Y6NQ', 'AFERZ63ABF3S5TRMGZDQE5T5Y6NQ', 'AEQHCYQ2SJUXARQJMDG7AZXLJHPA', 'AHKV5YSZON7U2BNAP7NLU3GUXMEQ', 'AGAP4M4A2SAJH6YSQJ2ZNJKGLNLA', 'AHMI7FYZXTHDS22FSCDS4F3SERZQ', 'AHP66YVM5QCONDWBJETXMW67GHMQ', 'AG4R2IZMKTKQRZJNYOXW6HELTP6A', 'AHHGHZWN7DV5HP3CUCZZLRV7RB4Q', 'AHHGHZWN7DV5HP3CUCZZLRV7RB4Q', 'AHHGHZWN7DV5HP3CUCZZLRV7RB4Q', 'AHHGHZWN7DV5HP3CUCZZLRV7RB4Q', 'AHHGHZWN7DV5HP3CUCZZLRV7RB4Q', 'AHEUZ76RBJF26KYBTO25HE2EPCUQ', 'AGABB25DTBKV4TLQDHFH4VYJYDKQ', 'AGUPU6O4RVGM6B6SZ727TUQYR7TQ', 'AGP2N4BPC4CGUZT2AVA26RLME6LQ', 'AEUJ5VFJ5NBD2QFJFDFJAELCPNFA', 'AG4R7PKOUY3BEBNQAEI3AUUJP22A', 'AHY4FDU5L5ZCEEZ672AVXN7LOKNQ', 'AHY4FDU5L5ZCEEZ672AVXN7LOKNQ', 'AF2WZHPU4TZ7Z3GKBG5HH2TYUT5A', 'AHGJBI2DCMQ366N3PHRX6G4FBNSA', 'AHGJBI2DCMQ366N3PHRX6G4FBNSA', 'AHGJBI2DCMQ366N3PHRX6G4FBNSA', 'AGVRQF7ZGOGMUDCKOYDLQD57JPGA', 'AGG55MUN2S52SEN2Q46KG3DPN4XQ', 'AGG55MUN2S52SEN2Q46KG3DPN4XQ', 'AGG55MUN2S52SEN2Q46KG3DPN4XQ', 'AESEOOZ4F7ULA33EBO77CWX7YFTQ', 'AFQEC2MZHDZFRIXIDLHPBW7I2GYA', 'AGJ6X5FTINHOOMU44T6WADKCX73Q', 'AFGGSGMWFE3X5BTQNNI5ZXHZEGAA', 'AHEK4JSJWXYZLWNXS2UEKBA46RRA', 'AGPLALEFE3G63AVZIUFORXFI7MXQ', 'AHFDPKS3UP5P47CNLGAOTRIFXTNA', 'AHFDPKS3UP5P47CNLGAOTRIFXTNA', 'AGVQKAA7XLHBUUGAWMPCB5XNQ7BQ', 'AGVQKAA7XLHBUUGAWMPCB5XNQ7BQ', 'AGR4QWK3IY4GVVPWE5RO76BIZ5BQ', 'AE64D6X7DX4OFSDPUSLMMOICKUGA'], 'item_ids': ['B09Y5PNFT6', 'B07H9L8JRV', 'B07VHFVP1S', 'B07Y5Z1WJ3', 'B0BPBTWX5Z', 'B0B5M8KL5S', 'B09PL5CV2D', 'B0BZW3Y5XX', 'B0BVVGCCM9', 'B0B4JNJH61', 'B0BJQ7RJ83', 'B0B1ZYG4NQ', 'B0B7YVBQ68', 'B003N18O38', 'B007FVVXXA', 'B095C1877G', 'B0C5K2TWD8', 'B0BXP879GV', 'B07V8YSBFG', 'B0B8RYX9V8', 'B0B1TMZB5S', 'B0BBTCZF9T', 'B09QGR9KVG', 'B0B93KZ9P7', 'B08RW9X3NF', 'B0B7KVHM1Y', 'B09N7CJSGS', 'B0B8YYDT95', 'B0BQ2R14HB', 'B005OGPTSS', 'B08JR94Z37', 'B09XM8MMYD', 'B0BDL84PTY', 'B0B3J1CB3B', 'B09M6YFK7Y', 'B09YD1VJ61', 'B07NPYW85T', 'B08H99BPJN', 'B0C94D6KST', 'B08HK167QV', 'B09MRM36JJ', 'B07HYW4XMP', 'B08N579SF1', 'B0BCHPDZY3', 'B0B74C25R4', 'B0B6HPNGQZ', 'B0B8NB44FR', 'B0C4DLHNRD', 'B0BFB5DXLX', 'B0BTX47X76', 'B09ZPFT6D5', 'B0B96D7ZL2', 'B0B5HMZY68', 'B09V1NMZB2', 'B09Y4JKX8L', 'B0BKFJJ7FP', 'B0BC88FFRQ', 'B0B2DNJZH7', 'B09ZPFT6D5', 'B0BXR7J5JV', 'B0BCHXFHZT', 'B0BJ8NSWSZ', 'B0BGJ2TC1V', 'B0BG129J94', 'B0BL56PRW2', 'B0C6KR97PD', 'B0B997J65J', 'B0BZFWMYSQ', 'B07YFZSFSG', 'B0B5VZ3358', 'B0BQ2R14HB', 'B0B6R541H2', 'B0BN2CF2P8', 'B09XWN5SM5', 'B0C948SGYT', 'B07ZV9HX9V', 'B08XQM1QHW', 'B09ZL8YP8D', 'B0C8N32DZL', 'B0BFGPFYBK', 'B09STVV9M8', 'B00CHRNOPW', 'B0B6BF97TZ', 'B06Y5CD64C', 'B077GG9D5D', 'B01MT1DCIV', 'B09XK3PNFN', 'B0BRCYYHFF', 'B0B7FHMQW7', 'B09TFJFSWD', 'B0B9L7RQGL', 'B0BLZ57WPS', 'B0B17DYHP4', 'B0B4FQLPWP', 'B0BYJC24JD', 'B09STVV9M8', 'B083GGSM4L', 'B0BS17DWCR', 'B0BGDB7DP4', 'B0BG8PK49K', 'B0BFBQDQ36', 'B0BF5N7NHW', 'B0BJZ95S6T', 'B0BKSC5V2H', 'B09PGJD1SP', 'B0BNLJCCYY', 'B0BG55W3QY', 'B092QQDG9V', 'B0BJQ7RJ83', 'B0BGGXSC3V', 'B0B2QQZPWC', 'B09BPVW8NT', 'B09N8T31YC', 'B0BLBGFNLC', 'B09898CP58', 'B079YZRR26', 'B09LYLSJ1Z', 'B0C7GS2VS8', 'B09TQBJCJ6', 'B09323LLN7', 'B08HR44BN4', 'B0BYVN9ZK2', 'B09TSDB5PX', 'B08F52Y2PN', 'B09DFCB66S', 'B0B3RW1BS1', 'B0C4XNCNP2', 'B0BN3SDBC5', 'B00I5LMSE2', 'B0B2R7YRZG', 'B0C9CZSGNS', 'B09TPF6NQ8', 'B0BLHZ97NV', 'B0B5M8KL5S', 'B0B2JT1F4D', 'B073V71KGZ', 'B09B1L53CB', 'B09PFKGRT6', 'B0C4FRBFNQ', 'B09KZ4BZNT', 'B07V3T7WF1', 'B08CBS51BW', 'B0B6TX8572', 'B08L23CGX8', 'B0C1K1R6HK', 'B08XY4WH45', 'B089GR6T6M', 'B0BR7NT37B', 'B0BP6HRHL6', 'B09C2DLCPG', 'B0C6239Y3K', 'B0BFNDPLVN', 'B0BFJ3YJD5', 'B09TBGHQCY', 'B0BBGKH4CZ', 'B09X1CKFW2', 'B0BFWRGTN7', 'B09P2G8Z6K', 'B09T6KJ1YW', 'B09LHB9HX9', 'B08VFRVYT8', 'B00HBUOVIO', 'B09TQBJCJ6', 'B0BDK97VM6', 'B0B3RJML38', 'B09STJT7MD', 'B09MZ9VSW4', 'B09Z8RXYD4', 'B09VSJBP1R', 'B0B5CKKZT5', 'B0BHY6BBTH', 'B0B8N2ZXX4', 'B0BDL84PTY', 'B0BLSKRDFX', 'B0B16656Z2', 'B09N32QV7K', 'B0B2VV47G4', 'B09V25XG1G', 'B01N9RCM34', 'B09T6QVRKH', 'B09J83TDQC', 'B0B79ZJR3V', 'B0BL3JDBBT', 'B01DXAWWXQ', 'B09ZBKSHXH', 'B0BC96RSRF', 'B07YQN6HRQ', 'B08DMMBLJX', 'B0B51PDJGD', 'B09KRQY1ZF', 'B0BX8HN93J', 'B096K582DF', 'B08XYJW422', 'B0CB33WNM9', 'B08T1F8P4T', 'B08WY68W3Q', 'B0B7FB9XS7', 'B09TQBJCJ6', 'B08MPSB9DS', 'B08VFQCWD9', 'B0C6239Y3K', 'B0BPMRDJZD', 'B07ML5ZBBG', 'B07XQCFX1Y', 'B094Y1G4F4', 'B07F19PVY5', 'B0BJ2HYBLT', 'B0C4YQ6W6H', 'B07BRKFSHL', 'B08F56DS2K', 'B0BKKLKPVQ', 'B0868X8TGW', 'B00000JPPI', 'B0BPFQMDNJ', 'B0BDRS837W', 'B086QW1WS6', 'B07V5LZMTH', 'B08HM4YGNZ', 'B0BJ71TT4L', 'B0B8J413HR', 'B0C2BPJLFY', 'B0B6148S75', 'B0B3R8K856', 'B0BD3Z1ZFN', 'B0BNPLYZJP', 'B0BB25S3VT', 'B099M4RSVG', 'B0BXD7K4DM', 'B0B42FTQD4', 'B0B6P8Z5LL', 'B09XDZB2J6', 'B0B4DGCMHX', 'B0B19SDK1G', 'B0B9J88BD4', 'B0B1D2LC51', 'B07TWD9M74', 'B0BXNXD1GB', 'B0B8MMZTQC', 'B0B9ZL1DYT', 'B0C7W15KT6', 'B0C2BPJLFY', 'B0B9HKD2KL', 'B0B9V65WXV', 'B0BDFGDBW4', 'B0BC14BPXQ', 'B0BKSLWF6Q', 'B0B1XCSJNF', 'B09XBS62BG', 'B09YYYNBY6', 'B0B9RXGWD5', 'B0BHZK4ZPL', 'B0B7RT8Z55', 'B0BKYXSP7R', 'B0BCK9P3MC', 'B0BL56PRW2', 'B0B87MQG2N', 'B0B9CCJP6M', 'B0BNKQDQS7', 'B0B56XWBWL', 'B0C69HJGJ8', 'B0BHN662WG', 'B09WYGMY5T', 'B0BWMJ53MD', 'B0BKYXSP7R', 'B0C2BPJLFY', 'B0BXR7J5JV', 'B08P1JT6CG', 'B0BRKPXQN2', 'B0883P3VSH', 'B09YR3L92W', 'B0C4V7PLM1', 'B0B76CMCDM', 'B0BHKGS8Q7', 'B0BTNG1QFB', 'B098P656LY', 'B09HQK8MG4', 'B09HTJV7NG', 'B07X1XG78Z', 'B08XY4LDRT', 'B0BWDSWF4C', 'B0B5X922PH', 'B0CBRT4BWW', 'B0B6BKZL3L', 'B071H7XCPV', 'B09TVC1MC6', 'B09GFMR6D2', 'B0B6H9M492', 'B0B3HZVSQ1', 'B089K9K3LY', 'B0C37C1ZGZ', 'B07PCHZKZB', 'B08B1WJHVD', 'B0B7QPQ59K', 'B0BJ2F89JV', 'B0BT263ZT9', 'B0BZYBWSX2', 'B0BBWDZ296', 'B0BKGZXJ95', 'B09JYP4RYC', 'B0BTD979MM', 'B07R7ZXVNX', 'B09ZL18L7F', 'B0BXP879GV', 'B08TC3DBJV', 'B0BXKJ4FTC', 'B0B38RR7NB', 'B0BQ2782BJ', 'B0C4F458RF', 'B09Q2WS8PS', 'B09Q3BKWY5', 'B0C5J3HMTL', 'B001G6064W', 'B01KBL4ISW', 'B0BYVR3R9Z', 'B08NBF4TXF', 'B0C2CYCX75', 'B0B693DSC9', 'B07L3D7C21', 'B078941YVV', 'B00HBUOVIO', '0375869026', 'B01N8XA4YI', 'B0BVM12TMZ', 'B08XPZBSNM', 'B0BHYQ42ZK', 'B07YDG2BRW', 'B073ZMJDGR', 'B01I59OFDU', 'B0BDM5LQG5', 'B07QQTJMRF', 'B09XM8MMYD', 'B0BSC8SXCR', 'B0967ZZXCB', 'B0BXKJ4FTC', 'B09LTCFSZQ', 'B07HVPZP1Q', 'B08F3SPPW5', 'B07MSHR6JJ', 'B09WK5XM6G', 'B00YH3NWTW', 'B08VFPWPND', 'B09PFKGRT6', 'B087NNZZM8', 'B09C1PZPND', 'B087NN2K41', 'B09VZMN1DL', 'B0B5SXB1WB', 'B0BZFWMYSQ', 'B0B31JZNC9', 'B09GM4283G', 'B07ZQ3FKHW', 'B0B71XJGLJ', 'B0BKKLKPVQ', 'B0BWXXWVV6', 'B099M4RSVG', 'B09P9SNP51', 'B0BGGBCHKN', 'B0B9V7QGH7', 'B07KDPQMVT', 'B0BN5PFY24', 'B09W5LSBKY', 'B0C4FF2BB7', 'B094YHB1QK', 'B08FC6Y4VG', 'B09KYJ4QFL', 'B08P1D3RBM', 'B06XWC4DND', 'B0B3VN6K34', 'B0BJL66BM5', 'B09ZKXWCSJ', 'B09V2RBL2B', 'B09YZ3M9YW', 'B09WRSX7JX', 'B0B5M5228F', 'B0BM8BCHBL', 'B0B76CMCDM', 'B0B96RSG2Y', 'B09W9BXBNG', 'B0B6BKZL3L', 'B0B1VC8WRS', 'B0B6HWFYNR', 'B09P29H1XX', 'B07ZJ6RY1W', 'B0BZ6BQMHD', 'B08FHWX3D1', 'B07PJL5KH3', 'B07HVPZP1Q', 'B07NXTRDWJ', 'B0BK2QWS6S', 'B0BDDBDP1C', 'B0B75N73N9', 'B08G9V3LDT', 'B09JC5B8J8', 'B0B8RV2QLJ', 'B0BGHXBRN5', 'B0BB13V163', 'B0C2VJ3R1C', 'B0B27WTTHW', 'B07VDZFY6K', 'B07D5B6STM', 'B09KNH7X3L', 'B07KMNJXZD', 'B0829R3BLR', 'B0B16656Z2', 'B09GVHZ5B1', 'B0C3BNJFBV', 'B0BXQH38S6', 'B0B6HXM25K', 'B07YHZV13F', 'B0BJ8NSWSZ', 'B093GRX6XH', 'B0BV6XP62W', 'B0BQ1CF7LB', 'B0BHS5NB2Z', 'B0B7RRZL9X', 'B0C8P9N7G7', 'B0BJKBKD91', 'B0B4S4NJB6', 'B0BB25PPNF', 'B0B5Q8KZKK', 'B0BWDDFQGH', 'B0B6C18KBV', 'B09XM8MMYD', 'B01BF9X6LO', 'B0BN942894', 'B08SBNGX4T', 'B0B57KMP9Z', 'B08FC6Y4VG', 'B07DPNYGST', 'B09TV1R26C', 'B0C3R43554', 'B09CLFC8KP', 'B09S6HGYT2', 'B089QX5774', 'B0C3KJJ6XS', 'B0C4KQ2VYT', 'B0BRSD3L11', 'B09TQBJCJ6', 'B08Y8WXP92', 'B0BFQN53X1', 'B07SZ52PQM', 'B09XM8MMYD', 'B0754LGLFP', 'B09329WH2L', 'B07S2ZT2BT', 'B0BG42D921', 'B09283N4WZ', 'B07YN82X3B', 'B0BSWX56ZG', 'B0B6HFS648', 'B0B7HFR33D', 'B0B6PH9N6C', 'B07T3HGRPV', 'B0BFR29BTD', 'B09GFF8NMP', 'B07DG77KPX', 'B0CBRT4BWW', 'B0CB7JB1V6', 'B09PTS3VC1', 'B0C1K1R6HK', 'B0CBRT4BWW', 'B0191F6L1G', 'B0892VDPB7', 'B09F62MHZB', 'B07V8YSBFG', 'B0BDRVGM15', 'B0BDQKX6ZS', 'B08D9CHG5K', 'B0B8D436J1', 'B092HN3GFR', 'B07L2V8FT3', 'B09C5R5GYH', 'B07W44HTWG', 'B0B8RV2QLJ', 'B0B2CTNS7T', 'B0B1561PRW', 'B0B9J88ZL5', 'B07X1TFSQ4', 'B0BGC18VN1', 'B0BH9SL6T5', 'B08KGB9WFB', 'B0BBGKH4CZ', 'B09VSVGQ38', 'B0BL9RN6W1', 'B09BQC2LF9', 'B08CN7DJ1J', 'B07VHHPJBV', 'B077GG9D5D', 'B0BHZK4ZPL', 'B0B9KXTNJY', 'B001ELJFDM', 'B08YWM4NH6', 'B07YW3W8TK', 'B094Y1G4F4', 'B0B1WFC386', 'B07NS61HVY', 'B01LXC1QL0', 'B08R6DT8SH', 'B0BRF6PX4Z', 'B0C3JWTK1L', 'B07ZHZBYCJ', 'B0BLFYF8K2', 'B07DHRDQX1', 'B0B6HPDH51', 'B08JPWZV6N', 'B0B9KXTNJY', 'B00066LGEM', 'B09LJ2TXV6', 'B09M2CPHDL', 'B0769ZTF5L', 'B09HZC194X', 'B06XHLM4DX', 'B09NMFNX4D', 'B08BK9HS5J', 'B099MLL49Y', 'B09K5FM8NH', 'B00HBUOVIO', 'B00MSQTGM2', 'B0BWDBGL6K', 'B0BRXYDXP7', 'B091T4Y9WT', 'B0C5K4M7WJ', 'B09C4DLF4P', 'B0BHTCQXVL', 'B0BF9W1DZB', 'B0BHMWD5MF', 'B0BCJKF9W7', 'B0BB1B3YFF', 'B0BF4SVFWL', 'B0C7TNT3HF', 'B0BJ2BQHB4', 'B0B9ZY75PJ', 'B0BCD2XM43', 'B099X165QB', 'B09T5KH6MD', 'B08N7QBVBJ', 'B0B5LTV9B9', 'B09P3CBMK2', 'B09ZTN5QJN', 'B0BNDKDGPV', 'B0B16656Z2', 'B0BVM12TMZ', 'B0862GHVT9', 'B0B87MQG2N', 'B0B6J2KYF3', 'B0976QY95Y', 'B00PUULGTY', 'B0B9ZGCZ7D', 'B08MV4NR8F', 'B0B5QWFJDP', 'B08XQLWT9V', 'B087KXB946', 'B0B8YYDT95', 'B0C1Z94D74', 'B0BHS5NB2Z', 'B08XYDKJQ8', 'B091CH9FB9', 'B0CB8LZT7K', 'B09YS165J3', 'B07WTMKYSC', 'B0BB7BH797', 'B09SGBQ9Y7', 'B09SB7CYRB', 'B09T2QP4WV', 'B09NCWP9HH', 'B09NMFNX4D', 'B08HKGQXS2', 'B0BRF6PX4Z', 'B06XKNWDML', 'B0BZFWMYSQ', 'B0BMLRYRCF', 'B09K476WW1', 'B0B1W9WFGV', 'B079B4FNSK', 'B0BD4N7P9C', 'B0009Z3MQK', 'B001F8188Y', 'B008982P9E', 'B005GISQX4', 'B001EHD9N8', 'B0B96D7ZL2', 'B07V8YSBFG', 'B0974N5MFJ', 'B077GG9D5D', 'B0BB19GQ4R', 'B09XMLWB9J', 'B092DXQYDK', 'B0B5LTPF6L', 'B0CFXKTL31', 'B0B6BKZL3L', 'B0BM4L3D3R', 'B0B7ZWHHDL', 'B0BF54FKFN', 'B09S6HGYT2', 'B0C8BLQZFD', 'B0C4KN63KM', 'B094Y1G4F4', 'B0C37RBK2R', 'B0C6L9RG7G', 'B08F97Q8HS', 'B08JHYYTMT', 'B09H7JGRQP', 'B08LT6PT1X', 'B07V42555Q', 'B07T4NH1W4', 'B09L4G9WMH', 'B078233TKB', 'B08DHTZNNF', 'B07R1T4PLM', 'B0C23C5YP5', 'B094YHB1QK', 'B0B1WWHTJ6', 'B09JY72CNG', 'B08CD923N5', 'B072V478NR', 'B078LJ6RPK', 'B0B3HSQ3T4', 'B09JFD8H6W', 'B0BSC1NX8W', 'B09V3HZZVK', 'B0B6NWHSLK', 'B0B4RZXZ15', 'B0BG2JJHBZ', 'B08W9C5TSQ', 'B07D1H7CW3', 'B094V8DK86', 'B0C6239Y3K', 'B00005LZS9', 'B07HGT7JC8', 'B09WBQQ6XT', 'B07V8YSBFG', 'B00HBUOVIO', 'B0B9G6LWM1', 'B01N3ASPNV', 'B0BKRXQ5GL', 'B095PQ8TC2', 'B0C37C1ZGZ', 'B08KZ66KV5', 'B09TQBJCJ6', 'B09J3GDB7B', 'B00002CF9G', 'B094Y1G4F4', 'B097B85RPL', 'B0BKFJJ7FP', 'B0BZFWMYSQ', 'B0BYD6XSCS', 'B09TT131QQ', 'B0BFGQC522', 'B099M4RSVG', 'B0B31GNZPX', 'B0C6ZZT79Q', 'B0C4SM5C54', 'B0BBR5Y659', 'B07T7YVVYW', 'B0918STNGM', 'B089KL3FDD', 'B08KXKPPMB', 'B085TC8H6K', 'B0BDVKCFMS', 'B08LBK5J49', 'B09C4DLF4P', 'B0BFGQC522', 'B09SP6W1SQ', 'B08N579SF1', 'B09Z2B2LRX', 'B09Y8T48ZT', 'B0BKQPPD4T', 'B09JG89WWP', 'B0C34L7WMS', 'B0C4H2BK5C', 'B08T1K6WK5', 'B0B4TDY46B', 'B08ZD8QZGQ', 'B09FMNSR9T', 'B09KRQY1ZF', 'B0BZ83T49W', 'B09XMPJG2W', 'B09ZPFT6D5', 'B0B2VGS485', 'B0B2QVFVFN', 'B087JLL5KP', 'B09YMTWQJ6', 'B01N3ASPNV', 'B012DFI02O', 'B08FC6Y4VG', 'B0BN942894', 'B0BF3MVH7Z', 'B08F52Y2PN', 'B09GTZWRHM', 'B0753D38RB', 'B09K4JSNKM', 'B0B8HDX839', 'B0BMPGSXYK', 'B09JNR4Y15', 'B0B6VWFQPM', 'B002LEEHWU', 'B0B5FWD2XG', 'B09DFCB66S', 'B0B62J6NTH', 'B0BBL72H39', 'B0C68L83R6', 'B07D53QSMK', 'B09TQBJCJ6', 'B0948WDBVP', 'B0B6BF97TZ', 'B0BJV8WRT5', 'B08XXFT4F2', 'B0B9ZGCZ7D', 'B09KBGMLWN', 'B0B684G1D2', 'B0B9T2YYXG', 'B0B74YK6PC', 'B0711ZH7GX', 'B0892BCDGN', 'B0BS3HPB5R', 'B0B6BF97TZ', 'B09ZXSH14D', 'B0B2ZFSDDX', 'B087NNZZM8', 'B0B3N2T852', 'B09TQBJCJ6', 'B09FHJQ7H9', 'B0CFB1TXXQ', 'B07RF9JLGD', 'B092HFDFL6', 'B09YYXVDNF', 'B0BB15H3DV', 'B0C23C5YP5', 'B0B1ZLNXC5', 'B073K6WMJ9', 'B08P3Q5GDS', 'B094Y1G4F4', 'B0BFKZMHRL', 'B099M4RSVG', 'B0BJPL7Z44', 'B0BMPC4K8R', 'B00HBUOVIO', 'B0C89J78ZW', 'B08KTNHK62', 'B09C2DLCPG', 'B08M9KTR6Y', 'B000INV44U', 'B09HTK2FFK', 'B09TV7294P', 'B08N7VJBH6', 'B077GG9D5D', 'B0B7YVBQ68', 'B0BBBWG3ZR', 'B0C6KR97PD', 'B09C1PZPND', 'B073ZPHNNN', 'B0955PVTYX', 'B0BN7SXN3T', 'B0BJ8NSWSZ', 'B0BJ71TT4L', 'B0BKGZXJ95', 'B0C9J9MNJM', 'B0BGJ2TC1V', 'B0B4S4P2SF', 'B09W999Q6X', 'B0B42DFGCD', 'B00HBUOVIO', 'B0B2QK1R89', 'B0BLW27Z5W', 'B0BKPW3CNW', 'B0BZDWM91S', 'B0C61R66ZJ', 'B0B5XP6CQ8', 'B0BR9D124C', 'B0BFC2N2V5', 'B0B92MF9KH', 'B081QN6KRK', 'B0BVFHFP37', 'B07HBLXDR4', 'B09PBXMKPR', 'B0BKQPPD4T', 'B09GFRPHRT', 'B09MVVGF72', 'B07CRC2X77', 'B0C3JWTK1L', 'B0C3KJJ6XS', 'B0B1ZLNXC5', 'B0BCHH2BWB', 'B07WSHTJ48', 'B0B42MRGVC', 'B0C1K1R6HK', 'B09TQBJCJ6', 'B00RH6R7C4', 'B07MTW4X2N', 'B09N77RFYL', 'B08ZHWF143', 'B0BQLSJWT7', 'B09B9NK6VL', 'B09TV1R26C', 'B0BVVTQ5JP', 'B09K3RJBXP', 'B0C7PPFR3Y', 'B08MQGHXFV', 'B09ZQ4FG91', 'B087NM8BB6', 'B07DN8NRVC', 'B0BM49XW9Z', 'B0B927GGCY', 'B09STJT7MD', 'B0BG27B72Z', 'B09XV4PSK8', 'B087GCPX72', 'B09TQBJCJ6', 'B094Y1G4F4', 'B08DF248LD', 'B0B4VT9MYW', 'B0B14WBPLJ', 'B07DQ3KG7K', 'B0BX5DQSL9', 'B08VF8XMF1', 'B0BV655VQJ', 'B000R3O1HS', 'B07MBKDSQ6', 'B0BB7XHWR9', 'B08LT6PT1X', 'B0B763XZ75', 'B094YHB1QK', 'B096ZNNTK7', 'B07WNV98X5', 'B0C6KR77RZ', 'B07DPNYGST', 'B09J4CBMLL', 'B0BDYLZ7DZ', 'B09Z6PRJT6', 'B0799Q8B14', 'B0050SX00Y', 'B003EQ4MTW', 'B08G4FDHT7', 'B0B2R7YRZG', 'B0C3C23NH9', 'B0BFQFW9RS', 'B0BXD7K4DM', 'B0B5T2ZD46', 'B001EYUOES', 'B0BZJ2QGLS', 'B0C34DJS6C', 'B0BZYBWSX2', 'B084QDTVC6', 'B09W42LQ2Z', 'B07L2V8FT3', 'B095P1VPLM', 'B0B2SCRJWB', 'B0BYYYXGRV', 'B0BQDPC4SR', 'B0B6FC5DH3', 'B0B1M92VCC', 'B0C591S8XC', 'B0BV6XP62W', 'B09ZPJC9V5', 'B0BG8J1P37', 'B0BSPNSGW2', 'B0C71NY1DM', 'B0B79ZJR3V', 'B0BGDB7DP4', 'B0BJCWGSCN', 'B0BL6R537N', 'B09K5FM8NH', 'B0BC7FS7YD', 'B0998KK6XM', 'B073SC6V1D', 'B08DKPLGTG', 'B0C3C23NH9', 'B087NNZZM8', 'B08XD4BFZ9', 'B082LQT4X5', 'B0B16656Z2', 'B0B2GVRMQD', 'B08R729SLC', 'B0B6H9M492', 'B0BYD2RLHZ', 'B0B63C2YMQ', 'B0BZH3P7BK', 'B09GFMR6D2', 'B085S2LYZN', 'B09T5KH6MD', 'B0967ZZXCB', 'B0BXKJ4FTC', 'B09CD8WB48', 'B08KSKKRPV', 'B09DNHKQQ1', 'B07QGRPGGJ', 'B09V3HZZVK', 'B0B45HGB4B', 'B07DHNX18W', 'B0BVM12TMZ', 'B07ZYNGRP3', 'B015S1V0P4', 'B07DFNKHFG', 'B0BYVN9ZK2', 'B0B5KMD53F', 'B07R4DMYZB', 'B09Y5VSTQ8', 'B08DHTZNNF', 'B0C36DBCSY', 'B09NYJ22XS', 'B0B3HZVSQ1', 'B08PKJVCGB', 'B095P4V756', 'B0BYD2RLHZ', 'B075DDGXQD', 'B0BVFJBM2V', 'B0B9ZGCZ7D', 'B07RLWTXKG', 'B0BSD6NVYQ', '0241988241', 'B0BG51641P', 'B0B6H9M492', 'B09CPJ2QHQ', 'B00DBDPOZ4', 'B00EP2WNKY', 'B0883P3VSH', 'B0B7L4H3ZM', 'B0BM9B1XMN', 'B0CC54JD8L', 'B0065561MU', 'B08PQCW529', 'B0C92VVJZP', 'B0BM4BMMJP', 'B08XMGMRZR', 'B0BVFHFP37', 'B0BJ7KJ67Q', 'B0BQMX92RN', 'B07YF8ZJXZ', 'B09GVN718G', 'B0974N5MFJ', 'B0BQ7CZJ5Z', 'B09TQBJCJ6', 'B0976G3MQ3', 'B0BN942894', 'B082ZY7LTY', 'B0BVWPMMCT', 'B09WDRX6GT', 'B08P9LKMMS', 'B0086VPUHI', 'B07RVMNWDM', 'B0BZ5J3KKD', 'B08VSWDYN1', 'B0C55642KG', 'B0B6J4HFSK', 'B093FGYPN2', 'B00HBUOVIO', 'B09T39NJSC', 'B09H7L4WJY', 'B07V3R5B6V', 'B0832GBRC4', 'B0BJQPBPZD', 'B093P6PY1R', 'B0BM4L3D3R', 'B083ZGHMMT', 'B09ZBKSHXH', 'B0BF4MX9TW', 'B0BGRZ9SR6', 'B0B61T6236', 'B09TNZJ4QH', 'B07VFYBMTS', 'B095CDXD2R', 'B0B7RTW2FP', 'B0BCG3ZWR4', 'B09XM8MMYD', 'B07DDY9V7C', 'B0BRF6PX4Z', 'B09Z7NH4XJ', 'B0C3QHBQS2', 'B097BJHRGJ', 'B07DPNYGST', 'B000N5Z2L4', 'B0C3KYVDWT', 'B0832GRRTN', 'B0C4FRBFNQ', 'B07V8YSBFG', 'B09NY9G8LB', 'B09H815D9D', 'B09LYPVHMC', 'B088QTFM46', 'B09J4QRQBP', 'B0C2BPJLFY', 'B0BCYQSKJB', 'B09YYXVDNF', 'B0BCFXRBJZ', 'B0BDK97VM6', 'B09L86PXBK', 'B0C89J78ZW', 'B0B5TLPFZ8', 'B0BDRVGM15', 'B0B87MQG2N', 'B07DHNX18W', 'B004AYMCRG', 'B07TRPGZP2', 'B096XPZSYN', 'B07H1J71XR', 'B0BYNPJMWL', 'B0BRCNRQH9', 'B09FK7KHN3', 'B0B9BXYTJL', 'B0B96RSG2Y', 'B094Y1G4F4', 'B0B4MWBK4Y', 'B08XD7L5PT', 'B07CNGL5RT', 'B08N7PZK77', 'B0B3R9DHLG', 'B0BKFJJ7FP', 'B0BZ4FQ7LD', 'B078T3R8YS', 'B01LRLJV28', 'B0041G5EU0', 'B000FQ9QVI', 'B0BC7FS7YD', 'B088M7FGFL', 'B0BP9FLPD1', 'B07RQP5S8C', 'B09KTNJTZD', 'B09FF9BF59', 'B01B1BMH7A', 'B07MMKF137', 'B0BB61MFW2', 'B0C71NY1DM', 'B0891DDRYN', 'B01G5IULMW'], 'label': tensor([1., 5., 5.,  ..., 5., 1., 5.])}\n"
     ]
    }
   ],
   "source": [
    "import numpy as np\n",
    "import json\n",
    "import torch\n",
    "import torch.nn as nn\n",
    "import torch.optim as optim\n",
    "from torch.utils.data import Dataset\n",
    "from torch.utils.data import DataLoader\n",
    "\n",
    "class PandasDataset(Dataset):\n",
    "    def __init__(self, df: pd.DataFrame, label_col: str, feature_cols: List[str]):\n",
    "        self.df = df\n",
    "        self.label_col = label_col\n",
    "        self.feature_cols = feature_cols\n",
    "\n",
    "    def __len__(self):\n",
    "        return len(self.df)\n",
    "\n",
    "    def __getitem__(self, idx: int):\n",
    "        label = self.df.iloc[idx][self.label_col]\n",
    "        features = self.df.iloc[idx][self.feature_cols]\n",
    "        return {\n",
    "            \"user_ids\": features.values[0],\n",
    "            \"item_ids\": features.values[1],\n",
    "            \"label\": torch.as_tensor(label, dtype=torch.float32)\n",
    "        }\n",
    "\n",
    "train_dataloader = DataLoader(PandasDataset(train_df, label_col='rating', feature_cols=['user_id', 'parent_asin']), batch_size=args.batch_size)\n",
    "val_dataloader = DataLoader(PandasDataset(val_df, label_col='rating', feature_cols=['user_id', 'parent_asin']), batch_size=args.batch_size)\n",
    "\n",
    "for data_json in train_dataloader:\n",
    "    print(data_json)\n",
    "    break"
   ]
  },
  {
   "cell_type": "markdown",
   "id": "28bebdcf-6884-4035-b368-19fd8ee6aff3",
   "metadata": {},
   "source": [
    "# Create the model"
   ]
  },
  {
   "cell_type": "code",
   "execution_count": 22,
   "id": "9edb4173-a6ba-44e4-b34f-d858f6646e69",
   "metadata": {},
   "outputs": [],
   "source": [
    "from src.features.embedding_id_mapper import IDMapper"
   ]
  },
  {
   "cell_type": "code",
   "execution_count": 23,
   "id": "953646cd-87e3-447c-a739-d10a11064dff",
   "metadata": {},
   "outputs": [
    {
     "name": "stderr",
     "output_type": "stream",
     "text": [
      "\u001b[32m2024-09-01 09:28:59.030\u001b[0m | \u001b[1mINFO    \u001b[0m | \u001b[36m__main__\u001b[0m:\u001b[36m<module>\u001b[0m:\u001b[36m8\u001b[0m - \u001b[1mUsing cuda device\u001b[0m\n"
     ]
    }
   ],
   "source": [
    "device = (\n",
    "    \"cuda\"\n",
    "    if torch.cuda.is_available()\n",
    "    else \"mps\"\n",
    "    if torch.backends.mps.is_available()\n",
    "    else \"cpu\"\n",
    ")\n",
    "logger.info(f\"Using {device} device\")"
   ]
  },
  {
   "cell_type": "code",
   "execution_count": 24,
   "id": "44c7315b-4cbe-4273-a6dd-4dac673a5055",
   "metadata": {},
   "outputs": [
    {
     "name": "stdout",
     "output_type": "stream",
     "text": [
      "Rating for user '212' and item 'itemA': 0.23656590282917023\n",
      "Recovered User ID: 212\n",
      "Recovered Item ID: itemA\n"
     ]
    }
   ],
   "source": [
    "class CrossEncoderReranker(nn.Module):\n",
    "    def __init__(self, user_vocab_size, item_vocab_size, embedding_dim, hidden_dim, device):\n",
    "        super(CrossEncoderReranker, self).__init__()\n",
    "        self.user_embedding = nn.Embedding(user_vocab_size, embedding_dim)\n",
    "        self.item_embedding = nn.Embedding(item_vocab_size, embedding_dim)\n",
    "        self.fc1 = nn.Linear(2 * embedding_dim, hidden_dim)\n",
    "        self.fc2 = nn.Linear(hidden_dim, 1)\n",
    "        self.relu = nn.ReLU()\n",
    "        self.id_mapper = IDMapper()\n",
    "        self.device = device\n",
    "\n",
    "    def forward(self, user_ids, item_ids):\n",
    "        \"\"\"\n",
    "        Forward pass of the model.\n",
    "        Accepts original user_ids and item_ids as lists, NumPy arrays, Torch tensors, or individual items.\n",
    "        Converts them to indices.\n",
    "        \"\"\"\n",
    "        if isinstance(user_ids, (str, int)):\n",
    "            user_ids = [user_ids]\n",
    "        if isinstance(item_ids, (str, int)):\n",
    "            item_ids = [item_ids]\n",
    "        \n",
    "        if isinstance(user_ids, np.ndarray):\n",
    "            user_ids = user_ids.tolist()\n",
    "        if isinstance(item_ids, np.ndarray):\n",
    "            item_ids = item_ids.tolist()\n",
    "        \n",
    "        if isinstance(user_ids, list):\n",
    "            user_indices = [self.id_mapper.get_user_index(user_id) for user_id in user_ids]\n",
    "            user_ids = torch.tensor(user_indices)\n",
    "        elif isinstance(user_ids, torch.Tensor):\n",
    "            user_indices = [self.id_mapper.get_user_index(user_id.item()) for user_id in user_ids]\n",
    "            user_ids = torch.tensor(user_indices)\n",
    "        \n",
    "        if isinstance(item_ids, list):\n",
    "            item_indices = [self.id_mapper.get_item_index(item_id) for item_id in item_ids]\n",
    "            item_ids = torch.tensor(item_indices)\n",
    "        elif isinstance(item_ids, torch.Tensor):\n",
    "            item_indices = [self.id_mapper.get_item_index(item_id.item()) for item_id in item_ids]\n",
    "            item_ids = torch.tensor(item_indices)\n",
    "        \n",
    "        user_emb = self.user_embedding(user_ids.to(self.device))\n",
    "        item_emb = self.item_embedding(item_ids.to(self.device))\n",
    "        concat_emb = torch.cat([user_emb, item_emb], dim=1)\n",
    "        x = self.fc1(concat_emb)\n",
    "        x = self.relu(x)\n",
    "        x = self.fc2(x)\n",
    "        return x.squeeze()\n",
    "\n",
    "    def fit_mapper(self, user_ids, item_ids):\n",
    "        \"\"\"\n",
    "        Fit the IDMapper with the given user_ids and item_ids.\n",
    "        \"\"\"\n",
    "        self.id_mapper.fit(user_ids, item_ids)\n",
    "\n",
    "    def save(self, model_filepath, mapper_filepath):\n",
    "        \"\"\"\n",
    "        Save the model state and IDMapper to the specified file paths.\n",
    "        \"\"\"\n",
    "        torch.save(self.state_dict(), model_filepath)\n",
    "        self.id_mapper.save(mapper_filepath)\n",
    "\n",
    "    def load(self, model_filepath, mapper_filepath):\n",
    "        \"\"\"\n",
    "        Load the model state and IDMapper from the specified file paths.\n",
    "        \"\"\"\n",
    "        self.load_state_dict(torch.load(model_filepath, weights_only=True))\n",
    "        self.id_mapper.load(mapper_filepath)\n",
    "\n",
    "    def predict(self, user_ids, item_ids):\n",
    "        \"\"\"\n",
    "        Predict the rating for the given original user_ids and item_ids.\n",
    "        Accepts individual user_id and item_id or batches of user_ids and item_ids.\n",
    "        \"\"\"\n",
    "        if isinstance(user_ids, (str, int)):\n",
    "            user_ids = [user_ids]\n",
    "        if isinstance(item_ids, (str, int)):\n",
    "            item_ids = [item_ids]\n",
    "        \n",
    "        if isinstance(user_ids, np.ndarray):\n",
    "            user_ids = user_ids.tolist()\n",
    "        if isinstance(item_ids, np.ndarray):\n",
    "            item_ids = item_ids.tolist()\n",
    "        \n",
    "        ratings = self.forward(user_ids, item_ids)\n",
    "        return ratings.tolist()\n",
    "        # return ratings.tolist() if len(ratings.shape) > 0 else ratings.item()\n",
    "\n",
    "    def recover_ids(self, user_index, item_index):\n",
    "        \"\"\"\n",
    "        Recover the original user_id and item_id from the given indices.\n",
    "        \"\"\"\n",
    "        user_id = self.id_mapper.get_user_id(user_index)\n",
    "        item_id = self.id_mapper.get_item_id(item_index)\n",
    "        return user_id, item_id\n",
    "\n",
    "# Test the model working\n",
    "user_ids = ['211', '212', '213']\n",
    "item_ids = ['itemA', 'itemB', 'itemC']\n",
    "\n",
    "user_vocab_size = len(user_ids) + 1  # +1 for unknown user\n",
    "item_vocab_size = len(item_ids) + 1  # +1 for unknown item\n",
    "embedding_dim = 64\n",
    "hidden_dim = 32\n",
    "\n",
    "model = CrossEncoderReranker(user_vocab_size, item_vocab_size, embedding_dim, hidden_dim, device).to(device)\n",
    "\n",
    "# Fit the mapper\n",
    "model.fit_mapper(user_ids, item_ids)\n",
    "\n",
    "model_dir = f\"{args.notebook_persist_dp}/model\"\n",
    "os.makedirs(model_dir, exist_ok=True)\n",
    "\n",
    "model.save(f\"{model_dir}/model.pth\", f'{model_dir}/mapper.json')\n",
    "model.load(f\"{model_dir}/model.pth\", f'{model_dir}/mapper.json')\n",
    "\n",
    "# Predict rating\n",
    "user_id = '212'\n",
    "item_id = 'itemA'\n",
    "rating = model.predict(user_id, item_id)\n",
    "print(f\"Rating for user '{user_id}' and item '{item_id}': {rating}\")\n",
    "\n",
    "# Recover original IDs\n",
    "user_index = model.id_mapper.get_user_index(user_id)\n",
    "item_index = model.id_mapper.get_item_index(item_id)\n",
    "recovered_user_id, recovered_item_id = model.recover_ids(user_index, item_index)\n",
    "print(f\"Recovered User ID: {recovered_user_id}\")\n",
    "print(f\"Recovered Item ID: {recovered_item_id}\")"
   ]
  },
  {
   "cell_type": "code",
   "execution_count": 25,
   "id": "34cbc97e-5b44-47b8-bf7e-c04da57e02e5",
   "metadata": {},
   "outputs": [],
   "source": [
    "user_ids_original = train_df['user_id'].unique()\n",
    "item_ids_original = train_df['parent_asin'].unique()\n",
    "\n",
    "user_vocab_size = len(user_ids_original) + 1  # +1 for unknown user\n",
    "item_vocab_size = len(item_ids_original) + 1  # +1 for unknown item\n",
    "embedding_dim = 64\n",
    "hidden_dim = 32\n",
    "\n",
    "model = CrossEncoderReranker(user_vocab_size, item_vocab_size, embedding_dim, hidden_dim, device).to(device)\n",
    "\n",
    "model.fit_mapper(user_ids_original, item_ids_original)"
   ]
  },
  {
   "cell_type": "markdown",
   "id": "71eaffcf-69eb-4a40-9f91-3c764b41394a",
   "metadata": {},
   "source": [
    "# Train"
   ]
  },
  {
   "cell_type": "code",
   "execution_count": 26,
   "id": "c06adadd-baa6-437c-be7e-59c7553610df",
   "metadata": {},
   "outputs": [],
   "source": [
    "loss_fn = nn.MSELoss()\n",
    "optimizer = optim.Adam(model.parameters(), lr=0.001)"
   ]
  },
  {
   "cell_type": "code",
   "execution_count": 27,
   "id": "5e7f4f64-c0ff-42dc-99a5-068e61b743ab",
   "metadata": {},
   "outputs": [],
   "source": [
    "class TrainingArgs(BaseModel):\n",
    "    num_epochs: int = 50\n",
    "    patience: int = 3  # Number of epochs to wait for improvement\n",
    "    improvement_threshold: float = 0.99\n",
    "\n",
    "train_args = TrainingArgs()"
   ]
  },
  {
   "cell_type": "code",
   "execution_count": 28,
   "id": "25cae5a6-9b4d-46bc-b3f2-dbdad2030bdb",
   "metadata": {
    "scrolled": true
   },
   "outputs": [
    {
     "data": {
      "application/vnd.jupyter.widget-view+json": {
       "model_id": "aec2d9f0dd0d4810b0e1f49c339564ef",
       "version_major": 2,
       "version_minor": 0
      },
      "text/plain": [
       "Epochs:   0%|          | 0/50 [00:00<?, ?it/s]"
      ]
     },
     "metadata": {},
     "output_type": "display_data"
    },
    {
     "data": {
      "application/vnd.jupyter.widget-view+json": {
       "model_id": "",
       "version_major": 2,
       "version_minor": 0
      },
      "text/plain": [
       "Batches:   0%|          | 0/95 [00:00<?, ?it/s]"
      ]
     },
     "metadata": {},
     "output_type": "display_data"
    },
    {
     "name": "stderr",
     "output_type": "stream",
     "text": [
      "\u001b[32m2024-09-01 09:29:00.217\u001b[0m | \u001b[1mINFO    \u001b[0m | \u001b[36m__main__\u001b[0m:\u001b[36m<module>\u001b[0m:\u001b[36m31\u001b[0m - \u001b[1mEpoch [1/50], Global Step [0], Loss: 19.0114\u001b[0m\n",
      "\u001b[32m2024-09-01 09:29:19.845\u001b[0m | \u001b[1mINFO    \u001b[0m | \u001b[36m__main__\u001b[0m:\u001b[36m<module>\u001b[0m:\u001b[36m43\u001b[0m - \u001b[1mEpoch [1/50] completed with average loss: 11.3129\u001b[0m\n"
     ]
    },
    {
     "name": "stdout",
     "output_type": "stream",
     "text": [
      "Epoch [1/50], Loss: 11.3129\n"
     ]
    },
    {
     "name": "stderr",
     "output_type": "stream",
     "text": [
      "\u001b[32m2024-09-01 09:29:20.105\u001b[0m | \u001b[1mINFO    \u001b[0m | \u001b[36m__main__\u001b[0m:\u001b[36m<module>\u001b[0m:\u001b[36m63\u001b[0m - \u001b[1mEpoch [1/50] completed with validation loss: 5.9848\u001b[0m\n"
     ]
    },
    {
     "name": "stdout",
     "output_type": "stream",
     "text": [
      "Epoch [1/50], Validation Loss: 5.9848\n"
     ]
    },
    {
     "data": {
      "application/vnd.jupyter.widget-view+json": {
       "model_id": "",
       "version_major": 2,
       "version_minor": 0
      },
      "text/plain": [
       "Batches:   0%|          | 0/95 [00:00<?, ?it/s]"
      ]
     },
     "metadata": {},
     "output_type": "display_data"
    },
    {
     "name": "stderr",
     "output_type": "stream",
     "text": [
      "\u001b[32m2024-09-01 09:29:21.407\u001b[0m | \u001b[1mINFO    \u001b[0m | \u001b[36m__main__\u001b[0m:\u001b[36m<module>\u001b[0m:\u001b[36m31\u001b[0m - \u001b[1mEpoch [2/50], Global Step [100], Loss: 5.6770\u001b[0m\n",
      "\u001b[32m2024-09-01 09:29:39.631\u001b[0m | \u001b[1mINFO    \u001b[0m | \u001b[36m__main__\u001b[0m:\u001b[36m<module>\u001b[0m:\u001b[36m43\u001b[0m - \u001b[1mEpoch [2/50] completed with average loss: 3.6238\u001b[0m\n"
     ]
    },
    {
     "name": "stdout",
     "output_type": "stream",
     "text": [
      "Epoch [2/50], Loss: 3.6238\n"
     ]
    },
    {
     "name": "stderr",
     "output_type": "stream",
     "text": [
      "\u001b[32m2024-09-01 09:29:39.890\u001b[0m | \u001b[1mINFO    \u001b[0m | \u001b[36m__main__\u001b[0m:\u001b[36m<module>\u001b[0m:\u001b[36m63\u001b[0m - \u001b[1mEpoch [2/50] completed with validation loss: 2.3296\u001b[0m\n"
     ]
    },
    {
     "name": "stdout",
     "output_type": "stream",
     "text": [
      "Epoch [2/50], Validation Loss: 2.3296\n"
     ]
    },
    {
     "data": {
      "application/vnd.jupyter.widget-view+json": {
       "model_id": "",
       "version_major": 2,
       "version_minor": 0
      },
      "text/plain": [
       "Batches:   0%|          | 0/95 [00:00<?, ?it/s]"
      ]
     },
     "metadata": {},
     "output_type": "display_data"
    },
    {
     "name": "stderr",
     "output_type": "stream",
     "text": [
      "\u001b[32m2024-09-01 09:29:42.223\u001b[0m | \u001b[1mINFO    \u001b[0m | \u001b[36m__main__\u001b[0m:\u001b[36m<module>\u001b[0m:\u001b[36m31\u001b[0m - \u001b[1mEpoch [3/50], Global Step [200], Loss: 2.3313\u001b[0m\n",
      "\u001b[32m2024-09-01 09:29:59.462\u001b[0m | \u001b[1mINFO    \u001b[0m | \u001b[36m__main__\u001b[0m:\u001b[36m<module>\u001b[0m:\u001b[36m43\u001b[0m - \u001b[1mEpoch [3/50] completed with average loss: 2.4272\u001b[0m\n"
     ]
    },
    {
     "name": "stdout",
     "output_type": "stream",
     "text": [
      "Epoch [3/50], Loss: 2.4272\n"
     ]
    },
    {
     "name": "stderr",
     "output_type": "stream",
     "text": [
      "\u001b[32m2024-09-01 09:29:59.717\u001b[0m | \u001b[1mINFO    \u001b[0m | \u001b[36m__main__\u001b[0m:\u001b[36m<module>\u001b[0m:\u001b[36m63\u001b[0m - \u001b[1mEpoch [3/50] completed with validation loss: 2.1125\u001b[0m\n"
     ]
    },
    {
     "name": "stdout",
     "output_type": "stream",
     "text": [
      "Epoch [3/50], Validation Loss: 2.1125\n"
     ]
    },
    {
     "data": {
      "application/vnd.jupyter.widget-view+json": {
       "model_id": "",
       "version_major": 2,
       "version_minor": 0
      },
      "text/plain": [
       "Batches:   0%|          | 0/95 [00:00<?, ?it/s]"
      ]
     },
     "metadata": {},
     "output_type": "display_data"
    },
    {
     "name": "stderr",
     "output_type": "stream",
     "text": [
      "\u001b[32m2024-09-01 09:30:03.009\u001b[0m | \u001b[1mINFO    \u001b[0m | \u001b[36m__main__\u001b[0m:\u001b[36m<module>\u001b[0m:\u001b[36m31\u001b[0m - \u001b[1mEpoch [4/50], Global Step [300], Loss: 2.0281\u001b[0m\n",
      "\u001b[32m2024-09-01 09:30:19.292\u001b[0m | \u001b[1mINFO    \u001b[0m | \u001b[36m__main__\u001b[0m:\u001b[36m<module>\u001b[0m:\u001b[36m43\u001b[0m - \u001b[1mEpoch [4/50] completed with average loss: 2.2152\u001b[0m\n"
     ]
    },
    {
     "name": "stdout",
     "output_type": "stream",
     "text": [
      "Epoch [4/50], Loss: 2.2152\n"
     ]
    },
    {
     "name": "stderr",
     "output_type": "stream",
     "text": [
      "\u001b[32m2024-09-01 09:30:19.545\u001b[0m | \u001b[1mINFO    \u001b[0m | \u001b[36m__main__\u001b[0m:\u001b[36m<module>\u001b[0m:\u001b[36m63\u001b[0m - \u001b[1mEpoch [4/50] completed with validation loss: 2.0611\u001b[0m\n"
     ]
    },
    {
     "name": "stdout",
     "output_type": "stream",
     "text": [
      "Epoch [4/50], Validation Loss: 2.0611\n"
     ]
    },
    {
     "data": {
      "application/vnd.jupyter.widget-view+json": {
       "model_id": "",
       "version_major": 2,
       "version_minor": 0
      },
      "text/plain": [
       "Batches:   0%|          | 0/95 [00:00<?, ?it/s]"
      ]
     },
     "metadata": {},
     "output_type": "display_data"
    },
    {
     "name": "stderr",
     "output_type": "stream",
     "text": [
      "\u001b[32m2024-09-01 09:30:23.953\u001b[0m | \u001b[1mINFO    \u001b[0m | \u001b[36m__main__\u001b[0m:\u001b[36m<module>\u001b[0m:\u001b[36m31\u001b[0m - \u001b[1mEpoch [5/50], Global Step [400], Loss: 1.8866\u001b[0m\n",
      "\u001b[32m2024-09-01 09:30:38.845\u001b[0m | \u001b[1mINFO    \u001b[0m | \u001b[36m__main__\u001b[0m:\u001b[36m<module>\u001b[0m:\u001b[36m43\u001b[0m - \u001b[1mEpoch [5/50] completed with average loss: 2.0636\u001b[0m\n"
     ]
    },
    {
     "name": "stdout",
     "output_type": "stream",
     "text": [
      "Epoch [5/50], Loss: 2.0636\n"
     ]
    },
    {
     "name": "stderr",
     "output_type": "stream",
     "text": [
      "\u001b[32m2024-09-01 09:30:39.100\u001b[0m | \u001b[1mINFO    \u001b[0m | \u001b[36m__main__\u001b[0m:\u001b[36m<module>\u001b[0m:\u001b[36m63\u001b[0m - \u001b[1mEpoch [5/50] completed with validation loss: 2.0263\u001b[0m\n"
     ]
    },
    {
     "name": "stdout",
     "output_type": "stream",
     "text": [
      "Epoch [5/50], Validation Loss: 2.0263\n"
     ]
    },
    {
     "data": {
      "application/vnd.jupyter.widget-view+json": {
       "model_id": "",
       "version_major": 2,
       "version_minor": 0
      },
      "text/plain": [
       "Batches:   0%|          | 0/95 [00:00<?, ?it/s]"
      ]
     },
     "metadata": {},
     "output_type": "display_data"
    },
    {
     "name": "stderr",
     "output_type": "stream",
     "text": [
      "\u001b[32m2024-09-01 09:30:44.417\u001b[0m | \u001b[1mINFO    \u001b[0m | \u001b[36m__main__\u001b[0m:\u001b[36m<module>\u001b[0m:\u001b[36m31\u001b[0m - \u001b[1mEpoch [6/50], Global Step [500], Loss: 1.7457\u001b[0m\n",
      "\u001b[32m2024-09-01 09:30:58.338\u001b[0m | \u001b[1mINFO    \u001b[0m | \u001b[36m__main__\u001b[0m:\u001b[36m<module>\u001b[0m:\u001b[36m43\u001b[0m - \u001b[1mEpoch [6/50] completed with average loss: 1.9318\u001b[0m\n"
     ]
    },
    {
     "name": "stdout",
     "output_type": "stream",
     "text": [
      "Epoch [6/50], Loss: 1.9318\n"
     ]
    },
    {
     "name": "stderr",
     "output_type": "stream",
     "text": [
      "\u001b[32m2024-09-01 09:30:58.599\u001b[0m | \u001b[1mINFO    \u001b[0m | \u001b[36m__main__\u001b[0m:\u001b[36m<module>\u001b[0m:\u001b[36m63\u001b[0m - \u001b[1mEpoch [6/50] completed with validation loss: 1.9982\u001b[0m\n"
     ]
    },
    {
     "name": "stdout",
     "output_type": "stream",
     "text": [
      "Epoch [6/50], Validation Loss: 1.9982\n"
     ]
    },
    {
     "data": {
      "application/vnd.jupyter.widget-view+json": {
       "model_id": "",
       "version_major": 2,
       "version_minor": 0
      },
      "text/plain": [
       "Batches:   0%|          | 0/95 [00:00<?, ?it/s]"
      ]
     },
     "metadata": {},
     "output_type": "display_data"
    },
    {
     "name": "stderr",
     "output_type": "stream",
     "text": [
      "\u001b[32m2024-09-01 09:31:04.957\u001b[0m | \u001b[1mINFO    \u001b[0m | \u001b[36m__main__\u001b[0m:\u001b[36m<module>\u001b[0m:\u001b[36m31\u001b[0m - \u001b[1mEpoch [7/50], Global Step [600], Loss: 1.6422\u001b[0m\n",
      "\u001b[32m2024-09-01 09:31:17.855\u001b[0m | \u001b[1mINFO    \u001b[0m | \u001b[36m__main__\u001b[0m:\u001b[36m<module>\u001b[0m:\u001b[36m43\u001b[0m - \u001b[1mEpoch [7/50] completed with average loss: 1.8125\u001b[0m\n"
     ]
    },
    {
     "name": "stdout",
     "output_type": "stream",
     "text": [
      "Epoch [7/50], Loss: 1.8125\n"
     ]
    },
    {
     "name": "stderr",
     "output_type": "stream",
     "text": [
      "\u001b[32m2024-09-01 09:31:18.114\u001b[0m | \u001b[1mINFO    \u001b[0m | \u001b[36m__main__\u001b[0m:\u001b[36m<module>\u001b[0m:\u001b[36m63\u001b[0m - \u001b[1mEpoch [7/50] completed with validation loss: 1.9760\u001b[0m\n"
     ]
    },
    {
     "name": "stdout",
     "output_type": "stream",
     "text": [
      "Epoch [7/50], Validation Loss: 1.9760\n"
     ]
    },
    {
     "data": {
      "application/vnd.jupyter.widget-view+json": {
       "model_id": "",
       "version_major": 2,
       "version_minor": 0
      },
      "text/plain": [
       "Batches:   0%|          | 0/95 [00:00<?, ?it/s]"
      ]
     },
     "metadata": {},
     "output_type": "display_data"
    },
    {
     "name": "stderr",
     "output_type": "stream",
     "text": [
      "\u001b[32m2024-09-01 09:31:25.469\u001b[0m | \u001b[1mINFO    \u001b[0m | \u001b[36m__main__\u001b[0m:\u001b[36m<module>\u001b[0m:\u001b[36m31\u001b[0m - \u001b[1mEpoch [8/50], Global Step [700], Loss: 1.5506\u001b[0m\n",
      "\u001b[32m2024-09-01 09:31:37.558\u001b[0m | \u001b[1mINFO    \u001b[0m | \u001b[36m__main__\u001b[0m:\u001b[36m<module>\u001b[0m:\u001b[36m43\u001b[0m - \u001b[1mEpoch [8/50] completed with average loss: 1.7020\u001b[0m\n"
     ]
    },
    {
     "name": "stdout",
     "output_type": "stream",
     "text": [
      "Epoch [8/50], Loss: 1.7020\n"
     ]
    },
    {
     "name": "stderr",
     "output_type": "stream",
     "text": [
      "\u001b[32m2024-09-01 09:31:37.815\u001b[0m | \u001b[1mINFO    \u001b[0m | \u001b[36m__main__\u001b[0m:\u001b[36m<module>\u001b[0m:\u001b[36m63\u001b[0m - \u001b[1mEpoch [8/50] completed with validation loss: 1.9581\u001b[0m\n"
     ]
    },
    {
     "name": "stdout",
     "output_type": "stream",
     "text": [
      "Epoch [8/50], Validation Loss: 1.9581\n"
     ]
    },
    {
     "data": {
      "application/vnd.jupyter.widget-view+json": {
       "model_id": "",
       "version_major": 2,
       "version_minor": 0
      },
      "text/plain": [
       "Batches:   0%|          | 0/95 [00:00<?, ?it/s]"
      ]
     },
     "metadata": {},
     "output_type": "display_data"
    },
    {
     "name": "stderr",
     "output_type": "stream",
     "text": [
      "\u001b[32m2024-09-01 09:31:46.510\u001b[0m | \u001b[1mINFO    \u001b[0m | \u001b[36m__main__\u001b[0m:\u001b[36m<module>\u001b[0m:\u001b[36m31\u001b[0m - \u001b[1mEpoch [9/50], Global Step [800], Loss: 1.4397\u001b[0m\n",
      "\u001b[32m2024-09-01 09:31:57.700\u001b[0m | \u001b[1mINFO    \u001b[0m | \u001b[36m__main__\u001b[0m:\u001b[36m<module>\u001b[0m:\u001b[36m43\u001b[0m - \u001b[1mEpoch [9/50] completed with average loss: 1.5980\u001b[0m\n"
     ]
    },
    {
     "name": "stdout",
     "output_type": "stream",
     "text": [
      "Epoch [9/50], Loss: 1.5980\n"
     ]
    },
    {
     "name": "stderr",
     "output_type": "stream",
     "text": [
      "\u001b[32m2024-09-01 09:31:57.963\u001b[0m | \u001b[1mINFO    \u001b[0m | \u001b[36m__main__\u001b[0m:\u001b[36m<module>\u001b[0m:\u001b[36m63\u001b[0m - \u001b[1mEpoch [9/50] completed with validation loss: 1.9444\u001b[0m\n"
     ]
    },
    {
     "name": "stdout",
     "output_type": "stream",
     "text": [
      "Epoch [9/50], Validation Loss: 1.9444\n"
     ]
    },
    {
     "data": {
      "application/vnd.jupyter.widget-view+json": {
       "model_id": "",
       "version_major": 2,
       "version_minor": 0
      },
      "text/plain": [
       "Batches:   0%|          | 0/95 [00:00<?, ?it/s]"
      ]
     },
     "metadata": {},
     "output_type": "display_data"
    },
    {
     "name": "stderr",
     "output_type": "stream",
     "text": [
      "\u001b[32m2024-09-01 09:32:07.368\u001b[0m | \u001b[1mINFO    \u001b[0m | \u001b[36m__main__\u001b[0m:\u001b[36m<module>\u001b[0m:\u001b[36m31\u001b[0m - \u001b[1mEpoch [10/50], Global Step [900], Loss: 1.3517\u001b[0m\n",
      "\u001b[32m2024-09-01 09:32:17.351\u001b[0m | \u001b[1mINFO    \u001b[0m | \u001b[36m__main__\u001b[0m:\u001b[36m<module>\u001b[0m:\u001b[36m43\u001b[0m - \u001b[1mEpoch [10/50] completed with average loss: 1.4989\u001b[0m\n"
     ]
    },
    {
     "name": "stdout",
     "output_type": "stream",
     "text": [
      "Epoch [10/50], Loss: 1.4989\n"
     ]
    },
    {
     "name": "stderr",
     "output_type": "stream",
     "text": [
      "\u001b[32m2024-09-01 09:32:17.603\u001b[0m | \u001b[1mINFO    \u001b[0m | \u001b[36m__main__\u001b[0m:\u001b[36m<module>\u001b[0m:\u001b[36m63\u001b[0m - \u001b[1mEpoch [10/50] completed with validation loss: 1.9319\u001b[0m\n"
     ]
    },
    {
     "name": "stdout",
     "output_type": "stream",
     "text": [
      "Epoch [10/50], Validation Loss: 1.9319\n"
     ]
    },
    {
     "data": {
      "application/vnd.jupyter.widget-view+json": {
       "model_id": "b0e886875e464c6e978aa3034fd25fb2",
       "version_major": 2,
       "version_minor": 0
      },
      "text/plain": [
       "Batches:   0%|          | 0/95 [00:00<?, ?it/s]"
      ]
     },
     "metadata": {},
     "output_type": "display_data"
    },
    {
     "name": "stderr",
     "output_type": "stream",
     "text": [
      "\u001b[32m2024-09-01 09:32:28.020\u001b[0m | \u001b[1mINFO    \u001b[0m | \u001b[36m__main__\u001b[0m:\u001b[36m<module>\u001b[0m:\u001b[36m31\u001b[0m - \u001b[1mEpoch [11/50], Global Step [1000], Loss: 1.2726\u001b[0m\n",
      "\u001b[32m2024-09-01 09:32:36.907\u001b[0m | \u001b[1mINFO    \u001b[0m | \u001b[36m__main__\u001b[0m:\u001b[36m<module>\u001b[0m:\u001b[36m43\u001b[0m - \u001b[1mEpoch [11/50] completed with average loss: 1.4033\u001b[0m\n"
     ]
    },
    {
     "name": "stdout",
     "output_type": "stream",
     "text": [
      "Epoch [11/50], Loss: 1.4033\n"
     ]
    },
    {
     "name": "stderr",
     "output_type": "stream",
     "text": [
      "\u001b[32m2024-09-01 09:32:37.168\u001b[0m | \u001b[1mINFO    \u001b[0m | \u001b[36m__main__\u001b[0m:\u001b[36m<module>\u001b[0m:\u001b[36m63\u001b[0m - \u001b[1mEpoch [11/50] completed with validation loss: 1.9229\u001b[0m\n"
     ]
    },
    {
     "name": "stdout",
     "output_type": "stream",
     "text": [
      "Epoch [11/50], Validation Loss: 1.9229\n"
     ]
    },
    {
     "data": {
      "application/vnd.jupyter.widget-view+json": {
       "model_id": "d274c80f1c8449b5ac811b185432b8b7",
       "version_major": 2,
       "version_minor": 0
      },
      "text/plain": [
       "Batches:   0%|          | 0/95 [00:00<?, ?it/s]"
      ]
     },
     "metadata": {},
     "output_type": "display_data"
    },
    {
     "name": "stderr",
     "output_type": "stream",
     "text": [
      "\u001b[32m2024-09-01 09:32:49.020\u001b[0m | \u001b[1mINFO    \u001b[0m | \u001b[36m__main__\u001b[0m:\u001b[36m<module>\u001b[0m:\u001b[36m31\u001b[0m - \u001b[1mEpoch [12/50], Global Step [1100], Loss: 1.2029\u001b[0m\n",
      "\u001b[32m2024-09-01 09:32:57.176\u001b[0m | \u001b[1mINFO    \u001b[0m | \u001b[36m__main__\u001b[0m:\u001b[36m<module>\u001b[0m:\u001b[36m43\u001b[0m - \u001b[1mEpoch [12/50] completed with average loss: 1.3107\u001b[0m\n"
     ]
    },
    {
     "name": "stdout",
     "output_type": "stream",
     "text": [
      "Epoch [12/50], Loss: 1.3107\n"
     ]
    },
    {
     "name": "stderr",
     "output_type": "stream",
     "text": [
      "\u001b[32m2024-09-01 09:32:57.430\u001b[0m | \u001b[1mINFO    \u001b[0m | \u001b[36m__main__\u001b[0m:\u001b[36m<module>\u001b[0m:\u001b[36m63\u001b[0m - \u001b[1mEpoch [12/50] completed with validation loss: 1.9190\u001b[0m\n"
     ]
    },
    {
     "name": "stdout",
     "output_type": "stream",
     "text": [
      "Epoch [12/50], Validation Loss: 1.9190\n"
     ]
    },
    {
     "data": {
      "application/vnd.jupyter.widget-view+json": {
       "model_id": "b2243faef9b64fb8bb518dec41d581e9",
       "version_major": 2,
       "version_minor": 0
      },
      "text/plain": [
       "Batches:   0%|          | 0/95 [00:00<?, ?it/s]"
      ]
     },
     "metadata": {},
     "output_type": "display_data"
    },
    {
     "name": "stderr",
     "output_type": "stream",
     "text": [
      "\u001b[32m2024-09-01 09:33:10.140\u001b[0m | \u001b[1mINFO    \u001b[0m | \u001b[36m__main__\u001b[0m:\u001b[36m<module>\u001b[0m:\u001b[36m31\u001b[0m - \u001b[1mEpoch [13/50], Global Step [1200], Loss: 1.1334\u001b[0m\n",
      "\u001b[32m2024-09-01 09:33:16.971\u001b[0m | \u001b[1mINFO    \u001b[0m | \u001b[36m__main__\u001b[0m:\u001b[36m<module>\u001b[0m:\u001b[36m43\u001b[0m - \u001b[1mEpoch [13/50] completed with average loss: 1.2199\u001b[0m\n"
     ]
    },
    {
     "name": "stdout",
     "output_type": "stream",
     "text": [
      "Epoch [13/50], Loss: 1.2199\n"
     ]
    },
    {
     "name": "stderr",
     "output_type": "stream",
     "text": [
      "\u001b[32m2024-09-01 09:33:17.225\u001b[0m | \u001b[1mINFO    \u001b[0m | \u001b[36m__main__\u001b[0m:\u001b[36m<module>\u001b[0m:\u001b[36m63\u001b[0m - \u001b[1mEpoch [13/50] completed with validation loss: 1.9184\u001b[0m\n"
     ]
    },
    {
     "name": "stdout",
     "output_type": "stream",
     "text": [
      "Epoch [13/50], Validation Loss: 1.9184\n"
     ]
    },
    {
     "data": {
      "application/vnd.jupyter.widget-view+json": {
       "model_id": "afaa0900eda2429aab25821296227b4a",
       "version_major": 2,
       "version_minor": 0
      },
      "text/plain": [
       "Batches:   0%|          | 0/95 [00:00<?, ?it/s]"
      ]
     },
     "metadata": {},
     "output_type": "display_data"
    },
    {
     "name": "stderr",
     "output_type": "stream",
     "text": [
      "\u001b[32m2024-09-01 09:33:30.722\u001b[0m | \u001b[1mINFO    \u001b[0m | \u001b[36m__main__\u001b[0m:\u001b[36m<module>\u001b[0m:\u001b[36m31\u001b[0m - \u001b[1mEpoch [14/50], Global Step [1300], Loss: 1.0637\u001b[0m\n",
      "\u001b[32m2024-09-01 09:33:36.570\u001b[0m | \u001b[1mINFO    \u001b[0m | \u001b[36m__main__\u001b[0m:\u001b[36m<module>\u001b[0m:\u001b[36m43\u001b[0m - \u001b[1mEpoch [14/50] completed with average loss: 1.1308\u001b[0m\n"
     ]
    },
    {
     "name": "stdout",
     "output_type": "stream",
     "text": [
      "Epoch [14/50], Loss: 1.1308\n"
     ]
    },
    {
     "name": "stderr",
     "output_type": "stream",
     "text": [
      "\u001b[32m2024-09-01 09:33:36.824\u001b[0m | \u001b[1mINFO    \u001b[0m | \u001b[36m__main__\u001b[0m:\u001b[36m<module>\u001b[0m:\u001b[36m63\u001b[0m - \u001b[1mEpoch [14/50] completed with validation loss: 1.9231\u001b[0m\n",
      "\u001b[32m2024-09-01 09:33:36.845\u001b[0m | \u001b[1mINFO    \u001b[0m | \u001b[36m__main__\u001b[0m:\u001b[36m<module>\u001b[0m:\u001b[36m75\u001b[0m - \u001b[1mEarly stopping triggered after 14 epochs.\u001b[0m\n"
     ]
    },
    {
     "name": "stdout",
     "output_type": "stream",
     "text": [
      "Epoch [14/50], Validation Loss: 1.9231\n",
      "Early stopping triggered after 14 epochs.\n"
     ]
    }
   ],
   "source": [
    "global_step = 0\n",
    "best_val_loss: float = float('inf')\n",
    "epochs_without_improvement: int = 0\n",
    "\n",
    "for epoch in tqdm(range(train_args.num_epochs), desc=\"Epochs\"):\n",
    "    model.train()  # Set the model to training mode\n",
    "    running_loss = 0.0\n",
    "    \n",
    "    batch_iterator = tqdm(train_dataloader, desc=\"Batches\", leave=False)\n",
    "    for step, row in enumerate(batch_iterator):\n",
    "        optimizer.zero_grad()  # Zero the gradients\n",
    "        \n",
    "        # Forward pass\n",
    "        user_ids = row['user_ids']\n",
    "        item_ids = row['item_ids']\n",
    "        label = row['label'].to(device)\n",
    "        outputs = model(user_ids, item_ids)\n",
    "\n",
    "        # Compute the loss\n",
    "        loss = loss_fn(outputs, label)\n",
    "\n",
    "        # Backward pass and optimization\n",
    "        loss.backward()\n",
    "        optimizer.step()\n",
    "\n",
    "        running_loss += loss.item()\n",
    "        \n",
    "        # Log every 100 steps\n",
    "        if global_step % 100 == 0:\n",
    "            avg_loss = running_loss / (step + 1)\n",
    "            logger.info(f\"Epoch [{epoch+1}/{train_args.num_epochs}], Global Step [{global_step}], Loss: {avg_loss:.4f}\")\n",
    "            if args.log_to_mlflow:\n",
    "                mlflow.log_metric(\"loss\", avg_loss, step=global_step)\n",
    "\n",
    "        global_step += 1\n",
    "        \n",
    "        # Update the batch progress bar with the current loss\n",
    "        batch_iterator.set_postfix(loss=running_loss / (step + 1))\n",
    "        \n",
    "    # Update the epoch progress bar with the average loss for the epoch\n",
    "    avg_epoch_loss = running_loss / len(train_dataloader)\n",
    "    tqdm.write(f\"Epoch [{epoch+1}/{train_args.num_epochs}], Loss: {avg_epoch_loss:.4f}\")\n",
    "    logger.info(f\"Epoch [{epoch+1}/{train_args.num_epochs}] completed with average loss: {avg_epoch_loss:.4f}\")\n",
    "    if args.log_to_mlflow:\n",
    "        mlflow.log_metric(\"epoch_loss\", avg_epoch_loss, step=epoch)\n",
    "    \n",
    "    # Evaluation on validation dataset\n",
    "    model.eval()  # Set the model to evaluation mode\n",
    "    val_running_loss = 0.0\n",
    "    with torch.no_grad():  # Disable gradient computation\n",
    "        for val_row in val_dataloader:\n",
    "            user_ids = val_row['user_ids']\n",
    "            item_ids = val_row['item_ids']\n",
    "            label = val_row['label'].to(device)\n",
    "            outputs = model(user_ids, item_ids)\n",
    "            \n",
    "            # Compute the loss\n",
    "            val_loss = loss_fn(outputs, label)\n",
    "            val_running_loss += val_loss.item()\n",
    "    \n",
    "    avg_val_loss = val_running_loss / len(val_dataloader)\n",
    "    tqdm.write(f\"Epoch [{epoch+1}/{train_args.num_epochs}], Validation Loss: {avg_val_loss:.4f}\")\n",
    "    logger.info(f\"Epoch [{epoch+1}/{train_args.num_epochs}] completed with validation loss: {avg_val_loss:.4f}\")\n",
    "    if args.log_to_mlflow:\n",
    "        mlflow.log_metric(\"val_loss\", avg_val_loss, step=epoch)\n",
    "    \n",
    "    # Early stopping check\n",
    "    if avg_val_loss < train_args.improvement_threshold * best_val_loss:\n",
    "        best_val_loss = avg_val_loss\n",
    "        epochs_without_improvement = 0\n",
    "    else:\n",
    "        epochs_without_improvement += 1\n",
    "        if epochs_without_improvement >= train_args.patience:\n",
    "            tqdm.write(f\"Early stopping triggered after {epoch+1} epochs.\")\n",
    "            logger.info(f\"Early stopping triggered after {epoch+1} epochs.\")\n",
    "            break\n",
    "\n",
    "model_dir = f\"{args.notebook_persist_dp}/model\"\n",
    "os.makedirs(model_dir, exist_ok=True)\n",
    "model.save(f\"{model_dir}/model.pth\", f'{model_dir}/mapper.json')"
   ]
  },
  {
   "cell_type": "code",
   "execution_count": 29,
   "id": "3cba01e8-9bf7-4f8f-8edb-d70b1769a83e",
   "metadata": {
    "scrolled": true
   },
   "outputs": [],
   "source": [
    "model.load(f\"{model_dir}/model.pth\", f'{model_dir}/mapper.json')"
   ]
  },
  {
   "cell_type": "markdown",
   "id": "98631f9d-ac3d-422a-b70e-c4be64071bdf",
   "metadata": {},
   "source": [
    "# Inference"
   ]
  },
  {
   "cell_type": "code",
   "execution_count": 30,
   "id": "816ff287-28ff-49c6-ac15-55234bdc1a63",
   "metadata": {},
   "outputs": [
    {
     "data": {
      "text/plain": [
       "array(['AH3ACQ7TBS7IT4SRSWEYLLJ3ND3Q', 'AH67BI7JTOFR35HMZYFVOEHM4CPQ',\n",
       "       'AHBI5SLZDP3Q3LZPETJLCHQFGLUA', ...,\n",
       "       'AHYIQYNCM7PACGZ6GZJH4MIMMYOQ', 'AFZCL7FSZP6CKT4GTNCCYN4HAMAA',\n",
       "       'AG3BHCQJCY3MPNP3UKVAENSGQM2A'], dtype=object)"
      ]
     },
     "execution_count": 30,
     "metadata": {},
     "output_type": "execute_result"
    }
   ],
   "source": [
    "user_ids_original"
   ]
  },
  {
   "cell_type": "code",
   "execution_count": 31,
   "id": "f0e61f4f-0d20-4883-bd31-2225b918e869",
   "metadata": {},
   "outputs": [
    {
     "data": {
      "text/plain": [
       "user_id\n",
       "AF3T3YI4DGABBU3CNRW2UASWCOMA    68\n",
       "AHPJHWUFX7DFIVS5B3XNEK7JLSAQ    57\n",
       "AH5JXUZVCD42Y6H2EXFJVBEGYO6A    42\n",
       "AFAA34KLCN6W3HSGNAN324BOSN3A    42\n",
       "AHPOVY5N5LORFIPCKCRUIIDIIRIA    38\n",
       "                                ..\n",
       "AFO4QVQUQ7374PFYG54SYGEVJIFQ     2\n",
       "AFO3QMGXDGMCFDDIZGHSN4ZZVH4A     2\n",
       "AFNZCGBRF3XA55B3DAJ63Q7RBLBA     2\n",
       "AFNYFLDGPGRE4N35UU4NZLRDHQQA     2\n",
       "AHZZK7W5WLEUHBKYJHLTJ5ME4YQQ     2\n",
       "Length: 11029, dtype: int64"
      ]
     },
     "execution_count": 31,
     "metadata": {},
     "output_type": "execute_result"
    }
   ],
   "source": [
    "train_df.groupby('user_id').size().loc[lambda s: s > 1].sort_values(ascending=False)"
   ]
  },
  {
   "cell_type": "code",
   "execution_count": 32,
   "id": "b2e7af10-9fa2-4521-b37f-6ab154c4d7bb",
   "metadata": {
    "scrolled": true
   },
   "outputs": [
    {
     "data": {
      "text/plain": [
       "array(['B09Q3BKWY5', 'B0B5LTV9B9', 'B0B29GM5RV', 'B0B8HJ7DP2',\n",
       "       'B0BWYZHH9D', 'B0BB6THYLN', 'B0BW8GT76W', 'B08YVN3Z6R',\n",
       "       'B0BGH7FVRV', 'B0B674L9F8', 'B0BDKRH1S9', 'B0BYHBFXX4',\n",
       "       'B0BJP9H9SP', 'B0BFC2N2V5', 'B0BFQFW9RS', 'B0BZYBWSX2',\n",
       "       'B0C14SPMBR', 'B0B45VX6ZW', 'B0B1Q188VW', 'B0C5D3GW8F',\n",
       "       'B0B8MMZTQC', 'B0B6BKZL3L', 'B0BKGZXJ95', 'B0C6L9RG7G',\n",
       "       'B09ZTN5QJN', 'B0C2PBRT7N', 'B0BH16J7X5', 'B0B5TLPFZ8',\n",
       "       'B0B6HWFYNR', 'B0BZ83T49W', 'B09QKTRQDM', 'B09XMYBYN7',\n",
       "       'B0C8GZ2735', 'B0CDS6JH19', 'B0BB62KB59', 'B0B5TRDG51',\n",
       "       'B09X1JQVVY', 'B09X1KKVM9'], dtype=object)"
      ]
     },
     "execution_count": 32,
     "metadata": {},
     "output_type": "execute_result"
    }
   ],
   "source": [
    "train_df.loc[lambda df: df['user_id'].eq('AHPOVY5N5LORFIPCKCRUIIDIIRIA')]['parent_asin'].values"
   ]
  },
  {
   "cell_type": "code",
   "execution_count": 33,
   "id": "5369722b-c706-4b0d-a813-ad0507c58585",
   "metadata": {},
   "outputs": [
    {
     "data": {
      "text/plain": [
       "[4.921775817871094, 4.588428974151611]"
      ]
     },
     "execution_count": 33,
     "metadata": {},
     "output_type": "execute_result"
    }
   ],
   "source": [
    "model.predict(['AHPOVY5N5LORFIPCKCRUIIDIIRIA', 'AHPOVY5N5LORFIPCKCRUIIDIIRIA'], ['B09X1KKVM9', 'B09X1JQVVY'])"
   ]
  },
  {
   "cell_type": "code",
   "execution_count": 88,
   "id": "77b4d63e-8cf6-4e0e-bb7a-3ebc5512f7c5",
   "metadata": {},
   "outputs": [
    {
     "data": {
      "text/plain": [
       "2.700796127319336"
      ]
     },
     "execution_count": 88,
     "metadata": {},
     "output_type": "execute_result"
    }
   ],
   "source": [
    "model.predict(['AHZSTXPC6QU72F2ND5UV53RDYICA'], ['B0BL65X86R'])"
   ]
  },
  {
   "cell_type": "markdown",
   "id": "a3efa6e9-0fcb-444f-aea9-22e7d8785109",
   "metadata": {},
   "source": [
    "# Combine with Retrievers"
   ]
  },
  {
   "cell_type": "code",
   "execution_count": 36,
   "id": "d9760b21-cf24-4e7a-9198-638bcc1f1156",
   "metadata": {},
   "outputs": [],
   "source": [
    "class CommonModelParams(BaseModel):\n",
    "    top_K: int = 100\n",
    "    top_k: int = 10\n",
    "    num_epochs: int = 100\n",
    "\n",
    "cmparams = CommonModelParams()"
   ]
  },
  {
   "cell_type": "markdown",
   "id": "ac982181-6b6e-4931-8433-e662085f733a",
   "metadata": {},
   "source": [
    "# Popular Retriever"
   ]
  },
  {
   "cell_type": "code",
   "execution_count": 89,
   "id": "5583a241-38b3-4131-95d5-4d39604d4689",
   "metadata": {},
   "outputs": [
    {
     "data": {
      "text/html": [
       "<div>\n",
       "<style scoped>\n",
       "    .dataframe tbody tr th:only-of-type {\n",
       "        vertical-align: middle;\n",
       "    }\n",
       "\n",
       "    .dataframe tbody tr th {\n",
       "        vertical-align: top;\n",
       "    }\n",
       "\n",
       "    .dataframe thead th {\n",
       "        text-align: right;\n",
       "    }\n",
       "</style>\n",
       "<table border=\"1\" class=\"dataframe\">\n",
       "  <thead>\n",
       "    <tr style=\"text-align: right;\">\n",
       "      <th></th>\n",
       "      <th>parent_asin</th>\n",
       "      <th>size</th>\n",
       "      <th>rec_ranking</th>\n",
       "    </tr>\n",
       "  </thead>\n",
       "  <tbody>\n",
       "    <tr>\n",
       "      <th>5613</th>\n",
       "      <td>B07V8YSBFG</td>\n",
       "      <td>770</td>\n",
       "      <td>1</td>\n",
       "    </tr>\n",
       "    <tr>\n",
       "      <th>13365</th>\n",
       "      <td>B09TQBJCJ6</td>\n",
       "      <td>646</td>\n",
       "      <td>2</td>\n",
       "    </tr>\n",
       "    <tr>\n",
       "      <th>17954</th>\n",
       "      <td>B0BZFWMYSQ</td>\n",
       "      <td>536</td>\n",
       "      <td>3</td>\n",
       "    </tr>\n",
       "    <tr>\n",
       "      <th>8251</th>\n",
       "      <td>B08LT6PT1X</td>\n",
       "      <td>457</td>\n",
       "      <td>4</td>\n",
       "    </tr>\n",
       "    <tr>\n",
       "      <th>13914</th>\n",
       "      <td>B09XM8MMYD</td>\n",
       "      <td>357</td>\n",
       "      <td>5</td>\n",
       "    </tr>\n",
       "    <tr>\n",
       "      <th>...</th>\n",
       "      <td>...</td>\n",
       "      <td>...</td>\n",
       "      <td>...</td>\n",
       "    </tr>\n",
       "    <tr>\n",
       "      <th>13457</th>\n",
       "      <td>B09V25XG1G</td>\n",
       "      <td>81</td>\n",
       "      <td>96</td>\n",
       "    </tr>\n",
       "    <tr>\n",
       "      <th>17466</th>\n",
       "      <td>B0BN3SDBC5</td>\n",
       "      <td>81</td>\n",
       "      <td>97</td>\n",
       "    </tr>\n",
       "    <tr>\n",
       "      <th>5882</th>\n",
       "      <td>B07X1TFSQ4</td>\n",
       "      <td>80</td>\n",
       "      <td>98</td>\n",
       "    </tr>\n",
       "    <tr>\n",
       "      <th>6926</th>\n",
       "      <td>B087NNZZM8</td>\n",
       "      <td>80</td>\n",
       "      <td>99</td>\n",
       "    </tr>\n",
       "    <tr>\n",
       "      <th>10821</th>\n",
       "      <td>B09B35J159</td>\n",
       "      <td>80</td>\n",
       "      <td>100</td>\n",
       "    </tr>\n",
       "  </tbody>\n",
       "</table>\n",
       "<p>100 rows × 3 columns</p>\n",
       "</div>"
      ],
      "text/plain": [
       "      parent_asin  size  rec_ranking\n",
       "5613   B07V8YSBFG   770            1\n",
       "13365  B09TQBJCJ6   646            2\n",
       "17954  B0BZFWMYSQ   536            3\n",
       "8251   B08LT6PT1X   457            4\n",
       "13914  B09XM8MMYD   357            5\n",
       "...           ...   ...          ...\n",
       "13457  B09V25XG1G    81           96\n",
       "17466  B0BN3SDBC5    81           97\n",
       "5882   B07X1TFSQ4    80           98\n",
       "6926   B087NNZZM8    80           99\n",
       "10821  B09B35J159    80          100\n",
       "\n",
       "[100 rows x 3 columns]"
      ]
     },
     "execution_count": 89,
     "metadata": {},
     "output_type": "execute_result"
    }
   ],
   "source": [
    "popular_items_df = (\n",
    "    train_df\n",
    "    .groupby('parent_asin', as_index=False)\n",
    "    .size()\n",
    "    .assign(\n",
    "        rec_ranking=lambda df: df['size'].rank(method='first', ascending=False).astype(int)\n",
    "    )\n",
    "    .sort_values(['rec_ranking'], ascending=[True])\n",
    "    .head(cmparams.top_K)\n",
    ")\n",
    "\n",
    "popular_items_df"
   ]
  },
  {
   "cell_type": "code",
   "execution_count": 90,
   "id": "e2648a19-f5e0-47cc-ba36-dd395313a240",
   "metadata": {},
   "outputs": [
    {
     "data": {
      "text/html": [
       "<div>\n",
       "<style scoped>\n",
       "    .dataframe tbody tr th:only-of-type {\n",
       "        vertical-align: middle;\n",
       "    }\n",
       "\n",
       "    .dataframe tbody tr th {\n",
       "        vertical-align: top;\n",
       "    }\n",
       "\n",
       "    .dataframe thead th {\n",
       "        text-align: right;\n",
       "    }\n",
       "</style>\n",
       "<table border=\"1\" class=\"dataframe\">\n",
       "  <thead>\n",
       "    <tr style=\"text-align: right;\">\n",
       "      <th></th>\n",
       "      <th>user_id</th>\n",
       "      <th>parent_asin</th>\n",
       "      <th>rec_ranking</th>\n",
       "    </tr>\n",
       "  </thead>\n",
       "  <tbody>\n",
       "    <tr>\n",
       "      <th>0</th>\n",
       "      <td>AHUPTBY3F3UN2S5H7K5JLP6MAV5Q</td>\n",
       "      <td>B07V8YSBFG</td>\n",
       "      <td>1</td>\n",
       "    </tr>\n",
       "    <tr>\n",
       "      <th>1</th>\n",
       "      <td>AHUPTBY3F3UN2S5H7K5JLP6MAV5Q</td>\n",
       "      <td>B09TQBJCJ6</td>\n",
       "      <td>2</td>\n",
       "    </tr>\n",
       "    <tr>\n",
       "      <th>2</th>\n",
       "      <td>AHUPTBY3F3UN2S5H7K5JLP6MAV5Q</td>\n",
       "      <td>B0BZFWMYSQ</td>\n",
       "      <td>3</td>\n",
       "    </tr>\n",
       "    <tr>\n",
       "      <th>3</th>\n",
       "      <td>AHUPTBY3F3UN2S5H7K5JLP6MAV5Q</td>\n",
       "      <td>B08LT6PT1X</td>\n",
       "      <td>4</td>\n",
       "    </tr>\n",
       "    <tr>\n",
       "      <th>4</th>\n",
       "      <td>AHUPTBY3F3UN2S5H7K5JLP6MAV5Q</td>\n",
       "      <td>B09XM8MMYD</td>\n",
       "      <td>5</td>\n",
       "    </tr>\n",
       "    <tr>\n",
       "      <th>...</th>\n",
       "      <td>...</td>\n",
       "      <td>...</td>\n",
       "      <td>...</td>\n",
       "    </tr>\n",
       "    <tr>\n",
       "      <th>89895</th>\n",
       "      <td>AHAG6Y4DLPIPFPHS35DU4OLJHAZQ</td>\n",
       "      <td>B09V25XG1G</td>\n",
       "      <td>96</td>\n",
       "    </tr>\n",
       "    <tr>\n",
       "      <th>89896</th>\n",
       "      <td>AHAG6Y4DLPIPFPHS35DU4OLJHAZQ</td>\n",
       "      <td>B0BN3SDBC5</td>\n",
       "      <td>97</td>\n",
       "    </tr>\n",
       "    <tr>\n",
       "      <th>89897</th>\n",
       "      <td>AHAG6Y4DLPIPFPHS35DU4OLJHAZQ</td>\n",
       "      <td>B07X1TFSQ4</td>\n",
       "      <td>98</td>\n",
       "    </tr>\n",
       "    <tr>\n",
       "      <th>89898</th>\n",
       "      <td>AHAG6Y4DLPIPFPHS35DU4OLJHAZQ</td>\n",
       "      <td>B087NNZZM8</td>\n",
       "      <td>99</td>\n",
       "    </tr>\n",
       "    <tr>\n",
       "      <th>89899</th>\n",
       "      <td>AHAG6Y4DLPIPFPHS35DU4OLJHAZQ</td>\n",
       "      <td>B09B35J159</td>\n",
       "      <td>100</td>\n",
       "    </tr>\n",
       "  </tbody>\n",
       "</table>\n",
       "<p>89900 rows × 3 columns</p>\n",
       "</div>"
      ],
      "text/plain": [
       "                            user_id parent_asin  rec_ranking\n",
       "0      AHUPTBY3F3UN2S5H7K5JLP6MAV5Q  B07V8YSBFG            1\n",
       "1      AHUPTBY3F3UN2S5H7K5JLP6MAV5Q  B09TQBJCJ6            2\n",
       "2      AHUPTBY3F3UN2S5H7K5JLP6MAV5Q  B0BZFWMYSQ            3\n",
       "3      AHUPTBY3F3UN2S5H7K5JLP6MAV5Q  B08LT6PT1X            4\n",
       "4      AHUPTBY3F3UN2S5H7K5JLP6MAV5Q  B09XM8MMYD            5\n",
       "...                             ...         ...          ...\n",
       "89895  AHAG6Y4DLPIPFPHS35DU4OLJHAZQ  B09V25XG1G           96\n",
       "89896  AHAG6Y4DLPIPFPHS35DU4OLJHAZQ  B0BN3SDBC5           97\n",
       "89897  AHAG6Y4DLPIPFPHS35DU4OLJHAZQ  B07X1TFSQ4           98\n",
       "89898  AHAG6Y4DLPIPFPHS35DU4OLJHAZQ  B087NNZZM8           99\n",
       "89899  AHAG6Y4DLPIPFPHS35DU4OLJHAZQ  B09B35J159          100\n",
       "\n",
       "[89900 rows x 3 columns]"
      ]
     },
     "execution_count": 90,
     "metadata": {},
     "output_type": "execute_result"
    }
   ],
   "source": [
    "popular_recs = (\n",
    "    val_df[['user_id']].drop_duplicates().assign(tmp=1)\n",
    "    .pipe(lambda df: pd.merge(\n",
    "        df,\n",
    "        popular_items_df.assign(tmp=1),\n",
    "        on='tmp',\n",
    "        how='left'\n",
    "    ))\n",
    "    [['user_id', 'parent_asin', 'rec_ranking']]\n",
    ")\n",
    "    \n",
    "popular_recs"
   ]
  },
  {
   "cell_type": "markdown",
   "id": "397b6d4b-b9ad-463d-b372-8366c3d9d032",
   "metadata": {},
   "source": [
    "# Ranking on top Retriever"
   ]
  },
  {
   "cell_type": "code",
   "execution_count": 91,
   "id": "e32f3429-e05a-4ddb-86d4-32e46d11211d",
   "metadata": {},
   "outputs": [
    {
     "data": {
      "application/vnd.jupyter.widget-view+json": {
       "model_id": "2847bd08198b4063bc686c62b0a1da2b",
       "version_major": 2,
       "version_minor": 0
      },
      "text/plain": [
       "  0%|          | 0/899 [00:00<?, ?it/s]"
      ]
     },
     "metadata": {},
     "output_type": "display_data"
    }
   ],
   "source": [
    "reranking_recs_list = []\n",
    "for user_id in tqdm(popular_recs['user_id'].unique(), total=popular_recs['user_id'].nunique()):\n",
    "    user_item_ids = popular_recs.loc[lambda df: df['user_id'].eq(user_id)]['parent_asin'].values\n",
    "    scores = model.predict([user_id] * len(user_item_ids), user_item_ids)\n",
    "    if not isinstance(scores, list):\n",
    "        logger.error(\"scores should be a list\")\n",
    "        scores = [scores]\n",
    "    uid_reranking_recs_df = (\n",
    "        pd.DataFrame({\n",
    "            'parent_asin': user_item_ids,\n",
    "            'score': scores\n",
    "        })\n",
    "        .sort_values('score', ascending=False)\n",
    "        .reset_index(drop=True)\n",
    "        .reset_index()\n",
    "        .assign(\n",
    "            user_id=user_id,\n",
    "            index=lambda df: df['index'] + 1\n",
    "        )\n",
    "        .rename(columns={'index': 'rec_ranking'})\n",
    "        [['user_id', 'parent_asin', 'rec_ranking', 'score']]\n",
    "    )\n",
    "    reranking_recs_list.append(uid_reranking_recs_df)\n",
    "reranking_recs_df = pd.concat(reranking_recs_list, axis=0)"
   ]
  },
  {
   "cell_type": "code",
   "execution_count": 92,
   "id": "30f7ee8c-9e75-4f09-8a27-924f1df56dff",
   "metadata": {},
   "outputs": [
    {
     "name": "stderr",
     "output_type": "stream",
     "text": [
      "\u001b[32m2024-09-01 10:06:11.340\u001b[0m | \u001b[1mINFO    \u001b[0m | \u001b[36m__main__\u001b[0m:\u001b[36m<module>\u001b[0m:\u001b[36m1\u001b[0m - \u001b[1mNumber of users able to have recommendations: 899\u001b[0m\n"
     ]
    },
    {
     "data": {
      "text/html": [
       "<div>\n",
       "<style scoped>\n",
       "    .dataframe tbody tr th:only-of-type {\n",
       "        vertical-align: middle;\n",
       "    }\n",
       "\n",
       "    .dataframe tbody tr th {\n",
       "        vertical-align: top;\n",
       "    }\n",
       "\n",
       "    .dataframe thead th {\n",
       "        text-align: right;\n",
       "    }\n",
       "</style>\n",
       "<table border=\"1\" class=\"dataframe\">\n",
       "  <thead>\n",
       "    <tr style=\"text-align: right;\">\n",
       "      <th></th>\n",
       "      <th>user_id</th>\n",
       "      <th>parent_asin</th>\n",
       "      <th>rec_ranking</th>\n",
       "      <th>score</th>\n",
       "    </tr>\n",
       "  </thead>\n",
       "  <tbody>\n",
       "    <tr>\n",
       "      <th>0</th>\n",
       "      <td>AHUPTBY3F3UN2S5H7K5JLP6MAV5Q</td>\n",
       "      <td>B0BXKJ4FTC</td>\n",
       "      <td>1</td>\n",
       "      <td>5.273800</td>\n",
       "    </tr>\n",
       "    <tr>\n",
       "      <th>1</th>\n",
       "      <td>AHUPTBY3F3UN2S5H7K5JLP6MAV5Q</td>\n",
       "      <td>B09V25XG1G</td>\n",
       "      <td>2</td>\n",
       "      <td>5.012777</td>\n",
       "    </tr>\n",
       "    <tr>\n",
       "      <th>2</th>\n",
       "      <td>AHUPTBY3F3UN2S5H7K5JLP6MAV5Q</td>\n",
       "      <td>B0C6239Y3K</td>\n",
       "      <td>3</td>\n",
       "      <td>4.882270</td>\n",
       "    </tr>\n",
       "    <tr>\n",
       "      <th>3</th>\n",
       "      <td>AHUPTBY3F3UN2S5H7K5JLP6MAV5Q</td>\n",
       "      <td>B0B6BF97TZ</td>\n",
       "      <td>4</td>\n",
       "      <td>4.761334</td>\n",
       "    </tr>\n",
       "    <tr>\n",
       "      <th>4</th>\n",
       "      <td>AHUPTBY3F3UN2S5H7K5JLP6MAV5Q</td>\n",
       "      <td>B0BZFWMYSQ</td>\n",
       "      <td>5</td>\n",
       "      <td>4.734331</td>\n",
       "    </tr>\n",
       "    <tr>\n",
       "      <th>...</th>\n",
       "      <td>...</td>\n",
       "      <td>...</td>\n",
       "      <td>...</td>\n",
       "      <td>...</td>\n",
       "    </tr>\n",
       "    <tr>\n",
       "      <th>95</th>\n",
       "      <td>AHAG6Y4DLPIPFPHS35DU4OLJHAZQ</td>\n",
       "      <td>B0883P3VSH</td>\n",
       "      <td>96</td>\n",
       "      <td>2.497079</td>\n",
       "    </tr>\n",
       "    <tr>\n",
       "      <th>96</th>\n",
       "      <td>AHAG6Y4DLPIPFPHS35DU4OLJHAZQ</td>\n",
       "      <td>B07ZJ6RY1W</td>\n",
       "      <td>97</td>\n",
       "      <td>2.496423</td>\n",
       "    </tr>\n",
       "    <tr>\n",
       "      <th>97</th>\n",
       "      <td>AHAG6Y4DLPIPFPHS35DU4OLJHAZQ</td>\n",
       "      <td>B094Y1G4F4</td>\n",
       "      <td>98</td>\n",
       "      <td>2.458091</td>\n",
       "    </tr>\n",
       "    <tr>\n",
       "      <th>98</th>\n",
       "      <td>AHAG6Y4DLPIPFPHS35DU4OLJHAZQ</td>\n",
       "      <td>B0C3KJJ6XS</td>\n",
       "      <td>99</td>\n",
       "      <td>2.311654</td>\n",
       "    </tr>\n",
       "    <tr>\n",
       "      <th>99</th>\n",
       "      <td>AHAG6Y4DLPIPFPHS35DU4OLJHAZQ</td>\n",
       "      <td>B08KGB9WFB</td>\n",
       "      <td>100</td>\n",
       "      <td>2.133439</td>\n",
       "    </tr>\n",
       "  </tbody>\n",
       "</table>\n",
       "<p>89900 rows × 4 columns</p>\n",
       "</div>"
      ],
      "text/plain": [
       "                         user_id parent_asin  rec_ranking     score\n",
       "0   AHUPTBY3F3UN2S5H7K5JLP6MAV5Q  B0BXKJ4FTC            1  5.273800\n",
       "1   AHUPTBY3F3UN2S5H7K5JLP6MAV5Q  B09V25XG1G            2  5.012777\n",
       "2   AHUPTBY3F3UN2S5H7K5JLP6MAV5Q  B0C6239Y3K            3  4.882270\n",
       "3   AHUPTBY3F3UN2S5H7K5JLP6MAV5Q  B0B6BF97TZ            4  4.761334\n",
       "4   AHUPTBY3F3UN2S5H7K5JLP6MAV5Q  B0BZFWMYSQ            5  4.734331\n",
       "..                           ...         ...          ...       ...\n",
       "95  AHAG6Y4DLPIPFPHS35DU4OLJHAZQ  B0883P3VSH           96  2.497079\n",
       "96  AHAG6Y4DLPIPFPHS35DU4OLJHAZQ  B07ZJ6RY1W           97  2.496423\n",
       "97  AHAG6Y4DLPIPFPHS35DU4OLJHAZQ  B094Y1G4F4           98  2.458091\n",
       "98  AHAG6Y4DLPIPFPHS35DU4OLJHAZQ  B0C3KJJ6XS           99  2.311654\n",
       "99  AHAG6Y4DLPIPFPHS35DU4OLJHAZQ  B08KGB9WFB          100  2.133439\n",
       "\n",
       "[89900 rows x 4 columns]"
      ]
     },
     "execution_count": 92,
     "metadata": {},
     "output_type": "execute_result"
    }
   ],
   "source": [
    "logger.info(f\"Number of users able to have recommendations: {reranking_recs_df['user_id'].nunique()}\")\n",
    "\n",
    "reranking_recs_df"
   ]
  },
  {
   "cell_type": "markdown",
   "id": "8bf29fe7-ee08-45d0-8239-4734a9e4ff45",
   "metadata": {},
   "source": [
    "# Evaluate"
   ]
  },
  {
   "cell_type": "code",
   "execution_count": 58,
   "id": "fcd9ea92-edc4-4328-8583-bd7b2bd749ab",
   "metadata": {},
   "outputs": [],
   "source": [
    "def merge_recs_with_target(recs_df, label_df):\n",
    "    return (\n",
    "        recs_df\n",
    "        .pipe(\n",
    "            lambda df: pd.merge(\n",
    "                df,\n",
    "                label_df[['user_id', 'parent_asin', 'rating_rank']],\n",
    "                on=['user_id', 'parent_asin'],\n",
    "                how='outer'\n",
    "            )\n",
    "        )\n",
    "        .assign(\n",
    "            rating_rank=lambda df: df['rating_rank'].fillna(0).astype(int),\n",
    "            # Fill the recall with ranking = top_K + 1 so that the recall calculation is correct\n",
    "            rec_ranking=lambda df: df['rec_ranking'].fillna(cmparams.top_K + 1).astype(int)\n",
    "        )\n",
    "        .sort_values(['user_id', 'rec_ranking'])\n",
    "    )"
   ]
  },
  {
   "cell_type": "code",
   "execution_count": 59,
   "id": "efcb5b9a-a27b-4d40-8bc9-ab905219f94b",
   "metadata": {},
   "outputs": [
    {
     "data": {
      "text/html": [
       "<div>\n",
       "<style scoped>\n",
       "    .dataframe tbody tr th:only-of-type {\n",
       "        vertical-align: middle;\n",
       "    }\n",
       "\n",
       "    .dataframe tbody tr th {\n",
       "        vertical-align: top;\n",
       "    }\n",
       "\n",
       "    .dataframe thead th {\n",
       "        text-align: right;\n",
       "    }\n",
       "</style>\n",
       "<table border=\"1\" class=\"dataframe\">\n",
       "  <thead>\n",
       "    <tr style=\"text-align: right;\">\n",
       "      <th></th>\n",
       "      <th>user_id</th>\n",
       "      <th>parent_asin</th>\n",
       "      <th>rating_rank</th>\n",
       "    </tr>\n",
       "  </thead>\n",
       "  <tbody>\n",
       "    <tr>\n",
       "      <th>606973</th>\n",
       "      <td>AGOS2NWQ7DZ7DZ5VWCHHF7E2RHWA</td>\n",
       "      <td>B0BQMYZHV2</td>\n",
       "      <td>1.0</td>\n",
       "    </tr>\n",
       "    <tr>\n",
       "      <th>593170</th>\n",
       "      <td>AEEOK67NRJ4J25WJYWXB3GDJLQPA</td>\n",
       "      <td>B0BCG3ZWR4</td>\n",
       "      <td>1.0</td>\n",
       "    </tr>\n",
       "    <tr>\n",
       "      <th>3093261</th>\n",
       "      <td>AEDT25C43KKJ4VK2KGUG5IYKZZHQ</td>\n",
       "      <td>B097QLXM6G</td>\n",
       "      <td>1.0</td>\n",
       "    </tr>\n",
       "    <tr>\n",
       "      <th>1519140</th>\n",
       "      <td>AGZO4U4BTKD7NFV2GFFGGKXTXDCA</td>\n",
       "      <td>B09FJ5TZQZ</td>\n",
       "      <td>1.0</td>\n",
       "    </tr>\n",
       "    <tr>\n",
       "      <th>850720</th>\n",
       "      <td>AE6GY2WHNGFBJ2K2NB5BX4L7CD2Q</td>\n",
       "      <td>B08NDYQSXZ</td>\n",
       "      <td>1.0</td>\n",
       "    </tr>\n",
       "    <tr>\n",
       "      <th>...</th>\n",
       "      <td>...</td>\n",
       "      <td>...</td>\n",
       "      <td>...</td>\n",
       "    </tr>\n",
       "    <tr>\n",
       "      <th>834321</th>\n",
       "      <td>AHQMFHKCC7RDUBAZELFJLFVI456Q</td>\n",
       "      <td>B002I0K74Y</td>\n",
       "      <td>11.0</td>\n",
       "    </tr>\n",
       "    <tr>\n",
       "      <th>3596503</th>\n",
       "      <td>AEIONHAIBTFVS5EM3PGBPAZUNCLA</td>\n",
       "      <td>B08MBKBH72</td>\n",
       "      <td>12.0</td>\n",
       "    </tr>\n",
       "    <tr>\n",
       "      <th>834320</th>\n",
       "      <td>AHQMFHKCC7RDUBAZELFJLFVI456Q</td>\n",
       "      <td>B094YHB1QK</td>\n",
       "      <td>12.0</td>\n",
       "    </tr>\n",
       "    <tr>\n",
       "      <th>3596502</th>\n",
       "      <td>AEIONHAIBTFVS5EM3PGBPAZUNCLA</td>\n",
       "      <td>B09N568WBD</td>\n",
       "      <td>13.0</td>\n",
       "    </tr>\n",
       "    <tr>\n",
       "      <th>834319</th>\n",
       "      <td>AHQMFHKCC7RDUBAZELFJLFVI456Q</td>\n",
       "      <td>B0BL65X86R</td>\n",
       "      <td>13.0</td>\n",
       "    </tr>\n",
       "  </tbody>\n",
       "</table>\n",
       "<p>1160 rows × 3 columns</p>\n",
       "</div>"
      ],
      "text/plain": [
       "                              user_id parent_asin  rating_rank\n",
       "606973   AGOS2NWQ7DZ7DZ5VWCHHF7E2RHWA  B0BQMYZHV2          1.0\n",
       "593170   AEEOK67NRJ4J25WJYWXB3GDJLQPA  B0BCG3ZWR4          1.0\n",
       "3093261  AEDT25C43KKJ4VK2KGUG5IYKZZHQ  B097QLXM6G          1.0\n",
       "1519140  AGZO4U4BTKD7NFV2GFFGGKXTXDCA  B09FJ5TZQZ          1.0\n",
       "850720   AE6GY2WHNGFBJ2K2NB5BX4L7CD2Q  B08NDYQSXZ          1.0\n",
       "...                               ...         ...          ...\n",
       "834321   AHQMFHKCC7RDUBAZELFJLFVI456Q  B002I0K74Y         11.0\n",
       "3596503  AEIONHAIBTFVS5EM3PGBPAZUNCLA  B08MBKBH72         12.0\n",
       "834320   AHQMFHKCC7RDUBAZELFJLFVI456Q  B094YHB1QK         12.0\n",
       "3596502  AEIONHAIBTFVS5EM3PGBPAZUNCLA  B09N568WBD         13.0\n",
       "834319   AHQMFHKCC7RDUBAZELFJLFVI456Q  B0BL65X86R         13.0\n",
       "\n",
       "[1160 rows x 3 columns]"
      ]
     },
     "execution_count": 59,
     "metadata": {},
     "output_type": "execute_result"
    }
   ],
   "source": [
    "label_cols = ['user_id', 'parent_asin', 'rating_rank']\n",
    "label_df = (\n",
    "    val_df\n",
    "    .sort_values(['timestamp'], ascending=[False])\n",
    "    .assign(\n",
    "        rating_rank=lambda df: df.groupby('user_id')['rating'].rank(method='first', ascending=False)\n",
    "    )\n",
    "    .sort_values(['rating_rank'], ascending=[True])\n",
    "    [label_cols]\n",
    ")\n",
    "label_df"
   ]
  },
  {
   "cell_type": "code",
   "execution_count": 60,
   "id": "a1340c4f-3267-4559-9cf5-cc1898ecddae",
   "metadata": {},
   "outputs": [
    {
     "data": {
      "text/html": [
       "<div>\n",
       "<style scoped>\n",
       "    .dataframe tbody tr th:only-of-type {\n",
       "        vertical-align: middle;\n",
       "    }\n",
       "\n",
       "    .dataframe tbody tr th {\n",
       "        vertical-align: top;\n",
       "    }\n",
       "\n",
       "    .dataframe thead th {\n",
       "        text-align: right;\n",
       "    }\n",
       "</style>\n",
       "<table border=\"1\" class=\"dataframe\">\n",
       "  <thead>\n",
       "    <tr style=\"text-align: right;\">\n",
       "      <th></th>\n",
       "      <th>user_id</th>\n",
       "      <th>parent_asin</th>\n",
       "      <th>rec_ranking</th>\n",
       "      <th>score</th>\n",
       "      <th>rating_rank</th>\n",
       "    </tr>\n",
       "  </thead>\n",
       "  <tbody>\n",
       "    <tr>\n",
       "      <th>55</th>\n",
       "      <td>AE2ANGSGIM5ZM6CN4ATZUGQBMLIQ</td>\n",
       "      <td>B0B6TX8572</td>\n",
       "      <td>1</td>\n",
       "      <td>5.100229</td>\n",
       "      <td>0</td>\n",
       "    </tr>\n",
       "    <tr>\n",
       "      <th>80</th>\n",
       "      <td>AE2ANGSGIM5ZM6CN4ATZUGQBMLIQ</td>\n",
       "      <td>B0BZFWMYSQ</td>\n",
       "      <td>2</td>\n",
       "      <td>5.075129</td>\n",
       "      <td>0</td>\n",
       "    </tr>\n",
       "    <tr>\n",
       "      <th>39</th>\n",
       "      <td>AE2ANGSGIM5ZM6CN4ATZUGQBMLIQ</td>\n",
       "      <td>B09V25XG1G</td>\n",
       "      <td>3</td>\n",
       "      <td>5.034642</td>\n",
       "      <td>0</td>\n",
       "    </tr>\n",
       "    <tr>\n",
       "      <th>96</th>\n",
       "      <td>AE2ANGSGIM5ZM6CN4ATZUGQBMLIQ</td>\n",
       "      <td>B0C74681ZF</td>\n",
       "      <td>4</td>\n",
       "      <td>4.796663</td>\n",
       "      <td>0</td>\n",
       "    </tr>\n",
       "    <tr>\n",
       "      <th>81</th>\n",
       "      <td>AE2ANGSGIM5ZM6CN4ATZUGQBMLIQ</td>\n",
       "      <td>B0BZJ1N98L</td>\n",
       "      <td>5</td>\n",
       "      <td>4.725878</td>\n",
       "      <td>0</td>\n",
       "    </tr>\n",
       "    <tr>\n",
       "      <th>...</th>\n",
       "      <td>...</td>\n",
       "      <td>...</td>\n",
       "      <td>...</td>\n",
       "      <td>...</td>\n",
       "      <td>...</td>\n",
       "    </tr>\n",
       "    <tr>\n",
       "      <th>90915</th>\n",
       "      <td>AHZSTXPC6QU72F2ND5UV53RDYICA</td>\n",
       "      <td>B0BRF6PX4Z</td>\n",
       "      <td>97</td>\n",
       "      <td>2.902389</td>\n",
       "      <td>0</td>\n",
       "    </tr>\n",
       "    <tr>\n",
       "      <th>90874</th>\n",
       "      <td>AHZSTXPC6QU72F2ND5UV53RDYICA</td>\n",
       "      <td>B09JNR4Y15</td>\n",
       "      <td>98</td>\n",
       "      <td>2.789602</td>\n",
       "      <td>0</td>\n",
       "    </tr>\n",
       "    <tr>\n",
       "      <th>90908</th>\n",
       "      <td>AHZSTXPC6QU72F2ND5UV53RDYICA</td>\n",
       "      <td>B0BL65X86R</td>\n",
       "      <td>99</td>\n",
       "      <td>2.700796</td>\n",
       "      <td>0</td>\n",
       "    </tr>\n",
       "    <tr>\n",
       "      <th>90891</th>\n",
       "      <td>AHZSTXPC6QU72F2ND5UV53RDYICA</td>\n",
       "      <td>B0B16656Z2</td>\n",
       "      <td>100</td>\n",
       "      <td>2.681272</td>\n",
       "      <td>0</td>\n",
       "    </tr>\n",
       "    <tr>\n",
       "      <th>90866</th>\n",
       "      <td>AHZSTXPC6QU72F2ND5UV53RDYICA</td>\n",
       "      <td>B097BPQSRM</td>\n",
       "      <td>101</td>\n",
       "      <td>NaN</td>\n",
       "      <td>1</td>\n",
       "    </tr>\n",
       "  </tbody>\n",
       "</table>\n",
       "<p>90944 rows × 5 columns</p>\n",
       "</div>"
      ],
      "text/plain": [
       "                            user_id parent_asin  rec_ranking     score  \\\n",
       "55     AE2ANGSGIM5ZM6CN4ATZUGQBMLIQ  B0B6TX8572            1  5.100229   \n",
       "80     AE2ANGSGIM5ZM6CN4ATZUGQBMLIQ  B0BZFWMYSQ            2  5.075129   \n",
       "39     AE2ANGSGIM5ZM6CN4ATZUGQBMLIQ  B09V25XG1G            3  5.034642   \n",
       "96     AE2ANGSGIM5ZM6CN4ATZUGQBMLIQ  B0C74681ZF            4  4.796663   \n",
       "81     AE2ANGSGIM5ZM6CN4ATZUGQBMLIQ  B0BZJ1N98L            5  4.725878   \n",
       "...                             ...         ...          ...       ...   \n",
       "90915  AHZSTXPC6QU72F2ND5UV53RDYICA  B0BRF6PX4Z           97  2.902389   \n",
       "90874  AHZSTXPC6QU72F2ND5UV53RDYICA  B09JNR4Y15           98  2.789602   \n",
       "90908  AHZSTXPC6QU72F2ND5UV53RDYICA  B0BL65X86R           99  2.700796   \n",
       "90891  AHZSTXPC6QU72F2ND5UV53RDYICA  B0B16656Z2          100  2.681272   \n",
       "90866  AHZSTXPC6QU72F2ND5UV53RDYICA  B097BPQSRM          101       NaN   \n",
       "\n",
       "       rating_rank  \n",
       "55               0  \n",
       "80               0  \n",
       "39               0  \n",
       "96               0  \n",
       "81               0  \n",
       "...            ...  \n",
       "90915            0  \n",
       "90874            0  \n",
       "90908            0  \n",
       "90891            0  \n",
       "90866            1  \n",
       "\n",
       "[90944 rows x 5 columns]"
      ]
     },
     "execution_count": 60,
     "metadata": {},
     "output_type": "execute_result"
    }
   ],
   "source": [
    "reranking_recs_target = merge_recs_with_target(reranking_recs_df, label_df)\n",
    "reranking_recs_target"
   ]
  },
  {
   "cell_type": "code",
   "execution_count": 61,
   "id": "23cf5e74-0e5c-4791-88b5-beb2c0f87df9",
   "metadata": {},
   "outputs": [
    {
     "data": {
      "text/html": [
       "<div>\n",
       "<style scoped>\n",
       "    .dataframe tbody tr th:only-of-type {\n",
       "        vertical-align: middle;\n",
       "    }\n",
       "\n",
       "    .dataframe tbody tr th {\n",
       "        vertical-align: top;\n",
       "    }\n",
       "\n",
       "    .dataframe thead th {\n",
       "        text-align: right;\n",
       "    }\n",
       "</style>\n",
       "<table border=\"1\" class=\"dataframe\">\n",
       "  <thead>\n",
       "    <tr style=\"text-align: right;\">\n",
       "      <th></th>\n",
       "      <th>user_id</th>\n",
       "      <th>parent_asin</th>\n",
       "      <th>rec_ranking</th>\n",
       "      <th>rating_rank</th>\n",
       "    </tr>\n",
       "  </thead>\n",
       "  <tbody>\n",
       "    <tr>\n",
       "      <th>6</th>\n",
       "      <td>AE2ANGSGIM5ZM6CN4ATZUGQBMLIQ</td>\n",
       "      <td>B07V8YSBFG</td>\n",
       "      <td>1</td>\n",
       "      <td>0</td>\n",
       "    </tr>\n",
       "    <tr>\n",
       "      <th>37</th>\n",
       "      <td>AE2ANGSGIM5ZM6CN4ATZUGQBMLIQ</td>\n",
       "      <td>B09TQBJCJ6</td>\n",
       "      <td>2</td>\n",
       "      <td>0</td>\n",
       "    </tr>\n",
       "    <tr>\n",
       "      <th>80</th>\n",
       "      <td>AE2ANGSGIM5ZM6CN4ATZUGQBMLIQ</td>\n",
       "      <td>B0BZFWMYSQ</td>\n",
       "      <td>3</td>\n",
       "      <td>0</td>\n",
       "    </tr>\n",
       "    <tr>\n",
       "      <th>20</th>\n",
       "      <td>AE2ANGSGIM5ZM6CN4ATZUGQBMLIQ</td>\n",
       "      <td>B08LT6PT1X</td>\n",
       "      <td>4</td>\n",
       "      <td>0</td>\n",
       "    </tr>\n",
       "    <tr>\n",
       "      <th>44</th>\n",
       "      <td>AE2ANGSGIM5ZM6CN4ATZUGQBMLIQ</td>\n",
       "      <td>B09XM8MMYD</td>\n",
       "      <td>5</td>\n",
       "      <td>0</td>\n",
       "    </tr>\n",
       "    <tr>\n",
       "      <th>...</th>\n",
       "      <td>...</td>\n",
       "      <td>...</td>\n",
       "      <td>...</td>\n",
       "      <td>...</td>\n",
       "    </tr>\n",
       "    <tr>\n",
       "      <th>90912</th>\n",
       "      <td>AHZSTXPC6QU72F2ND5UV53RDYICA</td>\n",
       "      <td>B0BN3SDBC5</td>\n",
       "      <td>97</td>\n",
       "      <td>0</td>\n",
       "    </tr>\n",
       "    <tr>\n",
       "      <th>90853</th>\n",
       "      <td>AHZSTXPC6QU72F2ND5UV53RDYICA</td>\n",
       "      <td>B07X1TFSQ4</td>\n",
       "      <td>98</td>\n",
       "      <td>0</td>\n",
       "    </tr>\n",
       "    <tr>\n",
       "      <th>90857</th>\n",
       "      <td>AHZSTXPC6QU72F2ND5UV53RDYICA</td>\n",
       "      <td>B087NNZZM8</td>\n",
       "      <td>99</td>\n",
       "      <td>0</td>\n",
       "    </tr>\n",
       "    <tr>\n",
       "      <th>90869</th>\n",
       "      <td>AHZSTXPC6QU72F2ND5UV53RDYICA</td>\n",
       "      <td>B09B35J159</td>\n",
       "      <td>100</td>\n",
       "      <td>0</td>\n",
       "    </tr>\n",
       "    <tr>\n",
       "      <th>90866</th>\n",
       "      <td>AHZSTXPC6QU72F2ND5UV53RDYICA</td>\n",
       "      <td>B097BPQSRM</td>\n",
       "      <td>101</td>\n",
       "      <td>1</td>\n",
       "    </tr>\n",
       "  </tbody>\n",
       "</table>\n",
       "<p>90944 rows × 4 columns</p>\n",
       "</div>"
      ],
      "text/plain": [
       "                            user_id parent_asin  rec_ranking  rating_rank\n",
       "6      AE2ANGSGIM5ZM6CN4ATZUGQBMLIQ  B07V8YSBFG            1            0\n",
       "37     AE2ANGSGIM5ZM6CN4ATZUGQBMLIQ  B09TQBJCJ6            2            0\n",
       "80     AE2ANGSGIM5ZM6CN4ATZUGQBMLIQ  B0BZFWMYSQ            3            0\n",
       "20     AE2ANGSGIM5ZM6CN4ATZUGQBMLIQ  B08LT6PT1X            4            0\n",
       "44     AE2ANGSGIM5ZM6CN4ATZUGQBMLIQ  B09XM8MMYD            5            0\n",
       "...                             ...         ...          ...          ...\n",
       "90912  AHZSTXPC6QU72F2ND5UV53RDYICA  B0BN3SDBC5           97            0\n",
       "90853  AHZSTXPC6QU72F2ND5UV53RDYICA  B07X1TFSQ4           98            0\n",
       "90857  AHZSTXPC6QU72F2ND5UV53RDYICA  B087NNZZM8           99            0\n",
       "90869  AHZSTXPC6QU72F2ND5UV53RDYICA  B09B35J159          100            0\n",
       "90866  AHZSTXPC6QU72F2ND5UV53RDYICA  B097BPQSRM          101            1\n",
       "\n",
       "[90944 rows x 4 columns]"
      ]
     },
     "metadata": {},
     "output_type": "display_data"
    }
   ],
   "source": [
    "popular_recs_target = merge_recs_with_target(popular_recs, label_df)\n",
    "display(popular_recs_target)"
   ]
  },
  {
   "cell_type": "code",
   "execution_count": 84,
   "id": "34e06f75-d723-424f-8971-50056b1b9900",
   "metadata": {},
   "outputs": [],
   "source": [
    "def plot_rec_ranking_histogram(df, name: str):\n",
    "    # Extract the hour from the timestamp\n",
    "    plot_df = df.copy()\n",
    "    \n",
    "    # Group by the hour of the day and count the number of interactions\n",
    "    \n",
    "    plot_agg_df = plot_df.groupby('rec_ranking').size().reindex(range(plot_df['rec_ranking'].max()), fill_value=0)\n",
    "    \n",
    "    # Create the plot\n",
    "    fig = px.bar(\n",
    "        x=plot_agg_df.index,\n",
    "        y=plot_agg_df.values,\n",
    "        labels={'x': 'rec_ranking', 'y': 'count'},\n",
    "        title=f'Histogram of rec_ranking for {name}',\n",
    "        text_auto=True,\n",
    "        height=500,\n",
    "        width=1300\n",
    "    )\n",
    "\n",
    "    fig.show()"
   ]
  },
  {
   "cell_type": "code",
   "execution_count": 85,
   "id": "199625ee-93e8-4c93-ba82-4f5ba1f4071d",
   "metadata": {},
   "outputs": [
    {
     "data": {
      "application/vnd.plotly.v1+json": {
       "config": {
        "plotlyServerURL": "https://plot.ly"
       },
       "data": [
        {
         "alignmentgroup": "True",
         "hovertemplate": "rec_ranking=%{x}<br>count=%{y}<extra></extra>",
         "legendgroup": "",
         "marker": {
          "color": "#c60000",
          "pattern": {
           "shape": ""
          }
         },
         "name": "",
         "offsetgroup": "",
         "orientation": "v",
         "showlegend": false,
         "textposition": "auto",
         "texttemplate": "%{y}",
         "type": "bar",
         "x": [
          0,
          1,
          2,
          3,
          4,
          5,
          6,
          7,
          8,
          9,
          10,
          11,
          12,
          13,
          14,
          15,
          16,
          17,
          18,
          19,
          20,
          21,
          22,
          23,
          24,
          25,
          26,
          27,
          28,
          29,
          30,
          31,
          32,
          33,
          34,
          35,
          36,
          37,
          38,
          39,
          40,
          41,
          42,
          43,
          44,
          45,
          46,
          47,
          48,
          49,
          50,
          51,
          52,
          53,
          54,
          55,
          56,
          57,
          58,
          59,
          60,
          61,
          62,
          63,
          64,
          65,
          66,
          67,
          68,
          69,
          70,
          71,
          72,
          73,
          74,
          75,
          76,
          77,
          78,
          79,
          80,
          81,
          82,
          83,
          84,
          85,
          86,
          87,
          88,
          89,
          90,
          91,
          92,
          93,
          94,
          95,
          96,
          97,
          98
         ],
         "xaxis": "x",
         "y": [
          0,
          1,
          3,
          5,
          1,
          1,
          1,
          0,
          1,
          5,
          1,
          0,
          1,
          3,
          1,
          2,
          2,
          0,
          2,
          5,
          4,
          0,
          4,
          2,
          2,
          0,
          1,
          0,
          0,
          1,
          2,
          3,
          1,
          1,
          0,
          1,
          0,
          0,
          0,
          1,
          2,
          0,
          0,
          0,
          0,
          2,
          0,
          0,
          1,
          1,
          0,
          1,
          0,
          0,
          0,
          2,
          0,
          0,
          0,
          0,
          3,
          1,
          2,
          0,
          0,
          0,
          2,
          0,
          2,
          3,
          1,
          0,
          0,
          1,
          0,
          3,
          0,
          1,
          2,
          0,
          0,
          0,
          0,
          1,
          1,
          0,
          0,
          0,
          0,
          0,
          1,
          0,
          0,
          0,
          1,
          1,
          1,
          0,
          1
         ],
         "yaxis": "y"
        }
       ],
       "layout": {
        "barmode": "relative",
        "height": 500,
        "legend": {
         "tracegroupgap": 0
        },
        "template": {
         "layout": {
          "colorway": [
           "#c60000",
           "#0011C7",
           "#00C738",
           "#C79C00",
           "#722626"
          ],
          "font": {
           "family": "Inter Variable, Inter"
          },
          "showlegend": false,
          "template": {
           "data": {
            "bar": [
             {
              "error_x": {
               "color": "rgb(36,36,36)"
              },
              "error_y": {
               "color": "rgb(36,36,36)"
              },
              "marker": {
               "line": {
                "color": "white",
                "width": 0.5
               },
               "pattern": {
                "fillmode": "overlay",
                "size": 10,
                "solidity": 0.2
               }
              },
              "type": "bar"
             }
            ],
            "barpolar": [
             {
              "marker": {
               "line": {
                "color": "white",
                "width": 0.5
               },
               "pattern": {
                "fillmode": "overlay",
                "size": 10,
                "solidity": 0.2
               }
              },
              "type": "barpolar"
             }
            ],
            "carpet": [
             {
              "aaxis": {
               "endlinecolor": "rgb(36,36,36)",
               "gridcolor": "white",
               "linecolor": "white",
               "minorgridcolor": "white",
               "startlinecolor": "rgb(36,36,36)"
              },
              "baxis": {
               "endlinecolor": "rgb(36,36,36)",
               "gridcolor": "white",
               "linecolor": "white",
               "minorgridcolor": "white",
               "startlinecolor": "rgb(36,36,36)"
              },
              "type": "carpet"
             }
            ],
            "choropleth": [
             {
              "colorbar": {
               "outlinewidth": 1,
               "tickcolor": "rgb(36,36,36)",
               "ticks": "outside"
              },
              "type": "choropleth"
             }
            ],
            "contour": [
             {
              "colorbar": {
               "outlinewidth": 1,
               "tickcolor": "rgb(36,36,36)",
               "ticks": "outside"
              },
              "colorscale": [
               [
                0,
                "#440154"
               ],
               [
                0.1111111111111111,
                "#482878"
               ],
               [
                0.2222222222222222,
                "#3e4989"
               ],
               [
                0.3333333333333333,
                "#31688e"
               ],
               [
                0.4444444444444444,
                "#26828e"
               ],
               [
                0.5555555555555556,
                "#1f9e89"
               ],
               [
                0.6666666666666666,
                "#35b779"
               ],
               [
                0.7777777777777778,
                "#6ece58"
               ],
               [
                0.8888888888888888,
                "#b5de2b"
               ],
               [
                1,
                "#fde725"
               ]
              ],
              "type": "contour"
             }
            ],
            "contourcarpet": [
             {
              "colorbar": {
               "outlinewidth": 1,
               "tickcolor": "rgb(36,36,36)",
               "ticks": "outside"
              },
              "type": "contourcarpet"
             }
            ],
            "heatmap": [
             {
              "colorbar": {
               "outlinewidth": 1,
               "tickcolor": "rgb(36,36,36)",
               "ticks": "outside"
              },
              "colorscale": [
               [
                0,
                "#440154"
               ],
               [
                0.1111111111111111,
                "#482878"
               ],
               [
                0.2222222222222222,
                "#3e4989"
               ],
               [
                0.3333333333333333,
                "#31688e"
               ],
               [
                0.4444444444444444,
                "#26828e"
               ],
               [
                0.5555555555555556,
                "#1f9e89"
               ],
               [
                0.6666666666666666,
                "#35b779"
               ],
               [
                0.7777777777777778,
                "#6ece58"
               ],
               [
                0.8888888888888888,
                "#b5de2b"
               ],
               [
                1,
                "#fde725"
               ]
              ],
              "type": "heatmap"
             }
            ],
            "heatmapgl": [
             {
              "colorbar": {
               "outlinewidth": 1,
               "tickcolor": "rgb(36,36,36)",
               "ticks": "outside"
              },
              "colorscale": [
               [
                0,
                "#440154"
               ],
               [
                0.1111111111111111,
                "#482878"
               ],
               [
                0.2222222222222222,
                "#3e4989"
               ],
               [
                0.3333333333333333,
                "#31688e"
               ],
               [
                0.4444444444444444,
                "#26828e"
               ],
               [
                0.5555555555555556,
                "#1f9e89"
               ],
               [
                0.6666666666666666,
                "#35b779"
               ],
               [
                0.7777777777777778,
                "#6ece58"
               ],
               [
                0.8888888888888888,
                "#b5de2b"
               ],
               [
                1,
                "#fde725"
               ]
              ],
              "type": "heatmapgl"
             }
            ],
            "histogram": [
             {
              "marker": {
               "line": {
                "color": "white",
                "width": 0.6
               }
              },
              "type": "histogram"
             }
            ],
            "histogram2d": [
             {
              "colorbar": {
               "outlinewidth": 1,
               "tickcolor": "rgb(36,36,36)",
               "ticks": "outside"
              },
              "colorscale": [
               [
                0,
                "#440154"
               ],
               [
                0.1111111111111111,
                "#482878"
               ],
               [
                0.2222222222222222,
                "#3e4989"
               ],
               [
                0.3333333333333333,
                "#31688e"
               ],
               [
                0.4444444444444444,
                "#26828e"
               ],
               [
                0.5555555555555556,
                "#1f9e89"
               ],
               [
                0.6666666666666666,
                "#35b779"
               ],
               [
                0.7777777777777778,
                "#6ece58"
               ],
               [
                0.8888888888888888,
                "#b5de2b"
               ],
               [
                1,
                "#fde725"
               ]
              ],
              "type": "histogram2d"
             }
            ],
            "histogram2dcontour": [
             {
              "colorbar": {
               "outlinewidth": 1,
               "tickcolor": "rgb(36,36,36)",
               "ticks": "outside"
              },
              "colorscale": [
               [
                0,
                "#440154"
               ],
               [
                0.1111111111111111,
                "#482878"
               ],
               [
                0.2222222222222222,
                "#3e4989"
               ],
               [
                0.3333333333333333,
                "#31688e"
               ],
               [
                0.4444444444444444,
                "#26828e"
               ],
               [
                0.5555555555555556,
                "#1f9e89"
               ],
               [
                0.6666666666666666,
                "#35b779"
               ],
               [
                0.7777777777777778,
                "#6ece58"
               ],
               [
                0.8888888888888888,
                "#b5de2b"
               ],
               [
                1,
                "#fde725"
               ]
              ],
              "type": "histogram2dcontour"
             }
            ],
            "mesh3d": [
             {
              "colorbar": {
               "outlinewidth": 1,
               "tickcolor": "rgb(36,36,36)",
               "ticks": "outside"
              },
              "type": "mesh3d"
             }
            ],
            "parcoords": [
             {
              "line": {
               "colorbar": {
                "outlinewidth": 1,
                "tickcolor": "rgb(36,36,36)",
                "ticks": "outside"
               }
              },
              "type": "parcoords"
             }
            ],
            "pie": [
             {
              "automargin": true,
              "type": "pie"
             }
            ],
            "scatter": [
             {
              "fillpattern": {
               "fillmode": "overlay",
               "size": 10,
               "solidity": 0.2
              },
              "type": "scatter"
             }
            ],
            "scatter3d": [
             {
              "line": {
               "colorbar": {
                "outlinewidth": 1,
                "tickcolor": "rgb(36,36,36)",
                "ticks": "outside"
               }
              },
              "marker": {
               "colorbar": {
                "outlinewidth": 1,
                "tickcolor": "rgb(36,36,36)",
                "ticks": "outside"
               }
              },
              "type": "scatter3d"
             }
            ],
            "scattercarpet": [
             {
              "marker": {
               "colorbar": {
                "outlinewidth": 1,
                "tickcolor": "rgb(36,36,36)",
                "ticks": "outside"
               }
              },
              "type": "scattercarpet"
             }
            ],
            "scattergeo": [
             {
              "marker": {
               "colorbar": {
                "outlinewidth": 1,
                "tickcolor": "rgb(36,36,36)",
                "ticks": "outside"
               }
              },
              "type": "scattergeo"
             }
            ],
            "scattergl": [
             {
              "marker": {
               "colorbar": {
                "outlinewidth": 1,
                "tickcolor": "rgb(36,36,36)",
                "ticks": "outside"
               }
              },
              "type": "scattergl"
             }
            ],
            "scattermapbox": [
             {
              "marker": {
               "colorbar": {
                "outlinewidth": 1,
                "tickcolor": "rgb(36,36,36)",
                "ticks": "outside"
               }
              },
              "type": "scattermapbox"
             }
            ],
            "scatterpolar": [
             {
              "marker": {
               "colorbar": {
                "outlinewidth": 1,
                "tickcolor": "rgb(36,36,36)",
                "ticks": "outside"
               }
              },
              "type": "scatterpolar"
             }
            ],
            "scatterpolargl": [
             {
              "marker": {
               "colorbar": {
                "outlinewidth": 1,
                "tickcolor": "rgb(36,36,36)",
                "ticks": "outside"
               }
              },
              "type": "scatterpolargl"
             }
            ],
            "scatterternary": [
             {
              "marker": {
               "colorbar": {
                "outlinewidth": 1,
                "tickcolor": "rgb(36,36,36)",
                "ticks": "outside"
               }
              },
              "type": "scatterternary"
             }
            ],
            "surface": [
             {
              "colorbar": {
               "outlinewidth": 1,
               "tickcolor": "rgb(36,36,36)",
               "ticks": "outside"
              },
              "colorscale": [
               [
                0,
                "#440154"
               ],
               [
                0.1111111111111111,
                "#482878"
               ],
               [
                0.2222222222222222,
                "#3e4989"
               ],
               [
                0.3333333333333333,
                "#31688e"
               ],
               [
                0.4444444444444444,
                "#26828e"
               ],
               [
                0.5555555555555556,
                "#1f9e89"
               ],
               [
                0.6666666666666666,
                "#35b779"
               ],
               [
                0.7777777777777778,
                "#6ece58"
               ],
               [
                0.8888888888888888,
                "#b5de2b"
               ],
               [
                1,
                "#fde725"
               ]
              ],
              "type": "surface"
             }
            ],
            "table": [
             {
              "cells": {
               "fill": {
                "color": "rgb(237,237,237)"
               },
               "line": {
                "color": "white"
               }
              },
              "header": {
               "fill": {
                "color": "rgb(217,217,217)"
               },
               "line": {
                "color": "white"
               }
              },
              "type": "table"
             }
            ]
           },
           "layout": {
            "annotationdefaults": {
             "arrowhead": 0,
             "arrowwidth": 1
            },
            "autotypenumbers": "strict",
            "coloraxis": {
             "colorbar": {
              "outlinewidth": 1,
              "tickcolor": "rgb(36,36,36)",
              "ticks": "outside"
             }
            },
            "colorscale": {
             "diverging": [
              [
               0,
               "rgb(103,0,31)"
              ],
              [
               0.1,
               "rgb(178,24,43)"
              ],
              [
               0.2,
               "rgb(214,96,77)"
              ],
              [
               0.3,
               "rgb(244,165,130)"
              ],
              [
               0.4,
               "rgb(253,219,199)"
              ],
              [
               0.5,
               "rgb(247,247,247)"
              ],
              [
               0.6,
               "rgb(209,229,240)"
              ],
              [
               0.7,
               "rgb(146,197,222)"
              ],
              [
               0.8,
               "rgb(67,147,195)"
              ],
              [
               0.9,
               "rgb(33,102,172)"
              ],
              [
               1,
               "rgb(5,48,97)"
              ]
             ],
             "sequential": [
              [
               0,
               "#440154"
              ],
              [
               0.1111111111111111,
               "#482878"
              ],
              [
               0.2222222222222222,
               "#3e4989"
              ],
              [
               0.3333333333333333,
               "#31688e"
              ],
              [
               0.4444444444444444,
               "#26828e"
              ],
              [
               0.5555555555555556,
               "#1f9e89"
              ],
              [
               0.6666666666666666,
               "#35b779"
              ],
              [
               0.7777777777777778,
               "#6ece58"
              ],
              [
               0.8888888888888888,
               "#b5de2b"
              ],
              [
               1,
               "#fde725"
              ]
             ],
             "sequentialminus": [
              [
               0,
               "#440154"
              ],
              [
               0.1111111111111111,
               "#482878"
              ],
              [
               0.2222222222222222,
               "#3e4989"
              ],
              [
               0.3333333333333333,
               "#31688e"
              ],
              [
               0.4444444444444444,
               "#26828e"
              ],
              [
               0.5555555555555556,
               "#1f9e89"
              ],
              [
               0.6666666666666666,
               "#35b779"
              ],
              [
               0.7777777777777778,
               "#6ece58"
              ],
              [
               0.8888888888888888,
               "#b5de2b"
              ],
              [
               1,
               "#fde725"
              ]
             ]
            },
            "colorway": [
             "#1F77B4",
             "#FF7F0E",
             "#2CA02C",
             "#D62728",
             "#9467BD",
             "#8C564B",
             "#E377C2",
             "#7F7F7F",
             "#BCBD22",
             "#17BECF"
            ],
            "font": {
             "color": "rgb(36,36,36)"
            },
            "geo": {
             "bgcolor": "white",
             "lakecolor": "white",
             "landcolor": "white",
             "showlakes": true,
             "showland": true,
             "subunitcolor": "white"
            },
            "hoverlabel": {
             "align": "left"
            },
            "hovermode": "closest",
            "mapbox": {
             "style": "light"
            },
            "paper_bgcolor": "white",
            "plot_bgcolor": "white",
            "polar": {
             "angularaxis": {
              "gridcolor": "rgb(232,232,232)",
              "linecolor": "rgb(36,36,36)",
              "showgrid": false,
              "showline": true,
              "ticks": "outside"
             },
             "bgcolor": "white",
             "radialaxis": {
              "gridcolor": "rgb(232,232,232)",
              "linecolor": "rgb(36,36,36)",
              "showgrid": false,
              "showline": true,
              "ticks": "outside"
             }
            },
            "scene": {
             "xaxis": {
              "backgroundcolor": "white",
              "gridcolor": "rgb(232,232,232)",
              "gridwidth": 2,
              "linecolor": "rgb(36,36,36)",
              "showbackground": true,
              "showgrid": false,
              "showline": true,
              "ticks": "outside",
              "zeroline": false,
              "zerolinecolor": "rgb(36,36,36)"
             },
             "yaxis": {
              "backgroundcolor": "white",
              "gridcolor": "rgb(232,232,232)",
              "gridwidth": 2,
              "linecolor": "rgb(36,36,36)",
              "showbackground": true,
              "showgrid": false,
              "showline": true,
              "ticks": "outside",
              "zeroline": false,
              "zerolinecolor": "rgb(36,36,36)"
             },
             "zaxis": {
              "backgroundcolor": "white",
              "gridcolor": "rgb(232,232,232)",
              "gridwidth": 2,
              "linecolor": "rgb(36,36,36)",
              "showbackground": true,
              "showgrid": false,
              "showline": true,
              "ticks": "outside",
              "zeroline": false,
              "zerolinecolor": "rgb(36,36,36)"
             }
            },
            "shapedefaults": {
             "fillcolor": "black",
             "line": {
              "width": 0
             },
             "opacity": 0.3
            },
            "ternary": {
             "aaxis": {
              "gridcolor": "rgb(232,232,232)",
              "linecolor": "rgb(36,36,36)",
              "showgrid": false,
              "showline": true,
              "ticks": "outside"
             },
             "baxis": {
              "gridcolor": "rgb(232,232,232)",
              "linecolor": "rgb(36,36,36)",
              "showgrid": false,
              "showline": true,
              "ticks": "outside"
             },
             "bgcolor": "white",
             "caxis": {
              "gridcolor": "rgb(232,232,232)",
              "linecolor": "rgb(36,36,36)",
              "showgrid": false,
              "showline": true,
              "ticks": "outside"
             }
            },
            "title": {
             "x": 0.05
            },
            "xaxis": {
             "automargin": true,
             "gridcolor": "rgb(232,232,232)",
             "linecolor": "rgb(36,36,36)",
             "showgrid": false,
             "showline": true,
             "ticks": "outside",
             "title": {
              "standoff": 15
             },
             "zeroline": false,
             "zerolinecolor": "rgb(36,36,36)"
            },
            "yaxis": {
             "automargin": true,
             "gridcolor": "rgb(232,232,232)",
             "linecolor": "rgb(36,36,36)",
             "showgrid": false,
             "showline": true,
             "ticks": "outside",
             "title": {
              "standoff": 15
             },
             "zeroline": false,
             "zerolinecolor": "rgb(36,36,36)"
            }
           }
          },
          "title": {
           "font": {
            "family": "Inter Variable, Inter Tight, Inter",
            "weight": "bold"
           }
          },
          "xaxis": {
           "showgrid": false
          },
          "yaxis": {
           "showgrid": false,
           "showticklabels": false,
           "tickformat": ","
          }
         }
        },
        "title": {
         "text": "Histogram of rec_ranking for popular"
        },
        "width": 1300,
        "xaxis": {
         "anchor": "y",
         "autorange": true,
         "domain": [
          0,
          1
         ],
         "range": [
          -0.5,
          98.5
         ],
         "title": {
          "text": "rec_ranking"
         },
         "type": "linear"
        },
        "yaxis": {
         "anchor": "x",
         "autorange": true,
         "domain": [
          0,
          1
         ],
         "range": [
          0,
          5.2631578947368425
         ],
         "title": {
          "text": "count"
         },
         "type": "linear"
        }
       }
      },
      "image/png": "[encoded data removed]",
      "text/html": [
       "<div>                            <div id=\"11bb236b-919c-4e61-9fed-e567a18f26d1\" class=\"plotly-graph-div\" style=\"height:500px; width:1300px;\"></div>            <script type=\"text/javascript\">                require([\"plotly\"], function(Plotly) {                    window.PLOTLYENV=window.PLOTLYENV || {};                                    if (document.getElementById(\"11bb236b-919c-4e61-9fed-e567a18f26d1\")) {                    Plotly.newPlot(                        \"11bb236b-919c-4e61-9fed-e567a18f26d1\",                        [{\"alignmentgroup\":\"True\",\"hovertemplate\":\"rec_ranking=%{x}\\u003cbr\\u003ecount=%{y}\\u003cextra\\u003e\\u003c\\u002fextra\\u003e\",\"legendgroup\":\"\",\"marker\":{\"color\":\"#c60000\",\"pattern\":{\"shape\":\"\"}},\"name\":\"\",\"offsetgroup\":\"\",\"orientation\":\"v\",\"showlegend\":false,\"textposition\":\"auto\",\"texttemplate\":\"%{y}\",\"x\":[0,1,2,3,4,5,6,7,8,9,10,11,12,13,14,15,16,17,18,19,20,21,22,23,24,25,26,27,28,29,30,31,32,33,34,35,36,37,38,39,40,41,42,43,44,45,46,47,48,49,50,51,52,53,54,55,56,57,58,59,60,61,62,63,64,65,66,67,68,69,70,71,72,73,74,75,76,77,78,79,80,81,82,83,84,85,86,87,88,89,90,91,92,93,94,95,96,97,98],\"xaxis\":\"x\",\"y\":[0,1,3,5,1,1,1,0,1,5,1,0,1,3,1,2,2,0,2,5,4,0,4,2,2,0,1,0,0,1,2,3,1,1,0,1,0,0,0,1,2,0,0,0,0,2,0,0,1,1,0,1,0,0,0,2,0,0,0,0,3,1,2,0,0,0,2,0,2,3,1,0,0,1,0,3,0,1,2,0,0,0,0,1,1,0,0,0,0,0,1,0,0,0,1,1,1,0,1],\"yaxis\":\"y\",\"type\":\"bar\"}],                        {\"template\":{\"layout\":{\"colorway\":[\"#c60000\",\"#0011C7\",\"#00C738\",\"#C79C00\",\"#722626\"],\"font\":{\"family\":\"Inter Variable, Inter\"},\"showlegend\":false,\"template\":{\"data\":{\"barpolar\":[{\"marker\":{\"line\":{\"color\":\"white\",\"width\":0.5},\"pattern\":{\"fillmode\":\"overlay\",\"size\":10,\"solidity\":0.2}},\"type\":\"barpolar\"}],\"bar\":[{\"error_x\":{\"color\":\"rgb(36,36,36)\"},\"error_y\":{\"color\":\"rgb(36,36,36)\"},\"marker\":{\"line\":{\"color\":\"white\",\"width\":0.5},\"pattern\":{\"fillmode\":\"overlay\",\"size\":10,\"solidity\":0.2}},\"type\":\"bar\"}],\"carpet\":[{\"aaxis\":{\"endlinecolor\":\"rgb(36,36,36)\",\"gridcolor\":\"white\",\"linecolor\":\"white\",\"minorgridcolor\":\"white\",\"startlinecolor\":\"rgb(36,36,36)\"},\"baxis\":{\"endlinecolor\":\"rgb(36,36,36)\",\"gridcolor\":\"white\",\"linecolor\":\"white\",\"minorgridcolor\":\"white\",\"startlinecolor\":\"rgb(36,36,36)\"},\"type\":\"carpet\"}],\"choropleth\":[{\"colorbar\":{\"outlinewidth\":1,\"tickcolor\":\"rgb(36,36,36)\",\"ticks\":\"outside\"},\"type\":\"choropleth\"}],\"contourcarpet\":[{\"colorbar\":{\"outlinewidth\":1,\"tickcolor\":\"rgb(36,36,36)\",\"ticks\":\"outside\"},\"type\":\"contourcarpet\"}],\"contour\":[{\"colorbar\":{\"outlinewidth\":1,\"tickcolor\":\"rgb(36,36,36)\",\"ticks\":\"outside\"},\"colorscale\":[[0.0,\"#440154\"],[0.1111111111111111,\"#482878\"],[0.2222222222222222,\"#3e4989\"],[0.3333333333333333,\"#31688e\"],[0.4444444444444444,\"#26828e\"],[0.5555555555555556,\"#1f9e89\"],[0.6666666666666666,\"#35b779\"],[0.7777777777777778,\"#6ece58\"],[0.8888888888888888,\"#b5de2b\"],[1.0,\"#fde725\"]],\"type\":\"contour\"}],\"heatmapgl\":[{\"colorbar\":{\"outlinewidth\":1,\"tickcolor\":\"rgb(36,36,36)\",\"ticks\":\"outside\"},\"colorscale\":[[0.0,\"#440154\"],[0.1111111111111111,\"#482878\"],[0.2222222222222222,\"#3e4989\"],[0.3333333333333333,\"#31688e\"],[0.4444444444444444,\"#26828e\"],[0.5555555555555556,\"#1f9e89\"],[0.6666666666666666,\"#35b779\"],[0.7777777777777778,\"#6ece58\"],[0.8888888888888888,\"#b5de2b\"],[1.0,\"#fde725\"]],\"type\":\"heatmapgl\"}],\"heatmap\":[{\"colorbar\":{\"outlinewidth\":1,\"tickcolor\":\"rgb(36,36,36)\",\"ticks\":\"outside\"},\"colorscale\":[[0.0,\"#440154\"],[0.1111111111111111,\"#482878\"],[0.2222222222222222,\"#3e4989\"],[0.3333333333333333,\"#31688e\"],[0.4444444444444444,\"#26828e\"],[0.5555555555555556,\"#1f9e89\"],[0.6666666666666666,\"#35b779\"],[0.7777777777777778,\"#6ece58\"],[0.8888888888888888,\"#b5de2b\"],[1.0,\"#fde725\"]],\"type\":\"heatmap\"}],\"histogram2dcontour\":[{\"colorbar\":{\"outlinewidth\":1,\"tickcolor\":\"rgb(36,36,36)\",\"ticks\":\"outside\"},\"colorscale\":[[0.0,\"#440154\"],[0.1111111111111111,\"#482878\"],[0.2222222222222222,\"#3e4989\"],[0.3333333333333333,\"#31688e\"],[0.4444444444444444,\"#26828e\"],[0.5555555555555556,\"#1f9e89\"],[0.6666666666666666,\"#35b779\"],[0.7777777777777778,\"#6ece58\"],[0.8888888888888888,\"#b5de2b\"],[1.0,\"#fde725\"]],\"type\":\"histogram2dcontour\"}],\"histogram2d\":[{\"colorbar\":{\"outlinewidth\":1,\"tickcolor\":\"rgb(36,36,36)\",\"ticks\":\"outside\"},\"colorscale\":[[0.0,\"#440154\"],[0.1111111111111111,\"#482878\"],[0.2222222222222222,\"#3e4989\"],[0.3333333333333333,\"#31688e\"],[0.4444444444444444,\"#26828e\"],[0.5555555555555556,\"#1f9e89\"],[0.6666666666666666,\"#35b779\"],[0.7777777777777778,\"#6ece58\"],[0.8888888888888888,\"#b5de2b\"],[1.0,\"#fde725\"]],\"type\":\"histogram2d\"}],\"histogram\":[{\"marker\":{\"line\":{\"color\":\"white\",\"width\":0.6}},\"type\":\"histogram\"}],\"mesh3d\":[{\"colorbar\":{\"outlinewidth\":1,\"tickcolor\":\"rgb(36,36,36)\",\"ticks\":\"outside\"},\"type\":\"mesh3d\"}],\"parcoords\":[{\"line\":{\"colorbar\":{\"outlinewidth\":1,\"tickcolor\":\"rgb(36,36,36)\",\"ticks\":\"outside\"}},\"type\":\"parcoords\"}],\"pie\":[{\"automargin\":true,\"type\":\"pie\"}],\"scatter3d\":[{\"line\":{\"colorbar\":{\"outlinewidth\":1,\"tickcolor\":\"rgb(36,36,36)\",\"ticks\":\"outside\"}},\"marker\":{\"colorbar\":{\"outlinewidth\":1,\"tickcolor\":\"rgb(36,36,36)\",\"ticks\":\"outside\"}},\"type\":\"scatter3d\"}],\"scattercarpet\":[{\"marker\":{\"colorbar\":{\"outlinewidth\":1,\"tickcolor\":\"rgb(36,36,36)\",\"ticks\":\"outside\"}},\"type\":\"scattercarpet\"}],\"scattergeo\":[{\"marker\":{\"colorbar\":{\"outlinewidth\":1,\"tickcolor\":\"rgb(36,36,36)\",\"ticks\":\"outside\"}},\"type\":\"scattergeo\"}],\"scattergl\":[{\"marker\":{\"colorbar\":{\"outlinewidth\":1,\"tickcolor\":\"rgb(36,36,36)\",\"ticks\":\"outside\"}},\"type\":\"scattergl\"}],\"scattermapbox\":[{\"marker\":{\"colorbar\":{\"outlinewidth\":1,\"tickcolor\":\"rgb(36,36,36)\",\"ticks\":\"outside\"}},\"type\":\"scattermapbox\"}],\"scatterpolargl\":[{\"marker\":{\"colorbar\":{\"outlinewidth\":1,\"tickcolor\":\"rgb(36,36,36)\",\"ticks\":\"outside\"}},\"type\":\"scatterpolargl\"}],\"scatterpolar\":[{\"marker\":{\"colorbar\":{\"outlinewidth\":1,\"tickcolor\":\"rgb(36,36,36)\",\"ticks\":\"outside\"}},\"type\":\"scatterpolar\"}],\"scatter\":[{\"fillpattern\":{\"fillmode\":\"overlay\",\"size\":10,\"solidity\":0.2},\"type\":\"scatter\"}],\"scatterternary\":[{\"marker\":{\"colorbar\":{\"outlinewidth\":1,\"tickcolor\":\"rgb(36,36,36)\",\"ticks\":\"outside\"}},\"type\":\"scatterternary\"}],\"surface\":[{\"colorbar\":{\"outlinewidth\":1,\"tickcolor\":\"rgb(36,36,36)\",\"ticks\":\"outside\"},\"colorscale\":[[0.0,\"#440154\"],[0.1111111111111111,\"#482878\"],[0.2222222222222222,\"#3e4989\"],[0.3333333333333333,\"#31688e\"],[0.4444444444444444,\"#26828e\"],[0.5555555555555556,\"#1f9e89\"],[0.6666666666666666,\"#35b779\"],[0.7777777777777778,\"#6ece58\"],[0.8888888888888888,\"#b5de2b\"],[1.0,\"#fde725\"]],\"type\":\"surface\"}],\"table\":[{\"cells\":{\"fill\":{\"color\":\"rgb(237,237,237)\"},\"line\":{\"color\":\"white\"}},\"header\":{\"fill\":{\"color\":\"rgb(217,217,217)\"},\"line\":{\"color\":\"white\"}},\"type\":\"table\"}]},\"layout\":{\"annotationdefaults\":{\"arrowhead\":0,\"arrowwidth\":1},\"autotypenumbers\":\"strict\",\"coloraxis\":{\"colorbar\":{\"outlinewidth\":1,\"tickcolor\":\"rgb(36,36,36)\",\"ticks\":\"outside\"}},\"colorscale\":{\"diverging\":[[0.0,\"rgb(103,0,31)\"],[0.1,\"rgb(178,24,43)\"],[0.2,\"rgb(214,96,77)\"],[0.3,\"rgb(244,165,130)\"],[0.4,\"rgb(253,219,199)\"],[0.5,\"rgb(247,247,247)\"],[0.6,\"rgb(209,229,240)\"],[0.7,\"rgb(146,197,222)\"],[0.8,\"rgb(67,147,195)\"],[0.9,\"rgb(33,102,172)\"],[1.0,\"rgb(5,48,97)\"]],\"sequential\":[[0.0,\"#440154\"],[0.1111111111111111,\"#482878\"],[0.2222222222222222,\"#3e4989\"],[0.3333333333333333,\"#31688e\"],[0.4444444444444444,\"#26828e\"],[0.5555555555555556,\"#1f9e89\"],[0.6666666666666666,\"#35b779\"],[0.7777777777777778,\"#6ece58\"],[0.8888888888888888,\"#b5de2b\"],[1.0,\"#fde725\"]],\"sequentialminus\":[[0.0,\"#440154\"],[0.1111111111111111,\"#482878\"],[0.2222222222222222,\"#3e4989\"],[0.3333333333333333,\"#31688e\"],[0.4444444444444444,\"#26828e\"],[0.5555555555555556,\"#1f9e89\"],[0.6666666666666666,\"#35b779\"],[0.7777777777777778,\"#6ece58\"],[0.8888888888888888,\"#b5de2b\"],[1.0,\"#fde725\"]]},\"colorway\":[\"#1F77B4\",\"#FF7F0E\",\"#2CA02C\",\"#D62728\",\"#9467BD\",\"#8C564B\",\"#E377C2\",\"#7F7F7F\",\"#BCBD22\",\"#17BECF\"],\"font\":{\"color\":\"rgb(36,36,36)\"},\"geo\":{\"bgcolor\":\"white\",\"lakecolor\":\"white\",\"landcolor\":\"white\",\"showlakes\":true,\"showland\":true,\"subunitcolor\":\"white\"},\"hoverlabel\":{\"align\":\"left\"},\"hovermode\":\"closest\",\"mapbox\":{\"style\":\"light\"},\"paper_bgcolor\":\"white\",\"plot_bgcolor\":\"white\",\"polar\":{\"angularaxis\":{\"gridcolor\":\"rgb(232,232,232)\",\"linecolor\":\"rgb(36,36,36)\",\"showgrid\":false,\"showline\":true,\"ticks\":\"outside\"},\"bgcolor\":\"white\",\"radialaxis\":{\"gridcolor\":\"rgb(232,232,232)\",\"linecolor\":\"rgb(36,36,36)\",\"showgrid\":false,\"showline\":true,\"ticks\":\"outside\"}},\"scene\":{\"xaxis\":{\"backgroundcolor\":\"white\",\"gridcolor\":\"rgb(232,232,232)\",\"gridwidth\":2,\"linecolor\":\"rgb(36,36,36)\",\"showbackground\":true,\"showgrid\":false,\"showline\":true,\"ticks\":\"outside\",\"zeroline\":false,\"zerolinecolor\":\"rgb(36,36,36)\"},\"yaxis\":{\"backgroundcolor\":\"white\",\"gridcolor\":\"rgb(232,232,232)\",\"gridwidth\":2,\"linecolor\":\"rgb(36,36,36)\",\"showbackground\":true,\"showgrid\":false,\"showline\":true,\"ticks\":\"outside\",\"zeroline\":false,\"zerolinecolor\":\"rgb(36,36,36)\"},\"zaxis\":{\"backgroundcolor\":\"white\",\"gridcolor\":\"rgb(232,232,232)\",\"gridwidth\":2,\"linecolor\":\"rgb(36,36,36)\",\"showbackground\":true,\"showgrid\":false,\"showline\":true,\"ticks\":\"outside\",\"zeroline\":false,\"zerolinecolor\":\"rgb(36,36,36)\"}},\"shapedefaults\":{\"fillcolor\":\"black\",\"line\":{\"width\":0},\"opacity\":0.3},\"ternary\":{\"aaxis\":{\"gridcolor\":\"rgb(232,232,232)\",\"linecolor\":\"rgb(36,36,36)\",\"showgrid\":false,\"showline\":true,\"ticks\":\"outside\"},\"baxis\":{\"gridcolor\":\"rgb(232,232,232)\",\"linecolor\":\"rgb(36,36,36)\",\"showgrid\":false,\"showline\":true,\"ticks\":\"outside\"},\"bgcolor\":\"white\",\"caxis\":{\"gridcolor\":\"rgb(232,232,232)\",\"linecolor\":\"rgb(36,36,36)\",\"showgrid\":false,\"showline\":true,\"ticks\":\"outside\"}},\"title\":{\"x\":0.05},\"xaxis\":{\"automargin\":true,\"gridcolor\":\"rgb(232,232,232)\",\"linecolor\":\"rgb(36,36,36)\",\"showgrid\":false,\"showline\":true,\"ticks\":\"outside\",\"title\":{\"standoff\":15},\"zeroline\":false,\"zerolinecolor\":\"rgb(36,36,36)\"},\"yaxis\":{\"automargin\":true,\"gridcolor\":\"rgb(232,232,232)\",\"linecolor\":\"rgb(36,36,36)\",\"showgrid\":false,\"showline\":true,\"ticks\":\"outside\",\"title\":{\"standoff\":15},\"zeroline\":false,\"zerolinecolor\":\"rgb(36,36,36)\"}}},\"title\":{\"font\":{\"family\":\"Inter Variable, Inter Tight, Inter\",\"weight\":\"bold\"}},\"xaxis\":{\"showgrid\":false},\"yaxis\":{\"showgrid\":false,\"showticklabels\":false,\"tickformat\":\",\"}}},\"xaxis\":{\"anchor\":\"y\",\"domain\":[0.0,1.0],\"title\":{\"text\":\"rec_ranking\"}},\"yaxis\":{\"anchor\":\"x\",\"domain\":[0.0,1.0],\"title\":{\"text\":\"count\"}},\"legend\":{\"tracegroupgap\":0},\"title\":{\"text\":\"Histogram of rec_ranking for popular\"},\"barmode\":\"relative\",\"height\":500,\"width\":1300},                        {\"responsive\": true}                    ).then(function(){\n",
       "                            \n",
       "var gd = document.getElementById('11bb236b-919c-4e61-9fed-e567a18f26d1');\n",
       "var x = new MutationObserver(function (mutations, observer) {{\n",
       "        var display = window.getComputedStyle(gd).display;\n",
       "        if (!display || display === 'none') {{\n",
       "            console.log([gd, 'removed!']);\n",
       "            Plotly.purge(gd);\n",
       "            observer.disconnect();\n",
       "        }}\n",
       "}});\n",
       "\n",
       "// Listen for the removal of the full notebook cells\n",
       "var notebookContainer = gd.closest('#notebook-container');\n",
       "if (notebookContainer) {{\n",
       "    x.observe(notebookContainer, {childList: true});\n",
       "}}\n",
       "\n",
       "// Listen for the clearing of the current output cell\n",
       "var outputEl = gd.closest('.output');\n",
       "if (outputEl) {{\n",
       "    x.observe(outputEl, {childList: true});\n",
       "}}\n",
       "\n",
       "                        })                };                });            </script>        </div>"
      ]
     },
     "metadata": {},
     "output_type": "display_data"
    }
   ],
   "source": [
    "_df = popular_recs_target.loc[lambda df: df['rating_rank'].eq(1) & df['rec_ranking'].lt(101)]\n",
    "plot_rec_ranking_histogram(_df, 'popular')"
   ]
  },
  {
   "cell_type": "code",
   "execution_count": 86,
   "id": "914d5bcb-2243-4867-bf94-adce33c6d632",
   "metadata": {},
   "outputs": [
    {
     "data": {
      "application/vnd.plotly.v1+json": {
       "config": {
        "plotlyServerURL": "https://plot.ly"
       },
       "data": [
        {
         "alignmentgroup": "True",
         "hovertemplate": "rec_ranking=%{x}<br>count=%{y}<extra></extra>",
         "legendgroup": "",
         "marker": {
          "color": "#c60000",
          "pattern": {
           "shape": ""
          }
         },
         "name": "",
         "offsetgroup": "",
         "orientation": "v",
         "showlegend": false,
         "textposition": "auto",
         "texttemplate": "%{y}",
         "type": "bar",
         "x": [
          0,
          1,
          2,
          3,
          4,
          5,
          6,
          7,
          8,
          9,
          10,
          11,
          12,
          13,
          14,
          15,
          16,
          17,
          18,
          19,
          20,
          21,
          22,
          23,
          24,
          25,
          26,
          27,
          28,
          29,
          30,
          31,
          32,
          33,
          34,
          35,
          36,
          37,
          38,
          39,
          40,
          41,
          42,
          43,
          44,
          45,
          46,
          47,
          48,
          49,
          50,
          51,
          52,
          53,
          54,
          55,
          56,
          57,
          58,
          59,
          60,
          61,
          62,
          63,
          64,
          65,
          66,
          67,
          68,
          69,
          70,
          71,
          72,
          73,
          74,
          75,
          76,
          77,
          78,
          79,
          80,
          81,
          82,
          83,
          84,
          85,
          86,
          87,
          88,
          89,
          90,
          91,
          92,
          93,
          94,
          95,
          96,
          97,
          98,
          99
         ],
         "xaxis": "x",
         "y": [
          0,
          0,
          3,
          0,
          2,
          1,
          1,
          0,
          1,
          0,
          1,
          2,
          1,
          0,
          0,
          2,
          1,
          0,
          0,
          2,
          2,
          0,
          1,
          0,
          2,
          1,
          2,
          0,
          0,
          1,
          1,
          0,
          2,
          0,
          0,
          0,
          0,
          0,
          1,
          0,
          0,
          4,
          1,
          1,
          2,
          0,
          1,
          1,
          1,
          0,
          1,
          1,
          1,
          1,
          1,
          0,
          1,
          1,
          0,
          2,
          2,
          1,
          0,
          3,
          1,
          0,
          0,
          0,
          1,
          1,
          0,
          3,
          1,
          3,
          1,
          3,
          1,
          1,
          1,
          0,
          1,
          1,
          3,
          1,
          0,
          0,
          0,
          2,
          1,
          3,
          1,
          0,
          1,
          2,
          2,
          1,
          2,
          1,
          1,
          0
         ],
         "yaxis": "y"
        }
       ],
       "layout": {
        "barmode": "relative",
        "height": 500,
        "legend": {
         "tracegroupgap": 0
        },
        "template": {
         "layout": {
          "colorway": [
           "#c60000",
           "#0011C7",
           "#00C738",
           "#C79C00",
           "#722626"
          ],
          "font": {
           "family": "Inter Variable, Inter"
          },
          "showlegend": false,
          "template": {
           "data": {
            "bar": [
             {
              "error_x": {
               "color": "rgb(36,36,36)"
              },
              "error_y": {
               "color": "rgb(36,36,36)"
              },
              "marker": {
               "line": {
                "color": "white",
                "width": 0.5
               },
               "pattern": {
                "fillmode": "overlay",
                "size": 10,
                "solidity": 0.2
               }
              },
              "type": "bar"
             }
            ],
            "barpolar": [
             {
              "marker": {
               "line": {
                "color": "white",
                "width": 0.5
               },
               "pattern": {
                "fillmode": "overlay",
                "size": 10,
                "solidity": 0.2
               }
              },
              "type": "barpolar"
             }
            ],
            "carpet": [
             {
              "aaxis": {
               "endlinecolor": "rgb(36,36,36)",
               "gridcolor": "white",
               "linecolor": "white",
               "minorgridcolor": "white",
               "startlinecolor": "rgb(36,36,36)"
              },
              "baxis": {
               "endlinecolor": "rgb(36,36,36)",
               "gridcolor": "white",
               "linecolor": "white",
               "minorgridcolor": "white",
               "startlinecolor": "rgb(36,36,36)"
              },
              "type": "carpet"
             }
            ],
            "choropleth": [
             {
              "colorbar": {
               "outlinewidth": 1,
               "tickcolor": "rgb(36,36,36)",
               "ticks": "outside"
              },
              "type": "choropleth"
             }
            ],
            "contour": [
             {
              "colorbar": {
               "outlinewidth": 1,
               "tickcolor": "rgb(36,36,36)",
               "ticks": "outside"
              },
              "colorscale": [
               [
                0,
                "#440154"
               ],
               [
                0.1111111111111111,
                "#482878"
               ],
               [
                0.2222222222222222,
                "#3e4989"
               ],
               [
                0.3333333333333333,
                "#31688e"
               ],
               [
                0.4444444444444444,
                "#26828e"
               ],
               [
                0.5555555555555556,
                "#1f9e89"
               ],
               [
                0.6666666666666666,
                "#35b779"
               ],
               [
                0.7777777777777778,
                "#6ece58"
               ],
               [
                0.8888888888888888,
                "#b5de2b"
               ],
               [
                1,
                "#fde725"
               ]
              ],
              "type": "contour"
             }
            ],
            "contourcarpet": [
             {
              "colorbar": {
               "outlinewidth": 1,
               "tickcolor": "rgb(36,36,36)",
               "ticks": "outside"
              },
              "type": "contourcarpet"
             }
            ],
            "heatmap": [
             {
              "colorbar": {
               "outlinewidth": 1,
               "tickcolor": "rgb(36,36,36)",
               "ticks": "outside"
              },
              "colorscale": [
               [
                0,
                "#440154"
               ],
               [
                0.1111111111111111,
                "#482878"
               ],
               [
                0.2222222222222222,
                "#3e4989"
               ],
               [
                0.3333333333333333,
                "#31688e"
               ],
               [
                0.4444444444444444,
                "#26828e"
               ],
               [
                0.5555555555555556,
                "#1f9e89"
               ],
               [
                0.6666666666666666,
                "#35b779"
               ],
               [
                0.7777777777777778,
                "#6ece58"
               ],
               [
                0.8888888888888888,
                "#b5de2b"
               ],
               [
                1,
                "#fde725"
               ]
              ],
              "type": "heatmap"
             }
            ],
            "heatmapgl": [
             {
              "colorbar": {
               "outlinewidth": 1,
               "tickcolor": "rgb(36,36,36)",
               "ticks": "outside"
              },
              "colorscale": [
               [
                0,
                "#440154"
               ],
               [
                0.1111111111111111,
                "#482878"
               ],
               [
                0.2222222222222222,
                "#3e4989"
               ],
               [
                0.3333333333333333,
                "#31688e"
               ],
               [
                0.4444444444444444,
                "#26828e"
               ],
               [
                0.5555555555555556,
                "#1f9e89"
               ],
               [
                0.6666666666666666,
                "#35b779"
               ],
               [
                0.7777777777777778,
                "#6ece58"
               ],
               [
                0.8888888888888888,
                "#b5de2b"
               ],
               [
                1,
                "#fde725"
               ]
              ],
              "type": "heatmapgl"
             }
            ],
            "histogram": [
             {
              "marker": {
               "line": {
                "color": "white",
                "width": 0.6
               }
              },
              "type": "histogram"
             }
            ],
            "histogram2d": [
             {
              "colorbar": {
               "outlinewidth": 1,
               "tickcolor": "rgb(36,36,36)",
               "ticks": "outside"
              },
              "colorscale": [
               [
                0,
                "#440154"
               ],
               [
                0.1111111111111111,
                "#482878"
               ],
               [
                0.2222222222222222,
                "#3e4989"
               ],
               [
                0.3333333333333333,
                "#31688e"
               ],
               [
                0.4444444444444444,
                "#26828e"
               ],
               [
                0.5555555555555556,
                "#1f9e89"
               ],
               [
                0.6666666666666666,
                "#35b779"
               ],
               [
                0.7777777777777778,
                "#6ece58"
               ],
               [
                0.8888888888888888,
                "#b5de2b"
               ],
               [
                1,
                "#fde725"
               ]
              ],
              "type": "histogram2d"
             }
            ],
            "histogram2dcontour": [
             {
              "colorbar": {
               "outlinewidth": 1,
               "tickcolor": "rgb(36,36,36)",
               "ticks": "outside"
              },
              "colorscale": [
               [
                0,
                "#440154"
               ],
               [
                0.1111111111111111,
                "#482878"
               ],
               [
                0.2222222222222222,
                "#3e4989"
               ],
               [
                0.3333333333333333,
                "#31688e"
               ],
               [
                0.4444444444444444,
                "#26828e"
               ],
               [
                0.5555555555555556,
                "#1f9e89"
               ],
               [
                0.6666666666666666,
                "#35b779"
               ],
               [
                0.7777777777777778,
                "#6ece58"
               ],
               [
                0.8888888888888888,
                "#b5de2b"
               ],
               [
                1,
                "#fde725"
               ]
              ],
              "type": "histogram2dcontour"
             }
            ],
            "mesh3d": [
             {
              "colorbar": {
               "outlinewidth": 1,
               "tickcolor": "rgb(36,36,36)",
               "ticks": "outside"
              },
              "type": "mesh3d"
             }
            ],
            "parcoords": [
             {
              "line": {
               "colorbar": {
                "outlinewidth": 1,
                "tickcolor": "rgb(36,36,36)",
                "ticks": "outside"
               }
              },
              "type": "parcoords"
             }
            ],
            "pie": [
             {
              "automargin": true,
              "type": "pie"
             }
            ],
            "scatter": [
             {
              "fillpattern": {
               "fillmode": "overlay",
               "size": 10,
               "solidity": 0.2
              },
              "type": "scatter"
             }
            ],
            "scatter3d": [
             {
              "line": {
               "colorbar": {
                "outlinewidth": 1,
                "tickcolor": "rgb(36,36,36)",
                "ticks": "outside"
               }
              },
              "marker": {
               "colorbar": {
                "outlinewidth": 1,
                "tickcolor": "rgb(36,36,36)",
                "ticks": "outside"
               }
              },
              "type": "scatter3d"
             }
            ],
            "scattercarpet": [
             {
              "marker": {
               "colorbar": {
                "outlinewidth": 1,
                "tickcolor": "rgb(36,36,36)",
                "ticks": "outside"
               }
              },
              "type": "scattercarpet"
             }
            ],
            "scattergeo": [
             {
              "marker": {
               "colorbar": {
                "outlinewidth": 1,
                "tickcolor": "rgb(36,36,36)",
                "ticks": "outside"
               }
              },
              "type": "scattergeo"
             }
            ],
            "scattergl": [
             {
              "marker": {
               "colorbar": {
                "outlinewidth": 1,
                "tickcolor": "rgb(36,36,36)",
                "ticks": "outside"
               }
              },
              "type": "scattergl"
             }
            ],
            "scattermapbox": [
             {
              "marker": {
               "colorbar": {
                "outlinewidth": 1,
                "tickcolor": "rgb(36,36,36)",
                "ticks": "outside"
               }
              },
              "type": "scattermapbox"
             }
            ],
            "scatterpolar": [
             {
              "marker": {
               "colorbar": {
                "outlinewidth": 1,
                "tickcolor": "rgb(36,36,36)",
                "ticks": "outside"
               }
              },
              "type": "scatterpolar"
             }
            ],
            "scatterpolargl": [
             {
              "marker": {
               "colorbar": {
                "outlinewidth": 1,
                "tickcolor": "rgb(36,36,36)",
                "ticks": "outside"
               }
              },
              "type": "scatterpolargl"
             }
            ],
            "scatterternary": [
             {
              "marker": {
               "colorbar": {
                "outlinewidth": 1,
                "tickcolor": "rgb(36,36,36)",
                "ticks": "outside"
               }
              },
              "type": "scatterternary"
             }
            ],
            "surface": [
             {
              "colorbar": {
               "outlinewidth": 1,
               "tickcolor": "rgb(36,36,36)",
               "ticks": "outside"
              },
              "colorscale": [
               [
                0,
                "#440154"
               ],
               [
                0.1111111111111111,
                "#482878"
               ],
               [
                0.2222222222222222,
                "#3e4989"
               ],
               [
                0.3333333333333333,
                "#31688e"
               ],
               [
                0.4444444444444444,
                "#26828e"
               ],
               [
                0.5555555555555556,
                "#1f9e89"
               ],
               [
                0.6666666666666666,
                "#35b779"
               ],
               [
                0.7777777777777778,
                "#6ece58"
               ],
               [
                0.8888888888888888,
                "#b5de2b"
               ],
               [
                1,
                "#fde725"
               ]
              ],
              "type": "surface"
             }
            ],
            "table": [
             {
              "cells": {
               "fill": {
                "color": "rgb(237,237,237)"
               },
               "line": {
                "color": "white"
               }
              },
              "header": {
               "fill": {
                "color": "rgb(217,217,217)"
               },
               "line": {
                "color": "white"
               }
              },
              "type": "table"
             }
            ]
           },
           "layout": {
            "annotationdefaults": {
             "arrowhead": 0,
             "arrowwidth": 1
            },
            "autotypenumbers": "strict",
            "coloraxis": {
             "colorbar": {
              "outlinewidth": 1,
              "tickcolor": "rgb(36,36,36)",
              "ticks": "outside"
             }
            },
            "colorscale": {
             "diverging": [
              [
               0,
               "rgb(103,0,31)"
              ],
              [
               0.1,
               "rgb(178,24,43)"
              ],
              [
               0.2,
               "rgb(214,96,77)"
              ],
              [
               0.3,
               "rgb(244,165,130)"
              ],
              [
               0.4,
               "rgb(253,219,199)"
              ],
              [
               0.5,
               "rgb(247,247,247)"
              ],
              [
               0.6,
               "rgb(209,229,240)"
              ],
              [
               0.7,
               "rgb(146,197,222)"
              ],
              [
               0.8,
               "rgb(67,147,195)"
              ],
              [
               0.9,
               "rgb(33,102,172)"
              ],
              [
               1,
               "rgb(5,48,97)"
              ]
             ],
             "sequential": [
              [
               0,
               "#440154"
              ],
              [
               0.1111111111111111,
               "#482878"
              ],
              [
               0.2222222222222222,
               "#3e4989"
              ],
              [
               0.3333333333333333,
               "#31688e"
              ],
              [
               0.4444444444444444,
               "#26828e"
              ],
              [
               0.5555555555555556,
               "#1f9e89"
              ],
              [
               0.6666666666666666,
               "#35b779"
              ],
              [
               0.7777777777777778,
               "#6ece58"
              ],
              [
               0.8888888888888888,
               "#b5de2b"
              ],
              [
               1,
               "#fde725"
              ]
             ],
             "sequentialminus": [
              [
               0,
               "#440154"
              ],
              [
               0.1111111111111111,
               "#482878"
              ],
              [
               0.2222222222222222,
               "#3e4989"
              ],
              [
               0.3333333333333333,
               "#31688e"
              ],
              [
               0.4444444444444444,
               "#26828e"
              ],
              [
               0.5555555555555556,
               "#1f9e89"
              ],
              [
               0.6666666666666666,
               "#35b779"
              ],
              [
               0.7777777777777778,
               "#6ece58"
              ],
              [
               0.8888888888888888,
               "#b5de2b"
              ],
              [
               1,
               "#fde725"
              ]
             ]
            },
            "colorway": [
             "#1F77B4",
             "#FF7F0E",
             "#2CA02C",
             "#D62728",
             "#9467BD",
             "#8C564B",
             "#E377C2",
             "#7F7F7F",
             "#BCBD22",
             "#17BECF"
            ],
            "font": {
             "color": "rgb(36,36,36)"
            },
            "geo": {
             "bgcolor": "white",
             "lakecolor": "white",
             "landcolor": "white",
             "showlakes": true,
             "showland": true,
             "subunitcolor": "white"
            },
            "hoverlabel": {
             "align": "left"
            },
            "hovermode": "closest",
            "mapbox": {
             "style": "light"
            },
            "paper_bgcolor": "white",
            "plot_bgcolor": "white",
            "polar": {
             "angularaxis": {
              "gridcolor": "rgb(232,232,232)",
              "linecolor": "rgb(36,36,36)",
              "showgrid": false,
              "showline": true,
              "ticks": "outside"
             },
             "bgcolor": "white",
             "radialaxis": {
              "gridcolor": "rgb(232,232,232)",
              "linecolor": "rgb(36,36,36)",
              "showgrid": false,
              "showline": true,
              "ticks": "outside"
             }
            },
            "scene": {
             "xaxis": {
              "backgroundcolor": "white",
              "gridcolor": "rgb(232,232,232)",
              "gridwidth": 2,
              "linecolor": "rgb(36,36,36)",
              "showbackground": true,
              "showgrid": false,
              "showline": true,
              "ticks": "outside",
              "zeroline": false,
              "zerolinecolor": "rgb(36,36,36)"
             },
             "yaxis": {
              "backgroundcolor": "white",
              "gridcolor": "rgb(232,232,232)",
              "gridwidth": 2,
              "linecolor": "rgb(36,36,36)",
              "showbackground": true,
              "showgrid": false,
              "showline": true,
              "ticks": "outside",
              "zeroline": false,
              "zerolinecolor": "rgb(36,36,36)"
             },
             "zaxis": {
              "backgroundcolor": "white",
              "gridcolor": "rgb(232,232,232)",
              "gridwidth": 2,
              "linecolor": "rgb(36,36,36)",
              "showbackground": true,
              "showgrid": false,
              "showline": true,
              "ticks": "outside",
              "zeroline": false,
              "zerolinecolor": "rgb(36,36,36)"
             }
            },
            "shapedefaults": {
             "fillcolor": "black",
             "line": {
              "width": 0
             },
             "opacity": 0.3
            },
            "ternary": {
             "aaxis": {
              "gridcolor": "rgb(232,232,232)",
              "linecolor": "rgb(36,36,36)",
              "showgrid": false,
              "showline": true,
              "ticks": "outside"
             },
             "baxis": {
              "gridcolor": "rgb(232,232,232)",
              "linecolor": "rgb(36,36,36)",
              "showgrid": false,
              "showline": true,
              "ticks": "outside"
             },
             "bgcolor": "white",
             "caxis": {
              "gridcolor": "rgb(232,232,232)",
              "linecolor": "rgb(36,36,36)",
              "showgrid": false,
              "showline": true,
              "ticks": "outside"
             }
            },
            "title": {
             "x": 0.05
            },
            "xaxis": {
             "automargin": true,
             "gridcolor": "rgb(232,232,232)",
             "linecolor": "rgb(36,36,36)",
             "showgrid": false,
             "showline": true,
             "ticks": "outside",
             "title": {
              "standoff": 15
             },
             "zeroline": false,
             "zerolinecolor": "rgb(36,36,36)"
            },
            "yaxis": {
             "automargin": true,
             "gridcolor": "rgb(232,232,232)",
             "linecolor": "rgb(36,36,36)",
             "showgrid": false,
             "showline": true,
             "ticks": "outside",
             "title": {
              "standoff": 15
             },
             "zeroline": false,
             "zerolinecolor": "rgb(36,36,36)"
            }
           }
          },
          "title": {
           "font": {
            "family": "Inter Variable, Inter Tight, Inter",
            "weight": "bold"
           }
          },
          "xaxis": {
           "showgrid": false
          },
          "yaxis": {
           "showgrid": false,
           "showticklabels": false,
           "tickformat": ","
          }
         }
        },
        "title": {
         "text": "Histogram of rec_ranking for reranking"
        },
        "width": 1300,
        "xaxis": {
         "anchor": "y",
         "autorange": true,
         "domain": [
          0,
          1
         ],
         "range": [
          -0.5,
          99.5
         ],
         "title": {
          "text": "rec_ranking"
         },
         "type": "linear"
        },
        "yaxis": {
         "anchor": "x",
         "autorange": true,
         "domain": [
          0,
          1
         ],
         "range": [
          0,
          4.2105263157894735
         ],
         "title": {
          "text": "count"
         },
         "type": "linear"
        }
       }
      },
      "image/png": "[encoded data removed]",
      "text/html": [
       "<div>                            <div id=\"f4b752e8-a7ba-49b6-96b5-a0a3b22b4d87\" class=\"plotly-graph-div\" style=\"height:500px; width:1300px;\"></div>            <script type=\"text/javascript\">                require([\"plotly\"], function(Plotly) {                    window.PLOTLYENV=window.PLOTLYENV || {};                                    if (document.getElementById(\"f4b752e8-a7ba-49b6-96b5-a0a3b22b4d87\")) {                    Plotly.newPlot(                        \"f4b752e8-a7ba-49b6-96b5-a0a3b22b4d87\",                        [{\"alignmentgroup\":\"True\",\"hovertemplate\":\"rec_ranking=%{x}\\u003cbr\\u003ecount=%{y}\\u003cextra\\u003e\\u003c\\u002fextra\\u003e\",\"legendgroup\":\"\",\"marker\":{\"color\":\"#c60000\",\"pattern\":{\"shape\":\"\"}},\"name\":\"\",\"offsetgroup\":\"\",\"orientation\":\"v\",\"showlegend\":false,\"textposition\":\"auto\",\"texttemplate\":\"%{y}\",\"x\":[0,1,2,3,4,5,6,7,8,9,10,11,12,13,14,15,16,17,18,19,20,21,22,23,24,25,26,27,28,29,30,31,32,33,34,35,36,37,38,39,40,41,42,43,44,45,46,47,48,49,50,51,52,53,54,55,56,57,58,59,60,61,62,63,64,65,66,67,68,69,70,71,72,73,74,75,76,77,78,79,80,81,82,83,84,85,86,87,88,89,90,91,92,93,94,95,96,97,98,99],\"xaxis\":\"x\",\"y\":[0,0,3,0,2,1,1,0,1,0,1,2,1,0,0,2,1,0,0,2,2,0,1,0,2,1,2,0,0,1,1,0,2,0,0,0,0,0,1,0,0,4,1,1,2,0,1,1,1,0,1,1,1,1,1,0,1,1,0,2,2,1,0,3,1,0,0,0,1,1,0,3,1,3,1,3,1,1,1,0,1,1,3,1,0,0,0,2,1,3,1,0,1,2,2,1,2,1,1,0],\"yaxis\":\"y\",\"type\":\"bar\"}],                        {\"template\":{\"layout\":{\"colorway\":[\"#c60000\",\"#0011C7\",\"#00C738\",\"#C79C00\",\"#722626\"],\"font\":{\"family\":\"Inter Variable, Inter\"},\"showlegend\":false,\"template\":{\"data\":{\"barpolar\":[{\"marker\":{\"line\":{\"color\":\"white\",\"width\":0.5},\"pattern\":{\"fillmode\":\"overlay\",\"size\":10,\"solidity\":0.2}},\"type\":\"barpolar\"}],\"bar\":[{\"error_x\":{\"color\":\"rgb(36,36,36)\"},\"error_y\":{\"color\":\"rgb(36,36,36)\"},\"marker\":{\"line\":{\"color\":\"white\",\"width\":0.5},\"pattern\":{\"fillmode\":\"overlay\",\"size\":10,\"solidity\":0.2}},\"type\":\"bar\"}],\"carpet\":[{\"aaxis\":{\"endlinecolor\":\"rgb(36,36,36)\",\"gridcolor\":\"white\",\"linecolor\":\"white\",\"minorgridcolor\":\"white\",\"startlinecolor\":\"rgb(36,36,36)\"},\"baxis\":{\"endlinecolor\":\"rgb(36,36,36)\",\"gridcolor\":\"white\",\"linecolor\":\"white\",\"minorgridcolor\":\"white\",\"startlinecolor\":\"rgb(36,36,36)\"},\"type\":\"carpet\"}],\"choropleth\":[{\"colorbar\":{\"outlinewidth\":1,\"tickcolor\":\"rgb(36,36,36)\",\"ticks\":\"outside\"},\"type\":\"choropleth\"}],\"contourcarpet\":[{\"colorbar\":{\"outlinewidth\":1,\"tickcolor\":\"rgb(36,36,36)\",\"ticks\":\"outside\"},\"type\":\"contourcarpet\"}],\"contour\":[{\"colorbar\":{\"outlinewidth\":1,\"tickcolor\":\"rgb(36,36,36)\",\"ticks\":\"outside\"},\"colorscale\":[[0.0,\"#440154\"],[0.1111111111111111,\"#482878\"],[0.2222222222222222,\"#3e4989\"],[0.3333333333333333,\"#31688e\"],[0.4444444444444444,\"#26828e\"],[0.5555555555555556,\"#1f9e89\"],[0.6666666666666666,\"#35b779\"],[0.7777777777777778,\"#6ece58\"],[0.8888888888888888,\"#b5de2b\"],[1.0,\"#fde725\"]],\"type\":\"contour\"}],\"heatmapgl\":[{\"colorbar\":{\"outlinewidth\":1,\"tickcolor\":\"rgb(36,36,36)\",\"ticks\":\"outside\"},\"colorscale\":[[0.0,\"#440154\"],[0.1111111111111111,\"#482878\"],[0.2222222222222222,\"#3e4989\"],[0.3333333333333333,\"#31688e\"],[0.4444444444444444,\"#26828e\"],[0.5555555555555556,\"#1f9e89\"],[0.6666666666666666,\"#35b779\"],[0.7777777777777778,\"#6ece58\"],[0.8888888888888888,\"#b5de2b\"],[1.0,\"#fde725\"]],\"type\":\"heatmapgl\"}],\"heatmap\":[{\"colorbar\":{\"outlinewidth\":1,\"tickcolor\":\"rgb(36,36,36)\",\"ticks\":\"outside\"},\"colorscale\":[[0.0,\"#440154\"],[0.1111111111111111,\"#482878\"],[0.2222222222222222,\"#3e4989\"],[0.3333333333333333,\"#31688e\"],[0.4444444444444444,\"#26828e\"],[0.5555555555555556,\"#1f9e89\"],[0.6666666666666666,\"#35b779\"],[0.7777777777777778,\"#6ece58\"],[0.8888888888888888,\"#b5de2b\"],[1.0,\"#fde725\"]],\"type\":\"heatmap\"}],\"histogram2dcontour\":[{\"colorbar\":{\"outlinewidth\":1,\"tickcolor\":\"rgb(36,36,36)\",\"ticks\":\"outside\"},\"colorscale\":[[0.0,\"#440154\"],[0.1111111111111111,\"#482878\"],[0.2222222222222222,\"#3e4989\"],[0.3333333333333333,\"#31688e\"],[0.4444444444444444,\"#26828e\"],[0.5555555555555556,\"#1f9e89\"],[0.6666666666666666,\"#35b779\"],[0.7777777777777778,\"#6ece58\"],[0.8888888888888888,\"#b5de2b\"],[1.0,\"#fde725\"]],\"type\":\"histogram2dcontour\"}],\"histogram2d\":[{\"colorbar\":{\"outlinewidth\":1,\"tickcolor\":\"rgb(36,36,36)\",\"ticks\":\"outside\"},\"colorscale\":[[0.0,\"#440154\"],[0.1111111111111111,\"#482878\"],[0.2222222222222222,\"#3e4989\"],[0.3333333333333333,\"#31688e\"],[0.4444444444444444,\"#26828e\"],[0.5555555555555556,\"#1f9e89\"],[0.6666666666666666,\"#35b779\"],[0.7777777777777778,\"#6ece58\"],[0.8888888888888888,\"#b5de2b\"],[1.0,\"#fde725\"]],\"type\":\"histogram2d\"}],\"histogram\":[{\"marker\":{\"line\":{\"color\":\"white\",\"width\":0.6}},\"type\":\"histogram\"}],\"mesh3d\":[{\"colorbar\":{\"outlinewidth\":1,\"tickcolor\":\"rgb(36,36,36)\",\"ticks\":\"outside\"},\"type\":\"mesh3d\"}],\"parcoords\":[{\"line\":{\"colorbar\":{\"outlinewidth\":1,\"tickcolor\":\"rgb(36,36,36)\",\"ticks\":\"outside\"}},\"type\":\"parcoords\"}],\"pie\":[{\"automargin\":true,\"type\":\"pie\"}],\"scatter3d\":[{\"line\":{\"colorbar\":{\"outlinewidth\":1,\"tickcolor\":\"rgb(36,36,36)\",\"ticks\":\"outside\"}},\"marker\":{\"colorbar\":{\"outlinewidth\":1,\"tickcolor\":\"rgb(36,36,36)\",\"ticks\":\"outside\"}},\"type\":\"scatter3d\"}],\"scattercarpet\":[{\"marker\":{\"colorbar\":{\"outlinewidth\":1,\"tickcolor\":\"rgb(36,36,36)\",\"ticks\":\"outside\"}},\"type\":\"scattercarpet\"}],\"scattergeo\":[{\"marker\":{\"colorbar\":{\"outlinewidth\":1,\"tickcolor\":\"rgb(36,36,36)\",\"ticks\":\"outside\"}},\"type\":\"scattergeo\"}],\"scattergl\":[{\"marker\":{\"colorbar\":{\"outlinewidth\":1,\"tickcolor\":\"rgb(36,36,36)\",\"ticks\":\"outside\"}},\"type\":\"scattergl\"}],\"scattermapbox\":[{\"marker\":{\"colorbar\":{\"outlinewidth\":1,\"tickcolor\":\"rgb(36,36,36)\",\"ticks\":\"outside\"}},\"type\":\"scattermapbox\"}],\"scatterpolargl\":[{\"marker\":{\"colorbar\":{\"outlinewidth\":1,\"tickcolor\":\"rgb(36,36,36)\",\"ticks\":\"outside\"}},\"type\":\"scatterpolargl\"}],\"scatterpolar\":[{\"marker\":{\"colorbar\":{\"outlinewidth\":1,\"tickcolor\":\"rgb(36,36,36)\",\"ticks\":\"outside\"}},\"type\":\"scatterpolar\"}],\"scatter\":[{\"fillpattern\":{\"fillmode\":\"overlay\",\"size\":10,\"solidity\":0.2},\"type\":\"scatter\"}],\"scatterternary\":[{\"marker\":{\"colorbar\":{\"outlinewidth\":1,\"tickcolor\":\"rgb(36,36,36)\",\"ticks\":\"outside\"}},\"type\":\"scatterternary\"}],\"surface\":[{\"colorbar\":{\"outlinewidth\":1,\"tickcolor\":\"rgb(36,36,36)\",\"ticks\":\"outside\"},\"colorscale\":[[0.0,\"#440154\"],[0.1111111111111111,\"#482878\"],[0.2222222222222222,\"#3e4989\"],[0.3333333333333333,\"#31688e\"],[0.4444444444444444,\"#26828e\"],[0.5555555555555556,\"#1f9e89\"],[0.6666666666666666,\"#35b779\"],[0.7777777777777778,\"#6ece58\"],[0.8888888888888888,\"#b5de2b\"],[1.0,\"#fde725\"]],\"type\":\"surface\"}],\"table\":[{\"cells\":{\"fill\":{\"color\":\"rgb(237,237,237)\"},\"line\":{\"color\":\"white\"}},\"header\":{\"fill\":{\"color\":\"rgb(217,217,217)\"},\"line\":{\"color\":\"white\"}},\"type\":\"table\"}]},\"layout\":{\"annotationdefaults\":{\"arrowhead\":0,\"arrowwidth\":1},\"autotypenumbers\":\"strict\",\"coloraxis\":{\"colorbar\":{\"outlinewidth\":1,\"tickcolor\":\"rgb(36,36,36)\",\"ticks\":\"outside\"}},\"colorscale\":{\"diverging\":[[0.0,\"rgb(103,0,31)\"],[0.1,\"rgb(178,24,43)\"],[0.2,\"rgb(214,96,77)\"],[0.3,\"rgb(244,165,130)\"],[0.4,\"rgb(253,219,199)\"],[0.5,\"rgb(247,247,247)\"],[0.6,\"rgb(209,229,240)\"],[0.7,\"rgb(146,197,222)\"],[0.8,\"rgb(67,147,195)\"],[0.9,\"rgb(33,102,172)\"],[1.0,\"rgb(5,48,97)\"]],\"sequential\":[[0.0,\"#440154\"],[0.1111111111111111,\"#482878\"],[0.2222222222222222,\"#3e4989\"],[0.3333333333333333,\"#31688e\"],[0.4444444444444444,\"#26828e\"],[0.5555555555555556,\"#1f9e89\"],[0.6666666666666666,\"#35b779\"],[0.7777777777777778,\"#6ece58\"],[0.8888888888888888,\"#b5de2b\"],[1.0,\"#fde725\"]],\"sequentialminus\":[[0.0,\"#440154\"],[0.1111111111111111,\"#482878\"],[0.2222222222222222,\"#3e4989\"],[0.3333333333333333,\"#31688e\"],[0.4444444444444444,\"#26828e\"],[0.5555555555555556,\"#1f9e89\"],[0.6666666666666666,\"#35b779\"],[0.7777777777777778,\"#6ece58\"],[0.8888888888888888,\"#b5de2b\"],[1.0,\"#fde725\"]]},\"colorway\":[\"#1F77B4\",\"#FF7F0E\",\"#2CA02C\",\"#D62728\",\"#9467BD\",\"#8C564B\",\"#E377C2\",\"#7F7F7F\",\"#BCBD22\",\"#17BECF\"],\"font\":{\"color\":\"rgb(36,36,36)\"},\"geo\":{\"bgcolor\":\"white\",\"lakecolor\":\"white\",\"landcolor\":\"white\",\"showlakes\":true,\"showland\":true,\"subunitcolor\":\"white\"},\"hoverlabel\":{\"align\":\"left\"},\"hovermode\":\"closest\",\"mapbox\":{\"style\":\"light\"},\"paper_bgcolor\":\"white\",\"plot_bgcolor\":\"white\",\"polar\":{\"angularaxis\":{\"gridcolor\":\"rgb(232,232,232)\",\"linecolor\":\"rgb(36,36,36)\",\"showgrid\":false,\"showline\":true,\"ticks\":\"outside\"},\"bgcolor\":\"white\",\"radialaxis\":{\"gridcolor\":\"rgb(232,232,232)\",\"linecolor\":\"rgb(36,36,36)\",\"showgrid\":false,\"showline\":true,\"ticks\":\"outside\"}},\"scene\":{\"xaxis\":{\"backgroundcolor\":\"white\",\"gridcolor\":\"rgb(232,232,232)\",\"gridwidth\":2,\"linecolor\":\"rgb(36,36,36)\",\"showbackground\":true,\"showgrid\":false,\"showline\":true,\"ticks\":\"outside\",\"zeroline\":false,\"zerolinecolor\":\"rgb(36,36,36)\"},\"yaxis\":{\"backgroundcolor\":\"white\",\"gridcolor\":\"rgb(232,232,232)\",\"gridwidth\":2,\"linecolor\":\"rgb(36,36,36)\",\"showbackground\":true,\"showgrid\":false,\"showline\":true,\"ticks\":\"outside\",\"zeroline\":false,\"zerolinecolor\":\"rgb(36,36,36)\"},\"zaxis\":{\"backgroundcolor\":\"white\",\"gridcolor\":\"rgb(232,232,232)\",\"gridwidth\":2,\"linecolor\":\"rgb(36,36,36)\",\"showbackground\":true,\"showgrid\":false,\"showline\":true,\"ticks\":\"outside\",\"zeroline\":false,\"zerolinecolor\":\"rgb(36,36,36)\"}},\"shapedefaults\":{\"fillcolor\":\"black\",\"line\":{\"width\":0},\"opacity\":0.3},\"ternary\":{\"aaxis\":{\"gridcolor\":\"rgb(232,232,232)\",\"linecolor\":\"rgb(36,36,36)\",\"showgrid\":false,\"showline\":true,\"ticks\":\"outside\"},\"baxis\":{\"gridcolor\":\"rgb(232,232,232)\",\"linecolor\":\"rgb(36,36,36)\",\"showgrid\":false,\"showline\":true,\"ticks\":\"outside\"},\"bgcolor\":\"white\",\"caxis\":{\"gridcolor\":\"rgb(232,232,232)\",\"linecolor\":\"rgb(36,36,36)\",\"showgrid\":false,\"showline\":true,\"ticks\":\"outside\"}},\"title\":{\"x\":0.05},\"xaxis\":{\"automargin\":true,\"gridcolor\":\"rgb(232,232,232)\",\"linecolor\":\"rgb(36,36,36)\",\"showgrid\":false,\"showline\":true,\"ticks\":\"outside\",\"title\":{\"standoff\":15},\"zeroline\":false,\"zerolinecolor\":\"rgb(36,36,36)\"},\"yaxis\":{\"automargin\":true,\"gridcolor\":\"rgb(232,232,232)\",\"linecolor\":\"rgb(36,36,36)\",\"showgrid\":false,\"showline\":true,\"ticks\":\"outside\",\"title\":{\"standoff\":15},\"zeroline\":false,\"zerolinecolor\":\"rgb(36,36,36)\"}}},\"title\":{\"font\":{\"family\":\"Inter Variable, Inter Tight, Inter\",\"weight\":\"bold\"}},\"xaxis\":{\"showgrid\":false},\"yaxis\":{\"showgrid\":false,\"showticklabels\":false,\"tickformat\":\",\"}}},\"xaxis\":{\"anchor\":\"y\",\"domain\":[0.0,1.0],\"title\":{\"text\":\"rec_ranking\"}},\"yaxis\":{\"anchor\":\"x\",\"domain\":[0.0,1.0],\"title\":{\"text\":\"count\"}},\"legend\":{\"tracegroupgap\":0},\"title\":{\"text\":\"Histogram of rec_ranking for reranking\"},\"barmode\":\"relative\",\"height\":500,\"width\":1300},                        {\"responsive\": true}                    ).then(function(){\n",
       "                            \n",
       "var gd = document.getElementById('f4b752e8-a7ba-49b6-96b5-a0a3b22b4d87');\n",
       "var x = new MutationObserver(function (mutations, observer) {{\n",
       "        var display = window.getComputedStyle(gd).display;\n",
       "        if (!display || display === 'none') {{\n",
       "            console.log([gd, 'removed!']);\n",
       "            Plotly.purge(gd);\n",
       "            observer.disconnect();\n",
       "        }}\n",
       "}});\n",
       "\n",
       "// Listen for the removal of the full notebook cells\n",
       "var notebookContainer = gd.closest('#notebook-container');\n",
       "if (notebookContainer) {{\n",
       "    x.observe(notebookContainer, {childList: true});\n",
       "}}\n",
       "\n",
       "// Listen for the clearing of the current output cell\n",
       "var outputEl = gd.closest('.output');\n",
       "if (outputEl) {{\n",
       "    x.observe(outputEl, {childList: true});\n",
       "}}\n",
       "\n",
       "                        })                };                });            </script>        </div>"
      ]
     },
     "metadata": {},
     "output_type": "display_data"
    }
   ],
   "source": [
    "_df = reranking_recs_target.loc[lambda df: df['rating_rank'].eq(1) & df['rec_ranking'].lt(101)]\n",
    "plot_rec_ranking_histogram(_df, 'reranking')"
   ]
  },
  {
   "cell_type": "markdown",
   "id": "c58c8150-b66a-4400-90ec-bb869a3549b7",
   "metadata": {},
   "source": [
    "## Evaluate with Evidently"
   ]
  },
  {
   "cell_type": "code",
   "execution_count": 63,
   "id": "74924c0e-19d3-48ee-af91-283d73117157",
   "metadata": {},
   "outputs": [],
   "source": [
    "from evidently.pipeline.column_mapping import ColumnMapping\n",
    "from evidently.report import Report\n",
    "from evidently.metric_preset import RecsysPreset\n",
    "from evidently.metrics import PrecisionTopKMetric\n",
    "from evidently.metrics import RecallTopKMetric\n",
    "from evidently.metrics import FBetaTopKMetric\n",
    "from evidently.metrics import MAPKMetric\n",
    "from evidently.metrics import NDCGKMetric\n",
    "from evidently.metrics import NoveltyMetric\n",
    "from evidently.metrics import PersonalizationMetric\n",
    "from evidently.metrics import HitRateKMetric\n",
    "from evidently.metrics import MRRKMetric\n",
    "from evidently.metrics import RecCasesTable\n",
    "\n",
    "from src.features.eval.evidently.popularity_bias import PopularityBias"
   ]
  },
  {
   "cell_type": "code",
   "execution_count": 65,
   "id": "56bc4781-0562-4c06-81bd-696cbd92e020",
   "metadata": {
    "scrolled": true
   },
   "outputs": [
    {
     "name": "stderr",
     "output_type": "stream",
     "text": [
      "/home/dvquys/frostmourne/fsds/recsys/.venv/lib/python3.11/site-packages/evidently/metrics/recsys/precision_recall_k.py:55: FutureWarning: Support for axis=1 in DataFrame.expanding is deprecated and will be removed in a future version. Use obj.T.expanding(...) instead\n",
      "  .expanding(axis=1)\n",
      "/home/dvquys/frostmourne/fsds/recsys/.venv/lib/python3.11/site-packages/evidently/metrics/recsys/precision_recall_k.py:64: FutureWarning: Support for axis=1 in DataFrame.expanding is deprecated and will be removed in a future version. Use obj.T.expanding(...) instead\n",
      "  .expanding(axis=1)\n",
      "/home/dvquys/frostmourne/fsds/recsys/.venv/lib/python3.11/site-packages/evidently/metrics/recsys/precision_recall_k.py:75: FutureWarning: Support for axis=1 in DataFrame.expanding is deprecated and will be removed in a future version. Use obj.T.expanding(...) instead\n",
      "  .expanding(axis=1)\n",
      "/home/dvquys/frostmourne/fsds/recsys/.venv/lib/python3.11/site-packages/evidently/metrics/recsys/precision_recall_k.py:84: FutureWarning: Support for axis=1 in DataFrame.expanding is deprecated and will be removed in a future version. Use obj.T.expanding(...) instead\n",
      "  .expanding(axis=1)\n",
      "/home/dvquys/frostmourne/fsds/recsys/.venv/lib/python3.11/site-packages/evidently/metrics/recsys/precision_recall_k.py:55: FutureWarning: Support for axis=1 in DataFrame.expanding is deprecated and will be removed in a future version. Use obj.T.expanding(...) instead\n",
      "  .expanding(axis=1)\n",
      "/home/dvquys/frostmourne/fsds/recsys/.venv/lib/python3.11/site-packages/evidently/metrics/recsys/precision_recall_k.py:64: FutureWarning: Support for axis=1 in DataFrame.expanding is deprecated and will be removed in a future version. Use obj.T.expanding(...) instead\n",
      "  .expanding(axis=1)\n",
      "/home/dvquys/frostmourne/fsds/recsys/.venv/lib/python3.11/site-packages/evidently/metrics/recsys/precision_recall_k.py:75: FutureWarning: Support for axis=1 in DataFrame.expanding is deprecated and will be removed in a future version. Use obj.T.expanding(...) instead\n",
      "  .expanding(axis=1)\n",
      "/home/dvquys/frostmourne/fsds/recsys/.venv/lib/python3.11/site-packages/evidently/metrics/recsys/precision_recall_k.py:84: FutureWarning: Support for axis=1 in DataFrame.expanding is deprecated and will be removed in a future version. Use obj.T.expanding(...) instead\n",
      "  .expanding(axis=1)\n",
      "/home/dvquys/frostmourne/fsds/recsys/.venv/lib/python3.11/site-packages/evidently/metrics/recsys/precision_recall_k.py:55: FutureWarning: Support for axis=1 in DataFrame.expanding is deprecated and will be removed in a future version. Use obj.T.expanding(...) instead\n",
      "  .expanding(axis=1)\n",
      "/home/dvquys/frostmourne/fsds/recsys/.venv/lib/python3.11/site-packages/evidently/metrics/recsys/precision_recall_k.py:64: FutureWarning: Support for axis=1 in DataFrame.expanding is deprecated and will be removed in a future version. Use obj.T.expanding(...) instead\n",
      "  .expanding(axis=1)\n",
      "/home/dvquys/frostmourne/fsds/recsys/.venv/lib/python3.11/site-packages/evidently/metrics/recsys/precision_recall_k.py:75: FutureWarning: Support for axis=1 in DataFrame.expanding is deprecated and will be removed in a future version. Use obj.T.expanding(...) instead\n",
      "  .expanding(axis=1)\n",
      "/home/dvquys/frostmourne/fsds/recsys/.venv/lib/python3.11/site-packages/evidently/metrics/recsys/precision_recall_k.py:84: FutureWarning: Support for axis=1 in DataFrame.expanding is deprecated and will be removed in a future version. Use obj.T.expanding(...) instead\n",
      "  .expanding(axis=1)\n",
      "/home/dvquys/frostmourne/fsds/recsys/.venv/lib/python3.11/site-packages/evidently/metrics/recsys/precision_recall_k.py:55: FutureWarning: Support for axis=1 in DataFrame.expanding is deprecated and will be removed in a future version. Use obj.T.expanding(...) instead\n",
      "  .expanding(axis=1)\n",
      "/home/dvquys/frostmourne/fsds/recsys/.venv/lib/python3.11/site-packages/evidently/metrics/recsys/precision_recall_k.py:64: FutureWarning: Support for axis=1 in DataFrame.expanding is deprecated and will be removed in a future version. Use obj.T.expanding(...) instead\n",
      "  .expanding(axis=1)\n",
      "/home/dvquys/frostmourne/fsds/recsys/.venv/lib/python3.11/site-packages/evidently/metrics/recsys/precision_recall_k.py:75: FutureWarning: Support for axis=1 in DataFrame.expanding is deprecated and will be removed in a future version. Use obj.T.expanding(...) instead\n",
      "  .expanding(axis=1)\n",
      "/home/dvquys/frostmourne/fsds/recsys/.venv/lib/python3.11/site-packages/evidently/metrics/recsys/precision_recall_k.py:84: FutureWarning: Support for axis=1 in DataFrame.expanding is deprecated and will be removed in a future version. Use obj.T.expanding(...) instead\n",
      "  .expanding(axis=1)\n",
      "/home/dvquys/frostmourne/fsds/recsys/.venv/lib/python3.11/site-packages/evidently/metrics/recsys/precision_recall_k.py:55: FutureWarning: Support for axis=1 in DataFrame.expanding is deprecated and will be removed in a future version. Use obj.T.expanding(...) instead\n",
      "  .expanding(axis=1)\n",
      "/home/dvquys/frostmourne/fsds/recsys/.venv/lib/python3.11/site-packages/evidently/metrics/recsys/precision_recall_k.py:64: FutureWarning: Support for axis=1 in DataFrame.expanding is deprecated and will be removed in a future version. Use obj.T.expanding(...) instead\n",
      "  .expanding(axis=1)\n",
      "/home/dvquys/frostmourne/fsds/recsys/.venv/lib/python3.11/site-packages/evidently/metrics/recsys/precision_recall_k.py:75: FutureWarning: Support for axis=1 in DataFrame.expanding is deprecated and will be removed in a future version. Use obj.T.expanding(...) instead\n",
      "  .expanding(axis=1)\n",
      "/home/dvquys/frostmourne/fsds/recsys/.venv/lib/python3.11/site-packages/evidently/metrics/recsys/precision_recall_k.py:84: FutureWarning: Support for axis=1 in DataFrame.expanding is deprecated and will be removed in a future version. Use obj.T.expanding(...) instead\n",
      "  .expanding(axis=1)\n",
      "/home/dvquys/frostmourne/fsds/recsys/.venv/lib/python3.11/site-packages/evidently/metrics/recsys/precision_recall_k.py:55: FutureWarning: Support for axis=1 in DataFrame.expanding is deprecated and will be removed in a future version. Use obj.T.expanding(...) instead\n",
      "  .expanding(axis=1)\n",
      "/home/dvquys/frostmourne/fsds/recsys/.venv/lib/python3.11/site-packages/evidently/metrics/recsys/precision_recall_k.py:64: FutureWarning: Support for axis=1 in DataFrame.expanding is deprecated and will be removed in a future version. Use obj.T.expanding(...) instead\n",
      "  .expanding(axis=1)\n",
      "/home/dvquys/frostmourne/fsds/recsys/.venv/lib/python3.11/site-packages/evidently/metrics/recsys/precision_recall_k.py:75: FutureWarning: Support for axis=1 in DataFrame.expanding is deprecated and will be removed in a future version. Use obj.T.expanding(...) instead\n",
      "  .expanding(axis=1)\n",
      "/home/dvquys/frostmourne/fsds/recsys/.venv/lib/python3.11/site-packages/evidently/metrics/recsys/precision_recall_k.py:84: FutureWarning: Support for axis=1 in DataFrame.expanding is deprecated and will be removed in a future version. Use obj.T.expanding(...) instead\n",
      "  .expanding(axis=1)\n",
      "/home/dvquys/frostmourne/fsds/recsys/.venv/lib/python3.11/site-packages/evidently/metrics/recsys/precision_recall_k.py:55: FutureWarning: Support for axis=1 in DataFrame.expanding is deprecated and will be removed in a future version. Use obj.T.expanding(...) instead\n",
      "  .expanding(axis=1)\n",
      "/home/dvquys/frostmourne/fsds/recsys/.venv/lib/python3.11/site-packages/evidently/metrics/recsys/precision_recall_k.py:64: FutureWarning: Support for axis=1 in DataFrame.expanding is deprecated and will be removed in a future version. Use obj.T.expanding(...) instead\n",
      "  .expanding(axis=1)\n",
      "/home/dvquys/frostmourne/fsds/recsys/.venv/lib/python3.11/site-packages/evidently/metrics/recsys/precision_recall_k.py:75: FutureWarning: Support for axis=1 in DataFrame.expanding is deprecated and will be removed in a future version. Use obj.T.expanding(...) instead\n",
      "  .expanding(axis=1)\n",
      "/home/dvquys/frostmourne/fsds/recsys/.venv/lib/python3.11/site-packages/evidently/metrics/recsys/precision_recall_k.py:84: FutureWarning: Support for axis=1 in DataFrame.expanding is deprecated and will be removed in a future version. Use obj.T.expanding(...) instead\n",
      "  .expanding(axis=1)\n",
      "/home/dvquys/frostmourne/fsds/recsys/.venv/lib/python3.11/site-packages/evidently/metrics/recsys/precision_recall_k.py:55: FutureWarning: Support for axis=1 in DataFrame.expanding is deprecated and will be removed in a future version. Use obj.T.expanding(...) instead\n",
      "  .expanding(axis=1)\n",
      "/home/dvquys/frostmourne/fsds/recsys/.venv/lib/python3.11/site-packages/evidently/metrics/recsys/precision_recall_k.py:64: FutureWarning: Support for axis=1 in DataFrame.expanding is deprecated and will be removed in a future version. Use obj.T.expanding(...) instead\n",
      "  .expanding(axis=1)\n",
      "/home/dvquys/frostmourne/fsds/recsys/.venv/lib/python3.11/site-packages/evidently/metrics/recsys/precision_recall_k.py:75: FutureWarning: Support for axis=1 in DataFrame.expanding is deprecated and will be removed in a future version. Use obj.T.expanding(...) instead\n",
      "  .expanding(axis=1)\n",
      "/home/dvquys/frostmourne/fsds/recsys/.venv/lib/python3.11/site-packages/evidently/metrics/recsys/precision_recall_k.py:84: FutureWarning: Support for axis=1 in DataFrame.expanding is deprecated and will be removed in a future version. Use obj.T.expanding(...) instead\n",
      "  .expanding(axis=1)\n",
      "\u001b[32m2024-09-01 09:50:00.520\u001b[0m | \u001b[1mINFO    \u001b[0m | \u001b[36msrc.utils.time\u001b[0m:\u001b[36mtimed\u001b[0m:\u001b[36m23\u001b[0m - \u001b[1mgenerate_evidently_report runtime: 2.506s\u001b[0m\n"
     ]
    }
   ],
   "source": [
    "column_mapping = ColumnMapping(\n",
    "    recommendations_type='rank',\n",
    "    target='rating_rank',\n",
    "    prediction='rec_ranking',\n",
    "    item_id='parent_asin',\n",
    "    user_id='user_id'\n",
    ")\n",
    "\n",
    "fighters = {\n",
    "    'current': {\n",
    "        'name': 'reranking',\n",
    "        'recs': reranking_recs_target\n",
    "    },\n",
    "    'reference': {\n",
    "        'name': 'popular',\n",
    "        'recs': popular_recs_target\n",
    "    }\n",
    "}\n",
    "\n",
    "report = Report(metrics=[\n",
    "    NDCGKMetric(k=cmparams.top_k),\n",
    "    RecallTopKMetric(k=cmparams.top_K),\n",
    "    PrecisionTopKMetric(k=cmparams.top_k),\n",
    "    FBetaTopKMetric(k=cmparams.top_k),\n",
    "    MAPKMetric(k=cmparams.top_k),\n",
    "    MRRKMetric(k=cmparams.top_k),\n",
    "    NoveltyMetric(k=cmparams.top_k),\n",
    "    PersonalizationMetric(k=cmparams.top_k),\n",
    "    PopularityBias(k=cmparams.top_k),\n",
    "    RecCasesTable(item_num=cmparams.top_k)\n",
    "], options=[color_scheme])\n",
    "\n",
    "log_time(printer=logger.info, method_name='generate_evidently_report')(report.run)(\n",
    "    reference_data=fighters['reference']['recs'],\n",
    "    current_data=fighters['current']['recs'],\n",
    "    column_mapping=column_mapping,\n",
    "    additional_data={'current_train_data': train_df}\n",
    ")\n",
    "\n",
    "evidently_report_fp = f\"{args.notebook_persist_dp}/{fighters['current']['name']}_vs_{fighters['reference']['name']}_evidently_report.html\"\n",
    "os.makedirs(args.notebook_persist_dp, exist_ok=True)\n",
    "report.save_html(evidently_report_fp)\n",
    "\n",
    "if args.log_to_mlflow:\n",
    "    mlflow.log_artifact(evidently_report_fp)"
   ]
  },
  {
   "cell_type": "markdown",
   "id": "c5ee2008-9145-4d1a-8cc4-db65a199c9cc",
   "metadata": {},
   "source": [
    "# Clean up"
   ]
  },
  {
   "cell_type": "code",
   "execution_count": 35,
   "id": "eb55e615-f67d-43a2-93a1-ebc80c86ee36",
   "metadata": {},
   "outputs": [],
   "source": [
    "from src.utils.io import list_files_in_folder"
   ]
  },
  {
   "cell_type": "code",
   "execution_count": 66,
   "id": "57bd1060-3fe0-42d5-a6d9-660c07a99102",
   "metadata": {},
   "outputs": [],
   "source": [
    "all_params = [args, train_args]\n",
    "\n",
    "if args.log_to_mlflow:\n",
    "    for params in all_params:\n",
    "        params_dict = params.dict()\n",
    "        params_ = {f\"{params.__repr_name__()}.{k}\": v for k, v in params_dict.items()}\n",
    "        mlflow.log_params(params_)"
   ]
  },
  {
   "cell_type": "code",
   "execution_count": 67,
   "id": "4a15e498-0da1-400a-b2f5-4e953a7f1dab",
   "metadata": {},
   "outputs": [
    {
     "name": "stderr",
     "output_type": "stream",
     "text": [
      "2024/09/01 09:53:10 INFO mlflow.tracking._tracking_service.client: 🏃 View run 002-ranking-first-attempt at: http://localhost:5002/#/experiments/3/runs/718c6d210f4046ba879766dcdcb115e6.\n",
      "2024/09/01 09:53:10 INFO mlflow.tracking._tracking_service.client: 🧪 View experiment at: http://localhost:5002/#/experiments/3.\n"
     ]
    }
   ],
   "source": [
    "mlflow.end_run()"
   ]
  },
  {
   "cell_type": "code",
   "execution_count": null,
   "id": "27627a12-0315-4a45-bf87-be297a6e5cb3",
   "metadata": {},
   "outputs": [],
   "source": []
  }
 ],
 "metadata": {
  "kernelspec": {
   "display_name": "Python 3 (ipykernel)",
   "language": "python",
   "name": "python3"
  },
  "language_info": {
   "codemirror_mode": {
    "name": "ipython",
    "version": 3
   },
   "file_extension": ".py",
   "mimetype": "text/x-python",
   "name": "python",
   "nbconvert_exporter": "python",
   "pygments_lexer": "ipython3",
   "version": "3.11.9"
  }
 },
 "nbformat": 4,
 "nbformat_minor": 5
}
