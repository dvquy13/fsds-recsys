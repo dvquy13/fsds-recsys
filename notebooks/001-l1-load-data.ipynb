{
 "cells": [
  {
   "cell_type": "markdown",
   "id": "f9522f74-7bb0-44f8-b289-6530e08fb41b",
   "metadata": {},
   "source": [
    "# Set up"
   ]
  },
  {
   "cell_type": "code",
   "execution_count": 1,
   "id": "3743c000-e04b-4c44-bf86-94918e0d808f",
   "metadata": {},
   "outputs": [],
   "source": [
    "%load_ext autoreload\n",
    "%autoreload 2"
   ]
  },
  {
   "cell_type": "code",
   "execution_count": 2,
   "id": "2ef263bc-c5c5-4557-a21f-0816802bbde6",
   "metadata": {},
   "outputs": [],
   "source": [
    "from pydantic import BaseModel\n",
    "import datasets\n",
    "datasets.logging.set_verbosity_error()\n",
    "from datasets import load_dataset"
   ]
  },
  {
   "cell_type": "markdown",
   "id": "a13e9f47-bf70-4f4e-b1c2-584fd06742e5",
   "metadata": {},
   "source": [
    "# Controller"
   ]
  },
  {
   "cell_type": "code",
   "execution_count": 6,
   "id": "95de2bab-3d4e-4b2f-a3d1-bfc610b2d030",
   "metadata": {},
   "outputs": [],
   "source": [
    "class Args(BaseModel):\n",
    "    hf_dataset_path: str = \"McAuley-Lab/Amazon-Reviews-2023\"\n",
    "\n",
    "args = Args()"
   ]
  },
  {
   "cell_type": "markdown",
   "id": "7167384f-a86a-4670-aaf3-67097a8bed3c",
   "metadata": {},
   "source": [
    "# Load data"
   ]
  },
  {
   "cell_type": "code",
   "execution_count": 7,
   "id": "5b802ab7-867e-42ed-a6e5-e10d0cadd56c",
   "metadata": {},
   "outputs": [
    {
     "data": {
      "application/vnd.jupyter.widget-view+json": {
       "model_id": "3c039851014b4f489f5db27834a7cecb",
       "version_major": 2,
       "version_minor": 0
      },
      "text/plain": [
       "Downloading builder script:   0%|          | 0.00/39.6k [00:00<?, ?B/s]"
      ]
     },
     "metadata": {},
     "output_type": "display_data"
    },
    {
     "data": {
      "application/vnd.jupyter.widget-view+json": {
       "model_id": "6129688b49544e81a54f4367200fab6f",
       "version_major": 2,
       "version_minor": 0
      },
      "text/plain": [
       "Downloading readme:   0%|          | 0.00/19.7k [00:00<?, ?B/s]"
      ]
     },
     "metadata": {},
     "output_type": "display_data"
    },
    {
     "data": {
      "application/vnd.jupyter.widget-view+json": {
       "model_id": "3f1d9d590f44437aaf554f3cbbdd6ea5",
       "version_major": 2,
       "version_minor": 0
      },
      "text/plain": [
       "Downloading data:   0%|          | 0.00/213M [00:00<?, ?B/s]"
      ]
     },
     "metadata": {},
     "output_type": "display_data"
    },
    {
     "data": {
      "application/vnd.jupyter.widget-view+json": {
       "model_id": "762c9148b26a440b8ff5019217e206ff",
       "version_major": 2,
       "version_minor": 0
      },
      "text/plain": [
       "Generating full split: 0 examples [00:00, ? examples/s]"
      ]
     },
     "metadata": {},
     "output_type": "display_data"
    }
   ],
   "source": [
    "metadata = load_dataset(args.hf_dataset_path, \"raw_meta_All_Beauty\", split=\"full\", trust_remote_code=True)"
   ]
  },
  {
   "cell_type": "code",
   "execution_count": 13,
   "id": "d62e0c2b-adea-43de-8e12-acf2eef13edb",
   "metadata": {},
   "outputs": [
    {
     "data": {
      "text/plain": [
       "{'main_category': 'All Beauty',\n",
       " 'title': 'Howard LC0008 Leather Conditioner, 8-Ounce (4-Pack)',\n",
       " 'average_rating': 4.8,\n",
       " 'rating_number': 10,\n",
       " 'features': [],\n",
       " 'description': [],\n",
       " 'price': 'None',\n",
       " 'images': {'hi_res': [None,\n",
       "   'https://m.media-amazon.com/images/I/71i77AuI9xL._SL1500_.jpg'],\n",
       "  'large': ['https://m.media-amazon.com/images/I/41qfjSfqNyL.jpg',\n",
       "   'https://m.media-amazon.com/images/I/41w2yznfuZL.jpg'],\n",
       "  'thumb': ['https://m.media-amazon.com/images/I/41qfjSfqNyL._SS40_.jpg',\n",
       "   'https://m.media-amazon.com/images/I/41w2yznfuZL._SS40_.jpg'],\n",
       "  'variant': ['MAIN', 'PT01']},\n",
       " 'videos': {'title': [], 'url': [], 'user_id': []},\n",
       " 'store': 'Howard Products',\n",
       " 'categories': [],\n",
       " 'details': '{\"Package Dimensions\": \"7.1 x 5.5 x 3 inches; 2.38 Pounds\", \"UPC\": \"617390882781\"}',\n",
       " 'parent_asin': 'B01CUPMQZE',\n",
       " 'bought_together': None,\n",
       " 'subtitle': None,\n",
       " 'author': None}"
      ]
     },
     "execution_count": 13,
     "metadata": {},
     "output_type": "execute_result"
    }
   ],
   "source": [
    "metadata[0]"
   ]
  },
  {
   "cell_type": "code",
   "execution_count": 10,
   "id": "89262530-bed3-43e6-b7b8-42cf0d03c116",
   "metadata": {},
   "outputs": [
    {
     "data": {
      "application/vnd.jupyter.widget-view+json": {
       "model_id": "1c077b8d097d4a2badc16a7dbd070cc0",
       "version_major": 2,
       "version_minor": 0
      },
      "text/plain": [
       "Downloading data:   0%|          | 0.00/130k [00:00<?, ?B/s]"
      ]
     },
     "metadata": {},
     "output_type": "display_data"
    },
    {
     "data": {
      "application/vnd.jupyter.widget-view+json": {
       "model_id": "0596b056089c4ff49e10e2ddf5ca5ac1",
       "version_major": 2,
       "version_minor": 0
      },
      "text/plain": [
       "Downloading data:   0%|          | 0.00/16.1k [00:00<?, ?B/s]"
      ]
     },
     "metadata": {},
     "output_type": "display_data"
    },
    {
     "data": {
      "application/vnd.jupyter.widget-view+json": {
       "model_id": "2aa91f64cc0a4315ae0c72d892be33d4",
       "version_major": 2,
       "version_minor": 0
      },
      "text/plain": [
       "Downloading data:   0%|          | 0.00/1.32k [00:00<?, ?B/s]"
      ]
     },
     "metadata": {},
     "output_type": "display_data"
    },
    {
     "data": {
      "application/vnd.jupyter.widget-view+json": {
       "model_id": "6cf04bd74c8442069395dd3d31173e55",
       "version_major": 2,
       "version_minor": 0
      },
      "text/plain": [
       "Generating train split: 0 examples [00:00, ? examples/s]"
      ]
     },
     "metadata": {},
     "output_type": "display_data"
    },
    {
     "data": {
      "application/vnd.jupyter.widget-view+json": {
       "model_id": "59550544703d4a658b18336e55363127",
       "version_major": 2,
       "version_minor": 0
      },
      "text/plain": [
       "Generating valid split: 0 examples [00:00, ? examples/s]"
      ]
     },
     "metadata": {},
     "output_type": "display_data"
    },
    {
     "data": {
      "application/vnd.jupyter.widget-view+json": {
       "model_id": "b19d9db47b7a4934b66cca3a8ee62812",
       "version_major": 2,
       "version_minor": 0
      },
      "text/plain": [
       "Generating test split: 0 examples [00:00, ? examples/s]"
      ]
     },
     "metadata": {},
     "output_type": "display_data"
    }
   ],
   "source": [
    "dataset = load_dataset(args.hf_dataset_path, \"5core_timestamp_All_Beauty\", trust_remote_code=True)"
   ]
  },
  {
   "cell_type": "code",
   "execution_count": 12,
   "id": "0ce31673-b951-44c0-af92-7175b0759ed8",
   "metadata": {},
   "outputs": [
    {
     "data": {
      "text/plain": [
       "DatasetDict({\n",
       "    train: Dataset({\n",
       "        features: ['user_id', 'parent_asin', 'rating', 'timestamp'],\n",
       "        num_rows: 2237\n",
       "    })\n",
       "    valid: Dataset({\n",
       "        features: ['user_id', 'parent_asin', 'rating', 'timestamp'],\n",
       "        num_rows: 276\n",
       "    })\n",
       "    test: Dataset({\n",
       "        features: ['user_id', 'parent_asin', 'rating', 'timestamp'],\n",
       "        num_rows: 22\n",
       "    })\n",
       "})"
      ]
     },
     "execution_count": 12,
     "metadata": {},
     "output_type": "execute_result"
    }
   ],
   "source": [
    "dataset"
   ]
  },
  {
   "cell_type": "code",
   "execution_count": 19,
   "id": "48bb6630-1287-4c16-96fc-e1613e67634f",
   "metadata": {},
   "outputs": [
    {
     "data": {
      "text/plain": [
       "{'user_id': ['AFSKPY37N3C43SOI5IEXEK5JSIYA',\n",
       "  'AFSKPY37N3C43SOI5IEXEK5JSIYA',\n",
       "  'AFSKPY37N3C43SOI5IEXEK5JSIYA',\n",
       "  'AFSKPY37N3C43SOI5IEXEK5JSIYA',\n",
       "  'AFSKPY37N3C43SOI5IEXEK5JSIYA'],\n",
       " 'parent_asin': ['B07J3GH1W1',\n",
       "  'B07W397QG4',\n",
       "  'B07KG1TWP5',\n",
       "  'B08JTNQFZY',\n",
       "  'B07SLFWZKN'],\n",
       " 'rating': ['5.0', '5.0', '5.0', '5.0', '3.0'],\n",
       " 'timestamp': ['1547589356557',\n",
       "  '1593352422858',\n",
       "  '1596473351088',\n",
       "  '1617904219785',\n",
       "  '1619737501209']}"
      ]
     },
     "execution_count": 19,
     "metadata": {},
     "output_type": "execute_result"
    }
   ],
   "source": [
    "dataset['train'][:5]"
   ]
  },
  {
   "cell_type": "code",
   "execution_count": 20,
   "id": "2771c955-8a45-48da-a13b-988950b66fbf",
   "metadata": {},
   "outputs": [
    {
     "data": {
      "text/plain": [
       "{'user_id': ['AFXF3EGQTQDXMRLDWFU7UBFQZB7Q',\n",
       "  'AFXF3EGQTQDXMRLDWFU7UBFQZB7Q',\n",
       "  'AFXF3EGQTQDXMRLDWFU7UBFQZB7Q',\n",
       "  'AFXF3EGQTQDXMRLDWFU7UBFQZB7Q',\n",
       "  'AGAM2CCKV52HI4YZU7ASZTSXA7YQ'],\n",
       " 'parent_asin': ['B095CG2ZV1',\n",
       "  'B092M5K59T',\n",
       "  'B08N5NDVGH',\n",
       "  'B08HVRP54L',\n",
       "  'B0932Z1NM1'],\n",
       " 'rating': ['3.0', '4.0', '3.0', '3.0', '5.0'],\n",
       " 'timestamp': ['1631367075148',\n",
       "  '1638840554514',\n",
       "  '1647381362768',\n",
       "  '1653607216628',\n",
       "  '1630609578211']}"
      ]
     },
     "execution_count": 20,
     "metadata": {},
     "output_type": "execute_result"
    }
   ],
   "source": [
    "dataset['valid'][:5]"
   ]
  },
  {
   "cell_type": "code",
   "execution_count": 21,
   "id": "9285f3bd-5bc8-4ff6-a2d2-0c65fe014d88",
   "metadata": {},
   "outputs": [
    {
     "data": {
      "text/plain": [
       "{'user_id': ['AHTLWVDXSMG5YMVMEIWWOU6XBZMA',\n",
       "  'AH7LDXK3GT67FZKMRW7MP477DJVQ',\n",
       "  'AH6JLX5SJSUOJBBT6RRE2RDXIG6A',\n",
       "  'AH3BXW7KLIS2VAE56UXJS2NS7I5A',\n",
       "  'AG7WXYJR3N3IOL7NX6QUZJUPBVDA'],\n",
       " 'parent_asin': ['B09G22586Y',\n",
       "  'B09G22586Y',\n",
       "  'B0BVQQ58G8',\n",
       "  'B07PBWVV5K',\n",
       "  'B0B4MR9BXN'],\n",
       " 'rating': ['1.0', '2.0', '4.0', '3.0', '5.0'],\n",
       " 'timestamp': ['1659628417963',\n",
       "  '1678171704867',\n",
       "  '1658366200714',\n",
       "  '1674614136635',\n",
       "  '1661873775009']}"
      ]
     },
     "execution_count": 21,
     "metadata": {},
     "output_type": "execute_result"
    }
   ],
   "source": [
    "dataset['test'][:5]"
   ]
  },
  {
   "cell_type": "code",
   "execution_count": 25,
   "id": "9fb162ce-c84c-49e9-8cee-a7b485723b4f",
   "metadata": {},
   "outputs": [
    {
     "data": {
      "text/html": [
       "<div>\n",
       "<style scoped>\n",
       "    .dataframe tbody tr th:only-of-type {\n",
       "        vertical-align: middle;\n",
       "    }\n",
       "\n",
       "    .dataframe tbody tr th {\n",
       "        vertical-align: top;\n",
       "    }\n",
       "\n",
       "    .dataframe thead th {\n",
       "        text-align: right;\n",
       "    }\n",
       "</style>\n",
       "<table border=\"1\" class=\"dataframe\">\n",
       "  <thead>\n",
       "    <tr style=\"text-align: right;\">\n",
       "      <th></th>\n",
       "      <th>user_id</th>\n",
       "      <th>parent_asin</th>\n",
       "      <th>rating</th>\n",
       "      <th>timestamp</th>\n",
       "    </tr>\n",
       "  </thead>\n",
       "  <tbody>\n",
       "    <tr>\n",
       "      <th>0</th>\n",
       "      <td>AFSKPY37N3C43SOI5IEXEK5JSIYA</td>\n",
       "      <td>B07J3GH1W1</td>\n",
       "      <td>5.0</td>\n",
       "      <td>1547589356557</td>\n",
       "    </tr>\n",
       "    <tr>\n",
       "      <th>1</th>\n",
       "      <td>AFSKPY37N3C43SOI5IEXEK5JSIYA</td>\n",
       "      <td>B07W397QG4</td>\n",
       "      <td>5.0</td>\n",
       "      <td>1593352422858</td>\n",
       "    </tr>\n",
       "    <tr>\n",
       "      <th>2</th>\n",
       "      <td>AFSKPY37N3C43SOI5IEXEK5JSIYA</td>\n",
       "      <td>B07KG1TWP5</td>\n",
       "      <td>5.0</td>\n",
       "      <td>1596473351088</td>\n",
       "    </tr>\n",
       "    <tr>\n",
       "      <th>3</th>\n",
       "      <td>AFSKPY37N3C43SOI5IEXEK5JSIYA</td>\n",
       "      <td>B08JTNQFZY</td>\n",
       "      <td>5.0</td>\n",
       "      <td>1617904219785</td>\n",
       "    </tr>\n",
       "    <tr>\n",
       "      <th>4</th>\n",
       "      <td>AFSKPY37N3C43SOI5IEXEK5JSIYA</td>\n",
       "      <td>B07SLFWZKN</td>\n",
       "      <td>3.0</td>\n",
       "      <td>1619737501209</td>\n",
       "    </tr>\n",
       "    <tr>\n",
       "      <th>...</th>\n",
       "      <td>...</td>\n",
       "      <td>...</td>\n",
       "      <td>...</td>\n",
       "      <td>...</td>\n",
       "    </tr>\n",
       "    <tr>\n",
       "      <th>2232</th>\n",
       "      <td>AG3GU5MHHM662AATYNDWYOKOZP7A</td>\n",
       "      <td>B07KXM94BT</td>\n",
       "      <td>5.0</td>\n",
       "      <td>1549678927748</td>\n",
       "    </tr>\n",
       "    <tr>\n",
       "      <th>2233</th>\n",
       "      <td>AG3GU5MHHM662AATYNDWYOKOZP7A</td>\n",
       "      <td>B07XVNJFNF</td>\n",
       "      <td>5.0</td>\n",
       "      <td>1582912683415</td>\n",
       "    </tr>\n",
       "    <tr>\n",
       "      <th>2234</th>\n",
       "      <td>AG3GU5MHHM662AATYNDWYOKOZP7A</td>\n",
       "      <td>B0813ZQG3T</td>\n",
       "      <td>5.0</td>\n",
       "      <td>1584133894509</td>\n",
       "    </tr>\n",
       "    <tr>\n",
       "      <th>2235</th>\n",
       "      <td>AG3GU5MHHM662AATYNDWYOKOZP7A</td>\n",
       "      <td>B086VYKNDF</td>\n",
       "      <td>5.0</td>\n",
       "      <td>1592523232806</td>\n",
       "    </tr>\n",
       "    <tr>\n",
       "      <th>2236</th>\n",
       "      <td>AG3GU5MHHM662AATYNDWYOKOZP7A</td>\n",
       "      <td>B086M8MZGB</td>\n",
       "      <td>4.0</td>\n",
       "      <td>1598889637062</td>\n",
       "    </tr>\n",
       "  </tbody>\n",
       "</table>\n",
       "<p>2237 rows × 4 columns</p>\n",
       "</div>"
      ],
      "text/plain": [
       "                           user_id parent_asin rating      timestamp\n",
       "0     AFSKPY37N3C43SOI5IEXEK5JSIYA  B07J3GH1W1    5.0  1547589356557\n",
       "1     AFSKPY37N3C43SOI5IEXEK5JSIYA  B07W397QG4    5.0  1593352422858\n",
       "2     AFSKPY37N3C43SOI5IEXEK5JSIYA  B07KG1TWP5    5.0  1596473351088\n",
       "3     AFSKPY37N3C43SOI5IEXEK5JSIYA  B08JTNQFZY    5.0  1617904219785\n",
       "4     AFSKPY37N3C43SOI5IEXEK5JSIYA  B07SLFWZKN    3.0  1619737501209\n",
       "...                            ...         ...    ...            ...\n",
       "2232  AG3GU5MHHM662AATYNDWYOKOZP7A  B07KXM94BT    5.0  1549678927748\n",
       "2233  AG3GU5MHHM662AATYNDWYOKOZP7A  B07XVNJFNF    5.0  1582912683415\n",
       "2234  AG3GU5MHHM662AATYNDWYOKOZP7A  B0813ZQG3T    5.0  1584133894509\n",
       "2235  AG3GU5MHHM662AATYNDWYOKOZP7A  B086VYKNDF    5.0  1592523232806\n",
       "2236  AG3GU5MHHM662AATYNDWYOKOZP7A  B086M8MZGB    4.0  1598889637062\n",
       "\n",
       "[2237 rows x 4 columns]"
      ]
     },
     "execution_count": 25,
     "metadata": {},
     "output_type": "execute_result"
    }
   ],
   "source": [
    "dataset['train'].to_pandas()"
   ]
  },
  {
   "cell_type": "code",
   "execution_count": null,
   "id": "37d2ba22-6ff2-4097-a2fd-722c8f5013b4",
   "metadata": {},
   "outputs": [],
   "source": []
  }
 ],
 "metadata": {
  "kernelspec": {
   "display_name": "Python 3 (ipykernel)",
   "language": "python",
   "name": "python3"
  },
  "language_info": {
   "codemirror_mode": {
    "name": "ipython",
    "version": 3
   },
   "file_extension": ".py",
   "mimetype": "text/x-python",
   "name": "python",
   "nbconvert_exporter": "python",
   "pygments_lexer": "ipython3",
   "version": "3.11.9"
  }
 },
 "nbformat": 4,
 "nbformat_minor": 5
}
