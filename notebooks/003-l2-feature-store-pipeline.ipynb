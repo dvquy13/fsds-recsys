{
 "cells": [
  {
   "cell_type": "markdown",
   "id": "13901fe3-b19e-4a87-baea-9402e6d0cbc1",
   "metadata": {},
   "source": [
    "# Set up"
   ]
  },
  {
   "cell_type": "code",
   "execution_count": 1,
   "id": "feba2d3d-e6e1-405f-91f9-faedbd6955aa",
   "metadata": {},
   "outputs": [],
   "source": [
    "%load_ext autoreload\n",
    "%autoreload 2"
   ]
  },
  {
   "cell_type": "code",
   "execution_count": 2,
   "id": "059048c8-9695-4ea4-8229-9bb895432c45",
   "metadata": {},
   "outputs": [],
   "source": [
    "import os\n",
    "import sys\n",
    "\n",
    "from dotenv import load_dotenv\n",
    "from pydantic import BaseModel\n",
    "import datasets\n",
    "from datasets import load_dataset\n",
    "\n",
    "from loguru import logger\n",
    "import pandas as pd\n",
    "\n",
    "datasets.logging.set_verbosity_error()\n",
    "\n",
    "sys.path.insert(0, '..')\n",
    "\n",
    "load_dotenv()\n",
    "\n",
    "from src.utils.data_prep import parse_dt, handle_dtypes\n",
    "from src.visualization.setup import color_scheme, fsds_colors"
   ]
  },
  {
   "cell_type": "markdown",
   "id": "1b5fd161-1945-4597-a65a-4a3259d933ed",
   "metadata": {},
   "source": [
    "# Controller"
   ]
  },
  {
   "cell_type": "code",
   "execution_count": 3,
   "id": "746c19c0-0a5c-4e57-960f-258dc7d8f8fc",
   "metadata": {},
   "outputs": [],
   "source": [
    "class Args(BaseModel):\n",
    "    hf_dataset_path: str = \"McAuley-Lab/Amazon-Reviews-2023\"\n",
    "    report_sample_num_rows: int = 10000\n",
    "    random_seed: int = 41\n",
    "\n",
    "args = Args()"
   ]
  },
  {
   "cell_type": "markdown",
   "id": "adf6076c-8e4b-4085-bd78-a326a61c2a14",
   "metadata": {},
   "source": [
    "# Load data"
   ]
  },
  {
   "cell_type": "code",
   "execution_count": 4,
   "id": "b9b44ffd-1037-4d45-b727-ace7dc540d9c",
   "metadata": {},
   "outputs": [],
   "source": [
    "dataset = load_dataset(args.hf_dataset_path, name=\"0core_timestamp_Video_Games\", trust_remote_code=True)\n",
    "# To load all user review data such as review_text, helpful score, use: name=\"raw_review_All_Beauty\""
   ]
  },
  {
   "cell_type": "code",
   "execution_count": 5,
   "id": "76290e37-2d04-40d9-bc69-89ff37d23313",
   "metadata": {},
   "outputs": [],
   "source": [
    "train_raw_df = dataset['train'].to_pandas()"
   ]
  },
  {
   "cell_type": "code",
   "execution_count": 6,
   "id": "73298ef3-b0f7-4df0-91cb-4598edbd6a7e",
   "metadata": {},
   "outputs": [],
   "source": [
    "train_df = (\n",
    "    train_raw_df\n",
    "    .pipe(parse_dt)\n",
    "    .pipe(handle_dtypes)\n",
    ")"
   ]
  },
  {
   "cell_type": "code",
   "execution_count": 7,
   "id": "c976aa6a-02c5-43c7-89f3-ba39d02dbab2",
   "metadata": {},
   "outputs": [
    {
     "data": {
      "text/html": [
       "<div>\n",
       "<style scoped>\n",
       "    .dataframe tbody tr th:only-of-type {\n",
       "        vertical-align: middle;\n",
       "    }\n",
       "\n",
       "    .dataframe tbody tr th {\n",
       "        vertical-align: top;\n",
       "    }\n",
       "\n",
       "    .dataframe thead th {\n",
       "        text-align: right;\n",
       "    }\n",
       "</style>\n",
       "<table border=\"1\" class=\"dataframe\">\n",
       "  <thead>\n",
       "    <tr style=\"text-align: right;\">\n",
       "      <th></th>\n",
       "      <th>user_id</th>\n",
       "      <th>parent_asin</th>\n",
       "      <th>rating</th>\n",
       "      <th>timestamp</th>\n",
       "    </tr>\n",
       "  </thead>\n",
       "  <tbody>\n",
       "    <tr>\n",
       "      <th>0</th>\n",
       "      <td>AGCI7FAH4GL5FI65HYLKWTMFZ2CQ</td>\n",
       "      <td>B07SRWRH5D</td>\n",
       "      <td>5.0</td>\n",
       "      <td>2020-04-16 15:31:54.941</td>\n",
       "    </tr>\n",
       "    <tr>\n",
       "      <th>1</th>\n",
       "      <td>AGCI7FAH4GL5FI65HYLKWTMFZ2CQ</td>\n",
       "      <td>B07DK1H3H5</td>\n",
       "      <td>4.0</td>\n",
       "      <td>2020-12-17 06:33:24.795</td>\n",
       "    </tr>\n",
       "    <tr>\n",
       "      <th>2</th>\n",
       "      <td>AGXVBIUFLFGMVLATYXHJYL4A5Q7Q</td>\n",
       "      <td>B07MFMFW34</td>\n",
       "      <td>5.0</td>\n",
       "      <td>2017-03-30 12:37:11.000</td>\n",
       "    </tr>\n",
       "    <tr>\n",
       "      <th>3</th>\n",
       "      <td>AFTC6ZR5IKNRDG5JCPVNVMU3XV2Q</td>\n",
       "      <td>B00HUWA45W</td>\n",
       "      <td>5.0</td>\n",
       "      <td>2015-03-29 01:18:52.000</td>\n",
       "    </tr>\n",
       "    <tr>\n",
       "      <th>4</th>\n",
       "      <td>AFTC6ZR5IKNRDG5JCPVNVMU3XV2Q</td>\n",
       "      <td>B0BCHWZX95</td>\n",
       "      <td>5.0</td>\n",
       "      <td>2019-12-29 16:40:34.017</td>\n",
       "    </tr>\n",
       "    <tr>\n",
       "      <th>...</th>\n",
       "      <td>...</td>\n",
       "      <td>...</td>\n",
       "      <td>...</td>\n",
       "      <td>...</td>\n",
       "    </tr>\n",
       "    <tr>\n",
       "      <th>3847036</th>\n",
       "      <td>AFFYUOGDNI3JXGA22RSGHT2FJZ5A</td>\n",
       "      <td>B0001AO01Y</td>\n",
       "      <td>1.0</td>\n",
       "      <td>2004-03-31 04:20:36.000</td>\n",
       "    </tr>\n",
       "    <tr>\n",
       "      <th>3847037</th>\n",
       "      <td>AEBGL7K4NBN2ALC6O353GJ3BIBYQ</td>\n",
       "      <td>B074QM6F7X</td>\n",
       "      <td>1.0</td>\n",
       "      <td>2018-07-12 22:12:22.360</td>\n",
       "    </tr>\n",
       "    <tr>\n",
       "      <th>3847038</th>\n",
       "      <td>AHTYCU6NSHJ4BY7R2YNDIDGUXS6Q</td>\n",
       "      <td>B089F1BD4W</td>\n",
       "      <td>5.0</td>\n",
       "      <td>2020-09-23 12:24:51.023</td>\n",
       "    </tr>\n",
       "    <tr>\n",
       "      <th>3847039</th>\n",
       "      <td>AF4KDWDGCJSUEB7JESQZ6ZWD2LNA</td>\n",
       "      <td>B0BN942894</td>\n",
       "      <td>5.0</td>\n",
       "      <td>2020-03-22 14:39:59.168</td>\n",
       "    </tr>\n",
       "    <tr>\n",
       "      <th>3847040</th>\n",
       "      <td>AGDC4SOFDQ3UXPXMEYJ57SMM3F4A</td>\n",
       "      <td>B01GOYVNJM</td>\n",
       "      <td>5.0</td>\n",
       "      <td>2017-12-13 20:53:09.319</td>\n",
       "    </tr>\n",
       "  </tbody>\n",
       "</table>\n",
       "<p>3847041 rows × 4 columns</p>\n",
       "</div>"
      ],
      "text/plain": [
       "                              user_id parent_asin  rating  \\\n",
       "0        AGCI7FAH4GL5FI65HYLKWTMFZ2CQ  B07SRWRH5D     5.0   \n",
       "1        AGCI7FAH4GL5FI65HYLKWTMFZ2CQ  B07DK1H3H5     4.0   \n",
       "2        AGXVBIUFLFGMVLATYXHJYL4A5Q7Q  B07MFMFW34     5.0   \n",
       "3        AFTC6ZR5IKNRDG5JCPVNVMU3XV2Q  B00HUWA45W     5.0   \n",
       "4        AFTC6ZR5IKNRDG5JCPVNVMU3XV2Q  B0BCHWZX95     5.0   \n",
       "...                               ...         ...     ...   \n",
       "3847036  AFFYUOGDNI3JXGA22RSGHT2FJZ5A  B0001AO01Y     1.0   \n",
       "3847037  AEBGL7K4NBN2ALC6O353GJ3BIBYQ  B074QM6F7X     1.0   \n",
       "3847038  AHTYCU6NSHJ4BY7R2YNDIDGUXS6Q  B089F1BD4W     5.0   \n",
       "3847039  AF4KDWDGCJSUEB7JESQZ6ZWD2LNA  B0BN942894     5.0   \n",
       "3847040  AGDC4SOFDQ3UXPXMEYJ57SMM3F4A  B01GOYVNJM     5.0   \n",
       "\n",
       "                      timestamp  \n",
       "0       2020-04-16 15:31:54.941  \n",
       "1       2020-12-17 06:33:24.795  \n",
       "2       2017-03-30 12:37:11.000  \n",
       "3       2015-03-29 01:18:52.000  \n",
       "4       2019-12-29 16:40:34.017  \n",
       "...                         ...  \n",
       "3847036 2004-03-31 04:20:36.000  \n",
       "3847037 2018-07-12 22:12:22.360  \n",
       "3847038 2020-09-23 12:24:51.023  \n",
       "3847039 2020-03-22 14:39:59.168  \n",
       "3847040 2017-12-13 20:53:09.319  \n",
       "\n",
       "[3847041 rows x 4 columns]"
      ]
     },
     "execution_count": 7,
     "metadata": {},
     "output_type": "execute_result"
    }
   ],
   "source": [
    "train_df"
   ]
  },
  {
   "cell_type": "markdown",
   "id": "8e0ac07c-5dc8-4c9a-8a20-4acaf912e17d",
   "metadata": {},
   "source": [
    "# Insert data into Postgre"
   ]
  },
  {
   "cell_type": "code",
   "execution_count": 8,
   "id": "50494246-767f-41bd-844c-c834d353e5bf",
   "metadata": {},
   "outputs": [],
   "source": [
    "from sqlalchemy import create_engine"
   ]
  },
  {
   "cell_type": "code",
   "execution_count": 9,
   "id": "aca674ad-72d1-492a-9274-238483e2aa39",
   "metadata": {},
   "outputs": [],
   "source": [
    "# PostgreSQL connection details\n",
    "username = os.environ.get(\"POSTGRES_USER\")\n",
    "password = os.environ.get(\"POSTGRES_PASSWORD\")\n",
    "host = 'localhost'\n",
    "port = '5432'\n",
    "database = os.environ.get(\"POSTGRES_DB\")\n",
    "\n",
    "# Create a connection string and engine outside the function\n",
    "connection_string = f'postgresql://{username}:{password}@{host}:{port}/{database}'\n",
    "engine = create_engine(connection_string)\n",
    "\n",
    "# Table name where data will be inserted\n",
    "table_name = 'amz_review_rating_raw'"
   ]
  },
  {
   "cell_type": "code",
   "execution_count": 10,
   "id": "d97413a1-5ecc-4590-b420-00d32ad8bee5",
   "metadata": {
    "scrolled": true
   },
   "outputs": [],
   "source": [
    "# Insert data from start_date to end_date - 1 day\n",
    "start_date = '2020-08-20'\n",
    "end_date = '2020-08-27'\n",
    "\n",
    "to_insert_df = train_df.loc[lambda df: df['timestamp'].between(start_date, end_date)]"
   ]
  },
  {
   "cell_type": "code",
   "execution_count": 11,
   "id": "cfea685b-d9b3-4c83-b169-ce22502021ca",
   "metadata": {},
   "outputs": [
    {
     "data": {
      "text/html": [
       "<div>\n",
       "<style scoped>\n",
       "    .dataframe tbody tr th:only-of-type {\n",
       "        vertical-align: middle;\n",
       "    }\n",
       "\n",
       "    .dataframe tbody tr th {\n",
       "        vertical-align: top;\n",
       "    }\n",
       "\n",
       "    .dataframe thead th {\n",
       "        text-align: right;\n",
       "    }\n",
       "</style>\n",
       "<table border=\"1\" class=\"dataframe\">\n",
       "  <thead>\n",
       "    <tr style=\"text-align: right;\">\n",
       "      <th></th>\n",
       "      <th>user_id</th>\n",
       "      <th>parent_asin</th>\n",
       "      <th>rating</th>\n",
       "      <th>timestamp</th>\n",
       "    </tr>\n",
       "  </thead>\n",
       "  <tbody>\n",
       "    <tr>\n",
       "      <th>383</th>\n",
       "      <td>AGLQQCIS5V6EGUCS5SSNHWZHQM6Q</td>\n",
       "      <td>B09WWDTXPB</td>\n",
       "      <td>4.0</td>\n",
       "      <td>2020-08-26 14:50:40.694</td>\n",
       "    </tr>\n",
       "    <tr>\n",
       "      <th>766</th>\n",
       "      <td>AFTC72W2CBE3CDH3ATFRDL4RQSAA</td>\n",
       "      <td>B086JQGB7W</td>\n",
       "      <td>2.0</td>\n",
       "      <td>2020-08-22 00:53:10.879</td>\n",
       "    </tr>\n",
       "    <tr>\n",
       "      <th>1007</th>\n",
       "      <td>AE3OUW2QZVYKTDJ33WRUNO75WIXA</td>\n",
       "      <td>B09XB745H6</td>\n",
       "      <td>3.0</td>\n",
       "      <td>2020-08-24 17:35:58.570</td>\n",
       "    </tr>\n",
       "    <tr>\n",
       "      <th>1226</th>\n",
       "      <td>AHIUDIC4IOC3TUWC25ISKZZ4W6JA</td>\n",
       "      <td>B079Y44LDC</td>\n",
       "      <td>5.0</td>\n",
       "      <td>2020-08-24 21:18:30.127</td>\n",
       "    </tr>\n",
       "    <tr>\n",
       "      <th>1227</th>\n",
       "      <td>AHIUDIC4IOC3TUWC25ISKZZ4W6JA</td>\n",
       "      <td>B07HGN2FMY</td>\n",
       "      <td>5.0</td>\n",
       "      <td>2020-08-24 21:18:48.779</td>\n",
       "    </tr>\n",
       "    <tr>\n",
       "      <th>...</th>\n",
       "      <td>...</td>\n",
       "      <td>...</td>\n",
       "      <td>...</td>\n",
       "      <td>...</td>\n",
       "    </tr>\n",
       "    <tr>\n",
       "      <th>3845664</th>\n",
       "      <td>AEOYVVS4BFOXS5ISB6PMTYOMMYWA</td>\n",
       "      <td>B06XH1NTFY</td>\n",
       "      <td>2.0</td>\n",
       "      <td>2020-08-22 03:25:46.060</td>\n",
       "    </tr>\n",
       "    <tr>\n",
       "      <th>3845821</th>\n",
       "      <td>AERAKQ5BPLF7IVYIVAOMDFMN45WQ</td>\n",
       "      <td>B09TH98R9G</td>\n",
       "      <td>5.0</td>\n",
       "      <td>2020-08-23 23:46:53.569</td>\n",
       "    </tr>\n",
       "    <tr>\n",
       "      <th>3846231</th>\n",
       "      <td>AFXQTNIDEUOD4HNCHVH5H4GI76WQ</td>\n",
       "      <td>B081HYC7MY</td>\n",
       "      <td>5.0</td>\n",
       "      <td>2020-08-20 20:19:02.195</td>\n",
       "    </tr>\n",
       "    <tr>\n",
       "      <th>3846502</th>\n",
       "      <td>AGANXL2J7WZCXFOLDRTBVEIYWWJA</td>\n",
       "      <td>B07DRQVH6K</td>\n",
       "      <td>4.0</td>\n",
       "      <td>2020-08-25 03:43:00.817</td>\n",
       "    </tr>\n",
       "    <tr>\n",
       "      <th>3846960</th>\n",
       "      <td>AH7AHKGUD6Q4BC5XVYMX7YME3AHQ</td>\n",
       "      <td>B0BN942894</td>\n",
       "      <td>5.0</td>\n",
       "      <td>2020-08-20 20:27:12.881</td>\n",
       "    </tr>\n",
       "  </tbody>\n",
       "</table>\n",
       "<p>8588 rows × 4 columns</p>\n",
       "</div>"
      ],
      "text/plain": [
       "                              user_id parent_asin  rating  \\\n",
       "383      AGLQQCIS5V6EGUCS5SSNHWZHQM6Q  B09WWDTXPB     4.0   \n",
       "766      AFTC72W2CBE3CDH3ATFRDL4RQSAA  B086JQGB7W     2.0   \n",
       "1007     AE3OUW2QZVYKTDJ33WRUNO75WIXA  B09XB745H6     3.0   \n",
       "1226     AHIUDIC4IOC3TUWC25ISKZZ4W6JA  B079Y44LDC     5.0   \n",
       "1227     AHIUDIC4IOC3TUWC25ISKZZ4W6JA  B07HGN2FMY     5.0   \n",
       "...                               ...         ...     ...   \n",
       "3845664  AEOYVVS4BFOXS5ISB6PMTYOMMYWA  B06XH1NTFY     2.0   \n",
       "3845821  AERAKQ5BPLF7IVYIVAOMDFMN45WQ  B09TH98R9G     5.0   \n",
       "3846231  AFXQTNIDEUOD4HNCHVH5H4GI76WQ  B081HYC7MY     5.0   \n",
       "3846502  AGANXL2J7WZCXFOLDRTBVEIYWWJA  B07DRQVH6K     4.0   \n",
       "3846960  AH7AHKGUD6Q4BC5XVYMX7YME3AHQ  B0BN942894     5.0   \n",
       "\n",
       "                      timestamp  \n",
       "383     2020-08-26 14:50:40.694  \n",
       "766     2020-08-22 00:53:10.879  \n",
       "1007    2020-08-24 17:35:58.570  \n",
       "1226    2020-08-24 21:18:30.127  \n",
       "1227    2020-08-24 21:18:48.779  \n",
       "...                         ...  \n",
       "3845664 2020-08-22 03:25:46.060  \n",
       "3845821 2020-08-23 23:46:53.569  \n",
       "3846231 2020-08-20 20:19:02.195  \n",
       "3846502 2020-08-25 03:43:00.817  \n",
       "3846960 2020-08-20 20:27:12.881  \n",
       "\n",
       "[8588 rows x 4 columns]"
      ]
     },
     "execution_count": 11,
     "metadata": {},
     "output_type": "execute_result"
    }
   ],
   "source": [
    "to_insert_df"
   ]
  },
  {
   "cell_type": "code",
   "execution_count": 12,
   "id": "309a15c0-afe0-4d55-9fac-6f8eed71bae9",
   "metadata": {
    "scrolled": true
   },
   "outputs": [
    {
     "data": {
      "text/plain": [
       "588"
      ]
     },
     "execution_count": 12,
     "metadata": {},
     "output_type": "execute_result"
    }
   ],
   "source": [
    "to_insert_df.to_sql(table_name, engine, if_exists='append', index=False)"
   ]
  },
  {
   "cell_type": "markdown",
   "id": "948b25eb-1df8-4ab1-8d8c-8a3816a97c87",
   "metadata": {
    "jp-MarkdownHeadingCollapsed": true
   },
   "source": [
    "# Archive"
   ]
  },
  {
   "cell_type": "markdown",
   "id": "15ea7600-14f9-4572-8f36-e146cc0e712d",
   "metadata": {},
   "source": [
    "#### Insert a new batch of a new day to verify materialize incremental"
   ]
  },
  {
   "cell_type": "raw",
   "id": "e9a0349b-0976-4fc1-a3cb-8614b3ffcaec",
   "metadata": {},
   "source": [
    "# Insert data from start_date to end_date - 1 day\n",
    "start_date = '2020-08-27'\n",
    "end_date = '2020-08-30'\n",
    "\n",
    "to_insert_df = train_df.loc[lambda df: df['timestamp'].between(start_date, end_date)]"
   ]
  },
  {
   "cell_type": "raw",
   "id": "d775ab1c-7346-433f-87bb-333e743e527c",
   "metadata": {},
   "source": [
    "to_insert_df"
   ]
  },
  {
   "cell_type": "raw",
   "id": "0ec66d1b-d7af-4224-82d7-b2f9523a7b8d",
   "metadata": {},
   "source": [
    "to_insert_df.to_sql(table_name, engine, if_exists='append', index=False)"
   ]
  },
  {
   "cell_type": "code",
   "execution_count": null,
   "id": "d7d0a14e-6eb5-48fe-9424-534cc8cc020c",
   "metadata": {},
   "outputs": [],
   "source": []
  }
 ],
 "metadata": {
  "kernelspec": {
   "display_name": "Python 3 (ipykernel)",
   "language": "python",
   "name": "python3"
  },
  "language_info": {
   "codemirror_mode": {
    "name": "ipython",
    "version": 3
   },
   "file_extension": ".py",
   "mimetype": "text/x-python",
   "name": "python",
   "nbconvert_exporter": "python",
   "pygments_lexer": "ipython3",
   "version": "3.11.9"
  }
 },
 "nbformat": 4,
 "nbformat_minor": 5
}
